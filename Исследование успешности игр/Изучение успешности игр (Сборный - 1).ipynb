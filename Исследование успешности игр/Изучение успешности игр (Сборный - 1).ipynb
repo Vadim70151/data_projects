{
 "cells": [
  {
   "cell_type": "markdown",
   "id": "74e95e40",
   "metadata": {},
   "source": [
    "# Изучение закономерностей, определяющих успешность игр"
   ]
  },
  {
   "cell_type": "markdown",
   "id": "3df612cc",
   "metadata": {},
   "source": [
    "## Описание проекта\n",
    "\n",
    "Исследование интернет-магазина «Стримчик», который продаёт по всему миру компьютерные игры. Из открытых источников доступны исторические данные о продажах игр, оценки пользователей и экспертов, жанры и платформы (например, Xbox или PlayStation).\n",
    "\n",
    "Перед нами данные до 2016 года. Предположим, что сейчас декабрь 2016 г., и мы планируем кампанию на 2017-й. Неважно, прогнозируем ли мы продажи на 2017 год по данным 2016-го или же 2027-й — по данным 2026 года.\n",
    "\n",
    "В наборе данных попадается аббревиатура ESRB (Entertainment Software Rating Board) — это ассоциация, определяющая возрастной рейтинг компьютерных игр. ESRB оценивает игровой контент и присваивает ему подходящую возрастную категорию, например, «Для взрослых», «Для детей младшего возраста» или «Для подростков»."
   ]
  },
  {
   "cell_type": "markdown",
   "id": "5fde28ff",
   "metadata": {},
   "source": [
    "**Цель исследования** - нужно выявить определяющие успешность игры закономерности. Это позволит сделать ставку на потенциально популярный продукт и спланировать рекламные кампании. Перед нами данные до 2016 года, соответственно, необходимо определить стратегию развития на 2017. \n",
    "\n",
    "**Ход исследования**\n",
    "Данные о продажах игр, оценки пользователей и экспертов, жанры и платформы (например, Xbox или PlayStation) будут получены из открытых источников. О качестве данных заранее ничего неизвестно, поэтому перед тем, как приступить к основной части проекта, понадобится получить первые впечатления о данных, после чего проверить их на качество и наличие в них различных ошибок, пропусков и аномалий, если что-то подобное присутствует, на этапе предобработки необходимо будет исправить самые критичные ошибки и привести датафрейм к нормальному, рабочему состоянию. \n",
    " \n",
    "Таким образом, исследование пройдёт в четыре этапа:\n",
    "1. Обзор данных.\n",
    "2. Предобработка данных.\n",
    "3. Исследовательский анализ данных\n",
    "4. Проверка гипотез\n",
    "5. Итоговый вывод"
   ]
  },
  {
   "cell_type": "markdown",
   "id": "963f92d0",
   "metadata": {},
   "source": [
    "## 1. Обзор данных\n",
    "\n",
    "На данном этапе будет сформирована первая картина о данных, с которыми предстоит работать. "
   ]
  },
  {
   "cell_type": "code",
   "execution_count": 1,
   "id": "b49e9a59",
   "metadata": {},
   "outputs": [],
   "source": [
    "import pandas as pd\n",
    "import matplotlib.pyplot as plt\n",
    "import seaborn as sns\n",
    "from scipy import stats as st\n",
    "plt.style.use('bmh') "
   ]
  },
  {
   "cell_type": "code",
   "execution_count": 2,
   "id": "27c4d4ad",
   "metadata": {},
   "outputs": [
    {
     "data": {
      "text/html": [
       "<div>\n",
       "<style scoped>\n",
       "    .dataframe tbody tr th:only-of-type {\n",
       "        vertical-align: middle;\n",
       "    }\n",
       "\n",
       "    .dataframe tbody tr th {\n",
       "        vertical-align: top;\n",
       "    }\n",
       "\n",
       "    .dataframe thead th {\n",
       "        text-align: right;\n",
       "    }\n",
       "</style>\n",
       "<table border=\"1\" class=\"dataframe\">\n",
       "  <thead>\n",
       "    <tr style=\"text-align: right;\">\n",
       "      <th></th>\n",
       "      <th>Name</th>\n",
       "      <th>Platform</th>\n",
       "      <th>Year_of_Release</th>\n",
       "      <th>Genre</th>\n",
       "      <th>NA_sales</th>\n",
       "      <th>EU_sales</th>\n",
       "      <th>JP_sales</th>\n",
       "      <th>Other_sales</th>\n",
       "      <th>Critic_Score</th>\n",
       "      <th>User_Score</th>\n",
       "      <th>Rating</th>\n",
       "    </tr>\n",
       "  </thead>\n",
       "  <tbody>\n",
       "    <tr>\n",
       "      <th>0</th>\n",
       "      <td>Wii Sports</td>\n",
       "      <td>Wii</td>\n",
       "      <td>2006.0</td>\n",
       "      <td>Sports</td>\n",
       "      <td>41.36</td>\n",
       "      <td>28.96</td>\n",
       "      <td>3.77</td>\n",
       "      <td>8.45</td>\n",
       "      <td>76.0</td>\n",
       "      <td>8</td>\n",
       "      <td>E</td>\n",
       "    </tr>\n",
       "    <tr>\n",
       "      <th>1</th>\n",
       "      <td>Super Mario Bros.</td>\n",
       "      <td>NES</td>\n",
       "      <td>1985.0</td>\n",
       "      <td>Platform</td>\n",
       "      <td>29.08</td>\n",
       "      <td>3.58</td>\n",
       "      <td>6.81</td>\n",
       "      <td>0.77</td>\n",
       "      <td>NaN</td>\n",
       "      <td>NaN</td>\n",
       "      <td>NaN</td>\n",
       "    </tr>\n",
       "    <tr>\n",
       "      <th>2</th>\n",
       "      <td>Mario Kart Wii</td>\n",
       "      <td>Wii</td>\n",
       "      <td>2008.0</td>\n",
       "      <td>Racing</td>\n",
       "      <td>15.68</td>\n",
       "      <td>12.76</td>\n",
       "      <td>3.79</td>\n",
       "      <td>3.29</td>\n",
       "      <td>82.0</td>\n",
       "      <td>8.3</td>\n",
       "      <td>E</td>\n",
       "    </tr>\n",
       "    <tr>\n",
       "      <th>3</th>\n",
       "      <td>Wii Sports Resort</td>\n",
       "      <td>Wii</td>\n",
       "      <td>2009.0</td>\n",
       "      <td>Sports</td>\n",
       "      <td>15.61</td>\n",
       "      <td>10.93</td>\n",
       "      <td>3.28</td>\n",
       "      <td>2.95</td>\n",
       "      <td>80.0</td>\n",
       "      <td>8</td>\n",
       "      <td>E</td>\n",
       "    </tr>\n",
       "    <tr>\n",
       "      <th>4</th>\n",
       "      <td>Pokemon Red/Pokemon Blue</td>\n",
       "      <td>GB</td>\n",
       "      <td>1996.0</td>\n",
       "      <td>Role-Playing</td>\n",
       "      <td>11.27</td>\n",
       "      <td>8.89</td>\n",
       "      <td>10.22</td>\n",
       "      <td>1.00</td>\n",
       "      <td>NaN</td>\n",
       "      <td>NaN</td>\n",
       "      <td>NaN</td>\n",
       "    </tr>\n",
       "  </tbody>\n",
       "</table>\n",
       "</div>"
      ],
      "text/plain": [
       "                       Name Platform  Year_of_Release         Genre  NA_sales  \\\n",
       "0                Wii Sports      Wii           2006.0        Sports     41.36   \n",
       "1         Super Mario Bros.      NES           1985.0      Platform     29.08   \n",
       "2            Mario Kart Wii      Wii           2008.0        Racing     15.68   \n",
       "3         Wii Sports Resort      Wii           2009.0        Sports     15.61   \n",
       "4  Pokemon Red/Pokemon Blue       GB           1996.0  Role-Playing     11.27   \n",
       "\n",
       "   EU_sales  JP_sales  Other_sales  Critic_Score User_Score Rating  \n",
       "0     28.96      3.77         8.45          76.0          8      E  \n",
       "1      3.58      6.81         0.77           NaN        NaN    NaN  \n",
       "2     12.76      3.79         3.29          82.0        8.3      E  \n",
       "3     10.93      3.28         2.95          80.0          8      E  \n",
       "4      8.89     10.22         1.00           NaN        NaN    NaN  "
      ]
     },
     "execution_count": 2,
     "metadata": {},
     "output_type": "execute_result"
    }
   ],
   "source": [
    "try:\n",
    "    df = pd.read_csv('Данные сборного проекта - 1 \"games.csv\"')\n",
    "except:\n",
    "    df = pd.read_csv('/datasets/games.csv')\n",
    "df.head()"
   ]
  },
  {
   "cell_type": "code",
   "execution_count": 3,
   "id": "19fddc61",
   "metadata": {},
   "outputs": [
    {
     "name": "stdout",
     "output_type": "stream",
     "text": [
      "<class 'pandas.core.frame.DataFrame'>\n",
      "RangeIndex: 16715 entries, 0 to 16714\n",
      "Data columns (total 11 columns):\n",
      " #   Column           Non-Null Count  Dtype  \n",
      "---  ------           --------------  -----  \n",
      " 0   Name             16713 non-null  object \n",
      " 1   Platform         16715 non-null  object \n",
      " 2   Year_of_Release  16446 non-null  float64\n",
      " 3   Genre            16713 non-null  object \n",
      " 4   NA_sales         16715 non-null  float64\n",
      " 5   EU_sales         16715 non-null  float64\n",
      " 6   JP_sales         16715 non-null  float64\n",
      " 7   Other_sales      16715 non-null  float64\n",
      " 8   Critic_Score     8137 non-null   float64\n",
      " 9   User_Score       10014 non-null  object \n",
      " 10  Rating           9949 non-null   object \n",
      "dtypes: float64(6), object(5)\n",
      "memory usage: 1.4+ MB\n"
     ]
    }
   ],
   "source": [
    "# Получение общей информации о таблице\n",
    "df.info()"
   ]
  },
  {
   "cell_type": "markdown",
   "id": "fc437f85",
   "metadata": {},
   "source": [
    "Согласно документации к данным:\n",
    "\n",
    "* `Name` — название игры;\n",
    "* `Platform` — платформа; \n",
    "* `Year_of_Release` — год выпуска;\n",
    "* `Genre` — жанр игры;\n",
    "* `NA_sales` — продажи в Северной Америке (миллионы проданных копий);\n",
    "* `EU_sales` — продажи в Европе (миллионы проданных копий);\n",
    "* `JP_sales` — продажи в Японии (миллионы проданных копий);\n",
    "* `Other_sales` — продажи в других странах (миллионы проданных копий);\n",
    "* `Critic_Score` — оценка критиков (максимум 100);\n",
    "* `User_Score` — оценка пользователей (максимум 10);\n",
    "* `Rating` — рейтинг от организации ESRB (англ. Entertainment Software Rating Board). Эта ассоциация определяет рейтинг компьютерных игр и присваивает им подходящую возрастную категорию;\n",
    "Данные за 2016 год могут быть неполными."
   ]
  },
  {
   "cell_type": "code",
   "execution_count": 4,
   "id": "9e827629",
   "metadata": {},
   "outputs": [
    {
     "data": {
      "text/plain": [
       "Index(['Name', 'Platform', 'Year_of_Release', 'Genre', 'NA_sales', 'EU_sales',\n",
       "       'JP_sales', 'Other_sales', 'Critic_Score', 'User_Score', 'Rating'],\n",
       "      dtype='object')"
      ]
     },
     "execution_count": 4,
     "metadata": {},
     "output_type": "execute_result"
    }
   ],
   "source": [
    "# Получение информации о названиях столбцов\n",
    "df.columns"
   ]
  },
  {
   "cell_type": "markdown",
   "id": "bcb85eee",
   "metadata": {},
   "source": [
    "**Вывод по 1-ому разделу**\n",
    "\n",
    "После получения общей информации, в таблице были выявлены следующие замечания:\n",
    "1. Названия столбцов написаны с заглавной буквы\n",
    "2. В столбце `Year_of_Release` информация только о годе, следовательно, в данном случае со значениями этого столбца мы не будем работать как с датой, поэтому тип данных поменяем на целочисленный.\n",
    "3. В некоторых столбцах есть пропуски, которые надо будет изучить и, где это необходимо, устранить."
   ]
  },
  {
   "cell_type": "markdown",
   "id": "3b01bcf5",
   "metadata": {},
   "source": [
    "## 2. Предобработка данных\n",
    "На данном этапе будут устранены выявленные проблемы в данных с целью корректной работы с ними на протяжение всего проекта. "
   ]
  },
  {
   "cell_type": "markdown",
   "id": "d8524f4a",
   "metadata": {},
   "source": [
    "### 2.1. Работа с названиями столбцов"
   ]
  },
  {
   "cell_type": "code",
   "execution_count": 5,
   "id": "cfeb7cda",
   "metadata": {},
   "outputs": [],
   "source": [
    "# Приводим названия столбцов к нижнему регистру\n",
    "df.columns = df.columns.str.lower()"
   ]
  },
  {
   "cell_type": "code",
   "execution_count": 6,
   "id": "1bda97f8",
   "metadata": {},
   "outputs": [
    {
     "data": {
      "text/plain": [
       "Index(['name', 'platform', 'year_of_release', 'genre', 'na_sales', 'eu_sales',\n",
       "       'jp_sales', 'other_sales', 'critic_score', 'user_score', 'rating'],\n",
       "      dtype='object')"
      ]
     },
     "execution_count": 6,
     "metadata": {},
     "output_type": "execute_result"
    }
   ],
   "source": [
    "# Проверяем работоспособность кода по смене регистра названий\n",
    "df.columns"
   ]
  },
  {
   "cell_type": "markdown",
   "id": "ae15750d",
   "metadata": {},
   "source": [
    "**Вывод**\n",
    "\n",
    "Видим, что названия столбцов были приведены к нижнему регистру, что соответсвует хорошему стилю"
   ]
  },
  {
   "cell_type": "markdown",
   "id": "a84c71b6",
   "metadata": {},
   "source": [
    "### 2.2. Работа с пропусками"
   ]
  },
  {
   "cell_type": "markdown",
   "id": "98cb0456",
   "metadata": {},
   "source": [
    "**Возможные причины, которые могли привести к пропускам:**\n",
    "1. Сбои при выгрузке датафрейма из базы данных \n",
    "2. Ошибки при вводе данных \n",
    "3. Возможно, выход некоторых игр задерживался, также, возможно, выход игры затрагивал больше одного года, поэтому в строке с годом нет информации.\n",
    "4. Что касается оценок, то не все пользователи ставят их, соотвественно, по игре появляются пустые ячейки."
   ]
  },
  {
   "cell_type": "code",
   "execution_count": 7,
   "id": "bc1d3028",
   "metadata": {},
   "outputs": [
    {
     "data": {
      "text/plain": [
       "name                  2\n",
       "platform              0\n",
       "year_of_release     269\n",
       "genre                 2\n",
       "na_sales              0\n",
       "eu_sales              0\n",
       "jp_sales              0\n",
       "other_sales           0\n",
       "critic_score       8578\n",
       "user_score         6701\n",
       "rating             6766\n",
       "dtype: int64"
      ]
     },
     "execution_count": 7,
     "metadata": {},
     "output_type": "execute_result"
    }
   ],
   "source": [
    "# Считаем количество пропусков в каждом из столбцов\n",
    "df.isna().sum()"
   ]
  },
  {
   "cell_type": "code",
   "execution_count": 8,
   "id": "d0f9d4bf",
   "metadata": {},
   "outputs": [
    {
     "data": {
      "text/html": [
       "<div>\n",
       "<style scoped>\n",
       "    .dataframe tbody tr th:only-of-type {\n",
       "        vertical-align: middle;\n",
       "    }\n",
       "\n",
       "    .dataframe tbody tr th {\n",
       "        vertical-align: top;\n",
       "    }\n",
       "\n",
       "    .dataframe thead th {\n",
       "        text-align: right;\n",
       "    }\n",
       "</style>\n",
       "<table border=\"1\" class=\"dataframe\">\n",
       "  <thead>\n",
       "    <tr style=\"text-align: right;\">\n",
       "      <th></th>\n",
       "      <th>name</th>\n",
       "      <th>platform</th>\n",
       "      <th>year_of_release</th>\n",
       "      <th>genre</th>\n",
       "      <th>na_sales</th>\n",
       "      <th>eu_sales</th>\n",
       "      <th>jp_sales</th>\n",
       "      <th>other_sales</th>\n",
       "      <th>critic_score</th>\n",
       "      <th>user_score</th>\n",
       "      <th>rating</th>\n",
       "    </tr>\n",
       "  </thead>\n",
       "  <tbody>\n",
       "    <tr>\n",
       "      <th>659</th>\n",
       "      <td>NaN</td>\n",
       "      <td>GEN</td>\n",
       "      <td>1993.0</td>\n",
       "      <td>NaN</td>\n",
       "      <td>1.78</td>\n",
       "      <td>0.53</td>\n",
       "      <td>0.00</td>\n",
       "      <td>0.08</td>\n",
       "      <td>NaN</td>\n",
       "      <td>NaN</td>\n",
       "      <td>NaN</td>\n",
       "    </tr>\n",
       "    <tr>\n",
       "      <th>14244</th>\n",
       "      <td>NaN</td>\n",
       "      <td>GEN</td>\n",
       "      <td>1993.0</td>\n",
       "      <td>NaN</td>\n",
       "      <td>0.00</td>\n",
       "      <td>0.00</td>\n",
       "      <td>0.03</td>\n",
       "      <td>0.00</td>\n",
       "      <td>NaN</td>\n",
       "      <td>NaN</td>\n",
       "      <td>NaN</td>\n",
       "    </tr>\n",
       "  </tbody>\n",
       "</table>\n",
       "</div>"
      ],
      "text/plain": [
       "      name platform  year_of_release genre  na_sales  eu_sales  jp_sales  \\\n",
       "659    NaN      GEN           1993.0   NaN      1.78      0.53      0.00   \n",
       "14244  NaN      GEN           1993.0   NaN      0.00      0.00      0.03   \n",
       "\n",
       "       other_sales  critic_score user_score rating  \n",
       "659           0.08           NaN        NaN    NaN  \n",
       "14244         0.00           NaN        NaN    NaN  "
      ]
     },
     "execution_count": 8,
     "metadata": {},
     "output_type": "execute_result"
    }
   ],
   "source": [
    "# Изучаем пропуски в столбце name\n",
    "df[df['name'].isnull()]"
   ]
  },
  {
   "cell_type": "markdown",
   "id": "7a06533d",
   "metadata": {},
   "source": [
    "**Вывод**\n",
    "\n",
    "Видна некая закономерность: нет названия игры, нет и жанра, что логично. Пропусков всего два, это очень мало, так что можем удалить данные строки"
   ]
  },
  {
   "cell_type": "code",
   "execution_count": 9,
   "id": "19315cdc",
   "metadata": {},
   "outputs": [
    {
     "data": {
      "text/html": [
       "<div>\n",
       "<style scoped>\n",
       "    .dataframe tbody tr th:only-of-type {\n",
       "        vertical-align: middle;\n",
       "    }\n",
       "\n",
       "    .dataframe tbody tr th {\n",
       "        vertical-align: top;\n",
       "    }\n",
       "\n",
       "    .dataframe thead th {\n",
       "        text-align: right;\n",
       "    }\n",
       "</style>\n",
       "<table border=\"1\" class=\"dataframe\">\n",
       "  <thead>\n",
       "    <tr style=\"text-align: right;\">\n",
       "      <th></th>\n",
       "      <th>name</th>\n",
       "      <th>platform</th>\n",
       "      <th>year_of_release</th>\n",
       "      <th>genre</th>\n",
       "      <th>na_sales</th>\n",
       "      <th>eu_sales</th>\n",
       "      <th>jp_sales</th>\n",
       "      <th>other_sales</th>\n",
       "      <th>critic_score</th>\n",
       "      <th>user_score</th>\n",
       "      <th>rating</th>\n",
       "    </tr>\n",
       "  </thead>\n",
       "  <tbody>\n",
       "    <tr>\n",
       "      <th>183</th>\n",
       "      <td>Madden NFL 2004</td>\n",
       "      <td>PS2</td>\n",
       "      <td>NaN</td>\n",
       "      <td>Sports</td>\n",
       "      <td>4.26</td>\n",
       "      <td>0.26</td>\n",
       "      <td>0.01</td>\n",
       "      <td>0.71</td>\n",
       "      <td>94.0</td>\n",
       "      <td>8.5</td>\n",
       "      <td>E</td>\n",
       "    </tr>\n",
       "    <tr>\n",
       "      <th>377</th>\n",
       "      <td>FIFA Soccer 2004</td>\n",
       "      <td>PS2</td>\n",
       "      <td>NaN</td>\n",
       "      <td>Sports</td>\n",
       "      <td>0.59</td>\n",
       "      <td>2.36</td>\n",
       "      <td>0.04</td>\n",
       "      <td>0.51</td>\n",
       "      <td>84.0</td>\n",
       "      <td>6.4</td>\n",
       "      <td>E</td>\n",
       "    </tr>\n",
       "    <tr>\n",
       "      <th>456</th>\n",
       "      <td>LEGO Batman: The Videogame</td>\n",
       "      <td>Wii</td>\n",
       "      <td>NaN</td>\n",
       "      <td>Action</td>\n",
       "      <td>1.80</td>\n",
       "      <td>0.97</td>\n",
       "      <td>0.00</td>\n",
       "      <td>0.29</td>\n",
       "      <td>74.0</td>\n",
       "      <td>7.9</td>\n",
       "      <td>E10+</td>\n",
       "    </tr>\n",
       "    <tr>\n",
       "      <th>475</th>\n",
       "      <td>wwe Smackdown vs. Raw 2006</td>\n",
       "      <td>PS2</td>\n",
       "      <td>NaN</td>\n",
       "      <td>Fighting</td>\n",
       "      <td>1.57</td>\n",
       "      <td>1.02</td>\n",
       "      <td>0.00</td>\n",
       "      <td>0.41</td>\n",
       "      <td>NaN</td>\n",
       "      <td>NaN</td>\n",
       "      <td>NaN</td>\n",
       "    </tr>\n",
       "    <tr>\n",
       "      <th>609</th>\n",
       "      <td>Space Invaders</td>\n",
       "      <td>2600</td>\n",
       "      <td>NaN</td>\n",
       "      <td>Shooter</td>\n",
       "      <td>2.36</td>\n",
       "      <td>0.14</td>\n",
       "      <td>0.00</td>\n",
       "      <td>0.03</td>\n",
       "      <td>NaN</td>\n",
       "      <td>NaN</td>\n",
       "      <td>NaN</td>\n",
       "    </tr>\n",
       "  </tbody>\n",
       "</table>\n",
       "</div>"
      ],
      "text/plain": [
       "                           name platform  year_of_release     genre  na_sales  \\\n",
       "183             Madden NFL 2004      PS2              NaN    Sports      4.26   \n",
       "377            FIFA Soccer 2004      PS2              NaN    Sports      0.59   \n",
       "456  LEGO Batman: The Videogame      Wii              NaN    Action      1.80   \n",
       "475  wwe Smackdown vs. Raw 2006      PS2              NaN  Fighting      1.57   \n",
       "609              Space Invaders     2600              NaN   Shooter      2.36   \n",
       "\n",
       "     eu_sales  jp_sales  other_sales  critic_score user_score rating  \n",
       "183      0.26      0.01         0.71          94.0        8.5      E  \n",
       "377      2.36      0.04         0.51          84.0        6.4      E  \n",
       "456      0.97      0.00         0.29          74.0        7.9   E10+  \n",
       "475      1.02      0.00         0.41           NaN        NaN    NaN  \n",
       "609      0.14      0.00         0.03           NaN        NaN    NaN  "
      ]
     },
     "execution_count": 9,
     "metadata": {},
     "output_type": "execute_result"
    }
   ],
   "source": [
    "# Изучаем пропуски в столбце year_of_release\n",
    "df[df['year_of_release'].isnull()].head()"
   ]
  },
  {
   "cell_type": "markdown",
   "id": "b9697b72",
   "metadata": {},
   "source": [
    "**Вывод**\n",
    "\n",
    "В данном случае никакой закономерности увидеть нельзя, следовательно, данные строки можно тоже удалить, так как строк с пропущенными значениями мало. "
   ]
  },
  {
   "cell_type": "code",
   "execution_count": 10,
   "id": "b931e4fd",
   "metadata": {},
   "outputs": [
    {
     "data": {
      "text/html": [
       "<div>\n",
       "<style scoped>\n",
       "    .dataframe tbody tr th:only-of-type {\n",
       "        vertical-align: middle;\n",
       "    }\n",
       "\n",
       "    .dataframe tbody tr th {\n",
       "        vertical-align: top;\n",
       "    }\n",
       "\n",
       "    .dataframe thead th {\n",
       "        text-align: right;\n",
       "    }\n",
       "</style>\n",
       "<table border=\"1\" class=\"dataframe\">\n",
       "  <thead>\n",
       "    <tr style=\"text-align: right;\">\n",
       "      <th></th>\n",
       "      <th>name</th>\n",
       "      <th>platform</th>\n",
       "      <th>year_of_release</th>\n",
       "      <th>genre</th>\n",
       "      <th>na_sales</th>\n",
       "      <th>eu_sales</th>\n",
       "      <th>jp_sales</th>\n",
       "      <th>other_sales</th>\n",
       "      <th>critic_score</th>\n",
       "      <th>user_score</th>\n",
       "      <th>rating</th>\n",
       "    </tr>\n",
       "  </thead>\n",
       "  <tbody>\n",
       "    <tr>\n",
       "      <th>1</th>\n",
       "      <td>Super Mario Bros.</td>\n",
       "      <td>NES</td>\n",
       "      <td>1985.0</td>\n",
       "      <td>Platform</td>\n",
       "      <td>29.08</td>\n",
       "      <td>3.58</td>\n",
       "      <td>6.81</td>\n",
       "      <td>0.77</td>\n",
       "      <td>NaN</td>\n",
       "      <td>NaN</td>\n",
       "      <td>NaN</td>\n",
       "    </tr>\n",
       "    <tr>\n",
       "      <th>4</th>\n",
       "      <td>Pokemon Red/Pokemon Blue</td>\n",
       "      <td>GB</td>\n",
       "      <td>1996.0</td>\n",
       "      <td>Role-Playing</td>\n",
       "      <td>11.27</td>\n",
       "      <td>8.89</td>\n",
       "      <td>10.22</td>\n",
       "      <td>1.00</td>\n",
       "      <td>NaN</td>\n",
       "      <td>NaN</td>\n",
       "      <td>NaN</td>\n",
       "    </tr>\n",
       "    <tr>\n",
       "      <th>5</th>\n",
       "      <td>Tetris</td>\n",
       "      <td>GB</td>\n",
       "      <td>1989.0</td>\n",
       "      <td>Puzzle</td>\n",
       "      <td>23.20</td>\n",
       "      <td>2.26</td>\n",
       "      <td>4.22</td>\n",
       "      <td>0.58</td>\n",
       "      <td>NaN</td>\n",
       "      <td>NaN</td>\n",
       "      <td>NaN</td>\n",
       "    </tr>\n",
       "    <tr>\n",
       "      <th>9</th>\n",
       "      <td>Duck Hunt</td>\n",
       "      <td>NES</td>\n",
       "      <td>1984.0</td>\n",
       "      <td>Shooter</td>\n",
       "      <td>26.93</td>\n",
       "      <td>0.63</td>\n",
       "      <td>0.28</td>\n",
       "      <td>0.47</td>\n",
       "      <td>NaN</td>\n",
       "      <td>NaN</td>\n",
       "      <td>NaN</td>\n",
       "    </tr>\n",
       "    <tr>\n",
       "      <th>10</th>\n",
       "      <td>Nintendogs</td>\n",
       "      <td>DS</td>\n",
       "      <td>2005.0</td>\n",
       "      <td>Simulation</td>\n",
       "      <td>9.05</td>\n",
       "      <td>10.95</td>\n",
       "      <td>1.93</td>\n",
       "      <td>2.74</td>\n",
       "      <td>NaN</td>\n",
       "      <td>NaN</td>\n",
       "      <td>NaN</td>\n",
       "    </tr>\n",
       "  </tbody>\n",
       "</table>\n",
       "</div>"
      ],
      "text/plain": [
       "                        name platform  year_of_release         genre  \\\n",
       "1          Super Mario Bros.      NES           1985.0      Platform   \n",
       "4   Pokemon Red/Pokemon Blue       GB           1996.0  Role-Playing   \n",
       "5                     Tetris       GB           1989.0        Puzzle   \n",
       "9                  Duck Hunt      NES           1984.0       Shooter   \n",
       "10                Nintendogs       DS           2005.0    Simulation   \n",
       "\n",
       "    na_sales  eu_sales  jp_sales  other_sales  critic_score user_score rating  \n",
       "1      29.08      3.58      6.81         0.77           NaN        NaN    NaN  \n",
       "4      11.27      8.89     10.22         1.00           NaN        NaN    NaN  \n",
       "5      23.20      2.26      4.22         0.58           NaN        NaN    NaN  \n",
       "9      26.93      0.63      0.28         0.47           NaN        NaN    NaN  \n",
       "10      9.05     10.95      1.93         2.74           NaN        NaN    NaN  "
      ]
     },
     "execution_count": 10,
     "metadata": {},
     "output_type": "execute_result"
    }
   ],
   "source": [
    "# Изучаем пропуски в столбцах critic_score\n",
    "df[df['critic_score'].isnull()].head()"
   ]
  },
  {
   "cell_type": "code",
   "execution_count": 11,
   "id": "fec4bd5d",
   "metadata": {},
   "outputs": [
    {
     "data": {
      "text/html": [
       "<div>\n",
       "<style scoped>\n",
       "    .dataframe tbody tr th:only-of-type {\n",
       "        vertical-align: middle;\n",
       "    }\n",
       "\n",
       "    .dataframe tbody tr th {\n",
       "        vertical-align: top;\n",
       "    }\n",
       "\n",
       "    .dataframe thead th {\n",
       "        text-align: right;\n",
       "    }\n",
       "</style>\n",
       "<table border=\"1\" class=\"dataframe\">\n",
       "  <thead>\n",
       "    <tr style=\"text-align: right;\">\n",
       "      <th></th>\n",
       "      <th>name</th>\n",
       "      <th>platform</th>\n",
       "      <th>year_of_release</th>\n",
       "      <th>genre</th>\n",
       "      <th>na_sales</th>\n",
       "      <th>eu_sales</th>\n",
       "      <th>jp_sales</th>\n",
       "      <th>other_sales</th>\n",
       "      <th>critic_score</th>\n",
       "      <th>user_score</th>\n",
       "      <th>rating</th>\n",
       "    </tr>\n",
       "  </thead>\n",
       "  <tbody>\n",
       "    <tr>\n",
       "      <th>1</th>\n",
       "      <td>Super Mario Bros.</td>\n",
       "      <td>NES</td>\n",
       "      <td>1985.0</td>\n",
       "      <td>Platform</td>\n",
       "      <td>29.08</td>\n",
       "      <td>3.58</td>\n",
       "      <td>6.81</td>\n",
       "      <td>0.77</td>\n",
       "      <td>NaN</td>\n",
       "      <td>NaN</td>\n",
       "      <td>NaN</td>\n",
       "    </tr>\n",
       "    <tr>\n",
       "      <th>4</th>\n",
       "      <td>Pokemon Red/Pokemon Blue</td>\n",
       "      <td>GB</td>\n",
       "      <td>1996.0</td>\n",
       "      <td>Role-Playing</td>\n",
       "      <td>11.27</td>\n",
       "      <td>8.89</td>\n",
       "      <td>10.22</td>\n",
       "      <td>1.00</td>\n",
       "      <td>NaN</td>\n",
       "      <td>NaN</td>\n",
       "      <td>NaN</td>\n",
       "    </tr>\n",
       "    <tr>\n",
       "      <th>5</th>\n",
       "      <td>Tetris</td>\n",
       "      <td>GB</td>\n",
       "      <td>1989.0</td>\n",
       "      <td>Puzzle</td>\n",
       "      <td>23.20</td>\n",
       "      <td>2.26</td>\n",
       "      <td>4.22</td>\n",
       "      <td>0.58</td>\n",
       "      <td>NaN</td>\n",
       "      <td>NaN</td>\n",
       "      <td>NaN</td>\n",
       "    </tr>\n",
       "    <tr>\n",
       "      <th>9</th>\n",
       "      <td>Duck Hunt</td>\n",
       "      <td>NES</td>\n",
       "      <td>1984.0</td>\n",
       "      <td>Shooter</td>\n",
       "      <td>26.93</td>\n",
       "      <td>0.63</td>\n",
       "      <td>0.28</td>\n",
       "      <td>0.47</td>\n",
       "      <td>NaN</td>\n",
       "      <td>NaN</td>\n",
       "      <td>NaN</td>\n",
       "    </tr>\n",
       "    <tr>\n",
       "      <th>10</th>\n",
       "      <td>Nintendogs</td>\n",
       "      <td>DS</td>\n",
       "      <td>2005.0</td>\n",
       "      <td>Simulation</td>\n",
       "      <td>9.05</td>\n",
       "      <td>10.95</td>\n",
       "      <td>1.93</td>\n",
       "      <td>2.74</td>\n",
       "      <td>NaN</td>\n",
       "      <td>NaN</td>\n",
       "      <td>NaN</td>\n",
       "    </tr>\n",
       "  </tbody>\n",
       "</table>\n",
       "</div>"
      ],
      "text/plain": [
       "                        name platform  year_of_release         genre  \\\n",
       "1          Super Mario Bros.      NES           1985.0      Platform   \n",
       "4   Pokemon Red/Pokemon Blue       GB           1996.0  Role-Playing   \n",
       "5                     Tetris       GB           1989.0        Puzzle   \n",
       "9                  Duck Hunt      NES           1984.0       Shooter   \n",
       "10                Nintendogs       DS           2005.0    Simulation   \n",
       "\n",
       "    na_sales  eu_sales  jp_sales  other_sales  critic_score user_score rating  \n",
       "1      29.08      3.58      6.81         0.77           NaN        NaN    NaN  \n",
       "4      11.27      8.89     10.22         1.00           NaN        NaN    NaN  \n",
       "5      23.20      2.26      4.22         0.58           NaN        NaN    NaN  \n",
       "9      26.93      0.63      0.28         0.47           NaN        NaN    NaN  \n",
       "10      9.05     10.95      1.93         2.74           NaN        NaN    NaN  "
      ]
     },
     "execution_count": 11,
     "metadata": {},
     "output_type": "execute_result"
    }
   ],
   "source": [
    "# Изучаем пропуски в столбце user_score\n",
    "df[df['user_score'].isnull()].head()"
   ]
  },
  {
   "cell_type": "code",
   "execution_count": 12,
   "id": "6fa1eeb4",
   "metadata": {},
   "outputs": [
    {
     "data": {
      "text/html": [
       "<div>\n",
       "<style scoped>\n",
       "    .dataframe tbody tr th:only-of-type {\n",
       "        vertical-align: middle;\n",
       "    }\n",
       "\n",
       "    .dataframe tbody tr th {\n",
       "        vertical-align: top;\n",
       "    }\n",
       "\n",
       "    .dataframe thead th {\n",
       "        text-align: right;\n",
       "    }\n",
       "</style>\n",
       "<table border=\"1\" class=\"dataframe\">\n",
       "  <thead>\n",
       "    <tr style=\"text-align: right;\">\n",
       "      <th></th>\n",
       "      <th>name</th>\n",
       "      <th>platform</th>\n",
       "      <th>year_of_release</th>\n",
       "      <th>genre</th>\n",
       "      <th>na_sales</th>\n",
       "      <th>eu_sales</th>\n",
       "      <th>jp_sales</th>\n",
       "      <th>other_sales</th>\n",
       "      <th>critic_score</th>\n",
       "      <th>user_score</th>\n",
       "      <th>rating</th>\n",
       "    </tr>\n",
       "  </thead>\n",
       "  <tbody>\n",
       "    <tr>\n",
       "      <th>1</th>\n",
       "      <td>Super Mario Bros.</td>\n",
       "      <td>NES</td>\n",
       "      <td>1985.0</td>\n",
       "      <td>Platform</td>\n",
       "      <td>29.08</td>\n",
       "      <td>3.58</td>\n",
       "      <td>6.81</td>\n",
       "      <td>0.77</td>\n",
       "      <td>NaN</td>\n",
       "      <td>NaN</td>\n",
       "      <td>NaN</td>\n",
       "    </tr>\n",
       "    <tr>\n",
       "      <th>4</th>\n",
       "      <td>Pokemon Red/Pokemon Blue</td>\n",
       "      <td>GB</td>\n",
       "      <td>1996.0</td>\n",
       "      <td>Role-Playing</td>\n",
       "      <td>11.27</td>\n",
       "      <td>8.89</td>\n",
       "      <td>10.22</td>\n",
       "      <td>1.00</td>\n",
       "      <td>NaN</td>\n",
       "      <td>NaN</td>\n",
       "      <td>NaN</td>\n",
       "    </tr>\n",
       "    <tr>\n",
       "      <th>5</th>\n",
       "      <td>Tetris</td>\n",
       "      <td>GB</td>\n",
       "      <td>1989.0</td>\n",
       "      <td>Puzzle</td>\n",
       "      <td>23.20</td>\n",
       "      <td>2.26</td>\n",
       "      <td>4.22</td>\n",
       "      <td>0.58</td>\n",
       "      <td>NaN</td>\n",
       "      <td>NaN</td>\n",
       "      <td>NaN</td>\n",
       "    </tr>\n",
       "    <tr>\n",
       "      <th>9</th>\n",
       "      <td>Duck Hunt</td>\n",
       "      <td>NES</td>\n",
       "      <td>1984.0</td>\n",
       "      <td>Shooter</td>\n",
       "      <td>26.93</td>\n",
       "      <td>0.63</td>\n",
       "      <td>0.28</td>\n",
       "      <td>0.47</td>\n",
       "      <td>NaN</td>\n",
       "      <td>NaN</td>\n",
       "      <td>NaN</td>\n",
       "    </tr>\n",
       "    <tr>\n",
       "      <th>10</th>\n",
       "      <td>Nintendogs</td>\n",
       "      <td>DS</td>\n",
       "      <td>2005.0</td>\n",
       "      <td>Simulation</td>\n",
       "      <td>9.05</td>\n",
       "      <td>10.95</td>\n",
       "      <td>1.93</td>\n",
       "      <td>2.74</td>\n",
       "      <td>NaN</td>\n",
       "      <td>NaN</td>\n",
       "      <td>NaN</td>\n",
       "    </tr>\n",
       "  </tbody>\n",
       "</table>\n",
       "</div>"
      ],
      "text/plain": [
       "                        name platform  year_of_release         genre  \\\n",
       "1          Super Mario Bros.      NES           1985.0      Platform   \n",
       "4   Pokemon Red/Pokemon Blue       GB           1996.0  Role-Playing   \n",
       "5                     Tetris       GB           1989.0        Puzzle   \n",
       "9                  Duck Hunt      NES           1984.0       Shooter   \n",
       "10                Nintendogs       DS           2005.0    Simulation   \n",
       "\n",
       "    na_sales  eu_sales  jp_sales  other_sales  critic_score user_score rating  \n",
       "1      29.08      3.58      6.81         0.77           NaN        NaN    NaN  \n",
       "4      11.27      8.89     10.22         1.00           NaN        NaN    NaN  \n",
       "5      23.20      2.26      4.22         0.58           NaN        NaN    NaN  \n",
       "9      26.93      0.63      0.28         0.47           NaN        NaN    NaN  \n",
       "10      9.05     10.95      1.93         2.74           NaN        NaN    NaN  "
      ]
     },
     "execution_count": 12,
     "metadata": {},
     "output_type": "execute_result"
    }
   ],
   "source": [
    "# Изучаем пропуски в столбце rating\n",
    "df[df['rating'].isnull()].head()"
   ]
  },
  {
   "cell_type": "markdown",
   "id": "1c0d40ea",
   "metadata": {},
   "source": [
    "**Вывод**\n",
    "\n",
    "В данном случае видна некая закономерность: если нет значений в столбцах `user_score` и `critic_score`, то нет значений и в столбце `rating`, что также логично. Однако столбец `rating` стоит изучить подробнее, так как там представлена категориальная переменная, а пропуски в столбцах `user_score` и `critic_score` логичней будет оставить без изменений, так как их очень много и правильной замены найти не сможем."
   ]
  },
  {
   "cell_type": "code",
   "execution_count": 13,
   "id": "16789055",
   "metadata": {},
   "outputs": [
    {
     "data": {
      "text/plain": [
       "array(['E', nan, 'M', 'T', 'E10+', 'K-A', 'AO', 'EC', 'RP'], dtype=object)"
      ]
     },
     "execution_count": 13,
     "metadata": {},
     "output_type": "execute_result"
    }
   ],
   "source": [
    "# Изучение пропусков в столбце rating\n",
    "df['rating'].unique()"
   ]
  },
  {
   "cell_type": "markdown",
   "id": "e5f95d2c",
   "metadata": {},
   "source": [
    "**Вывод**\n",
    "\n",
    "В данном случае, пропуски целесообразнее заменить на значение `unknown`, потому что узнать истинную замену данным пропускам у нас не получится, следовательно, самым оптимальным считаю данный вариант. "
   ]
  },
  {
   "cell_type": "code",
   "execution_count": 14,
   "id": "a3dd3b26",
   "metadata": {},
   "outputs": [
    {
     "data": {
      "text/plain": [
       "array(['8', nan, '8.3', '8.5', '6.6', '8.4', '8.6', '7.7', '6.3', '7.4',\n",
       "       '8.2', '9', '7.9', '8.1', '8.7', '7.1', '3.4', '5.3', '4.8', '3.2',\n",
       "       '8.9', '6.4', '7.8', '7.5', '2.6', '7.2', '9.2', '7', '7.3', '4.3',\n",
       "       '7.6', '5.7', '5', '9.1', '6.5', 'tbd', '8.8', '6.9', '9.4', '6.8',\n",
       "       '6.1', '6.7', '5.4', '4', '4.9', '4.5', '9.3', '6.2', '4.2', '6',\n",
       "       '3.7', '4.1', '5.8', '5.6', '5.5', '4.4', '4.6', '5.9', '3.9',\n",
       "       '3.1', '2.9', '5.2', '3.3', '4.7', '5.1', '3.5', '2.5', '1.9', '3',\n",
       "       '2.7', '2.2', '2', '9.5', '2.1', '3.6', '2.8', '1.8', '3.8', '0',\n",
       "       '1.6', '9.6', '2.4', '1.7', '1.1', '0.3', '1.5', '0.7', '1.2',\n",
       "       '2.3', '0.5', '1.3', '0.2', '0.6', '1.4', '0.9', '1', '9.7'],\n",
       "      dtype=object)"
      ]
     },
     "execution_count": 14,
     "metadata": {},
     "output_type": "execute_result"
    }
   ],
   "source": [
    "df['user_score'].unique()"
   ]
  },
  {
   "cell_type": "code",
   "execution_count": 15,
   "id": "19993057",
   "metadata": {},
   "outputs": [
    {
     "name": "stdout",
     "output_type": "stream",
     "text": [
      "2424\n"
     ]
    }
   ],
   "source": [
    "# Делаем срез по неизвестному значению  \n",
    "df_tbd = df[df['user_score'] == 'tbd']\n",
    "# Считаем сколько таких значений\n",
    "print(len(df_tbd))"
   ]
  },
  {
   "cell_type": "markdown",
   "id": "78b322df",
   "metadata": {},
   "source": [
    "**Вывод**\n",
    "\n",
    "Также, в столбце `user_score` была выявлена непонятная оценка в виде значения `tbd`. Так как таких значений много и удалять такие строки будет не целесообразно, думаю, что верным решением будет обработать это значение при помощи метода `pd.to_numeric`. Данный столбец отражает количественную переменную, оставлять подобную строку нельзя, так как далее прийдётся работать с этим столбцом и при наличии строки в столбце, код упадёт. "
   ]
  },
  {
   "cell_type": "code",
   "execution_count": 16,
   "id": "ece5904c",
   "metadata": {},
   "outputs": [
    {
     "data": {
      "text/plain": [
       "array([76., nan, 82., 80., 89., 58., 87., 91., 61., 97., 95., 77., 88.,\n",
       "       83., 94., 93., 85., 86., 98., 96., 90., 84., 73., 74., 78., 92.,\n",
       "       71., 72., 68., 62., 49., 67., 81., 66., 56., 79., 70., 59., 64.,\n",
       "       75., 60., 63., 69., 50., 25., 42., 44., 55., 48., 57., 29., 47.,\n",
       "       65., 54., 20., 53., 37., 38., 33., 52., 30., 32., 43., 45., 51.,\n",
       "       40., 46., 39., 34., 35., 41., 36., 28., 31., 27., 26., 19., 23.,\n",
       "       24., 21., 17., 22., 13.])"
      ]
     },
     "execution_count": 16,
     "metadata": {},
     "output_type": "execute_result"
    }
   ],
   "source": [
    "df['critic_score'].unique()"
   ]
  },
  {
   "cell_type": "markdown",
   "id": "b371313c",
   "metadata": {},
   "source": [
    "**Вывод**\n",
    "\n",
    "В данном столбце непонятных переменных выявлено не было"
   ]
  },
  {
   "cell_type": "code",
   "execution_count": 17,
   "id": "4000d2b8",
   "metadata": {},
   "outputs": [],
   "source": [
    "# Избавляемся от строк с пропусками\n",
    "df = df.dropna(subset=['name', 'year_of_release'])"
   ]
  },
  {
   "cell_type": "code",
   "execution_count": 18,
   "id": "1b981e05",
   "metadata": {},
   "outputs": [],
   "source": [
    "# Для корректной работы кода заменяем тип object на тип float64\n",
    "df['user_score'] = pd.to_numeric(df['user_score'], errors='coerce')"
   ]
  },
  {
   "cell_type": "code",
   "execution_count": 19,
   "id": "da0791fa",
   "metadata": {},
   "outputs": [],
   "source": [
    "# Замена пропусков в столбце rating на unknown\n",
    "df['rating'] = df['rating'].fillna('unknown')"
   ]
  },
  {
   "cell_type": "code",
   "execution_count": 20,
   "id": "3b6a9ec0",
   "metadata": {},
   "outputs": [
    {
     "data": {
      "text/plain": [
       "name                  0\n",
       "platform              0\n",
       "year_of_release       0\n",
       "genre                 0\n",
       "na_sales              0\n",
       "eu_sales              0\n",
       "jp_sales              0\n",
       "other_sales           0\n",
       "critic_score       8461\n",
       "user_score         8981\n",
       "rating                0\n",
       "dtype: int64"
      ]
     },
     "execution_count": 20,
     "metadata": {},
     "output_type": "execute_result"
    }
   ],
   "source": [
    "# Проверяем, как обработали пропуски\n",
    "df.isna().sum()"
   ]
  },
  {
   "cell_type": "markdown",
   "id": "6618f029",
   "metadata": {},
   "source": [
    "**Вывод по разделу 2.2.**\n",
    "\n",
    "В данном разделе были обработаны все пропуски в данных."
   ]
  },
  {
   "cell_type": "markdown",
   "id": "68f72514",
   "metadata": {},
   "source": [
    "### 2.3. Работа с типом данных"
   ]
  },
  {
   "cell_type": "code",
   "execution_count": 21,
   "id": "bbb16b2e",
   "metadata": {},
   "outputs": [],
   "source": [
    "# Изменяем тип данных в столбце year_of_release на целочисленный\n",
    "df['year_of_release'] = df['year_of_release'].astype('int32')"
   ]
  },
  {
   "cell_type": "code",
   "execution_count": 22,
   "id": "b6ffa879",
   "metadata": {},
   "outputs": [
    {
     "data": {
      "text/plain": [
       "name               object\n",
       "platform           object\n",
       "year_of_release     int32\n",
       "dtype: object"
      ]
     },
     "execution_count": 22,
     "metadata": {},
     "output_type": "execute_result"
    }
   ],
   "source": [
    "# Проверяем, как отработал код по смене типа данных\n",
    "df.dtypes.head(3)"
   ]
  },
  {
   "cell_type": "markdown",
   "id": "395bea0e",
   "metadata": {},
   "source": [
    "**Вывод**\n",
    "\n",
    "Тип данных обработан, теперь значения в столбце `year_of_release` - целые числа. "
   ]
  },
  {
   "cell_type": "markdown",
   "id": "52defd64",
   "metadata": {},
   "source": [
    "**Вывод по 2-ому разделу**\n",
    "\n",
    "В данном разделе были устранены все недочёты в данных, следовательно, можно приступать к основной части проекта"
   ]
  },
  {
   "cell_type": "markdown",
   "id": "b2397cce",
   "metadata": {},
   "source": [
    "## 3. Исследовательский анализ данных"
   ]
  },
  {
   "cell_type": "code",
   "execution_count": 23,
   "id": "e8920a32",
   "metadata": {},
   "outputs": [
    {
     "data": {
      "text/html": [
       "<div>\n",
       "<style scoped>\n",
       "    .dataframe tbody tr th:only-of-type {\n",
       "        vertical-align: middle;\n",
       "    }\n",
       "\n",
       "    .dataframe tbody tr th {\n",
       "        vertical-align: top;\n",
       "    }\n",
       "\n",
       "    .dataframe thead th {\n",
       "        text-align: right;\n",
       "    }\n",
       "</style>\n",
       "<table border=\"1\" class=\"dataframe\">\n",
       "  <thead>\n",
       "    <tr style=\"text-align: right;\">\n",
       "      <th></th>\n",
       "      <th>name</th>\n",
       "      <th>platform</th>\n",
       "      <th>year_of_release</th>\n",
       "      <th>genre</th>\n",
       "      <th>na_sales</th>\n",
       "      <th>eu_sales</th>\n",
       "      <th>jp_sales</th>\n",
       "      <th>other_sales</th>\n",
       "      <th>critic_score</th>\n",
       "      <th>user_score</th>\n",
       "      <th>rating</th>\n",
       "      <th>total_sales</th>\n",
       "    </tr>\n",
       "  </thead>\n",
       "  <tbody>\n",
       "    <tr>\n",
       "      <th>0</th>\n",
       "      <td>Wii Sports</td>\n",
       "      <td>Wii</td>\n",
       "      <td>2006</td>\n",
       "      <td>Sports</td>\n",
       "      <td>41.36</td>\n",
       "      <td>28.96</td>\n",
       "      <td>3.77</td>\n",
       "      <td>8.45</td>\n",
       "      <td>76.0</td>\n",
       "      <td>8.0</td>\n",
       "      <td>E</td>\n",
       "      <td>82.54</td>\n",
       "    </tr>\n",
       "    <tr>\n",
       "      <th>1</th>\n",
       "      <td>Super Mario Bros.</td>\n",
       "      <td>NES</td>\n",
       "      <td>1985</td>\n",
       "      <td>Platform</td>\n",
       "      <td>29.08</td>\n",
       "      <td>3.58</td>\n",
       "      <td>6.81</td>\n",
       "      <td>0.77</td>\n",
       "      <td>NaN</td>\n",
       "      <td>NaN</td>\n",
       "      <td>unknown</td>\n",
       "      <td>40.24</td>\n",
       "    </tr>\n",
       "    <tr>\n",
       "      <th>2</th>\n",
       "      <td>Mario Kart Wii</td>\n",
       "      <td>Wii</td>\n",
       "      <td>2008</td>\n",
       "      <td>Racing</td>\n",
       "      <td>15.68</td>\n",
       "      <td>12.76</td>\n",
       "      <td>3.79</td>\n",
       "      <td>3.29</td>\n",
       "      <td>82.0</td>\n",
       "      <td>8.3</td>\n",
       "      <td>E</td>\n",
       "      <td>35.52</td>\n",
       "    </tr>\n",
       "    <tr>\n",
       "      <th>3</th>\n",
       "      <td>Wii Sports Resort</td>\n",
       "      <td>Wii</td>\n",
       "      <td>2009</td>\n",
       "      <td>Sports</td>\n",
       "      <td>15.61</td>\n",
       "      <td>10.93</td>\n",
       "      <td>3.28</td>\n",
       "      <td>2.95</td>\n",
       "      <td>80.0</td>\n",
       "      <td>8.0</td>\n",
       "      <td>E</td>\n",
       "      <td>32.77</td>\n",
       "    </tr>\n",
       "    <tr>\n",
       "      <th>4</th>\n",
       "      <td>Pokemon Red/Pokemon Blue</td>\n",
       "      <td>GB</td>\n",
       "      <td>1996</td>\n",
       "      <td>Role-Playing</td>\n",
       "      <td>11.27</td>\n",
       "      <td>8.89</td>\n",
       "      <td>10.22</td>\n",
       "      <td>1.00</td>\n",
       "      <td>NaN</td>\n",
       "      <td>NaN</td>\n",
       "      <td>unknown</td>\n",
       "      <td>31.38</td>\n",
       "    </tr>\n",
       "  </tbody>\n",
       "</table>\n",
       "</div>"
      ],
      "text/plain": [
       "                       name platform  year_of_release         genre  na_sales  \\\n",
       "0                Wii Sports      Wii             2006        Sports     41.36   \n",
       "1         Super Mario Bros.      NES             1985      Platform     29.08   \n",
       "2            Mario Kart Wii      Wii             2008        Racing     15.68   \n",
       "3         Wii Sports Resort      Wii             2009        Sports     15.61   \n",
       "4  Pokemon Red/Pokemon Blue       GB             1996  Role-Playing     11.27   \n",
       "\n",
       "   eu_sales  jp_sales  other_sales  critic_score  user_score   rating  \\\n",
       "0     28.96      3.77         8.45          76.0         8.0        E   \n",
       "1      3.58      6.81         0.77           NaN         NaN  unknown   \n",
       "2     12.76      3.79         3.29          82.0         8.3        E   \n",
       "3     10.93      3.28         2.95          80.0         8.0        E   \n",
       "4      8.89     10.22         1.00           NaN         NaN  unknown   \n",
       "\n",
       "   total_sales  \n",
       "0        82.54  \n",
       "1        40.24  \n",
       "2        35.52  \n",
       "3        32.77  \n",
       "4        31.38  "
      ]
     },
     "execution_count": 23,
     "metadata": {},
     "output_type": "execute_result"
    }
   ],
   "source": [
    "# Считаем суммарные продажи во всех регионах и создаём для этого новый столбец\n",
    "df['total_sales'] = df['na_sales'] + df['eu_sales'] + df['jp_sales'] + df['other_sales']\n",
    "df.head()"
   ]
  },
  {
   "cell_type": "code",
   "execution_count": 24,
   "id": "0d2c3132",
   "metadata": {},
   "outputs": [
    {
     "data": {
      "image/png": "[encoded data removed]",
      "text/plain": [
       "<Figure size 864x360 with 1 Axes>"
      ]
     },
     "metadata": {
      "needs_background": "light"
     },
     "output_type": "display_data"
    }
   ],
   "source": [
    "# Смотрим, сколько игр выпускалось в разные годы\n",
    "(df.groupby('year_of_release')['name'].count()\n",
    "                                      .plot(kind='line', figsize=(12, 5), grid=True, linewidth=2)\n",
    ")\n",
    "plt.title('Количество выпущенных игр по годам')\n",
    "plt.ylabel('Кол-во выпущенных игр, шт')\n",
    "plt.xlabel('Год');"
   ]
  },
  {
   "cell_type": "markdown",
   "id": "5325c32f",
   "metadata": {},
   "source": [
    "**Вывод по количеству выпустившихся игр в разные годы**\n",
    "\n",
    "По барплоту видно, что с каждым годом количество выпустившихся игр в целом увеличивается, если не выделять отдельные года и не рассматривать единичные случаи. Также необходимо заметить, что данные за весь период нам не нужны, так как чем дальше от текущей даты, тем ниже показатели и они не отражают реальной картины, поэтому на эти годы ориентироваться не стоит. Исходя из этого, было принято решение анализировать только наиболее актульные года. За актуальный период было принято взять промежуток, не позднее 2010 года. "
   ]
  },
  {
   "cell_type": "code",
   "execution_count": 25,
   "id": "b7416e65",
   "metadata": {},
   "outputs": [],
   "source": [
    "# Срезаем те года, которые совсем не актуальны для нашего анализа\n",
    "df_actual = df[df['year_of_release'] >= 2010]"
   ]
  },
  {
   "cell_type": "code",
   "execution_count": 26,
   "id": "53f71f79",
   "metadata": {},
   "outputs": [
    {
     "data": {
      "image/png": "[encoded data removed]",
      "text/plain": [
       "<Figure size 864x360 with 1 Axes>"
      ]
     },
     "metadata": {
      "needs_background": "light"
     },
     "output_type": "display_data"
    }
   ],
   "source": [
    "# Изучаем продажи по платформам\n",
    "(df.groupby('platform')['total_sales'].sum()\n",
    "                                      .sort_values(ascending=False)\n",
    "                                      .plot(kind='bar', figsize=(12,5), grid=True)\n",
    ")\n",
    "plt.xticks(rotation=45)\n",
    "plt.title('Количество проданных копий по платформам')\n",
    "plt.xlabel('Название платформы')\n",
    "plt.ylabel('Количество проданных копий, млн. шт.');"
   ]
  },
  {
   "cell_type": "markdown",
   "id": "3c3bd0c0",
   "metadata": {},
   "source": [
    "**Вывод по продажам платформ**\n",
    "\n",
    "По барплоту видим, что наибольшие суммарные продажи были выявлены у следующих платформ:\n",
    "1. PS2\n",
    "2. X360\n",
    "3. PS3"
   ]
  },
  {
   "cell_type": "code",
   "execution_count": 27,
   "id": "9fa8108f",
   "metadata": {},
   "outputs": [
    {
     "data": {
      "image/png": "[encoded data removed]",
      "text/plain": [
       "<Figure size 1080x360 with 1 Axes>"
      ]
     },
     "metadata": {
      "needs_background": "light"
     },
     "output_type": "display_data"
    }
   ],
   "source": [
    "# Считаем количество игр по годам для топ-3 платформ\n",
    "name_platform = ['PS2', 'X360', 'PS3']\n",
    "(df[df['platform'].isin(name_platform)].pivot_table(index = 'year_of_release', \n",
    "                                                    columns = 'platform', \n",
    "                                                    values = 'name', \n",
    "                                                    aggfunc = 'count')\n",
    "                                       .plot(kind = 'bar', \n",
    "                                             figsize=(15,5), \n",
    "                                             width=0.8)\n",
    ")\n",
    "plt.legend()\n",
    "plt.xlabel('Год')\n",
    "plt.ylabel('Количество игр, шт')\n",
    "plt.title('Количество игр по годам для 3-ёх наиболее прибыльных платформ')\n",
    "plt.xticks(rotation=360);"
   ]
  },
  {
   "cell_type": "markdown",
   "id": "29d0d17d",
   "metadata": {},
   "source": [
    "**Вывод по распределениям**\n",
    "\n",
    "1. Что касается платформы `PS2`\n",
    "2. Изучая платформу `X360`\n",
    "3. Если говорить про платформу `PS3`"
   ]
  },
  {
   "cell_type": "code",
   "execution_count": 28,
   "id": "22d4c722",
   "metadata": {},
   "outputs": [
    {
     "data": {
      "image/png": "[encoded data removed]",
      "text/plain": [
       "<Figure size 864x360 with 1 Axes>"
      ]
     },
     "metadata": {
      "needs_background": "light"
     },
     "output_type": "display_data"
    }
   ],
   "source": [
    "# По актуальным данным изучаем продажи каждой из платформ\n",
    "(df_actual.groupby('platform')['total_sales'].sum()\n",
    "                                             .sort_values(ascending=False)\n",
    "                                             .plot(kind='bar', figsize=(12, 5))\n",
    ")\n",
    "plt.xticks(rotation=360)\n",
    "plt.title('Количество проданных копий по платформам в актуальный период')\n",
    "plt.xlabel('Название платформы')\n",
    "plt.ylabel('Количество проданных копий, млн. шт.');"
   ]
  },
  {
   "cell_type": "markdown",
   "id": "e4efa24f",
   "metadata": {},
   "source": [
    "**Вывод по продажам каждой платформы по актуальным данным**\n",
    "\n",
    "Лидеры по суммарным продажам за период с 2010 по 2016 года: `PS3`, `X360` и `PS4`, а также `3DS`, `Wii` и `XOne`"
   ]
  },
  {
   "cell_type": "code",
   "execution_count": 29,
   "id": "d05c5f3f",
   "metadata": {},
   "outputs": [
    {
     "data": {
      "image/png": "[encoded data removed]",
      "text/plain": [
       "<Figure size 1080x504 with 1 Axes>"
      ]
     },
     "metadata": {
      "needs_background": "light"
     },
     "output_type": "display_data"
    }
   ],
   "source": [
    "# Строим график, который отразит динамику продаж каждой из платформ\n",
    "(df_actual.pivot_table(index='platform', columns='year_of_release', values='total_sales', aggfunc='sum')\n",
    ".T\n",
    ".plot(kind='line', figsize=(15, 7), linewidth=3, grid=True, colormap='Paired')\n",
    ")\n",
    "plt.title('Количество проданных копий по годам каждой платформы')\n",
    "plt.xlabel('Год')\n",
    "plt.ylabel('Количество проданных копий, млн. шт.');"
   ]
  },
  {
   "cell_type": "markdown",
   "id": "3a2f63e4",
   "metadata": {},
   "source": [
    "**Вывод по динамике продаж по каждой платформе**\n",
    "\n",
    "По данному графику можно определённо сказать, что продажи с каждым годом падают, что конечно же логично: когда выходит какой-либо новый продукт, вокруг него начинается ажиотаж, который со временем утихает. \n",
    "\n",
    "Однако стоит заметить, что некоторые платформы имеют срок жизни в несколько раз больше, чем их конкуренты, что говорит о большей вовлечённости пользователей к определённой платформе, которую в течение многих лет покупают, хоть и не так интенсивно, как в первое время после релиза. \n",
    "\n",
    "Исходя из графика, стоит выделить следующие перспективные платформы:\n",
    "1. `PS4`\n",
    "2. `XOne`\n",
    "3. `X360`\n",
    "4. `PS3`\n",
    "\n",
    "Потенциальная перспектива данных платформ определялась на основе того, что они были выпущены в 2013 году и продажи по ним не достигли дна, соответственно, данные платформы еще могут жить и приносить прибыль компании. "
   ]
  },
  {
   "cell_type": "code",
   "execution_count": 30,
   "id": "a82fca7c",
   "metadata": {},
   "outputs": [
    {
     "data": {
      "image/png": "[encoded data removed]",
      "text/plain": [
       "<Figure size 1080x576 with 1 Axes>"
      ]
     },
     "metadata": {
      "needs_background": "light"
     },
     "output_type": "display_data"
    }
   ],
   "source": [
    "# Изучение распределения\n",
    "plt.figure(figsize=(15, 8))\n",
    "sns.boxplot(data = df_actual, y = 'platform', x='total_sales',\n",
    "            order=df_actual.groupby('platform')['total_sales'].median().sort_values(ascending=False).index)\n",
    "plt.xlabel('Количество проданных копий, млн. шт.')\n",
    "plt.ylabel('Название платформы')\n",
    "plt.title('Распределение количества проданных копий по платформам')\n",
    "plt.xlim(-0.01, 2);"
   ]
  },
  {
   "cell_type": "code",
   "execution_count": 31,
   "id": "0d972560",
   "metadata": {},
   "outputs": [],
   "source": [
    "# Функция для изучения влияния отзывов пользователей и критиков на продажи для самых перспективных платформ\n",
    "def scatter_plot(platform):\n",
    "    score = ['critic_score', 'user_score']\n",
    "    labels = [\n",
    "    ['Оценка критиков', f'Зависимость количества проданных копий на платформе {platform} от оценок критиков'],\n",
    "    ['Оценка пользователей', f'Зависимость количества проданных копий на платформе {platform} от оценок пользователей'],\n",
    "             ]\n",
    "    labels_dict = dict(zip(score, labels))\n",
    "    df_actual_platform = df_actual[df_actual['platform'] == platform]\n",
    "    for i in score:\n",
    "        df_actual_platform.plot(x=i, y='total_sales', kind='scatter', figsize=(12, 5))\n",
    "        plt.xlabel(labels_dict[i][0])\n",
    "        plt.ylabel('Количество проданных копий, млн. шт.')\n",
    "        plt.title(labels_dict[i][1])"
   ]
  },
  {
   "cell_type": "code",
   "execution_count": 32,
   "id": "1b755917",
   "metadata": {},
   "outputs": [
    {
     "data": {
      "image/png": "[encoded data removed]",
      "text/plain": [
       "<Figure size 864x360 with 1 Axes>"
      ]
     },
     "metadata": {
      "needs_background": "light"
     },
     "output_type": "display_data"
    },
    {
     "data": {
      "image/png": "[encoded data removed]",
      "text/plain": [
       "<Figure size 864x360 with 1 Axes>"
      ]
     },
     "metadata": {
      "needs_background": "light"
     },
     "output_type": "display_data"
    }
   ],
   "source": [
    "scatter_plot('PS4')"
   ]
  },
  {
   "cell_type": "code",
   "execution_count": 33,
   "id": "9a4795ce",
   "metadata": {},
   "outputs": [
    {
     "data": {
      "text/html": [
       "<div>\n",
       "<style scoped>\n",
       "    .dataframe tbody tr th:only-of-type {\n",
       "        vertical-align: middle;\n",
       "    }\n",
       "\n",
       "    .dataframe tbody tr th {\n",
       "        vertical-align: top;\n",
       "    }\n",
       "\n",
       "    .dataframe thead th {\n",
       "        text-align: right;\n",
       "    }\n",
       "</style>\n",
       "<table border=\"1\" class=\"dataframe\">\n",
       "  <thead>\n",
       "    <tr style=\"text-align: right;\">\n",
       "      <th></th>\n",
       "      <th>total_sales</th>\n",
       "      <th>critic_score</th>\n",
       "      <th>user_score</th>\n",
       "    </tr>\n",
       "  </thead>\n",
       "  <tbody>\n",
       "    <tr>\n",
       "      <th>total_sales</th>\n",
       "      <td>1.000000</td>\n",
       "      <td>0.406568</td>\n",
       "      <td>-0.031957</td>\n",
       "    </tr>\n",
       "    <tr>\n",
       "      <th>critic_score</th>\n",
       "      <td>0.406568</td>\n",
       "      <td>1.000000</td>\n",
       "      <td>0.557654</td>\n",
       "    </tr>\n",
       "    <tr>\n",
       "      <th>user_score</th>\n",
       "      <td>-0.031957</td>\n",
       "      <td>0.557654</td>\n",
       "      <td>1.000000</td>\n",
       "    </tr>\n",
       "  </tbody>\n",
       "</table>\n",
       "</div>"
      ],
      "text/plain": [
       "              total_sales  critic_score  user_score\n",
       "total_sales      1.000000      0.406568   -0.031957\n",
       "critic_score     0.406568      1.000000    0.557654\n",
       "user_score      -0.031957      0.557654    1.000000"
      ]
     },
     "execution_count": 33,
     "metadata": {},
     "output_type": "execute_result"
    }
   ],
   "source": [
    "# Считаем коэффициент корреляции-Пирсона\n",
    "df_actual_ps_4 = df_actual[df_actual['platform'] == 'PS4']\n",
    "df_actual_ps_4[['total_sales', 'critic_score', 'user_score']].corr()"
   ]
  },
  {
   "cell_type": "markdown",
   "id": "9cff9740",
   "metadata": {},
   "source": [
    "**Вывод по влиянию отзывов на продажи**\n",
    "\n",
    "Зависимость слишком маленькая"
   ]
  },
  {
   "cell_type": "code",
   "execution_count": 34,
   "id": "41471b7d",
   "metadata": {},
   "outputs": [
    {
     "data": {
      "image/png": "[encoded data removed]",
      "text/plain": [
       "<Figure size 864x360 with 1 Axes>"
      ]
     },
     "metadata": {
      "needs_background": "light"
     },
     "output_type": "display_data"
    },
    {
     "data": {
      "image/png": "[encoded data removed]",
      "text/plain": [
       "<Figure size 864x360 with 1 Axes>"
      ]
     },
     "metadata": {
      "needs_background": "light"
     },
     "output_type": "display_data"
    }
   ],
   "source": [
    "scatter_plot('XOne')"
   ]
  },
  {
   "cell_type": "code",
   "execution_count": 35,
   "id": "9d23b769",
   "metadata": {},
   "outputs": [
    {
     "data": {
      "text/html": [
       "<div>\n",
       "<style scoped>\n",
       "    .dataframe tbody tr th:only-of-type {\n",
       "        vertical-align: middle;\n",
       "    }\n",
       "\n",
       "    .dataframe tbody tr th {\n",
       "        vertical-align: top;\n",
       "    }\n",
       "\n",
       "    .dataframe thead th {\n",
       "        text-align: right;\n",
       "    }\n",
       "</style>\n",
       "<table border=\"1\" class=\"dataframe\">\n",
       "  <thead>\n",
       "    <tr style=\"text-align: right;\">\n",
       "      <th></th>\n",
       "      <th>total_sales</th>\n",
       "      <th>critic_score</th>\n",
       "      <th>user_score</th>\n",
       "    </tr>\n",
       "  </thead>\n",
       "  <tbody>\n",
       "    <tr>\n",
       "      <th>total_sales</th>\n",
       "      <td>1.000000</td>\n",
       "      <td>0.416998</td>\n",
       "      <td>-0.068925</td>\n",
       "    </tr>\n",
       "    <tr>\n",
       "      <th>critic_score</th>\n",
       "      <td>0.416998</td>\n",
       "      <td>1.000000</td>\n",
       "      <td>0.472462</td>\n",
       "    </tr>\n",
       "    <tr>\n",
       "      <th>user_score</th>\n",
       "      <td>-0.068925</td>\n",
       "      <td>0.472462</td>\n",
       "      <td>1.000000</td>\n",
       "    </tr>\n",
       "  </tbody>\n",
       "</table>\n",
       "</div>"
      ],
      "text/plain": [
       "              total_sales  critic_score  user_score\n",
       "total_sales      1.000000      0.416998   -0.068925\n",
       "critic_score     0.416998      1.000000    0.472462\n",
       "user_score      -0.068925      0.472462    1.000000"
      ]
     },
     "execution_count": 35,
     "metadata": {},
     "output_type": "execute_result"
    }
   ],
   "source": [
    "# Считаем коэффициент корреляции-Пирсона\n",
    "df_actual_xone = df_actual[df_actual['platform'] == 'XOne']\n",
    "df_actual_xone[['total_sales', 'critic_score', 'user_score']].corr()"
   ]
  },
  {
   "cell_type": "markdown",
   "id": "ebb3f53a",
   "metadata": {},
   "source": [
    "**Общий вывод по влиянию отзывов на продажи**\n",
    "\n",
    "Сравнивая по диаграмме рассеяния зависимость между отзывами и продажами по самой популярной платформе и менее полпулярной, то абсолютно точно видно, что корреляция в первом случае выше, чем во втором (так как густота точек во втором случае в разы меньше, чем в первом). \n",
    "\n",
    "Также можно заметить тот факт, что отзывы больше влияют на более популярную платформу, так как из графика видно, что чем больше выручка по платформе, тем больше и оценка критиков, а вот что касается менее популярную платформу, то там всё-таки разброс точек больше похож на случайный. "
   ]
  },
  {
   "cell_type": "code",
   "execution_count": 36,
   "id": "6c3bf05b",
   "metadata": {
    "scrolled": true
   },
   "outputs": [
    {
     "data": {
      "image/png": "[encoded data removed]",
      "text/plain": [
       "<Figure size 864x360 with 1 Axes>"
      ]
     },
     "metadata": {
      "needs_background": "light"
     },
     "output_type": "display_data"
    }
   ],
   "source": [
    "# Визуализируем самые прибыльные жанры\n",
    "(df_actual.groupby('genre')['total_sales'].sum()\n",
    "                                          .sort_values(ascending=False)\n",
    "                                          .head()\n",
    "                                          .plot(kind='bar', figsize=(12, 5), width=0.4)\n",
    ")\n",
    "plt.xticks(rotation=360)\n",
    "plt.xlabel('Название жанра')\n",
    "plt.ylabel('Количество проданных копий, млн. шт.')\n",
    "plt.title('Количество проданных копий по жанрам');"
   ]
  },
  {
   "cell_type": "markdown",
   "id": "6475876c",
   "metadata": {},
   "source": [
    "**Вывод по самым прибыльным жанрам**\n",
    "\n",
    "Что касается самых прибыльных жанров, то на первом месте Action, на втором Shooter и замыкает тройку лидеров жанр Sports. Больше всего люди готовы покупать и играть в экшн-игры, немного меньше покупаются шутеры, а также ещё меньше денег приносят спортивные игры. "
   ]
  },
  {
   "cell_type": "markdown",
   "id": "44552dbf",
   "metadata": {},
   "source": [
    "### 3.1. Составляем портрет пользователя каждого региона"
   ]
  },
  {
   "cell_type": "markdown",
   "id": "88c8e844",
   "metadata": {},
   "source": [
    "#### 3.1.1. Изучение прибыльности платформ"
   ]
  },
  {
   "cell_type": "code",
   "execution_count": 37,
   "id": "910862a5",
   "metadata": {},
   "outputs": [],
   "source": [
    "# Прописываем функцию для построения графиков по объёму продаж в разных регионах\n",
    "def show_bars_for_category_in_region(category_name, category_title):\n",
    "    # Подготавливаем сетку 1х3 для вывода диаграмм\n",
    "    fig_reg, axes_reg = plt.subplots(nrows=1, ncols=3, figsize=(21, 4), sharey=True)\n",
    "    # Задаем расстояние между графиками\n",
    "    plt.subplots_adjust(hspace=0.4)\n",
    "    # Регионы, для котрых строим диаграммы\n",
    "    region_columns = {\n",
    "        'na_sales':['Северная Америка', 0],\n",
    "        'eu_sales':['Европа', 1],\n",
    "        'jp_sales':['Япония', 2],\n",
    "    }\n",
    "    # Считаем объемы продаж игр по платформам и построим стобчатую диаграмму\n",
    "    for k, v in region_columns.items():\n",
    "        (\n",
    "            df.groupby(category_name)\n",
    "                .sum()\n",
    "                .sort_values(by=k, axis='rows', ascending=False)\n",
    "                .head(5)\n",
    "                .plot(\n",
    "                    kind='bar',\n",
    "                    grid=True,\n",
    "                    legend=False,\n",
    "                    #xlabel=category_title,\n",
    "                    #ylabel='Объем продаж',\n",
    "                    title='Количество проданных копий по платформам в регионе: ' + v[0],\n",
    "                    ec='black',\n",
    "                    y=k,\n",
    "                    ax=axes_reg[v[1]],\n",
    "                    width=0.4\n",
    "                )\n",
    "        )\n",
    "        axes_reg[v[1]].set_xlabel(category_title)\n",
    "        axes_reg[v[1]].set_ylabel('Количество проданных копий, млн. шт.')\n",
    "        axes_reg[v[1]].tick_params(labelrotation=360)"
   ]
  },
  {
   "cell_type": "code",
   "execution_count": 38,
   "id": "5d24c2aa",
   "metadata": {},
   "outputs": [
    {
     "data": {
      "image/png": "[encoded data removed]",
      "text/plain": [
       "<Figure size 1512x288 with 3 Axes>"
      ]
     },
     "metadata": {
      "needs_background": "light"
     },
     "output_type": "display_data"
    }
   ],
   "source": [
    "show_bars_for_category_in_region('platform', 'Название платформы')"
   ]
  },
  {
   "cell_type": "markdown",
   "id": "4441c687",
   "metadata": {},
   "source": [
    "**Вывод**\n",
    "\n",
    "Что касается анализируемых регионов, где продавались платформы, то в Северной Америке лучшие продажи показала платформа X360, в Европе PS3, а в Японии - 3DS. Мы видим, что в каждом регионе свои лидеры продаж, это говорит о том, что у людей, проживающих в этих регионах, отличаются и предпочтения к платформам. "
   ]
  },
  {
   "cell_type": "markdown",
   "id": "8e502df1",
   "metadata": {},
   "source": [
    "#### 3.1.2. Изучение прибыльности жанров"
   ]
  },
  {
   "cell_type": "code",
   "execution_count": 39,
   "id": "3b54e57c",
   "metadata": {},
   "outputs": [
    {
     "data": {
      "image/png": "[encoded data removed]",
      "text/plain": [
       "<Figure size 1512x288 with 3 Axes>"
      ]
     },
     "metadata": {
      "needs_background": "light"
     },
     "output_type": "display_data"
    }
   ],
   "source": [
    "show_bars_for_category_in_region('genre', 'Название жанра')"
   ]
  },
  {
   "cell_type": "markdown",
   "id": "847e7efb",
   "metadata": {},
   "source": [
    "**Вывод**\n",
    "\n",
    "Что касается жанров, то в Северной Америке и Европе больше всего продаются экшн-игры. А в Японии преобладают Role-Playing. Стоит заметить, что данный жанр находится далеко от лидирующего месте по продажам в Северной Америке и Европе, что говорит о совершенно разных предпочтениях этих регионов."
   ]
  },
  {
   "cell_type": "markdown",
   "id": "0c25800b",
   "metadata": {},
   "source": [
    "#### 3.1.3. Изучение влияния рейтинга от организации ESRB на продажи"
   ]
  },
  {
   "cell_type": "code",
   "execution_count": 40,
   "id": "6a170abb",
   "metadata": {},
   "outputs": [
    {
     "data": {
      "image/png": "[encoded data removed]",
      "text/plain": [
       "<Figure size 1512x288 with 3 Axes>"
      ]
     },
     "metadata": {
      "needs_background": "light"
     },
     "output_type": "display_data"
    }
   ],
   "source": [
    "show_bars_for_category_in_region('rating', 'Категория рейтинга организации ESRB')"
   ]
  },
  {
   "cell_type": "markdown",
   "id": "21994781",
   "metadata": {},
   "source": [
    "**Вывод**\n",
    "\n",
    "Стоит заметить, что рейтинг влияет на продажи, потому что в зависимости от проставленного рейтинга, меняется и сумма продажи по региону. Наиболее распространённая категория рейтинга в Северной Америке и Европе - М, однако Япония здесь также сумела выделиться. Мы видим, что в данном регионе лидируют пропуски, их подавляющее большинство (намного больше, чем других категорий рейтинга). Это говорит о том, что подход к проставлению рейтинга в этой стране сильно отличается от других регионов и данную методику здесь использовать некорректно. "
   ]
  },
  {
   "cell_type": "markdown",
   "id": "a81e159e",
   "metadata": {},
   "source": [
    "## 4. Проверка гипотез"
   ]
  },
  {
   "cell_type": "markdown",
   "id": "876d2216",
   "metadata": {},
   "source": [
    "#### Гипотеза 1. \n",
    "\n",
    "Cформируем нулевую (H₀) и альтернативную (H₁) гипотезы:\n",
    "- H₀: cредние пользовательские рейтинги платформы Xbox One равны cредним пользовательским рейтингам платформы PC \n",
    "- H₁: cредние пользовательские рейтинги платформы Xbox One не равны cредним пользовательским рейтингам платформы PC \n",
    "\n",
    "Будет проверяться гипотеза о равенстве средних двух генеральных совокупностей. Также необходимо заметить, что в данном случае нам неважно в какую сторону будет измнение, следовательно, альтернативная гипотеза будет двусторонней, потому что есть возможное отклонение и в большую, и в меньшую стороны. "
   ]
  },
  {
   "cell_type": "code",
   "execution_count": 41,
   "id": "9ef02b85",
   "metadata": {},
   "outputs": [
    {
     "name": "stdout",
     "output_type": "stream",
     "text": [
      "p-значение: 0.980998110649032\n",
      "Не получилось отвергнуть нулевую гипотезу\n"
     ]
    }
   ],
   "source": [
    "# Создаём датафрейм по платформе Xbox One\n",
    "df_xbox_one = df_actual[df_actual['platform'] == 'XOne']\n",
    "# Создаём датафрейм по платформе PC\n",
    "df_pc = df_actual[df_actual['platform'] == 'PC']\n",
    "# Игнорируем NaN-ы\n",
    "df_xbox_one = df_xbox_one[df_xbox_one['user_score'].notna()]\n",
    "df_pc = df_pc[df_pc['user_score'].notna()]\n",
    "\n",
    "# Используем статистический метод для проверки гипотезы\n",
    "alpha = .01 # критический уровень статистической значимости\n",
    "\n",
    "results = st.ttest_ind(df_xbox_one['user_score'], df_pc['user_score'])\n",
    "print('p-значение:', results.pvalue)\n",
    "if results.pvalue < alpha:\n",
    "    print(\"Отвергаем нулевую гипотезу\")\n",
    "else:\n",
    "    print(\"Не получилось отвергнуть нулевую гипотезу\")"
   ]
  },
  {
   "cell_type": "markdown",
   "id": "6ed4d8b5",
   "metadata": {},
   "source": [
    "**Вывод по гипотезе 1**\n",
    "\n",
    "Средние пользовательские рейтинги платформы Xbox One статзначимо не отличаются от cредних пользовательских рейтингов платформы PC при критическом уровне значимости 1%, следовательно, принимаем H0."
   ]
  },
  {
   "cell_type": "markdown",
   "id": "bd8d2f8f",
   "metadata": {},
   "source": [
    "#### Гипотеза 2. \n",
    "\n",
    "Сформируем нулевую (H₀) и альтернативную (H₁) гипотезы:\n",
    "- H₀: средние пользовательские рейтинги жанра Action равны средним пользовательским рейтингам жанра Sports  \n",
    "- H₁: средние пользовательские рейтинги жанра Action не равны средним пользовательским рейтингам жанра Sports \n",
    "\n",
    "Здесь также будет проверяться гипотеза о равенстве средних двух генеральных совокупностей. Опять же замечу, что в данном случае нам неважно в какую сторону будет измнение, следовательно, альтернативная гипотеза будет двусторонней, потому что есть возможное отклонение и в большую, и в меньшую стороны. "
   ]
  },
  {
   "cell_type": "code",
   "execution_count": 42,
   "id": "c4bbf643",
   "metadata": {},
   "outputs": [
    {
     "name": "stdout",
     "output_type": "stream",
     "text": [
      "p-значение: 7.839124224330309e-19\n",
      "Отвергаем нулевую гипотезу\n"
     ]
    }
   ],
   "source": [
    "# Создаём датафрейм по жанру Action\n",
    "df_action = df_actual[df_actual['genre'] == 'Action']\n",
    "# Создаём датафрейм по жанру Sports\n",
    "df_sports = df_actual[df_actual['genre'] == 'Sports']\n",
    "# Игнорируем NaN-ы\n",
    "df_action = df_action[df_action['user_score'].notna()]\n",
    "df_sports = df_sports[df_sports['user_score'].notna()]\n",
    "\n",
    "# Используем статистический метод для проверки гипотезы\n",
    "alpha = .01 # критический уровень статистической значимости\n",
    "\n",
    "results = st.ttest_ind(df_action['user_score'], df_sports['user_score'])\n",
    "print('p-значение:', results.pvalue)\n",
    "if results.pvalue < alpha:\n",
    "    print(\"Отвергаем нулевую гипотезу\")\n",
    "else:\n",
    "    print(\"Не получилось отвергнуть нулевую гипотезу\")"
   ]
  },
  {
   "cell_type": "markdown",
   "id": "49cbf1c4",
   "metadata": {},
   "source": [
    "**Вывод по гипотезе 2**\n",
    "\n",
    "Средние пользовательские рейтинги жанра Action имеют статистически значимую разницу со средними пользовательскими рейтингами жанра Sports на статистическом уровне значимости 1%, следовательно, принимаем H1."
   ]
  },
  {
   "cell_type": "markdown",
   "id": "20eda779",
   "metadata": {},
   "source": [
    "## 5. Итоговый вывод"
   ]
  },
  {
   "cell_type": "markdown",
   "id": "e445d9ff",
   "metadata": {},
   "source": [
    "1. Анализируя выпуск игр по всем годам, представленным в датасете, виден значительный рост, начиная с 1993 года. Пик, где выпустилось максимальное количество игр за анализируемый период, прослеживается примерно в 2008 году. Далее, количество выпущенных игр ежегодно уменьшалось и на текущий момент значение выпущенных игр повторяет значение 2001 года. Было принято, в дальнейшем исследование рассматривать только актуальные данные, которые начинаются с 2010 года и заканчиваются текущей датой, так как старые данные лишь вводят в заблуждение и они являются неактуальными.\n",
    "2. Рассматривая актуальный период данных, такие платформы, как PS3, X360, PS4 показали наибольшее количество проданных копий. \n",
    "3. Были выделены следующие перспективные платформы: PS4 (она же и самая перспективная) и XOne по принципу, что они были выпущены достаточно недавно и на настоящий момент показывают наибольшее число проданных игр. Хотя продажи привычно снижаются, дна по проданным копиям они еще не достигли. Также стоит выделить X360 и PS3, которые показали наибольшее количество проданных игр на платформе. И хоть продажи по этим платформам снижались, происходило это достаточно плавно, что говорит об актуальности платформ на протяжение почти всего актуального периода. Возможно, стоит поискать пути реанимирования этих платформ, чтобы вновь привлечь пользователей. \n",
    "4. Изучая распределение продаж по платформам, стоит отметить, что платформы X360, PS3, PS4 и XOne имеют большую скошенность вправо и вытянутый ящик, что говорит о большой количестве проданных копий. \n",
    "5. На самой популярной платформе между отзывами критиков и пользователей прослеживается прямая зависимость с продажами игр: чем выше их оценки, тем больше проданных копий.\n",
    "6. Что касается менее популярной платформы (XOne), то здесь картина аналогична с платформой PS4: также прослеживается зависимость, что чем выше оценки критиков и пользователей, тем больше проданных копий у платформы. \n",
    "7. Наиболее прибыльные жанры: Action, Shooter и Sports. Больше всего люди готовы играть в экшн-игры, немного меньше покупаются шутеры, ещё меньше денег приносят спортивные игры, которые замыкают тройку лидеров. \n",
    "\n",
    "\n",
    "8. `Изучение прибыльности платформ каждого региона`\n",
    "\n",
    "Анализируя платформы `Северной Америки`, наибольшую прибыль показали X360, PS2 и Wii. Наибольший объём проданных игр в Европе показали такие платформы, как PS2, PS3 и X360. Что касается проданных копий в Японии, то там наиболее популярные - это DS, PS и PS2. Стоит также заметить, что в `Северной Америки` игры продаются гораздо лучше и больше других регионов. Меньше всего игры польуются популярностью в Японии.\n",
    "\n",
    "9. `Изучение прибыльности жанров каждого региона`\n",
    "\n",
    "Рассматривая жанры в Северной Америке, наиболее популярные там это Action, Sports и Shooter. Что касается Европы, то там картина абсолютна идентична Северной Америке: наиболее прибыльные жанры - Action, Sports и Shooter. Япония здесь также отличается: на первом месте здесь Role-Playing, что говорит об отличии Японских предпочтений в играх от Европейских или Американских. На втором и третьем местах находятся привычные нам Action и Sports.\n",
    "\n",
    "10. `Изучение влияния рейтинга от организации ESRB на продажи каждого региона`\n",
    "\n",
    "При рассмотрении Северной Америки, наиболее распространённый рейтинг - E \"Для всех\", то есть в данном регионе игры охватывают всех людей, независимо от их возраста. Пропуски в рейтинагх также занимают немалую долю и находятся на 2 месте, а на третьем - категория T \"Подросткам\". Можно предположить, что пропуски образованы, исходя из того, что на ряду с рассматриваемой методикой проставления рейтингов от организации ESRB, использовалась ещё и какая-то другая. Однако, общая картина по Северной Америке получена. \n",
    "Что касается Европы, то на 1-ом месте находится рейтинг E \"Для всех\". Здесь точно так же, как и в Северной Америке - приоритено игры в Европе предназначены для всех возрастных категорий, на втором месте - те же пропуски, что говорит о том, что, возможно, здесь также использовалась ещё какая-то методика проставления рейтингов, а на третье место занимает категория M \"Для взрослых\". Япония же и здесь отличается, видим подавляющее большинство пропусков в категории, что говорит о другом подходе к проставлению рейтинга, который сильно отличается от других регионов, следовательно, методику организации ESRB здесь использовать некорректно.\n",
    "\n",
    "11. `Проверка гипотез`\n",
    "\n",
    "- Средние пользовательские рейтинги платформы Xbox One статзначимо не отличаются от cредних пользовательских рейтингов платформы PC при критическом уровне значимости 1%, следовательно, принимаем H0.\n",
    "- Средние пользовательские рейтинги жанра Action имеют статистически значимую разницу со средними пользовательскими рейтингами жанра Sports на статистическом уровне значимости 1%, следовательно, принимаем H1."
   ]
  }
 ],
 "metadata": {
  "ExecuteTimeLog": [
   {
    "duration": 3,
    "start_time": "2022-06-03T15:44:59.745Z"
   },
   {
    "duration": 3,
    "start_time": "2022-06-03T15:57:50.440Z"
   },
   {
    "duration": 62,
    "start_time": "2022-06-03T17:12:18.572Z"
   },
   {
    "duration": 1650,
    "start_time": "2022-06-03T17:13:01.462Z"
   },
   {
    "duration": 234,
    "start_time": "2022-06-03T17:13:03.114Z"
   },
   {
    "duration": 0,
    "start_time": "2022-06-03T17:13:03.355Z"
   },
   {
    "duration": 0,
    "start_time": "2022-06-03T17:13:03.356Z"
   },
   {
    "duration": 0,
    "start_time": "2022-06-03T17:13:03.357Z"
   },
   {
    "duration": 0,
    "start_time": "2022-06-03T17:13:03.358Z"
   },
   {
    "duration": 0,
    "start_time": "2022-06-03T17:13:03.365Z"
   },
   {
    "duration": 0,
    "start_time": "2022-06-03T17:13:03.366Z"
   },
   {
    "duration": 0,
    "start_time": "2022-06-03T17:13:03.369Z"
   },
   {
    "duration": 0,
    "start_time": "2022-06-03T17:13:03.370Z"
   },
   {
    "duration": 0,
    "start_time": "2022-06-03T17:13:03.370Z"
   },
   {
    "duration": 0,
    "start_time": "2022-06-03T17:13:03.375Z"
   },
   {
    "duration": 0,
    "start_time": "2022-06-03T17:13:03.376Z"
   },
   {
    "duration": 0,
    "start_time": "2022-06-03T17:13:03.381Z"
   },
   {
    "duration": 0,
    "start_time": "2022-06-03T17:13:03.382Z"
   },
   {
    "duration": 0,
    "start_time": "2022-06-03T17:13:03.390Z"
   },
   {
    "duration": 0,
    "start_time": "2022-06-03T17:13:03.391Z"
   },
   {
    "duration": 0,
    "start_time": "2022-06-03T17:13:03.396Z"
   },
   {
    "duration": 0,
    "start_time": "2022-06-03T17:13:03.398Z"
   },
   {
    "duration": 0,
    "start_time": "2022-06-03T17:13:03.399Z"
   },
   {
    "duration": 0,
    "start_time": "2022-06-03T17:13:03.401Z"
   },
   {
    "duration": 0,
    "start_time": "2022-06-03T17:13:03.402Z"
   },
   {
    "duration": 0,
    "start_time": "2022-06-03T17:13:03.404Z"
   },
   {
    "duration": 0,
    "start_time": "2022-06-03T17:13:03.405Z"
   },
   {
    "duration": 0,
    "start_time": "2022-06-03T17:13:03.407Z"
   },
   {
    "duration": 0,
    "start_time": "2022-06-03T17:13:03.408Z"
   },
   {
    "duration": 0,
    "start_time": "2022-06-03T17:13:03.409Z"
   },
   {
    "duration": 0,
    "start_time": "2022-06-03T17:13:03.434Z"
   },
   {
    "duration": 0,
    "start_time": "2022-06-03T17:13:03.436Z"
   },
   {
    "duration": 0,
    "start_time": "2022-06-03T17:13:03.437Z"
   },
   {
    "duration": 0,
    "start_time": "2022-06-03T17:13:03.438Z"
   },
   {
    "duration": 0,
    "start_time": "2022-06-03T17:13:03.439Z"
   },
   {
    "duration": 0,
    "start_time": "2022-06-03T17:13:03.440Z"
   },
   {
    "duration": 0,
    "start_time": "2022-06-03T17:13:03.441Z"
   },
   {
    "duration": 0,
    "start_time": "2022-06-03T17:13:03.444Z"
   },
   {
    "duration": 0,
    "start_time": "2022-06-03T17:13:03.445Z"
   },
   {
    "duration": 0,
    "start_time": "2022-06-03T17:13:03.447Z"
   },
   {
    "duration": 0,
    "start_time": "2022-06-03T17:13:03.448Z"
   },
   {
    "duration": 0,
    "start_time": "2022-06-03T17:13:03.449Z"
   },
   {
    "duration": 0,
    "start_time": "2022-06-03T17:13:03.450Z"
   },
   {
    "duration": 0,
    "start_time": "2022-06-03T17:13:03.451Z"
   },
   {
    "duration": 0,
    "start_time": "2022-06-03T17:13:03.454Z"
   },
   {
    "duration": 0,
    "start_time": "2022-06-03T17:13:03.455Z"
   },
   {
    "duration": 0,
    "start_time": "2022-06-03T17:13:03.456Z"
   },
   {
    "duration": 0,
    "start_time": "2022-06-03T17:13:03.457Z"
   },
   {
    "duration": 0,
    "start_time": "2022-06-03T17:13:03.459Z"
   },
   {
    "duration": 0,
    "start_time": "2022-06-03T17:13:03.460Z"
   },
   {
    "duration": 0,
    "start_time": "2022-06-03T17:13:03.463Z"
   },
   {
    "duration": 0,
    "start_time": "2022-06-03T17:13:03.464Z"
   },
   {
    "duration": 299,
    "start_time": "2022-06-03T17:14:32.296Z"
   },
   {
    "duration": 1270,
    "start_time": "2022-06-03T17:14:39.370Z"
   },
   {
    "duration": 97,
    "start_time": "2022-06-03T17:14:40.642Z"
   },
   {
    "duration": 22,
    "start_time": "2022-06-03T17:14:40.743Z"
   },
   {
    "duration": 18,
    "start_time": "2022-06-03T17:14:40.766Z"
   },
   {
    "duration": 5,
    "start_time": "2022-06-03T17:14:40.786Z"
   },
   {
    "duration": 12,
    "start_time": "2022-06-03T17:14:40.793Z"
   },
   {
    "duration": 13,
    "start_time": "2022-06-03T17:14:40.806Z"
   },
   {
    "duration": 69,
    "start_time": "2022-06-03T17:14:40.820Z"
   },
   {
    "duration": 16,
    "start_time": "2022-06-03T17:14:40.891Z"
   },
   {
    "duration": 37,
    "start_time": "2022-06-03T17:14:40.909Z"
   },
   {
    "duration": 22,
    "start_time": "2022-06-03T17:14:40.951Z"
   },
   {
    "duration": 21,
    "start_time": "2022-06-03T17:14:40.974Z"
   },
   {
    "duration": 6,
    "start_time": "2022-06-03T17:14:40.997Z"
   },
   {
    "duration": 9,
    "start_time": "2022-06-03T17:14:41.007Z"
   },
   {
    "duration": 59,
    "start_time": "2022-06-03T17:14:41.018Z"
   },
   {
    "duration": 10,
    "start_time": "2022-06-03T17:14:41.079Z"
   },
   {
    "duration": 5,
    "start_time": "2022-06-03T17:14:41.091Z"
   },
   {
    "duration": 10,
    "start_time": "2022-06-03T17:14:41.097Z"
   },
   {
    "duration": 3,
    "start_time": "2022-06-03T17:14:41.109Z"
   },
   {
    "duration": 15,
    "start_time": "2022-06-03T17:14:41.114Z"
   },
   {
    "duration": 47,
    "start_time": "2022-06-03T17:14:41.133Z"
   },
   {
    "duration": 8,
    "start_time": "2022-06-03T17:14:41.182Z"
   },
   {
    "duration": 18,
    "start_time": "2022-06-03T17:14:41.191Z"
   },
   {
    "duration": 473,
    "start_time": "2022-06-03T17:14:41.210Z"
   },
   {
    "duration": 6,
    "start_time": "2022-06-03T17:14:41.685Z"
   },
   {
    "duration": 189,
    "start_time": "2022-06-03T17:14:41.693Z"
   },
   {
    "duration": 307,
    "start_time": "2022-06-03T17:14:41.884Z"
   },
   {
    "duration": 909,
    "start_time": "2022-06-03T17:14:42.193Z"
   },
   {
    "duration": 250,
    "start_time": "2022-06-03T17:14:43.104Z"
   },
   {
    "duration": 527,
    "start_time": "2022-06-03T17:14:43.360Z"
   },
   {
    "duration": 4,
    "start_time": "2022-06-03T17:14:43.894Z"
   },
   {
    "duration": 1411,
    "start_time": "2022-06-03T17:14:43.900Z"
   },
   {
    "duration": 469,
    "start_time": "2022-06-03T17:14:45.315Z"
   },
   {
    "duration": 291,
    "start_time": "2022-06-03T17:14:45.786Z"
   },
   {
    "duration": 9,
    "start_time": "2022-06-03T17:14:46.078Z"
   },
   {
    "duration": 2902,
    "start_time": "2022-06-03T17:14:46.089Z"
   },
   {
    "duration": 164,
    "start_time": "2022-06-03T17:14:48.993Z"
   },
   {
    "duration": 138,
    "start_time": "2022-06-03T17:14:49.160Z"
   },
   {
    "duration": 158,
    "start_time": "2022-06-03T17:14:49.299Z"
   },
   {
    "duration": 131,
    "start_time": "2022-06-03T17:14:49.459Z"
   },
   {
    "duration": 2,
    "start_time": "2022-06-03T17:14:49.594Z"
   },
   {
    "duration": 134,
    "start_time": "2022-06-03T17:14:49.598Z"
   },
   {
    "duration": 122,
    "start_time": "2022-06-03T17:14:49.734Z"
   },
   {
    "duration": 126,
    "start_time": "2022-06-03T17:14:49.858Z"
   },
   {
    "duration": 305,
    "start_time": "2022-06-03T17:14:49.986Z"
   },
   {
    "duration": 138,
    "start_time": "2022-06-03T17:14:50.293Z"
   },
   {
    "duration": 133,
    "start_time": "2022-06-03T17:14:50.434Z"
   },
   {
    "duration": 12,
    "start_time": "2022-06-03T17:14:50.568Z"
   },
   {
    "duration": 11,
    "start_time": "2022-06-03T17:14:50.581Z"
   },
   {
    "duration": 286,
    "start_time": "2022-06-03T17:18:13.666Z"
   },
   {
    "duration": 356,
    "start_time": "2022-06-03T17:18:22.311Z"
   },
   {
    "duration": 512,
    "start_time": "2022-06-03T17:18:28.992Z"
   },
   {
    "duration": 384,
    "start_time": "2022-06-03T17:18:50.202Z"
   },
   {
    "duration": 555,
    "start_time": "2022-06-03T17:19:21.418Z"
   },
   {
    "duration": 345,
    "start_time": "2022-06-03T17:19:35.290Z"
   },
   {
    "duration": 514,
    "start_time": "2022-06-03T17:19:59.263Z"
   },
   {
    "duration": 423,
    "start_time": "2022-06-03T17:20:19.505Z"
   },
   {
    "duration": 366,
    "start_time": "2022-06-03T17:20:40.155Z"
   },
   {
    "duration": 8,
    "start_time": "2022-06-03T17:21:04.526Z"
   },
   {
    "duration": 197,
    "start_time": "2022-06-03T17:22:22.703Z"
   },
   {
    "duration": 276,
    "start_time": "2022-06-03T17:23:00.688Z"
   },
   {
    "duration": 3,
    "start_time": "2022-06-03T17:24:04.597Z"
   },
   {
    "duration": 1214,
    "start_time": "2022-06-03T17:25:07.876Z"
   },
   {
    "duration": 83,
    "start_time": "2022-06-03T17:25:09.092Z"
   },
   {
    "duration": 14,
    "start_time": "2022-06-03T17:25:09.176Z"
   },
   {
    "duration": 21,
    "start_time": "2022-06-03T17:25:09.192Z"
   },
   {
    "duration": 68,
    "start_time": "2022-06-03T17:25:09.215Z"
   },
   {
    "duration": 24,
    "start_time": "2022-06-03T17:25:09.284Z"
   },
   {
    "duration": 67,
    "start_time": "2022-06-03T17:25:09.311Z"
   },
   {
    "duration": 29,
    "start_time": "2022-06-03T17:25:09.379Z"
   },
   {
    "duration": 45,
    "start_time": "2022-06-03T17:25:09.410Z"
   },
   {
    "duration": 32,
    "start_time": "2022-06-03T17:25:09.459Z"
   },
   {
    "duration": 19,
    "start_time": "2022-06-03T17:25:09.492Z"
   },
   {
    "duration": 74,
    "start_time": "2022-06-03T17:25:09.513Z"
   },
   {
    "duration": 14,
    "start_time": "2022-06-03T17:25:09.588Z"
   },
   {
    "duration": 18,
    "start_time": "2022-06-03T17:25:09.604Z"
   },
   {
    "duration": 57,
    "start_time": "2022-06-03T17:25:09.623Z"
   },
   {
    "duration": 41,
    "start_time": "2022-06-03T17:25:09.682Z"
   },
   {
    "duration": 58,
    "start_time": "2022-06-03T17:25:09.725Z"
   },
   {
    "duration": 46,
    "start_time": "2022-06-03T17:25:09.785Z"
   },
   {
    "duration": 39,
    "start_time": "2022-06-03T17:25:09.838Z"
   },
   {
    "duration": 13,
    "start_time": "2022-06-03T17:25:09.879Z"
   },
   {
    "duration": 9,
    "start_time": "2022-06-03T17:25:09.893Z"
   },
   {
    "duration": 15,
    "start_time": "2022-06-03T17:25:09.903Z"
   },
   {
    "duration": 85,
    "start_time": "2022-06-03T17:25:09.920Z"
   },
   {
    "duration": 497,
    "start_time": "2022-06-03T17:25:10.007Z"
   },
   {
    "duration": 25,
    "start_time": "2022-06-03T17:25:10.505Z"
   },
   {
    "duration": 148,
    "start_time": "2022-06-03T17:25:10.534Z"
   },
   {
    "duration": 282,
    "start_time": "2022-06-03T17:25:10.684Z"
   },
   {
    "duration": 771,
    "start_time": "2022-06-03T17:25:10.970Z"
   },
   {
    "duration": 160,
    "start_time": "2022-06-03T17:25:11.750Z"
   },
   {
    "duration": 499,
    "start_time": "2022-06-03T17:25:11.912Z"
   },
   {
    "duration": 3,
    "start_time": "2022-06-03T17:25:12.413Z"
   },
   {
    "duration": 1340,
    "start_time": "2022-06-03T17:25:12.417Z"
   },
   {
    "duration": 7,
    "start_time": "2022-06-03T17:25:13.759Z"
   },
   {
    "duration": 298,
    "start_time": "2022-06-03T17:25:13.767Z"
   },
   {
    "duration": 19,
    "start_time": "2022-06-03T17:25:14.067Z"
   },
   {
    "duration": 3312,
    "start_time": "2022-06-03T17:25:14.090Z"
   },
   {
    "duration": 149,
    "start_time": "2022-06-03T17:25:17.404Z"
   },
   {
    "duration": 152,
    "start_time": "2022-06-03T17:25:17.561Z"
   },
   {
    "duration": 166,
    "start_time": "2022-06-03T17:25:17.715Z"
   },
   {
    "duration": 121,
    "start_time": "2022-06-03T17:25:17.883Z"
   },
   {
    "duration": 3,
    "start_time": "2022-06-03T17:25:18.006Z"
   },
   {
    "duration": 189,
    "start_time": "2022-06-03T17:25:18.011Z"
   },
   {
    "duration": 170,
    "start_time": "2022-06-03T17:25:18.202Z"
   },
   {
    "duration": 168,
    "start_time": "2022-06-03T17:25:18.378Z"
   },
   {
    "duration": 150,
    "start_time": "2022-06-03T17:25:18.547Z"
   },
   {
    "duration": 143,
    "start_time": "2022-06-03T17:25:18.699Z"
   },
   {
    "duration": 152,
    "start_time": "2022-06-03T17:25:18.848Z"
   },
   {
    "duration": 12,
    "start_time": "2022-06-03T17:25:19.002Z"
   },
   {
    "duration": 63,
    "start_time": "2022-06-03T17:25:19.015Z"
   },
   {
    "duration": 1456,
    "start_time": "2022-06-06T07:41:24.996Z"
   },
   {
    "duration": 115,
    "start_time": "2022-06-06T07:41:26.454Z"
   },
   {
    "duration": 16,
    "start_time": "2022-06-06T07:41:26.571Z"
   },
   {
    "duration": 5,
    "start_time": "2022-06-06T07:41:26.589Z"
   },
   {
    "duration": 10,
    "start_time": "2022-06-06T07:41:26.596Z"
   },
   {
    "duration": 16,
    "start_time": "2022-06-06T07:41:26.608Z"
   },
   {
    "duration": 13,
    "start_time": "2022-06-06T07:41:26.626Z"
   },
   {
    "duration": 13,
    "start_time": "2022-06-06T07:41:26.640Z"
   },
   {
    "duration": 16,
    "start_time": "2022-06-06T07:41:26.655Z"
   },
   {
    "duration": 17,
    "start_time": "2022-06-06T07:41:26.672Z"
   },
   {
    "duration": 37,
    "start_time": "2022-06-06T07:41:26.691Z"
   },
   {
    "duration": 17,
    "start_time": "2022-06-06T07:41:26.730Z"
   },
   {
    "duration": 6,
    "start_time": "2022-06-06T07:41:26.748Z"
   },
   {
    "duration": 10,
    "start_time": "2022-06-06T07:41:26.757Z"
   },
   {
    "duration": 12,
    "start_time": "2022-06-06T07:41:26.770Z"
   },
   {
    "duration": 15,
    "start_time": "2022-06-06T07:41:26.784Z"
   },
   {
    "duration": 25,
    "start_time": "2022-06-06T07:41:26.801Z"
   },
   {
    "duration": 2,
    "start_time": "2022-06-06T07:41:26.828Z"
   },
   {
    "duration": 19,
    "start_time": "2022-06-06T07:41:26.833Z"
   },
   {
    "duration": 18,
    "start_time": "2022-06-06T07:41:26.854Z"
   },
   {
    "duration": 5,
    "start_time": "2022-06-06T07:41:26.874Z"
   },
   {
    "duration": 11,
    "start_time": "2022-06-06T07:41:26.881Z"
   },
   {
    "duration": 21,
    "start_time": "2022-06-06T07:41:26.893Z"
   },
   {
    "duration": 359,
    "start_time": "2022-06-06T07:41:33.949Z"
   },
   {
    "duration": 430,
    "start_time": "2022-06-06T07:41:41.372Z"
   },
   {
    "duration": 167,
    "start_time": "2022-06-06T07:41:50.302Z"
   },
   {
    "duration": 259,
    "start_time": "2022-06-06T07:44:17.597Z"
   },
   {
    "duration": 272,
    "start_time": "2022-06-06T07:44:30.254Z"
   },
   {
    "duration": 271,
    "start_time": "2022-06-06T07:44:41.517Z"
   },
   {
    "duration": 198,
    "start_time": "2022-06-06T07:44:53.392Z"
   },
   {
    "duration": 173,
    "start_time": "2022-06-06T07:45:04.634Z"
   },
   {
    "duration": 166,
    "start_time": "2022-06-06T07:47:14.800Z"
   },
   {
    "duration": 126,
    "start_time": "2022-06-06T07:47:19.288Z"
   },
   {
    "duration": 114,
    "start_time": "2022-06-06T07:47:36.421Z"
   },
   {
    "duration": 170,
    "start_time": "2022-06-06T07:47:40.009Z"
   },
   {
    "duration": 3,
    "start_time": "2022-06-06T07:59:55.524Z"
   },
   {
    "duration": 105,
    "start_time": "2022-06-06T07:59:55.529Z"
   },
   {
    "duration": 14,
    "start_time": "2022-06-06T07:59:55.636Z"
   },
   {
    "duration": 14,
    "start_time": "2022-06-06T07:59:55.651Z"
   },
   {
    "duration": 6,
    "start_time": "2022-06-06T07:59:55.667Z"
   },
   {
    "duration": 12,
    "start_time": "2022-06-06T07:59:55.674Z"
   },
   {
    "duration": 13,
    "start_time": "2022-06-06T07:59:55.687Z"
   },
   {
    "duration": 30,
    "start_time": "2022-06-06T07:59:55.701Z"
   },
   {
    "duration": 17,
    "start_time": "2022-06-06T07:59:55.732Z"
   },
   {
    "duration": 24,
    "start_time": "2022-06-06T07:59:55.751Z"
   },
   {
    "duration": 17,
    "start_time": "2022-06-06T07:59:55.777Z"
   },
   {
    "duration": 32,
    "start_time": "2022-06-06T07:59:55.795Z"
   },
   {
    "duration": 7,
    "start_time": "2022-06-06T07:59:55.829Z"
   },
   {
    "duration": 12,
    "start_time": "2022-06-06T07:59:55.839Z"
   },
   {
    "duration": 14,
    "start_time": "2022-06-06T07:59:55.853Z"
   },
   {
    "duration": 18,
    "start_time": "2022-06-06T07:59:55.869Z"
   },
   {
    "duration": 56,
    "start_time": "2022-06-06T07:59:55.889Z"
   },
   {
    "duration": 8,
    "start_time": "2022-06-06T07:59:55.947Z"
   },
   {
    "duration": 8,
    "start_time": "2022-06-06T07:59:55.957Z"
   },
   {
    "duration": 16,
    "start_time": "2022-06-06T07:59:55.967Z"
   },
   {
    "duration": 4,
    "start_time": "2022-06-06T07:59:55.985Z"
   },
   {
    "duration": 10,
    "start_time": "2022-06-06T07:59:55.991Z"
   },
   {
    "duration": 17,
    "start_time": "2022-06-06T07:59:56.003Z"
   },
   {
    "duration": 165,
    "start_time": "2022-06-06T07:59:56.022Z"
   },
   {
    "duration": 5,
    "start_time": "2022-06-06T07:59:56.189Z"
   },
   {
    "duration": 219,
    "start_time": "2022-06-06T07:59:58.433Z"
   },
   {
    "duration": 120,
    "start_time": "2022-06-06T08:00:23.138Z"
   },
   {
    "duration": 140,
    "start_time": "2022-06-06T08:00:45.280Z"
   },
   {
    "duration": 157,
    "start_time": "2022-06-06T08:01:22.596Z"
   },
   {
    "duration": 158,
    "start_time": "2022-06-06T08:01:40.370Z"
   },
   {
    "duration": 127,
    "start_time": "2022-06-06T08:01:49.999Z"
   },
   {
    "duration": 153,
    "start_time": "2022-06-06T08:02:49.158Z"
   },
   {
    "duration": 7,
    "start_time": "2022-06-06T08:04:35.297Z"
   },
   {
    "duration": 34,
    "start_time": "2022-06-06T08:04:40.340Z"
   },
   {
    "duration": 148,
    "start_time": "2022-06-06T08:04:55.966Z"
   },
   {
    "duration": 132,
    "start_time": "2022-06-06T08:05:50.943Z"
   },
   {
    "duration": 125,
    "start_time": "2022-06-06T08:05:56.702Z"
   },
   {
    "duration": 355,
    "start_time": "2022-06-06T08:07:02.706Z"
   },
   {
    "duration": 318,
    "start_time": "2022-06-06T08:07:06.523Z"
   },
   {
    "duration": 26,
    "start_time": "2022-06-06T08:08:56.592Z"
   },
   {
    "duration": 1431,
    "start_time": "2022-06-09T06:36:15.091Z"
   },
   {
    "duration": 129,
    "start_time": "2022-06-09T06:36:16.525Z"
   },
   {
    "duration": 16,
    "start_time": "2022-06-09T06:36:16.656Z"
   },
   {
    "duration": 5,
    "start_time": "2022-06-09T06:36:16.674Z"
   },
   {
    "duration": 6,
    "start_time": "2022-06-09T06:36:16.681Z"
   },
   {
    "duration": 7,
    "start_time": "2022-06-09T06:36:16.689Z"
   },
   {
    "duration": 37,
    "start_time": "2022-06-09T06:36:16.698Z"
   },
   {
    "duration": 20,
    "start_time": "2022-06-09T06:36:16.737Z"
   },
   {
    "duration": 19,
    "start_time": "2022-06-09T06:36:16.759Z"
   },
   {
    "duration": 34,
    "start_time": "2022-06-09T06:36:16.781Z"
   },
   {
    "duration": 29,
    "start_time": "2022-06-09T06:36:16.817Z"
   },
   {
    "duration": 16,
    "start_time": "2022-06-09T06:36:16.848Z"
   },
   {
    "duration": 7,
    "start_time": "2022-06-09T06:36:16.866Z"
   },
   {
    "duration": 12,
    "start_time": "2022-06-09T06:36:16.875Z"
   },
   {
    "duration": 10,
    "start_time": "2022-06-09T06:36:16.889Z"
   },
   {
    "duration": 10,
    "start_time": "2022-06-09T06:36:16.926Z"
   },
   {
    "duration": 11,
    "start_time": "2022-06-09T06:36:16.938Z"
   },
   {
    "duration": 7,
    "start_time": "2022-06-09T06:36:16.950Z"
   },
   {
    "duration": 8,
    "start_time": "2022-06-09T06:36:16.958Z"
   },
   {
    "duration": 12,
    "start_time": "2022-06-09T06:36:16.968Z"
   },
   {
    "duration": 14,
    "start_time": "2022-06-09T06:36:16.982Z"
   },
   {
    "duration": 9,
    "start_time": "2022-06-09T06:36:16.998Z"
   },
   {
    "duration": 31,
    "start_time": "2022-06-09T06:36:17.009Z"
   },
   {
    "duration": 193,
    "start_time": "2022-06-09T06:36:17.042Z"
   },
   {
    "duration": 6,
    "start_time": "2022-06-09T06:36:17.237Z"
   },
   {
    "duration": 178,
    "start_time": "2022-06-09T06:36:17.245Z"
   },
   {
    "duration": 281,
    "start_time": "2022-06-09T06:36:17.426Z"
   },
   {
    "duration": 3699,
    "start_time": "2022-06-09T06:37:44.403Z"
   },
   {
    "duration": 3090,
    "start_time": "2022-06-09T06:38:02.205Z"
   },
   {
    "duration": 6,
    "start_time": "2022-06-09T06:38:26.461Z"
   },
   {
    "duration": 23,
    "start_time": "2022-06-09T06:38:32.984Z"
   },
   {
    "duration": 868,
    "start_time": "2022-06-09T06:38:58.322Z"
   },
   {
    "duration": 33,
    "start_time": "2022-06-09T06:39:17.380Z"
   },
   {
    "duration": 249,
    "start_time": "2022-06-09T06:40:21.381Z"
   },
   {
    "duration": 4,
    "start_time": "2022-06-09T06:44:24.503Z"
   },
   {
    "duration": 137,
    "start_time": "2022-06-09T06:44:24.511Z"
   },
   {
    "duration": 20,
    "start_time": "2022-06-09T06:44:24.650Z"
   },
   {
    "duration": 25,
    "start_time": "2022-06-09T06:44:24.672Z"
   },
   {
    "duration": 9,
    "start_time": "2022-06-09T06:44:24.699Z"
   },
   {
    "duration": 36,
    "start_time": "2022-06-09T06:44:24.710Z"
   },
   {
    "duration": 23,
    "start_time": "2022-06-09T06:44:24.748Z"
   },
   {
    "duration": 15,
    "start_time": "2022-06-09T06:44:24.773Z"
   },
   {
    "duration": 30,
    "start_time": "2022-06-09T06:44:24.790Z"
   },
   {
    "duration": 32,
    "start_time": "2022-06-09T06:44:24.822Z"
   },
   {
    "duration": 14,
    "start_time": "2022-06-09T06:44:24.857Z"
   },
   {
    "duration": 17,
    "start_time": "2022-06-09T06:44:24.873Z"
   },
   {
    "duration": 17,
    "start_time": "2022-06-09T06:44:24.893Z"
   },
   {
    "duration": 11,
    "start_time": "2022-06-09T06:44:24.911Z"
   },
   {
    "duration": 26,
    "start_time": "2022-06-09T06:44:24.925Z"
   },
   {
    "duration": 10,
    "start_time": "2022-06-09T06:44:24.952Z"
   },
   {
    "duration": 4,
    "start_time": "2022-06-09T06:44:24.963Z"
   },
   {
    "duration": 14,
    "start_time": "2022-06-09T06:44:24.968Z"
   },
   {
    "duration": 21,
    "start_time": "2022-06-09T06:44:24.984Z"
   },
   {
    "duration": 24,
    "start_time": "2022-06-09T06:44:25.007Z"
   },
   {
    "duration": 19,
    "start_time": "2022-06-09T06:44:25.033Z"
   },
   {
    "duration": 9,
    "start_time": "2022-06-09T06:44:25.053Z"
   },
   {
    "duration": 20,
    "start_time": "2022-06-09T06:44:25.063Z"
   },
   {
    "duration": 178,
    "start_time": "2022-06-09T06:44:25.085Z"
   },
   {
    "duration": 5,
    "start_time": "2022-06-09T06:44:25.264Z"
   },
   {
    "duration": 147,
    "start_time": "2022-06-09T06:44:25.271Z"
   },
   {
    "duration": 374,
    "start_time": "2022-06-09T06:44:25.420Z"
   },
   {
    "duration": 3259,
    "start_time": "2022-06-09T06:44:25.795Z"
   },
   {
    "duration": 845,
    "start_time": "2022-06-09T06:44:29.057Z"
   },
   {
    "duration": 168,
    "start_time": "2022-06-09T06:44:29.903Z"
   },
   {
    "duration": 385,
    "start_time": "2022-06-09T06:45:18.188Z"
   },
   {
    "duration": 255,
    "start_time": "2022-06-09T06:47:58.882Z"
   },
   {
    "duration": 32,
    "start_time": "2022-06-09T06:49:41.199Z"
   },
   {
    "duration": 322,
    "start_time": "2022-06-09T06:51:58.333Z"
   },
   {
    "duration": 166,
    "start_time": "2022-06-09T06:54:19.688Z"
   },
   {
    "duration": 447,
    "start_time": "2022-06-09T06:54:31.683Z"
   },
   {
    "duration": 6,
    "start_time": "2022-06-09T06:54:56.046Z"
   },
   {
    "duration": 308,
    "start_time": "2022-06-09T06:55:02.661Z"
   },
   {
    "duration": 339,
    "start_time": "2022-06-09T06:55:13.395Z"
   },
   {
    "duration": 389,
    "start_time": "2022-06-09T06:55:24.353Z"
   },
   {
    "duration": 311,
    "start_time": "2022-06-09T06:55:33.690Z"
   },
   {
    "duration": 302,
    "start_time": "2022-06-09T06:55:42.919Z"
   },
   {
    "duration": 305,
    "start_time": "2022-06-09T06:55:56.912Z"
   },
   {
    "duration": 344,
    "start_time": "2022-06-09T06:56:17.265Z"
   },
   {
    "duration": 157,
    "start_time": "2022-06-09T06:56:51.721Z"
   },
   {
    "duration": 313,
    "start_time": "2022-06-09T06:56:59.958Z"
   },
   {
    "duration": 156,
    "start_time": "2022-06-09T06:58:19.389Z"
   },
   {
    "duration": 444,
    "start_time": "2022-06-09T06:58:28.373Z"
   },
   {
    "duration": 113,
    "start_time": "2022-06-09T06:59:57.307Z"
   },
   {
    "duration": 9,
    "start_time": "2022-06-09T07:06:46.413Z"
   },
   {
    "duration": 578,
    "start_time": "2022-06-09T07:07:00.748Z"
   },
   {
    "duration": 534,
    "start_time": "2022-06-09T07:14:43.032Z"
   },
   {
    "duration": 595,
    "start_time": "2022-06-09T07:15:18.037Z"
   },
   {
    "duration": 589,
    "start_time": "2022-06-09T07:15:34.073Z"
   },
   {
    "duration": 555,
    "start_time": "2022-06-09T07:15:51.736Z"
   },
   {
    "duration": 231,
    "start_time": "2022-06-09T07:16:27.247Z"
   },
   {
    "duration": 373,
    "start_time": "2022-06-09T07:16:41.699Z"
   },
   {
    "duration": 442,
    "start_time": "2022-06-09T07:16:50.593Z"
   },
   {
    "duration": 811,
    "start_time": "2022-06-09T07:17:17.306Z"
   },
   {
    "duration": 1567,
    "start_time": "2022-06-09T07:22:34.943Z"
   },
   {
    "duration": 433,
    "start_time": "2022-06-09T07:22:42.430Z"
   },
   {
    "duration": 663,
    "start_time": "2022-06-09T07:22:49.219Z"
   },
   {
    "duration": 719,
    "start_time": "2022-06-09T07:23:03.923Z"
   },
   {
    "duration": 665,
    "start_time": "2022-06-09T07:23:08.665Z"
   },
   {
    "duration": 25,
    "start_time": "2022-06-09T07:24:52.001Z"
   },
   {
    "duration": 19,
    "start_time": "2022-06-09T07:24:58.240Z"
   },
   {
    "duration": 596,
    "start_time": "2022-06-09T07:25:58.630Z"
   },
   {
    "duration": 13,
    "start_time": "2022-06-09T07:26:14.536Z"
   },
   {
    "duration": 403,
    "start_time": "2022-06-09T07:26:18.642Z"
   },
   {
    "duration": 577,
    "start_time": "2022-06-09T07:26:24.416Z"
   },
   {
    "duration": 6235,
    "start_time": "2022-06-09T07:29:23.375Z"
   },
   {
    "duration": 1245,
    "start_time": "2022-06-09T07:32:03.452Z"
   },
   {
    "duration": 415,
    "start_time": "2022-06-09T07:32:37.567Z"
   },
   {
    "duration": 561,
    "start_time": "2022-06-09T07:32:58.804Z"
   },
   {
    "duration": 20,
    "start_time": "2022-06-09T07:33:41.280Z"
   },
   {
    "duration": 31,
    "start_time": "2022-06-09T07:33:46.366Z"
   },
   {
    "duration": 23,
    "start_time": "2022-06-09T07:33:59.296Z"
   },
   {
    "duration": 26,
    "start_time": "2022-06-09T07:34:05.396Z"
   },
   {
    "duration": 25,
    "start_time": "2022-06-09T07:34:10.971Z"
   },
   {
    "duration": 4,
    "start_time": "2022-06-09T07:34:14.894Z"
   },
   {
    "duration": 137,
    "start_time": "2022-06-09T07:34:17.250Z"
   },
   {
    "duration": 179,
    "start_time": "2022-06-09T07:35:35.012Z"
   },
   {
    "duration": 147,
    "start_time": "2022-06-09T07:35:40.995Z"
   },
   {
    "duration": 30,
    "start_time": "2022-06-09T07:36:13.590Z"
   },
   {
    "duration": 12,
    "start_time": "2022-06-09T07:36:18.609Z"
   },
   {
    "duration": 5341,
    "start_time": "2022-06-09T07:36:24.901Z"
   },
   {
    "duration": 134,
    "start_time": "2022-06-09T07:37:00.801Z"
   },
   {
    "duration": 18,
    "start_time": "2022-06-09T07:37:12.771Z"
   },
   {
    "duration": 16,
    "start_time": "2022-06-09T07:37:15.924Z"
   },
   {
    "duration": 16,
    "start_time": "2022-06-09T07:37:22.032Z"
   },
   {
    "duration": 32,
    "start_time": "2022-06-09T07:37:25.417Z"
   },
   {
    "duration": 125,
    "start_time": "2022-06-09T07:37:29.143Z"
   },
   {
    "duration": 151,
    "start_time": "2022-06-09T07:39:03.838Z"
   },
   {
    "duration": 698,
    "start_time": "2022-06-09T07:39:53.615Z"
   },
   {
    "duration": 401,
    "start_time": "2022-06-09T07:40:00.368Z"
   },
   {
    "duration": 405,
    "start_time": "2022-06-09T07:40:14.789Z"
   },
   {
    "duration": 1177,
    "start_time": "2022-06-09T07:41:46.478Z"
   },
   {
    "duration": 243,
    "start_time": "2022-06-09T07:42:05.635Z"
   },
   {
    "duration": 395,
    "start_time": "2022-06-09T07:42:10.766Z"
   },
   {
    "duration": 427,
    "start_time": "2022-06-09T07:42:28.686Z"
   },
   {
    "duration": 589,
    "start_time": "2022-06-09T07:42:43.698Z"
   },
   {
    "duration": 551,
    "start_time": "2022-06-09T07:43:00.841Z"
   },
   {
    "duration": 392,
    "start_time": "2022-06-09T07:43:09.023Z"
   },
   {
    "duration": 33,
    "start_time": "2022-06-09T07:43:19.775Z"
   },
   {
    "duration": 24,
    "start_time": "2022-06-09T07:43:23.540Z"
   },
   {
    "duration": 9,
    "start_time": "2022-06-09T07:56:02.191Z"
   },
   {
    "duration": 291,
    "start_time": "2022-06-09T07:56:27.594Z"
   },
   {
    "duration": 6,
    "start_time": "2022-06-09T07:57:01.841Z"
   },
   {
    "duration": 430,
    "start_time": "2022-06-09T07:57:05.055Z"
   },
   {
    "duration": 133,
    "start_time": "2022-06-09T07:59:12.999Z"
   },
   {
    "duration": 138,
    "start_time": "2022-06-09T07:59:18.658Z"
   },
   {
    "duration": 606,
    "start_time": "2022-06-09T08:02:34.153Z"
   },
   {
    "duration": 1332,
    "start_time": "2022-06-25T17:49:26.721Z"
   },
   {
    "duration": 170,
    "start_time": "2022-06-25T17:49:28.055Z"
   },
   {
    "duration": 14,
    "start_time": "2022-06-25T17:49:28.227Z"
   },
   {
    "duration": 7,
    "start_time": "2022-06-25T17:49:28.244Z"
   },
   {
    "duration": 4,
    "start_time": "2022-06-25T17:49:28.253Z"
   },
   {
    "duration": 6,
    "start_time": "2022-06-25T17:49:28.259Z"
   },
   {
    "duration": 56,
    "start_time": "2022-06-25T17:49:28.266Z"
   },
   {
    "duration": 14,
    "start_time": "2022-06-25T17:49:28.324Z"
   },
   {
    "duration": 15,
    "start_time": "2022-06-25T17:49:28.340Z"
   },
   {
    "duration": 23,
    "start_time": "2022-06-25T17:49:28.358Z"
   },
   {
    "duration": 27,
    "start_time": "2022-06-25T17:49:28.382Z"
   },
   {
    "duration": 30,
    "start_time": "2022-06-25T17:49:28.410Z"
   },
   {
    "duration": 7,
    "start_time": "2022-06-25T17:49:28.442Z"
   },
   {
    "duration": 7,
    "start_time": "2022-06-25T17:49:28.451Z"
   },
   {
    "duration": 9,
    "start_time": "2022-06-25T17:49:28.460Z"
   },
   {
    "duration": 62,
    "start_time": "2022-06-25T17:49:28.470Z"
   },
   {
    "duration": 13,
    "start_time": "2022-06-25T17:49:28.534Z"
   },
   {
    "duration": 3,
    "start_time": "2022-06-25T17:49:28.550Z"
   },
   {
    "duration": 14,
    "start_time": "2022-06-25T17:49:28.554Z"
   },
   {
    "duration": 49,
    "start_time": "2022-06-25T17:49:28.570Z"
   },
   {
    "duration": 9,
    "start_time": "2022-06-25T17:49:28.621Z"
   },
   {
    "duration": 5,
    "start_time": "2022-06-25T17:49:28.632Z"
   },
   {
    "duration": 7,
    "start_time": "2022-06-25T17:49:28.638Z"
   },
   {
    "duration": 18,
    "start_time": "2022-06-25T17:49:28.647Z"
   },
   {
    "duration": 247,
    "start_time": "2022-06-25T17:49:28.667Z"
   },
   {
    "duration": 6,
    "start_time": "2022-06-25T17:49:28.916Z"
   },
   {
    "duration": 206,
    "start_time": "2022-06-25T17:49:28.926Z"
   },
   {
    "duration": 358,
    "start_time": "2022-06-25T17:49:29.136Z"
   },
   {
    "duration": 3316,
    "start_time": "2022-06-25T17:49:29.495Z"
   },
   {
    "duration": 1169,
    "start_time": "2022-06-25T17:49:49.916Z"
   },
   {
    "duration": 701,
    "start_time": "2022-06-25T17:50:48.538Z"
   },
   {
    "duration": 776,
    "start_time": "2022-06-25T17:50:59.625Z"
   },
   {
    "duration": 957,
    "start_time": "2022-06-25T18:28:25.349Z"
   },
   {
    "duration": 1183,
    "start_time": "2022-06-25T18:28:50.554Z"
   },
   {
    "duration": 765,
    "start_time": "2022-06-25T19:58:29.994Z"
   },
   {
    "duration": 249,
    "start_time": "2022-06-25T19:58:59.806Z"
   },
   {
    "duration": 89,
    "start_time": "2022-06-25T19:59:50.455Z"
   },
   {
    "duration": 705,
    "start_time": "2022-06-25T19:59:54.856Z"
   },
   {
    "duration": 687,
    "start_time": "2022-06-25T20:01:24.031Z"
   }
  ],
  "kernelspec": {
   "display_name": "Python 3 (ipykernel)",
   "language": "python",
   "name": "python3"
  },
  "language_info": {
   "codemirror_mode": {
    "name": "ipython",
    "version": 3
   },
   "file_extension": ".py",
   "mimetype": "text/x-python",
   "name": "python",
   "nbconvert_exporter": "python",
   "pygments_lexer": "ipython3",
   "version": "3.9.12"
  },
  "toc": {
   "base_numbering": 1,
   "nav_menu": {},
   "number_sections": true,
   "sideBar": true,
   "skip_h1_title": true,
   "title_cell": "Table of Contents",
   "title_sidebar": "Contents",
   "toc_cell": false,
   "toc_position": {},
   "toc_section_display": true,
   "toc_window_display": false
  }
 },
 "nbformat": 4,
 "nbformat_minor": 5
}
