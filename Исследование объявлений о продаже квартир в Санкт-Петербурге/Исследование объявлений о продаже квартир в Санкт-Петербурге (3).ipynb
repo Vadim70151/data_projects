{
 "cells": [
  {
   "cell_type": "markdown",
   "id": "c52ead54",
   "metadata": {},
   "source": [
    "# Исследование объявлений о продаже квартир в Санкт-Петербурге"
   ]
  },
  {
   "cell_type": "markdown",
   "id": "4c7d96c5",
   "metadata": {},
   "source": [
    "## Описание проекта\n",
    "\n",
    "В моём распоряжении данные сервиса \"Яндекс Недвижимость\" — архив объявлений за несколько лет о продаже квартир в Санкт-Петербурге и соседних населённых пунктах.\n",
    "\n",
    "О каждой квартире в базе содержится два типа данных: добавленные пользователем и картографические. Например, к первому типу относятся площадь квартиры, её этаж и количество балконов, ко второму — расстояния до центра города, аэропорта и ближайшего парка."
   ]
  },
  {
   "cell_type": "markdown",
   "id": "2a011b74",
   "metadata": {},
   "source": [
    "**Цель исследования** - научиться определять рыночную стоимость объектов недвижимости.\n",
    "На основе статистики о платёжеспособности клиентов в процессе исследования необходимо проверить следующие гипотезы:\n",
    "\n",
    "**Ход исследования** - данные из архива объявлений о продаже квартир в Санкт-Петербурге и соседних населённых пунктах за несколько лет будут получены из файла `Данные (проект 3).csv` или `real_estate_data.csv`. О качестве данных ничего неизвестно, поэтому перед тем, как приступить к основной части проекта, понадобится получить первые впечатления о данных, далее на этапе предобработки проверить данные на качество и наличие в них различных ошибок, пропусков и аномалий, если что-то подобное присутствует, необходимо будет исправить самые критичные ошибки и привести датафрейм к нормальному, рабочему состоянию. \n",
    " \n",
    "Таким образом, исследование пройдёт в четыре этапа:\n",
    " 1. Обзор данных.\n",
    " 2. Предобработка данных.\n",
    " 3. Исследовательский анализ данных \n",
    " 4. Итоговый вывод"
   ]
  },
  {
   "cell_type": "markdown",
   "id": "ccb8ba2e",
   "metadata": {},
   "source": [
    "## 1. Обзор данных\n",
    "На данном этапе будет сформирована первая картина о данных сервиса Яндекс Недвижимости, с которыми предстоит работать дальше. "
   ]
  },
  {
   "cell_type": "code",
   "execution_count": 1,
   "id": "0d57aab6",
   "metadata": {},
   "outputs": [],
   "source": [
    "# Подключение библиотек\n",
    "import pandas as pd\n",
    "import matplotlib.pyplot as plt\n",
    "import warnings\n",
    "warnings.filterwarnings(\"ignore\")\n",
    "plt.style.use('ggplot') "
   ]
  },
  {
   "cell_type": "code",
   "execution_count": 2,
   "id": "3da1e8d2",
   "metadata": {},
   "outputs": [],
   "source": [
    "try:\n",
    "    df = pd.read_csv('Данные (проект 3).csv', sep = '\\t') # Чтение файла на локальном юпитере\n",
    "except:\n",
    "    df = pd.read_csv('/datasets/real_estate_data.csv', sep = '\\t') # Чтение файла на юпитере тренажёра \n",
    "# df.to_csv('Данные (проект 3).csv', index=False)"
   ]
  },
  {
   "cell_type": "code",
   "execution_count": 3,
   "id": "3e506388",
   "metadata": {},
   "outputs": [
    {
     "data": {
      "text/html": [
       "<div>\n",
       "<style scoped>\n",
       "    .dataframe tbody tr th:only-of-type {\n",
       "        vertical-align: middle;\n",
       "    }\n",
       "\n",
       "    .dataframe tbody tr th {\n",
       "        vertical-align: top;\n",
       "    }\n",
       "\n",
       "    .dataframe thead th {\n",
       "        text-align: right;\n",
       "    }\n",
       "</style>\n",
       "<table border=\"1\" class=\"dataframe\">\n",
       "  <thead>\n",
       "    <tr style=\"text-align: right;\">\n",
       "      <th></th>\n",
       "      <th>total_images</th>\n",
       "      <th>last_price</th>\n",
       "      <th>total_area</th>\n",
       "      <th>first_day_exposition</th>\n",
       "      <th>rooms</th>\n",
       "      <th>ceiling_height</th>\n",
       "      <th>floors_total</th>\n",
       "      <th>living_area</th>\n",
       "      <th>floor</th>\n",
       "      <th>is_apartment</th>\n",
       "      <th>...</th>\n",
       "      <th>kitchen_area</th>\n",
       "      <th>balcony</th>\n",
       "      <th>locality_name</th>\n",
       "      <th>airports_nearest</th>\n",
       "      <th>cityCenters_nearest</th>\n",
       "      <th>parks_around3000</th>\n",
       "      <th>parks_nearest</th>\n",
       "      <th>ponds_around3000</th>\n",
       "      <th>ponds_nearest</th>\n",
       "      <th>days_exposition</th>\n",
       "    </tr>\n",
       "  </thead>\n",
       "  <tbody>\n",
       "    <tr>\n",
       "      <th>0</th>\n",
       "      <td>20</td>\n",
       "      <td>13000000.0</td>\n",
       "      <td>108.0</td>\n",
       "      <td>2019-03-07T00:00:00</td>\n",
       "      <td>3</td>\n",
       "      <td>2.70</td>\n",
       "      <td>16.0</td>\n",
       "      <td>51.0</td>\n",
       "      <td>8</td>\n",
       "      <td>NaN</td>\n",
       "      <td>...</td>\n",
       "      <td>25.0</td>\n",
       "      <td>NaN</td>\n",
       "      <td>Санкт-Петербург</td>\n",
       "      <td>18863.0</td>\n",
       "      <td>16028.0</td>\n",
       "      <td>1.0</td>\n",
       "      <td>482.0</td>\n",
       "      <td>2.0</td>\n",
       "      <td>755.0</td>\n",
       "      <td>NaN</td>\n",
       "    </tr>\n",
       "    <tr>\n",
       "      <th>1</th>\n",
       "      <td>7</td>\n",
       "      <td>3350000.0</td>\n",
       "      <td>40.4</td>\n",
       "      <td>2018-12-04T00:00:00</td>\n",
       "      <td>1</td>\n",
       "      <td>NaN</td>\n",
       "      <td>11.0</td>\n",
       "      <td>18.6</td>\n",
       "      <td>1</td>\n",
       "      <td>NaN</td>\n",
       "      <td>...</td>\n",
       "      <td>11.0</td>\n",
       "      <td>2.0</td>\n",
       "      <td>посёлок Шушары</td>\n",
       "      <td>12817.0</td>\n",
       "      <td>18603.0</td>\n",
       "      <td>0.0</td>\n",
       "      <td>NaN</td>\n",
       "      <td>0.0</td>\n",
       "      <td>NaN</td>\n",
       "      <td>81.0</td>\n",
       "    </tr>\n",
       "    <tr>\n",
       "      <th>2</th>\n",
       "      <td>10</td>\n",
       "      <td>5196000.0</td>\n",
       "      <td>56.0</td>\n",
       "      <td>2015-08-20T00:00:00</td>\n",
       "      <td>2</td>\n",
       "      <td>NaN</td>\n",
       "      <td>5.0</td>\n",
       "      <td>34.3</td>\n",
       "      <td>4</td>\n",
       "      <td>NaN</td>\n",
       "      <td>...</td>\n",
       "      <td>8.3</td>\n",
       "      <td>0.0</td>\n",
       "      <td>Санкт-Петербург</td>\n",
       "      <td>21741.0</td>\n",
       "      <td>13933.0</td>\n",
       "      <td>1.0</td>\n",
       "      <td>90.0</td>\n",
       "      <td>2.0</td>\n",
       "      <td>574.0</td>\n",
       "      <td>558.0</td>\n",
       "    </tr>\n",
       "    <tr>\n",
       "      <th>3</th>\n",
       "      <td>0</td>\n",
       "      <td>64900000.0</td>\n",
       "      <td>159.0</td>\n",
       "      <td>2015-07-24T00:00:00</td>\n",
       "      <td>3</td>\n",
       "      <td>NaN</td>\n",
       "      <td>14.0</td>\n",
       "      <td>NaN</td>\n",
       "      <td>9</td>\n",
       "      <td>NaN</td>\n",
       "      <td>...</td>\n",
       "      <td>NaN</td>\n",
       "      <td>0.0</td>\n",
       "      <td>Санкт-Петербург</td>\n",
       "      <td>28098.0</td>\n",
       "      <td>6800.0</td>\n",
       "      <td>2.0</td>\n",
       "      <td>84.0</td>\n",
       "      <td>3.0</td>\n",
       "      <td>234.0</td>\n",
       "      <td>424.0</td>\n",
       "    </tr>\n",
       "    <tr>\n",
       "      <th>4</th>\n",
       "      <td>2</td>\n",
       "      <td>10000000.0</td>\n",
       "      <td>100.0</td>\n",
       "      <td>2018-06-19T00:00:00</td>\n",
       "      <td>2</td>\n",
       "      <td>3.03</td>\n",
       "      <td>14.0</td>\n",
       "      <td>32.0</td>\n",
       "      <td>13</td>\n",
       "      <td>NaN</td>\n",
       "      <td>...</td>\n",
       "      <td>41.0</td>\n",
       "      <td>NaN</td>\n",
       "      <td>Санкт-Петербург</td>\n",
       "      <td>31856.0</td>\n",
       "      <td>8098.0</td>\n",
       "      <td>2.0</td>\n",
       "      <td>112.0</td>\n",
       "      <td>1.0</td>\n",
       "      <td>48.0</td>\n",
       "      <td>121.0</td>\n",
       "    </tr>\n",
       "  </tbody>\n",
       "</table>\n",
       "<p>5 rows × 22 columns</p>\n",
       "</div>"
      ],
      "text/plain": [
       "   total_images  last_price  total_area first_day_exposition  rooms  \\\n",
       "0            20  13000000.0       108.0  2019-03-07T00:00:00      3   \n",
       "1             7   3350000.0        40.4  2018-12-04T00:00:00      1   \n",
       "2            10   5196000.0        56.0  2015-08-20T00:00:00      2   \n",
       "3             0  64900000.0       159.0  2015-07-24T00:00:00      3   \n",
       "4             2  10000000.0       100.0  2018-06-19T00:00:00      2   \n",
       "\n",
       "   ceiling_height  floors_total  living_area  floor is_apartment  ...  \\\n",
       "0            2.70          16.0         51.0      8          NaN  ...   \n",
       "1             NaN          11.0         18.6      1          NaN  ...   \n",
       "2             NaN           5.0         34.3      4          NaN  ...   \n",
       "3             NaN          14.0          NaN      9          NaN  ...   \n",
       "4            3.03          14.0         32.0     13          NaN  ...   \n",
       "\n",
       "   kitchen_area  balcony    locality_name  airports_nearest  \\\n",
       "0          25.0      NaN  Санкт-Петербург           18863.0   \n",
       "1          11.0      2.0   посёлок Шушары           12817.0   \n",
       "2           8.3      0.0  Санкт-Петербург           21741.0   \n",
       "3           NaN      0.0  Санкт-Петербург           28098.0   \n",
       "4          41.0      NaN  Санкт-Петербург           31856.0   \n",
       "\n",
       "  cityCenters_nearest  parks_around3000  parks_nearest  ponds_around3000  \\\n",
       "0             16028.0               1.0          482.0               2.0   \n",
       "1             18603.0               0.0            NaN               0.0   \n",
       "2             13933.0               1.0           90.0               2.0   \n",
       "3              6800.0               2.0           84.0               3.0   \n",
       "4              8098.0               2.0          112.0               1.0   \n",
       "\n",
       "   ponds_nearest  days_exposition  \n",
       "0          755.0              NaN  \n",
       "1            NaN             81.0  \n",
       "2          574.0            558.0  \n",
       "3          234.0            424.0  \n",
       "4           48.0            121.0  \n",
       "\n",
       "[5 rows x 22 columns]"
      ]
     },
     "execution_count": 3,
     "metadata": {},
     "output_type": "execute_result"
    }
   ],
   "source": [
    "# Первые 5 строк датафрейма выводим на экран\n",
    "df.head()"
   ]
  },
  {
   "cell_type": "code",
   "execution_count": 4,
   "id": "beebfeb7",
   "metadata": {},
   "outputs": [
    {
     "name": "stdout",
     "output_type": "stream",
     "text": [
      "<class 'pandas.core.frame.DataFrame'>\n",
      "RangeIndex: 23699 entries, 0 to 23698\n",
      "Data columns (total 22 columns):\n",
      " #   Column                Non-Null Count  Dtype  \n",
      "---  ------                --------------  -----  \n",
      " 0   total_images          23699 non-null  int64  \n",
      " 1   last_price            23699 non-null  float64\n",
      " 2   total_area            23699 non-null  float64\n",
      " 3   first_day_exposition  23699 non-null  object \n",
      " 4   rooms                 23699 non-null  int64  \n",
      " 5   ceiling_height        14504 non-null  float64\n",
      " 6   floors_total          23613 non-null  float64\n",
      " 7   living_area           21796 non-null  float64\n",
      " 8   floor                 23699 non-null  int64  \n",
      " 9   is_apartment          2775 non-null   object \n",
      " 10  studio                23699 non-null  bool   \n",
      " 11  open_plan             23699 non-null  bool   \n",
      " 12  kitchen_area          21421 non-null  float64\n",
      " 13  balcony               12180 non-null  float64\n",
      " 14  locality_name         23650 non-null  object \n",
      " 15  airports_nearest      18157 non-null  float64\n",
      " 16  cityCenters_nearest   18180 non-null  float64\n",
      " 17  parks_around3000      18181 non-null  float64\n",
      " 18  parks_nearest         8079 non-null   float64\n",
      " 19  ponds_around3000      18181 non-null  float64\n",
      " 20  ponds_nearest         9110 non-null   float64\n",
      " 21  days_exposition       20518 non-null  float64\n",
      "dtypes: bool(2), float64(14), int64(3), object(3)\n",
      "memory usage: 3.7+ MB\n"
     ]
    }
   ],
   "source": [
    "# Получаем общую информацию о данных, представленных в таблице\n",
    "df.info()"
   ]
  },
  {
   "cell_type": "markdown",
   "id": "6210ab35",
   "metadata": {},
   "source": [
    "Итак, в таблице 22 столбца. Тип данных в столбцах — `object`,`float64`, `int64 ` и `bool`\n",
    "\n",
    "Согласно документации к данным, столбцы имеют следующие значения:\n",
    "* `total_images` — число фотографий квартиры в объявлении;\n",
    "* `last_price` — цена на момент снятия с публикации; \n",
    "* `total_area` — площадь квартиры в квадратных метрах (м²);\n",
    "* `first_day_exposition` — дата публикации;\n",
    "* `rooms` — число комнат;\n",
    "* `ceiling_height` — высота потолков (м);\n",
    "* `floors_total` — всего этажей в доме;\n",
    "* `living_area` - жилая площадь в квадратных метрах (м²);\n",
    "* `floor` - этаж;\n",
    "* `is_apartment` - апартаменты (булев тип);\n",
    "* `studio` - квартира-студия (булев тип);\n",
    "* `open_plan` - свободная планировка (булев тип);\n",
    "* `kitchen_area` - площадь кухни в квадратных метрах (м²);\n",
    "* `balcony` - число балконов;\n",
    "* `locality_name` - название населённого пункта;\n",
    "* `airports_nearest` - расстояние до ближайшего аэропорта в метрах (м);\n",
    "* `cityCenters_nearest` - расстояние до центра города (м);\n",
    "* `parks_around3000` - число парков в радиусе 3 км;\n",
    "* `parks_nearest` - расстояние до ближайшего парка (м);\n",
    "* `ponds_around3000` - число водоёмов в радиусе 3 км;\n",
    "* `ponds_nearest` - расстояние до ближайшего водоёма (м);\n",
    "* `days_exposition` - сколько дней было размещено объявление (от публикации до снятия);\n",
    "\n",
    "Считаю, что названия некоторых колонок написаны с нарушением стиля. Также количество значений в столбцах различается, следовательно, в данных есть пропущенные значения. "
   ]
  },
  {
   "cell_type": "markdown",
   "id": "175438a2",
   "metadata": {},
   "source": [
    "**Выводы**\n",
    "\n",
    "Исходя из первого впечатления о данных, замечу, что некоторые столбцы подлежат изменению названия, обработке пропусков, а также изменению типа данных. "
   ]
  },
  {
   "cell_type": "markdown",
   "id": "accda7ab",
   "metadata": {},
   "source": [
    "## 2. Предобработка данных\n",
    "На данном этапе будут устранены выявленные проблемы в данных"
   ]
  },
  {
   "cell_type": "code",
   "execution_count": 5,
   "id": "5d2ab41c",
   "metadata": {},
   "outputs": [],
   "source": [
    "# Изменяем названия некоторых столбцов\n",
    "df = df.rename(columns={'cityCenters_nearest': 'city_centers_nearest', \n",
    "                        'parks_around3000': 'parks_around_3000', \n",
    "                        'ponds_around3000': 'ponds_around_3000'})"
   ]
  },
  {
   "cell_type": "code",
   "execution_count": 6,
   "id": "2bd4ad4f",
   "metadata": {},
   "outputs": [
    {
     "name": "stdout",
     "output_type": "stream",
     "text": [
      "<class 'pandas.core.frame.DataFrame'>\n",
      "RangeIndex: 23699 entries, 0 to 23698\n",
      "Data columns (total 22 columns):\n",
      " #   Column                Non-Null Count  Dtype  \n",
      "---  ------                --------------  -----  \n",
      " 0   total_images          23699 non-null  int64  \n",
      " 1   last_price            23699 non-null  float64\n",
      " 2   total_area            23699 non-null  float64\n",
      " 3   first_day_exposition  23699 non-null  object \n",
      " 4   rooms                 23699 non-null  int64  \n",
      " 5   ceiling_height        14504 non-null  float64\n",
      " 6   floors_total          23613 non-null  float64\n",
      " 7   living_area           21796 non-null  float64\n",
      " 8   floor                 23699 non-null  int64  \n",
      " 9   is_apartment          2775 non-null   object \n",
      " 10  studio                23699 non-null  bool   \n",
      " 11  open_plan             23699 non-null  bool   \n",
      " 12  kitchen_area          21421 non-null  float64\n",
      " 13  balcony               12180 non-null  float64\n",
      " 14  locality_name         23650 non-null  object \n",
      " 15  airports_nearest      18157 non-null  float64\n",
      " 16  city_centers_nearest  18180 non-null  float64\n",
      " 17  parks_around_3000     18181 non-null  float64\n",
      " 18  parks_nearest         8079 non-null   float64\n",
      " 19  ponds_around_3000     18181 non-null  float64\n",
      " 20  ponds_nearest         9110 non-null   float64\n",
      " 21  days_exposition       20518 non-null  float64\n",
      "dtypes: bool(2), float64(14), int64(3), object(3)\n",
      "memory usage: 3.7+ MB\n"
     ]
    }
   ],
   "source": [
    "# Проверяем, как поменялись названия столбцов\n",
    "df.info()"
   ]
  },
  {
   "cell_type": "code",
   "execution_count": 7,
   "id": "aede5a19",
   "metadata": {},
   "outputs": [
    {
     "data": {
      "text/plain": [
       "total_images                0\n",
       "last_price                  0\n",
       "total_area                  0\n",
       "first_day_exposition        0\n",
       "rooms                       0\n",
       "ceiling_height           9195\n",
       "floors_total               86\n",
       "living_area              1903\n",
       "floor                       0\n",
       "is_apartment            20924\n",
       "studio                      0\n",
       "open_plan                   0\n",
       "kitchen_area             2278\n",
       "balcony                 11519\n",
       "locality_name              49\n",
       "airports_nearest         5542\n",
       "city_centers_nearest     5519\n",
       "parks_around_3000        5518\n",
       "parks_nearest           15620\n",
       "ponds_around_3000        5518\n",
       "ponds_nearest           14589\n",
       "days_exposition          3181\n",
       "dtype: int64"
      ]
     },
     "execution_count": 7,
     "metadata": {},
     "output_type": "execute_result"
    }
   ],
   "source": [
    "# Считаем пропущенные значения в таблице\n",
    "df.isna().sum()"
   ]
  },
  {
   "cell_type": "markdown",
   "id": "0efcfa9c",
   "metadata": {},
   "source": [
    "**Вывод**\n",
    "\n",
    "Мы видим, что пропусков достаточно много, поэтому следует их обработать. В столбце `balcony` можно предположить логичную замену: если человек не указал число балконов — скорее всего, их нет. Такие пропуски правильно заменить на 0. \n",
    "\n",
    "Если для других данных нет подходящего значения на замену, то в этом случае правильно оставить эти значения пустыми.\n",
    "\n",
    "В столбце `floors_total` пропуски можно либо удалить, либо заменить значением `floor`.\n",
    "\n",
    "Что касается столбцов `living_area`, `kitchen_area`, то пропуски в жилой площади можно найти из среднего соотношения жилой площади к общей по всему датафрейму. Пропуски в площади кухни лучше оставить как есть.\n",
    "\n",
    "Данные в столбце `days_exposition` исследуем относительно дня публикации `first_day_exposition` и мы видим, что чем дата позднее, тем пропусков больше. Скорее всего эти объявления еще не сняты с публикации. Пропуски следует оставить.\n",
    "\n",
    "В столбцах `airports_nearest`, `parks_around_3000`, `parks_nearest`, `ponds_around_3000`, `ponds_nearest` значения заполняются автоматически и пропуски значат, что скорее всего рядом нет этих объектов. Что касается  `parks_around_3000`, `ponds_around_3000`, то мы можем предположить, что если значение не заполнено, то парков и прудов поблизости нет и заменить на 0.\n",
    "\n",
    "В столбце `city_centers_nearest` данные отсутствуют в основном в тех локациях, для которых центр не был вычислен, например в деревнях и селах. Пропуски стоит оставить.\n",
    "\n",
    "Пропуски в столбце `locality_name` мы вычислить не можем, поэтому лучше будет их удалить.  \n",
    "\n",
    "Возможные причины пропусков:\n",
    "1. Сбои при выгрузке датафрейма из базы данных \n",
    "2. Ошибки при вводе данных \n",
    "3. Пропуск пользователем некоторых полей для заполнения информацией    "
   ]
  },
  {
   "cell_type": "code",
   "execution_count": 8,
   "id": "0fd71452",
   "metadata": {},
   "outputs": [],
   "source": [
    "# Пропуски в столбце про число балконов заменяем на ноль\n",
    "df['balcony'] = df['balcony'].fillna('0')"
   ]
  },
  {
   "cell_type": "code",
   "execution_count": 9,
   "id": "6a7f50e7",
   "metadata": {},
   "outputs": [],
   "source": [
    "# Исправление пропусков в столбце floors_total на соответствующее значение из столбца floor\n",
    "df['floors_total'] = df['floors_total'].fillna(df['floor'])"
   ]
  },
  {
   "cell_type": "code",
   "execution_count": 10,
   "id": "e120eb67",
   "metadata": {},
   "outputs": [],
   "source": [
    "# Заполнение пропусков в living_area: пропуски в жилой площади можно найти из среднего соотношения жилой площади к общей по всему датафрейму\n",
    "k_area = df[df['living_area'].isnull() == False]['total_area'].mean() / df[df['living_area'].isnull()== False]['living_area'].mean()\n",
    "df['living_area'] = df['living_area'].fillna(df['total_area'] / k_area)"
   ]
  },
  {
   "cell_type": "code",
   "execution_count": 11,
   "id": "eb1586f2",
   "metadata": {},
   "outputs": [],
   "source": [
    "# Исправление пропусков в столбце про высоту потолков медианным значением\n",
    "median_ceiling = df['ceiling_height'].median()\n",
    "df['ceiling_height'] = df['ceiling_height'].fillna(median_ceiling)"
   ]
  },
  {
   "cell_type": "code",
   "execution_count": 12,
   "id": "5fd77d6a",
   "metadata": {},
   "outputs": [],
   "source": [
    "# Меняем пропуски в столбцах с категориальными переменными\n",
    "df['is_apartment'] = df['is_apartment'].fillna('False')"
   ]
  },
  {
   "cell_type": "code",
   "execution_count": 13,
   "id": "d749689c",
   "metadata": {},
   "outputs": [],
   "source": [
    "# Заполнение пропусков в столбцах parks_around_3000, ponds_around_3000\n",
    "df['parks_around_3000'] = df['parks_around_3000'].fillna(0) \n",
    "df['ponds_around_3000'] = df['ponds_around_3000'].fillna(0)"
   ]
  },
  {
   "cell_type": "code",
   "execution_count": 14,
   "id": "6aedd95a",
   "metadata": {},
   "outputs": [],
   "source": [
    "# Удаляем пропуски в столбце locality_name\n",
    "df_filtered = df.dropna(subset = ['locality_name'])"
   ]
  },
  {
   "cell_type": "code",
   "execution_count": 15,
   "id": "c6ec0804",
   "metadata": {},
   "outputs": [
    {
     "data": {
      "text/plain": [
       "total_images                0\n",
       "last_price                  0\n",
       "total_area                  0\n",
       "first_day_exposition        0\n",
       "rooms                       0\n",
       "ceiling_height              0\n",
       "floors_total                0\n",
       "living_area                 0\n",
       "floor                       0\n",
       "is_apartment                0\n",
       "studio                      0\n",
       "open_plan                   0\n",
       "kitchen_area             2278\n",
       "balcony                     0\n",
       "locality_name              49\n",
       "airports_nearest         5542\n",
       "city_centers_nearest     5519\n",
       "parks_around_3000           0\n",
       "parks_nearest           15620\n",
       "ponds_around_3000           0\n",
       "ponds_nearest           14589\n",
       "days_exposition          3181\n",
       "dtype: int64"
      ]
     },
     "execution_count": 15,
     "metadata": {},
     "output_type": "execute_result"
    }
   ],
   "source": [
    "# Проверяем, как отработал код\n",
    "df.isna().sum()"
   ]
  },
  {
   "cell_type": "code",
   "execution_count": 16,
   "id": "20a725f3",
   "metadata": {},
   "outputs": [],
   "source": [
    "# Замена одного типа данных на другой и добавление столбца с днём недели, месяцем и годом публикации объявления\n",
    "df['day_exposition'] = pd.to_datetime(df['first_day_exposition'], format='%Y.%m.%dT%H:%M:%S')"
   ]
  },
  {
   "cell_type": "code",
   "execution_count": 17,
   "id": "d4deb234",
   "metadata": {},
   "outputs": [
    {
     "name": "stdout",
     "output_type": "stream",
     "text": [
      "<class 'pandas.core.frame.DataFrame'>\n",
      "RangeIndex: 23699 entries, 0 to 23698\n",
      "Data columns (total 23 columns):\n",
      " #   Column                Non-Null Count  Dtype         \n",
      "---  ------                --------------  -----         \n",
      " 0   total_images          23699 non-null  int64         \n",
      " 1   last_price            23699 non-null  float64       \n",
      " 2   total_area            23699 non-null  float64       \n",
      " 3   first_day_exposition  23699 non-null  object        \n",
      " 4   rooms                 23699 non-null  int64         \n",
      " 5   ceiling_height        23699 non-null  float64       \n",
      " 6   floors_total          23699 non-null  float64       \n",
      " 7   living_area           23699 non-null  float64       \n",
      " 8   floor                 23699 non-null  int64         \n",
      " 9   is_apartment          23699 non-null  object        \n",
      " 10  studio                23699 non-null  bool          \n",
      " 11  open_plan             23699 non-null  bool          \n",
      " 12  kitchen_area          21421 non-null  float64       \n",
      " 13  balcony               23699 non-null  object        \n",
      " 14  locality_name         23650 non-null  object        \n",
      " 15  airports_nearest      18157 non-null  float64       \n",
      " 16  city_centers_nearest  18180 non-null  float64       \n",
      " 17  parks_around_3000     23699 non-null  float64       \n",
      " 18  parks_nearest         8079 non-null   float64       \n",
      " 19  ponds_around_3000     23699 non-null  float64       \n",
      " 20  ponds_nearest         9110 non-null   float64       \n",
      " 21  days_exposition       20518 non-null  float64       \n",
      " 22  day_exposition        23699 non-null  datetime64[ns]\n",
      "dtypes: bool(2), datetime64[ns](1), float64(13), int64(3), object(4)\n",
      "memory usage: 3.8+ MB\n"
     ]
    }
   ],
   "source": [
    "# Проверяем как справился код с задачей\n",
    "df.info()"
   ]
  },
  {
   "cell_type": "markdown",
   "id": "e9f7a76f",
   "metadata": {},
   "source": [
    "### Добавление вспомогательных столбцов в таблицу"
   ]
  },
  {
   "cell_type": "code",
   "execution_count": 18,
   "id": "f57af671",
   "metadata": {},
   "outputs": [],
   "source": [
    "# Нахождение цены за 1 кв. м. \n",
    "df['price_per_square_meter'] = df['last_price'] / df['total_area']\n",
    "# Соотношение жилой и общей площади квартиры\n",
    "df['ratio_residential_total_area'] = df['living_area'] / df['total_area']\n",
    "# Соотношение площади кухни к общей площади квартиры\n",
    "df['ratio_kitchen_total_area'] = df['kitchen_area'] / df['total_area']\n",
    "# Добавляем столбец с этажом квартиры; варианты — первый, последний, другой\n",
    "def apartment_floor (data):\n",
    "    if data['floor'] == 1:\n",
    "        return 'Первый'\n",
    "    if data['floor'] == data['floors_total']:\n",
    "        return 'Последний'\n",
    "    else:\n",
    "        return 'Другой'\n",
    "df['category_floor'] = df.apply(apartment_floor, axis=1)"
   ]
  },
  {
   "cell_type": "code",
   "execution_count": 19,
   "id": "7d9af8fc",
   "metadata": {},
   "outputs": [
    {
     "data": {
      "text/html": [
       "<div>\n",
       "<style scoped>\n",
       "    .dataframe tbody tr th:only-of-type {\n",
       "        vertical-align: middle;\n",
       "    }\n",
       "\n",
       "    .dataframe tbody tr th {\n",
       "        vertical-align: top;\n",
       "    }\n",
       "\n",
       "    .dataframe thead th {\n",
       "        text-align: right;\n",
       "    }\n",
       "</style>\n",
       "<table border=\"1\" class=\"dataframe\">\n",
       "  <thead>\n",
       "    <tr style=\"text-align: right;\">\n",
       "      <th></th>\n",
       "      <th>total_images</th>\n",
       "      <th>last_price</th>\n",
       "      <th>total_area</th>\n",
       "      <th>first_day_exposition</th>\n",
       "      <th>rooms</th>\n",
       "      <th>ceiling_height</th>\n",
       "      <th>floors_total</th>\n",
       "      <th>living_area</th>\n",
       "      <th>floor</th>\n",
       "      <th>is_apartment</th>\n",
       "      <th>...</th>\n",
       "      <th>parks_around_3000</th>\n",
       "      <th>parks_nearest</th>\n",
       "      <th>ponds_around_3000</th>\n",
       "      <th>ponds_nearest</th>\n",
       "      <th>days_exposition</th>\n",
       "      <th>day_exposition</th>\n",
       "      <th>price_per_square_meter</th>\n",
       "      <th>ratio_residential_total_area</th>\n",
       "      <th>ratio_kitchen_total_area</th>\n",
       "      <th>category_floor</th>\n",
       "    </tr>\n",
       "  </thead>\n",
       "  <tbody>\n",
       "    <tr>\n",
       "      <th>0</th>\n",
       "      <td>20</td>\n",
       "      <td>13000000.0</td>\n",
       "      <td>108.0</td>\n",
       "      <td>2019-03-07T00:00:00</td>\n",
       "      <td>3</td>\n",
       "      <td>2.70</td>\n",
       "      <td>16.0</td>\n",
       "      <td>51.000000</td>\n",
       "      <td>8</td>\n",
       "      <td>False</td>\n",
       "      <td>...</td>\n",
       "      <td>1.0</td>\n",
       "      <td>482.0</td>\n",
       "      <td>2.0</td>\n",
       "      <td>755.0</td>\n",
       "      <td>NaN</td>\n",
       "      <td>2019-03-07</td>\n",
       "      <td>120370.370370</td>\n",
       "      <td>0.472222</td>\n",
       "      <td>0.231481</td>\n",
       "      <td>Другой</td>\n",
       "    </tr>\n",
       "    <tr>\n",
       "      <th>1</th>\n",
       "      <td>7</td>\n",
       "      <td>3350000.0</td>\n",
       "      <td>40.4</td>\n",
       "      <td>2018-12-04T00:00:00</td>\n",
       "      <td>1</td>\n",
       "      <td>2.65</td>\n",
       "      <td>11.0</td>\n",
       "      <td>18.600000</td>\n",
       "      <td>1</td>\n",
       "      <td>False</td>\n",
       "      <td>...</td>\n",
       "      <td>0.0</td>\n",
       "      <td>NaN</td>\n",
       "      <td>0.0</td>\n",
       "      <td>NaN</td>\n",
       "      <td>81.0</td>\n",
       "      <td>2018-12-04</td>\n",
       "      <td>82920.792079</td>\n",
       "      <td>0.460396</td>\n",
       "      <td>0.272277</td>\n",
       "      <td>Первый</td>\n",
       "    </tr>\n",
       "    <tr>\n",
       "      <th>2</th>\n",
       "      <td>10</td>\n",
       "      <td>5196000.0</td>\n",
       "      <td>56.0</td>\n",
       "      <td>2015-08-20T00:00:00</td>\n",
       "      <td>2</td>\n",
       "      <td>2.65</td>\n",
       "      <td>5.0</td>\n",
       "      <td>34.300000</td>\n",
       "      <td>4</td>\n",
       "      <td>False</td>\n",
       "      <td>...</td>\n",
       "      <td>1.0</td>\n",
       "      <td>90.0</td>\n",
       "      <td>2.0</td>\n",
       "      <td>574.0</td>\n",
       "      <td>558.0</td>\n",
       "      <td>2015-08-20</td>\n",
       "      <td>92785.714286</td>\n",
       "      <td>0.612500</td>\n",
       "      <td>0.148214</td>\n",
       "      <td>Другой</td>\n",
       "    </tr>\n",
       "    <tr>\n",
       "      <th>3</th>\n",
       "      <td>0</td>\n",
       "      <td>64900000.0</td>\n",
       "      <td>159.0</td>\n",
       "      <td>2015-07-24T00:00:00</td>\n",
       "      <td>3</td>\n",
       "      <td>2.65</td>\n",
       "      <td>14.0</td>\n",
       "      <td>91.177695</td>\n",
       "      <td>9</td>\n",
       "      <td>False</td>\n",
       "      <td>...</td>\n",
       "      <td>2.0</td>\n",
       "      <td>84.0</td>\n",
       "      <td>3.0</td>\n",
       "      <td>234.0</td>\n",
       "      <td>424.0</td>\n",
       "      <td>2015-07-24</td>\n",
       "      <td>408176.100629</td>\n",
       "      <td>0.573445</td>\n",
       "      <td>NaN</td>\n",
       "      <td>Другой</td>\n",
       "    </tr>\n",
       "    <tr>\n",
       "      <th>4</th>\n",
       "      <td>2</td>\n",
       "      <td>10000000.0</td>\n",
       "      <td>100.0</td>\n",
       "      <td>2018-06-19T00:00:00</td>\n",
       "      <td>2</td>\n",
       "      <td>3.03</td>\n",
       "      <td>14.0</td>\n",
       "      <td>32.000000</td>\n",
       "      <td>13</td>\n",
       "      <td>False</td>\n",
       "      <td>...</td>\n",
       "      <td>2.0</td>\n",
       "      <td>112.0</td>\n",
       "      <td>1.0</td>\n",
       "      <td>48.0</td>\n",
       "      <td>121.0</td>\n",
       "      <td>2018-06-19</td>\n",
       "      <td>100000.000000</td>\n",
       "      <td>0.320000</td>\n",
       "      <td>0.410000</td>\n",
       "      <td>Другой</td>\n",
       "    </tr>\n",
       "  </tbody>\n",
       "</table>\n",
       "<p>5 rows × 27 columns</p>\n",
       "</div>"
      ],
      "text/plain": [
       "   total_images  last_price  total_area first_day_exposition  rooms  \\\n",
       "0            20  13000000.0       108.0  2019-03-07T00:00:00      3   \n",
       "1             7   3350000.0        40.4  2018-12-04T00:00:00      1   \n",
       "2            10   5196000.0        56.0  2015-08-20T00:00:00      2   \n",
       "3             0  64900000.0       159.0  2015-07-24T00:00:00      3   \n",
       "4             2  10000000.0       100.0  2018-06-19T00:00:00      2   \n",
       "\n",
       "   ceiling_height  floors_total  living_area  floor is_apartment  ...  \\\n",
       "0            2.70          16.0    51.000000      8        False  ...   \n",
       "1            2.65          11.0    18.600000      1        False  ...   \n",
       "2            2.65           5.0    34.300000      4        False  ...   \n",
       "3            2.65          14.0    91.177695      9        False  ...   \n",
       "4            3.03          14.0    32.000000     13        False  ...   \n",
       "\n",
       "   parks_around_3000  parks_nearest  ponds_around_3000 ponds_nearest  \\\n",
       "0                1.0          482.0                2.0         755.0   \n",
       "1                0.0            NaN                0.0           NaN   \n",
       "2                1.0           90.0                2.0         574.0   \n",
       "3                2.0           84.0                3.0         234.0   \n",
       "4                2.0          112.0                1.0          48.0   \n",
       "\n",
       "  days_exposition  day_exposition  price_per_square_meter  \\\n",
       "0             NaN      2019-03-07           120370.370370   \n",
       "1            81.0      2018-12-04            82920.792079   \n",
       "2           558.0      2015-08-20            92785.714286   \n",
       "3           424.0      2015-07-24           408176.100629   \n",
       "4           121.0      2018-06-19           100000.000000   \n",
       "\n",
       "   ratio_residential_total_area  ratio_kitchen_total_area  category_floor  \n",
       "0                      0.472222                  0.231481          Другой  \n",
       "1                      0.460396                  0.272277          Первый  \n",
       "2                      0.612500                  0.148214          Другой  \n",
       "3                      0.573445                       NaN          Другой  \n",
       "4                      0.320000                  0.410000          Другой  \n",
       "\n",
       "[5 rows x 27 columns]"
      ]
     },
     "execution_count": 19,
     "metadata": {},
     "output_type": "execute_result"
    }
   ],
   "source": [
    "# Проверяем как отработал написанный код выше\n",
    "df.head()"
   ]
  },
  {
   "cell_type": "markdown",
   "id": "7a3655d7",
   "metadata": {},
   "source": [
    "## 3. Исследовательский анализ данных "
   ]
  },
  {
   "cell_type": "markdown",
   "id": "f1d26310",
   "metadata": {},
   "source": [
    "### 3.1. Изучение отдельных параметров датафрейма"
   ]
  },
  {
   "cell_type": "code",
   "execution_count": 20,
   "id": "9e95b68d",
   "metadata": {},
   "outputs": [],
   "source": [
    "parametrs = ['total_area', 'last_price', 'rooms', 'ceiling_height']\n",
    "addit_parametrs = [\n",
    "    ['Площадь, м²', 'Распределение площади', 0, 200],\n",
    "    ['Цена, руб.', 'Распределение цены (на момент снятия с публикации)', 0, 30000000],\n",
    "    ['Количество комнат', 'Распределение числа комнат', 0, 7],\n",
    "    ['Высота потолков, м', 'Распределение высоты потолков', 2, 5]\n",
    "                  ]\n",
    "def hist_histogram(dataframe):\n",
    "    dict_parametrs = dict(zip(parametrs, addit_parametrs))\n",
    "    for f in parametrs:\n",
    "        plt.figure(figsize=(12, 5))\n",
    "        dataframe[f].plot(kind='hist', bins=100, \n",
    "                          range=(dict_parametrs[f][2], dict_parametrs[f][3]), \n",
    "                          title='Распределение {}'.format(f), grid=True)\n",
    "        plt.title(dict_parametrs[f][1])\n",
    "        plt.xlabel(dict_parametrs[f][0])\n",
    "        plt.ylabel('Количество квартир, шт.')"
   ]
  },
  {
   "cell_type": "code",
   "execution_count": 21,
   "id": "ff9f0520",
   "metadata": {},
   "outputs": [
    {
     "data": {
      "image/png": "[encoded data removed]",
      "text/plain": [
       "<Figure size 864x360 with 1 Axes>"
      ]
     },
     "metadata": {},
     "output_type": "display_data"
    },
    {
     "data": {
      "image/png": "[encoded data removed]",
      "text/plain": [
       "<Figure size 864x360 with 1 Axes>"
      ]
     },
     "metadata": {},
     "output_type": "display_data"
    },
    {
     "data": {
      "image/png": "[encoded data removed]",
      "text/plain": [
       "<Figure size 864x360 with 1 Axes>"
      ]
     },
     "metadata": {},
     "output_type": "display_data"
    },
    {
     "data": {
      "image/png": "[encoded data removed]",
      "text/plain": [
       "<Figure size 864x360 with 1 Axes>"
      ]
     },
     "metadata": {},
     "output_type": "display_data"
    }
   ],
   "source": [
    "hist_histogram(df)"
   ]
  },
  {
   "cell_type": "markdown",
   "id": "752972aa",
   "metadata": {},
   "source": [
    "**Вывод**\n",
    "\n",
    "На первом и втором графиках прослеживается нормальное распределение. Анализируя график с площадью, можно заметить, что наиболее частая площадь анализируемых квартир, которые есть в данной датафрейме - 30 - 60 кв. метров. \n",
    "\n",
    "Что касается цены, то наибольшее количество квартир находятся в ценовом диапазоне от 4 до 5 млн. рублей. Если говорить про количество комнат, то у подавляюющего большинства квартир их 1-2. Трёхкомнатые также можно встретить достаточно часто, но всё же реже, чем те, про которые сказал ранее. Ну и совсем редкие квартиры, у которых комнат от 4 и более. \n",
    "\n",
    "Также на графике видно, что есть и те, у которых число комнат равно нулю, я полагаю, что это студии - их также очень мало. \n",
    "\n",
    "Говоря про высоту потолков, замечу, что у большиснтва квартир они равны около 2.6 метров. "
   ]
  },
  {
   "cell_type": "code",
   "execution_count": 22,
   "id": "397a8b7d",
   "metadata": {},
   "outputs": [],
   "source": [
    "# Создаём новую переменную, где будет лежать датафрейм без выбивающихся значений, и уже далее будем работать с ней\n",
    "# Отфильтровываем выбивающиеся значения по высоте потолков\n",
    "df_filtered = df.query('2 < ceiling_height < 4')\n",
    "# Второй способ срезать данные\n",
    "df_filtered = df_filtered[(df_filtered['ceiling_height'] > 2) & (df_filtered['ceiling_height'] < 4)]"
   ]
  },
  {
   "cell_type": "code",
   "execution_count": 23,
   "id": "675644fa",
   "metadata": {},
   "outputs": [],
   "source": [
    "# Отфильтровываем выбивающиеся значения по цене на момент снятия с публикации\n",
    "df_filtered = df_filtered[df_filtered['last_price'] < 25000000]"
   ]
  },
  {
   "cell_type": "code",
   "execution_count": 24,
   "id": "df558bc5",
   "metadata": {},
   "outputs": [],
   "source": [
    "# Отфильтровываем выбивающиеся значения по общей площади\n",
    "df_filtered = df_filtered[df_filtered['total_area'] < 250]"
   ]
  },
  {
   "cell_type": "code",
   "execution_count": 25,
   "id": "bd7bfdac",
   "metadata": {
    "scrolled": true
   },
   "outputs": [
    {
     "data": {
      "text/plain": [
       "0.9741761255749187"
      ]
     },
     "execution_count": 25,
     "metadata": {},
     "output_type": "execute_result"
    }
   ],
   "source": [
    "# Подсчёт доли значений, которые были удалены\n",
    "len(df_filtered) / len(df)"
   ]
  },
  {
   "cell_type": "markdown",
   "id": "e48e0427",
   "metadata": {},
   "source": [
    "**Вывод**\n",
    "\n",
    "Было удалено 3% первоначальных данных, что является допустимым. "
   ]
  },
  {
   "cell_type": "code",
   "execution_count": 26,
   "id": "027c6887",
   "metadata": {},
   "outputs": [
    {
     "data": {
      "image/png": "[encoded data removed]",
      "text/plain": [
       "<Figure size 864x360 with 1 Axes>"
      ]
     },
     "metadata": {},
     "output_type": "display_data"
    }
   ],
   "source": [
    "# Изучаем время продажи квартиры\n",
    "plt.figure(figsize=(12, 5))\n",
    "df_filtered['days_exposition'].plot(kind='hist', bins = 100, \n",
    "                                    range=(0,1000), grid=True)\n",
    "plt.title('Распределение времени продажи квартиры')\n",
    "plt.ylabel('Количество проданных квартир, шт.')\n",
    "plt.xlabel('Количество дней, сколько размещалось объявление (с момента публикации до снятия)');"
   ]
  },
  {
   "cell_type": "code",
   "execution_count": 27,
   "id": "92598edd",
   "metadata": {},
   "outputs": [
    {
     "data": {
      "text/plain": [
       "45.0      877\n",
       "60.0      536\n",
       "7.0       232\n",
       "30.0      204\n",
       "90.0      185\n",
       "         ... \n",
       "1484.0      1\n",
       "793.0       1\n",
       "773.0       1\n",
       "1030.0      1\n",
       "1174.0      1\n",
       "Name: days_exposition, Length: 1128, dtype: int64"
      ]
     },
     "execution_count": 27,
     "metadata": {},
     "output_type": "execute_result"
    }
   ],
   "source": [
    "df_filtered['days_exposition'].value_counts()"
   ]
  },
  {
   "cell_type": "code",
   "execution_count": 28,
   "id": "e2e64e77",
   "metadata": {},
   "outputs": [
    {
     "data": {
      "image/png": "[encoded data removed]",
      "text/plain": [
       "<Figure size 864x360 with 1 Axes>"
      ]
     },
     "metadata": {},
     "output_type": "display_data"
    }
   ],
   "source": [
    "plt.figure(figsize=(12, 5))\n",
    "df_filtered.boxplot('days_exposition')\n",
    "plt.title('Распределение времени продажи квартиры')\n",
    "plt.ylabel('Количество дней размещения объявления')\n",
    "plt.ylim(-20, 600);"
   ]
  },
  {
   "cell_type": "code",
   "execution_count": 29,
   "id": "115579b9",
   "metadata": {},
   "outputs": [
    {
     "data": {
      "text/plain": [
       "count    20064.000000\n",
       "mean       178.397677\n",
       "std        216.964168\n",
       "min          1.000000\n",
       "25%         45.000000\n",
       "50%         94.000000\n",
       "75%        228.000000\n",
       "max       1580.000000\n",
       "Name: days_exposition, dtype: float64"
      ]
     },
     "execution_count": 29,
     "metadata": {},
     "output_type": "execute_result"
    }
   ],
   "source": [
    "# Изучим числовые характеристики столбца\n",
    "df_filtered['days_exposition'].describe() "
   ]
  },
  {
   "cell_type": "markdown",
   "id": "8d4592b1",
   "metadata": {},
   "source": [
    "**Вывод**\n",
    "\n",
    "Обычно продажа занимает около 100 дней (медианное значение по столбцу равно 95 дней). Исходя из числовой характеристики, гистограммы, а также диаграммы размаха, можно заметить, что продажи квартир, которые длились более 500 дней, явялются необычно долгими, так как начиная, приблизительно, с этого значения, заканчивается предел нормальных значений. Наибольшее скопление данных видно в диапазоне от 50 до 230. Но значимыми данными можно считать те, что не превышают 500 дней. Однако с целью анализа данных, я оставлю побольше значений в выборке, поэтому уберу значения, которые превышают 1000 дней. \n",
    "\n",
    "Также в данных есть минимальное значение: 1 день, это заставляет насторажиться, однако продажа квартиры за 1 день, в нашем случае, находится в пределах диапазона нормальных значений, да и в целом это вполне реально, следовательно, по нижней границе значения можно не трогать."
   ]
  },
  {
   "cell_type": "code",
   "execution_count": 30,
   "id": "a5a863be",
   "metadata": {},
   "outputs": [
    {
     "data": {
      "text/html": [
       "<div>\n",
       "<style scoped>\n",
       "    .dataframe tbody tr th:only-of-type {\n",
       "        vertical-align: middle;\n",
       "    }\n",
       "\n",
       "    .dataframe tbody tr th {\n",
       "        vertical-align: top;\n",
       "    }\n",
       "\n",
       "    .dataframe thead th {\n",
       "        text-align: right;\n",
       "    }\n",
       "</style>\n",
       "<table border=\"1\" class=\"dataframe\">\n",
       "  <thead>\n",
       "    <tr style=\"text-align: right;\">\n",
       "      <th></th>\n",
       "      <th>total_images</th>\n",
       "      <th>last_price</th>\n",
       "      <th>total_area</th>\n",
       "      <th>first_day_exposition</th>\n",
       "      <th>rooms</th>\n",
       "      <th>ceiling_height</th>\n",
       "      <th>floors_total</th>\n",
       "      <th>living_area</th>\n",
       "      <th>floor</th>\n",
       "      <th>is_apartment</th>\n",
       "      <th>...</th>\n",
       "      <th>parks_around_3000</th>\n",
       "      <th>parks_nearest</th>\n",
       "      <th>ponds_around_3000</th>\n",
       "      <th>ponds_nearest</th>\n",
       "      <th>days_exposition</th>\n",
       "      <th>day_exposition</th>\n",
       "      <th>price_per_square_meter</th>\n",
       "      <th>ratio_residential_total_area</th>\n",
       "      <th>ratio_kitchen_total_area</th>\n",
       "      <th>category_floor</th>\n",
       "    </tr>\n",
       "  </thead>\n",
       "  <tbody>\n",
       "    <tr>\n",
       "      <th>1</th>\n",
       "      <td>7</td>\n",
       "      <td>3350000.0</td>\n",
       "      <td>40.4</td>\n",
       "      <td>2018-12-04T00:00:00</td>\n",
       "      <td>1</td>\n",
       "      <td>2.65</td>\n",
       "      <td>11.0</td>\n",
       "      <td>18.6</td>\n",
       "      <td>1</td>\n",
       "      <td>False</td>\n",
       "      <td>...</td>\n",
       "      <td>0.0</td>\n",
       "      <td>NaN</td>\n",
       "      <td>0.0</td>\n",
       "      <td>NaN</td>\n",
       "      <td>81.0</td>\n",
       "      <td>2018-12-04</td>\n",
       "      <td>82920.792079</td>\n",
       "      <td>0.460396</td>\n",
       "      <td>0.272277</td>\n",
       "      <td>Первый</td>\n",
       "    </tr>\n",
       "    <tr>\n",
       "      <th>2</th>\n",
       "      <td>10</td>\n",
       "      <td>5196000.0</td>\n",
       "      <td>56.0</td>\n",
       "      <td>2015-08-20T00:00:00</td>\n",
       "      <td>2</td>\n",
       "      <td>2.65</td>\n",
       "      <td>5.0</td>\n",
       "      <td>34.3</td>\n",
       "      <td>4</td>\n",
       "      <td>False</td>\n",
       "      <td>...</td>\n",
       "      <td>1.0</td>\n",
       "      <td>90.0</td>\n",
       "      <td>2.0</td>\n",
       "      <td>574.0</td>\n",
       "      <td>558.0</td>\n",
       "      <td>2015-08-20</td>\n",
       "      <td>92785.714286</td>\n",
       "      <td>0.612500</td>\n",
       "      <td>0.148214</td>\n",
       "      <td>Другой</td>\n",
       "    </tr>\n",
       "    <tr>\n",
       "      <th>4</th>\n",
       "      <td>2</td>\n",
       "      <td>10000000.0</td>\n",
       "      <td>100.0</td>\n",
       "      <td>2018-06-19T00:00:00</td>\n",
       "      <td>2</td>\n",
       "      <td>3.03</td>\n",
       "      <td>14.0</td>\n",
       "      <td>32.0</td>\n",
       "      <td>13</td>\n",
       "      <td>False</td>\n",
       "      <td>...</td>\n",
       "      <td>2.0</td>\n",
       "      <td>112.0</td>\n",
       "      <td>1.0</td>\n",
       "      <td>48.0</td>\n",
       "      <td>121.0</td>\n",
       "      <td>2018-06-19</td>\n",
       "      <td>100000.000000</td>\n",
       "      <td>0.320000</td>\n",
       "      <td>0.410000</td>\n",
       "      <td>Другой</td>\n",
       "    </tr>\n",
       "    <tr>\n",
       "      <th>5</th>\n",
       "      <td>10</td>\n",
       "      <td>2890000.0</td>\n",
       "      <td>30.4</td>\n",
       "      <td>2018-09-10T00:00:00</td>\n",
       "      <td>1</td>\n",
       "      <td>2.65</td>\n",
       "      <td>12.0</td>\n",
       "      <td>14.4</td>\n",
       "      <td>5</td>\n",
       "      <td>False</td>\n",
       "      <td>...</td>\n",
       "      <td>0.0</td>\n",
       "      <td>NaN</td>\n",
       "      <td>0.0</td>\n",
       "      <td>NaN</td>\n",
       "      <td>55.0</td>\n",
       "      <td>2018-09-10</td>\n",
       "      <td>95065.789474</td>\n",
       "      <td>0.473684</td>\n",
       "      <td>0.299342</td>\n",
       "      <td>Другой</td>\n",
       "    </tr>\n",
       "    <tr>\n",
       "      <th>6</th>\n",
       "      <td>6</td>\n",
       "      <td>3700000.0</td>\n",
       "      <td>37.3</td>\n",
       "      <td>2017-11-02T00:00:00</td>\n",
       "      <td>1</td>\n",
       "      <td>2.65</td>\n",
       "      <td>26.0</td>\n",
       "      <td>10.6</td>\n",
       "      <td>6</td>\n",
       "      <td>False</td>\n",
       "      <td>...</td>\n",
       "      <td>0.0</td>\n",
       "      <td>NaN</td>\n",
       "      <td>0.0</td>\n",
       "      <td>NaN</td>\n",
       "      <td>155.0</td>\n",
       "      <td>2017-11-02</td>\n",
       "      <td>99195.710456</td>\n",
       "      <td>0.284182</td>\n",
       "      <td>0.386059</td>\n",
       "      <td>Другой</td>\n",
       "    </tr>\n",
       "  </tbody>\n",
       "</table>\n",
       "<p>5 rows × 27 columns</p>\n",
       "</div>"
      ],
      "text/plain": [
       "   total_images  last_price  total_area first_day_exposition  rooms  \\\n",
       "1             7   3350000.0        40.4  2018-12-04T00:00:00      1   \n",
       "2            10   5196000.0        56.0  2015-08-20T00:00:00      2   \n",
       "4             2  10000000.0       100.0  2018-06-19T00:00:00      2   \n",
       "5            10   2890000.0        30.4  2018-09-10T00:00:00      1   \n",
       "6             6   3700000.0        37.3  2017-11-02T00:00:00      1   \n",
       "\n",
       "   ceiling_height  floors_total  living_area  floor is_apartment  ...  \\\n",
       "1            2.65          11.0         18.6      1        False  ...   \n",
       "2            2.65           5.0         34.3      4        False  ...   \n",
       "4            3.03          14.0         32.0     13        False  ...   \n",
       "5            2.65          12.0         14.4      5        False  ...   \n",
       "6            2.65          26.0         10.6      6        False  ...   \n",
       "\n",
       "   parks_around_3000  parks_nearest  ponds_around_3000 ponds_nearest  \\\n",
       "1                0.0            NaN                0.0           NaN   \n",
       "2                1.0           90.0                2.0         574.0   \n",
       "4                2.0          112.0                1.0          48.0   \n",
       "5                0.0            NaN                0.0           NaN   \n",
       "6                0.0            NaN                0.0           NaN   \n",
       "\n",
       "  days_exposition  day_exposition  price_per_square_meter  \\\n",
       "1            81.0      2018-12-04            82920.792079   \n",
       "2           558.0      2015-08-20            92785.714286   \n",
       "4           121.0      2018-06-19           100000.000000   \n",
       "5            55.0      2018-09-10            95065.789474   \n",
       "6           155.0      2017-11-02            99195.710456   \n",
       "\n",
       "   ratio_residential_total_area  ratio_kitchen_total_area  category_floor  \n",
       "1                      0.460396                  0.272277          Первый  \n",
       "2                      0.612500                  0.148214          Другой  \n",
       "4                      0.320000                  0.410000          Другой  \n",
       "5                      0.473684                  0.299342          Другой  \n",
       "6                      0.284182                  0.386059          Другой  \n",
       "\n",
       "[5 rows x 27 columns]"
      ]
     },
     "execution_count": 30,
     "metadata": {},
     "output_type": "execute_result"
    }
   ],
   "source": [
    "# Очищаем данные от необычно долгих продаж\n",
    "df_filtered.query('days_exposition < 1000').head()"
   ]
  },
  {
   "cell_type": "markdown",
   "id": "0f11971b",
   "metadata": {},
   "source": [
    "### 3.2. Изучение зависимости между данными"
   ]
  },
  {
   "cell_type": "markdown",
   "id": "6e93dc04",
   "metadata": {},
   "source": [
    "Факторы, которые необходимо проверить на взаимосвязь с ценой квартиры:\n",
    "1. Площадь квартиры в квадратных метрах\n",
    "2. Количество комнат в квартире\n",
    "3. Отдалённость от центра"
   ]
  },
  {
   "cell_type": "code",
   "execution_count": 31,
   "id": "75ddaefe",
   "metadata": {},
   "outputs": [],
   "source": [
    "# Функция для изучения влияния отзывов пользователей и критиков на продажи для самых перспективных платформ\n",
    "score = ['total_area', 'ceiling_height', 'rooms']\n",
    "labels = [\n",
    "    ['Площадь, м²'],\n",
    "    ['Высота потолков, м'],\n",
    "    ['Количество комнат']\n",
    "         ]\n",
    "def scatter_plot(df):\n",
    "    labels_dict = dict(zip(score, labels))\n",
    "    for i in score:\n",
    "        df.plot(x=i, y='last_price', kind='scatter', figsize=(12, 5))\n",
    "        plt.xlabel(labels_dict[i][0])\n",
    "        plt.ylabel('Цена, руб')\n",
    "        plt.title(f'Распределение {i}')"
   ]
  },
  {
   "cell_type": "code",
   "execution_count": 32,
   "id": "9b3f9c01",
   "metadata": {},
   "outputs": [
    {
     "data": {
      "image/png": "[encoded data removed]",
      "text/plain": [
       "<Figure size 864x360 with 1 Axes>"
      ]
     },
     "metadata": {},
     "output_type": "display_data"
    },
    {
     "data": {
      "image/png": "[encoded data removed]",
      "text/plain": [
       "<Figure size 864x360 with 1 Axes>"
      ]
     },
     "metadata": {},
     "output_type": "display_data"
    },
    {
     "data": {
      "image/png": "[encoded data removed]",
      "text/plain": [
       "<Figure size 864x360 with 1 Axes>"
      ]
     },
     "metadata": {},
     "output_type": "display_data"
    }
   ],
   "source": [
    "scatter_plot(df_filtered)"
   ]
  },
  {
   "cell_type": "markdown",
   "id": "b5aa150a",
   "metadata": {},
   "source": [
    "**Вывод**\n",
    "\n",
    "Что касается зависимости цены от площади, то на графике прослеживается следующая тенденция: чем больше площадь квартиры, тем больше её стоимость. А также, с увеличением площади, уменьшается и количество таких больших квартир. \n",
    "\n",
    "Что касается количества комнат в квартире, то тенденция такая же: с увеличением количества комнат, увеличивается и итоговая стоимость квартиры. После пяти комнат, график идёт на снижение, вероятно, от того, что таких квартир, с числом комнат больше 5, встречается намного реже остальных. \n",
    "\n",
    "Если говорить про зависимость цены от удалённости от центра, то здесь зависимость та же: видим, что, чем дальше квартира находится от центра, тем её стоимость ниже. А также с увеличением расстояния до центра, количество таких квартир уменьшается. "
   ]
  },
  {
   "cell_type": "code",
   "execution_count": 33,
   "id": "2bc01ffd",
   "metadata": {},
   "outputs": [
    {
     "data": {
      "text/html": [
       "<div>\n",
       "<style scoped>\n",
       "    .dataframe tbody tr th:only-of-type {\n",
       "        vertical-align: middle;\n",
       "    }\n",
       "\n",
       "    .dataframe tbody tr th {\n",
       "        vertical-align: top;\n",
       "    }\n",
       "\n",
       "    .dataframe thead th {\n",
       "        text-align: right;\n",
       "    }\n",
       "</style>\n",
       "<table border=\"1\" class=\"dataframe\">\n",
       "  <thead>\n",
       "    <tr style=\"text-align: right;\">\n",
       "      <th></th>\n",
       "      <th>last_price</th>\n",
       "      <th>total_area</th>\n",
       "      <th>rooms</th>\n",
       "      <th>city_centers_nearest</th>\n",
       "      <th>ceiling_height</th>\n",
       "    </tr>\n",
       "  </thead>\n",
       "  <tbody>\n",
       "    <tr>\n",
       "      <th>last_price</th>\n",
       "      <td>1.000000</td>\n",
       "      <td>0.784989</td>\n",
       "      <td>0.513566</td>\n",
       "      <td>-0.351153</td>\n",
       "      <td>0.429193</td>\n",
       "    </tr>\n",
       "    <tr>\n",
       "      <th>total_area</th>\n",
       "      <td>0.784989</td>\n",
       "      <td>1.000000</td>\n",
       "      <td>0.799535</td>\n",
       "      <td>-0.211000</td>\n",
       "      <td>0.374684</td>\n",
       "    </tr>\n",
       "    <tr>\n",
       "      <th>rooms</th>\n",
       "      <td>0.513566</td>\n",
       "      <td>0.799535</td>\n",
       "      <td>1.000000</td>\n",
       "      <td>-0.152867</td>\n",
       "      <td>0.203459</td>\n",
       "    </tr>\n",
       "    <tr>\n",
       "      <th>city_centers_nearest</th>\n",
       "      <td>-0.351153</td>\n",
       "      <td>-0.211000</td>\n",
       "      <td>-0.152867</td>\n",
       "      <td>1.000000</td>\n",
       "      <td>-0.286111</td>\n",
       "    </tr>\n",
       "    <tr>\n",
       "      <th>ceiling_height</th>\n",
       "      <td>0.429193</td>\n",
       "      <td>0.374684</td>\n",
       "      <td>0.203459</td>\n",
       "      <td>-0.286111</td>\n",
       "      <td>1.000000</td>\n",
       "    </tr>\n",
       "  </tbody>\n",
       "</table>\n",
       "</div>"
      ],
      "text/plain": [
       "                      last_price  total_area     rooms  city_centers_nearest  \\\n",
       "last_price              1.000000    0.784989  0.513566             -0.351153   \n",
       "total_area              0.784989    1.000000  0.799535             -0.211000   \n",
       "rooms                   0.513566    0.799535  1.000000             -0.152867   \n",
       "city_centers_nearest   -0.351153   -0.211000 -0.152867              1.000000   \n",
       "ceiling_height          0.429193    0.374684  0.203459             -0.286111   \n",
       "\n",
       "                      ceiling_height  \n",
       "last_price                  0.429193  \n",
       "total_area                  0.374684  \n",
       "rooms                       0.203459  \n",
       "city_centers_nearest       -0.286111  \n",
       "ceiling_height              1.000000  "
      ]
     },
     "execution_count": 33,
     "metadata": {},
     "output_type": "execute_result"
    }
   ],
   "source": [
    "# Считаем коэффициент корреляции Пирсона\n",
    "df_filtered[['last_price', 'total_area', 'rooms', 'city_centers_nearest', 'ceiling_height']].corr()"
   ]
  },
  {
   "cell_type": "markdown",
   "id": "c6655ac3",
   "metadata": {},
   "source": [
    "**Вывод**\n",
    "\n",
    "Если говорить про площадь, то здесь прямая зависимость. Показатель также находится на достаточно высоком уровне. Это говорит о том, что при увеличении числа комнат, стоимость квартиры будет увеличиваться. \n",
    "\n",
    "Что касается количества комнат, то здесь также прямая зависимость, но не такая большая, как с площадью. \n",
    "\n",
    "Анализируя зависимость цены от отдалённости от центра, то здесь прослеживается обратная зависимость, так как коэффициент отрицательный. Это говорит о том, что при увеличении показателя удалённости от центра, стоимость на квартиру будет снижаться. "
   ]
  },
  {
   "cell_type": "code",
   "execution_count": 34,
   "id": "f24a9d54",
   "metadata": {},
   "outputs": [],
   "source": [
    "# Изучаем зависимость цены от этажа\n",
    "def bar_floor(dataframe):\n",
    "    (dataframe.pivot_table(index='category_floor', values='last_price')\n",
    "             .plot(kind='bar', grid=True, figsize=(12, 5), width=0.3, legend=False)\n",
    "    )\n",
    "    plt.title('Зависимость цены от этажа')\n",
    "    plt.xlabel('Категория этажа')\n",
    "    plt.ylabel('Цена, руб')\n",
    "    plt.xticks(rotation=360);"
   ]
  },
  {
   "cell_type": "code",
   "execution_count": 35,
   "id": "1e9ae659",
   "metadata": {},
   "outputs": [
    {
     "data": {
      "image/png": "[encoded data removed]",
      "text/plain": [
       "<Figure size 864x360 with 1 Axes>"
      ]
     },
     "metadata": {},
     "output_type": "display_data"
    }
   ],
   "source": [
    "# Изучение зависимости цены от этажности для всех квартир датасета\n",
    "bar_floor(df_filtered)"
   ]
  },
  {
   "cell_type": "markdown",
   "id": "48684074",
   "metadata": {},
   "source": [
    "**Вывод**\n",
    "\n",
    "Анализируя этаж, на котором находится квартира, в данном случае рассматриваем первый и последний, то также можно заметить, что на первом этаже стоимость квартиры меньше, чем стоимость тех, что находятся на последнем. Однако, диаграмма показывает, что стоимость квартир, находящихся не на первом и не на последнем этажах, выше стоимости квартир, которые расположены на первом и на последнем этажах. Из этого можно сделать вывод, что больше всего ценятся не первые и не последние этажи. "
   ]
  },
  {
   "cell_type": "code",
   "execution_count": 36,
   "id": "03d0dd24",
   "metadata": {},
   "outputs": [],
   "source": [
    "# Добавляем отдельные столбцы с годом, месяцем и днём недели\n",
    "df_filtered['year'] = df['day_exposition'].dt.year\n",
    "df_filtered['month'] = df['day_exposition'].dt.month\n",
    "df_filtered['weekday'] = df['day_exposition'].dt.weekday"
   ]
  },
  {
   "cell_type": "code",
   "execution_count": 37,
   "id": "5f9785a0",
   "metadata": {},
   "outputs": [],
   "source": [
    "parametrs_2 = ['year', 'month', 'weekday']\n",
    "other_labels = [\n",
    "    ['Год'],\n",
    "    ['Месяц'],\n",
    "    ['День недели']\n",
    "         ]\n",
    "def bar_plot(df, price):\n",
    "    labels_dict = dict(zip(parametrs_2, other_labels))\n",
    "    for f in parametrs_2:\n",
    "        plt.figure(figsize=(12, 5))\n",
    "        df.groupby(f)[price].mean().plot(kind='bar', grid=True)\n",
    "        plt.xlabel(labels_dict[f][0])\n",
    "        plt.ylabel('Цена, руб.')\n",
    "        plt.title(f'Зависимость {price} от {f}')\n",
    "        plt.xticks(rotation=360);"
   ]
  },
  {
   "cell_type": "code",
   "execution_count": 38,
   "id": "2102a70e",
   "metadata": {},
   "outputs": [
    {
     "data": {
      "image/png": "[encoded data removed]",
      "text/plain": [
       "<Figure size 864x360 with 1 Axes>"
      ]
     },
     "metadata": {},
     "output_type": "display_data"
    },
    {
     "data": {
      "image/png": "[encoded data removed]",
      "text/plain": [
       "<Figure size 864x360 with 1 Axes>"
      ]
     },
     "metadata": {},
     "output_type": "display_data"
    },
    {
     "data": {
      "image/png": "[encoded data removed]",
      "text/plain": [
       "<Figure size 864x360 with 1 Axes>"
      ]
     },
     "metadata": {},
     "output_type": "display_data"
    }
   ],
   "source": [
    "bar_plot(df_filtered, 'price_per_square_meter')"
   ]
  },
  {
   "cell_type": "code",
   "execution_count": 39,
   "id": "6e634a7f",
   "metadata": {},
   "outputs": [
    {
     "data": {
      "image/png": "[encoded data removed]",
      "text/plain": [
       "<Figure size 864x360 with 1 Axes>"
      ]
     },
     "metadata": {},
     "output_type": "display_data"
    },
    {
     "data": {
      "image/png": "[encoded data removed]",
      "text/plain": [
       "<Figure size 864x360 with 1 Axes>"
      ]
     },
     "metadata": {},
     "output_type": "display_data"
    },
    {
     "data": {
      "image/png": "[encoded data removed]",
      "text/plain": [
       "<Figure size 864x360 with 1 Axes>"
      ]
     },
     "metadata": {},
     "output_type": "display_data"
    }
   ],
   "source": [
    "bar_plot(df_filtered, 'last_price')"
   ]
  },
  {
   "cell_type": "markdown",
   "id": "681504d4",
   "metadata": {},
   "source": [
    "**Вывод**\n",
    "\n",
    "Анализируя полученные диаграммы, можно увидеть, что зависимость цены за квадратный метр от года, месяца и дня отличается от зависимости цены на момент снятия с публикации от года, месяца и дня.\n",
    "\n",
    "Во-первых, в первом случае явно прослеживается спад цены относительно года, однако потом цена стремится к исходному положению и виден рост данного показателя. Во втором случае картина иная: виден резкий спад цены и некая стагнация, то есть прослеживается прямая по цене (цена почти не менялась 3 года: с 2016 по 2018), и только в 2019 году виден рост цены, но совсем не большой. \n",
    "\n",
    "Во-вторых, что касается второго и третьего графиков, то здесь так же есть изменения: диаграммы, построенные по столбцу `last_price` более чувствительны к изменениям, чем барплоты, построенные по столбцу `price_per_square_meter`: колебания в первом случае видны намного отчётливее, чем во втором."
   ]
  },
  {
   "cell_type": "markdown",
   "id": "c94e8696",
   "metadata": {},
   "source": [
    "### 3.3. Изучение жилья относительно населённого пункта"
   ]
  },
  {
   "cell_type": "code",
   "execution_count": 40,
   "id": "62c5ed16",
   "metadata": {},
   "outputs": [],
   "source": [
    "# Выбираем 10 населённых пунктов с наибольшим числом объявлений\n",
    "top_10_settlements = df_filtered['locality_name'].value_counts().head(10).index"
   ]
  },
  {
   "cell_type": "code",
   "execution_count": 41,
   "id": "b4b99359",
   "metadata": {},
   "outputs": [],
   "source": [
    "# Срезаем только те строки, в которых есть населённые пункты с наибольшим числом объявлений\n",
    "total_data_settlements = df_filtered[df_filtered['locality_name'].isin(top_10_settlements)]       "
   ]
  },
  {
   "cell_type": "code",
   "execution_count": 42,
   "id": "a25d90bf",
   "metadata": {},
   "outputs": [
    {
     "data": {
      "text/html": [
       "<div>\n",
       "<style scoped>\n",
       "    .dataframe tbody tr th:only-of-type {\n",
       "        vertical-align: middle;\n",
       "    }\n",
       "\n",
       "    .dataframe tbody tr th {\n",
       "        vertical-align: top;\n",
       "    }\n",
       "\n",
       "    .dataframe thead th {\n",
       "        text-align: right;\n",
       "    }\n",
       "</style>\n",
       "<table border=\"1\" class=\"dataframe\">\n",
       "  <thead>\n",
       "    <tr style=\"text-align: right;\">\n",
       "      <th></th>\n",
       "      <th>price_per_square_meter</th>\n",
       "    </tr>\n",
       "    <tr>\n",
       "      <th>locality_name</th>\n",
       "      <th></th>\n",
       "    </tr>\n",
       "  </thead>\n",
       "  <tbody>\n",
       "    <tr>\n",
       "      <th>Санкт-Петербург</th>\n",
       "      <td>109500.278022</td>\n",
       "    </tr>\n",
       "    <tr>\n",
       "      <th>Пушкин</th>\n",
       "      <td>102080.093399</td>\n",
       "    </tr>\n",
       "    <tr>\n",
       "      <th>деревня Кудрово</th>\n",
       "      <td>92473.547576</td>\n",
       "    </tr>\n",
       "    <tr>\n",
       "      <th>посёлок Парголово</th>\n",
       "      <td>90175.913458</td>\n",
       "    </tr>\n",
       "    <tr>\n",
       "      <th>посёлок Мурино</th>\n",
       "      <td>85725.241381</td>\n",
       "    </tr>\n",
       "    <tr>\n",
       "      <th>посёлок Шушары</th>\n",
       "      <td>78677.364217</td>\n",
       "    </tr>\n",
       "    <tr>\n",
       "      <th>Колпино</th>\n",
       "      <td>75333.295801</td>\n",
       "    </tr>\n",
       "    <tr>\n",
       "      <th>Гатчина</th>\n",
       "      <td>68811.372828</td>\n",
       "    </tr>\n",
       "    <tr>\n",
       "      <th>Всеволожск</th>\n",
       "      <td>68617.058829</td>\n",
       "    </tr>\n",
       "    <tr>\n",
       "      <th>Выборг</th>\n",
       "      <td>58250.660654</td>\n",
       "    </tr>\n",
       "  </tbody>\n",
       "</table>\n",
       "</div>"
      ],
      "text/plain": [
       "                   price_per_square_meter\n",
       "locality_name                            \n",
       "Санкт-Петербург             109500.278022\n",
       "Пушкин                      102080.093399\n",
       "деревня Кудрово              92473.547576\n",
       "посёлок Парголово            90175.913458\n",
       "посёлок Мурино               85725.241381\n",
       "посёлок Шушары               78677.364217\n",
       "Колпино                      75333.295801\n",
       "Гатчина                      68811.372828\n",
       "Всеволожск                   68617.058829\n",
       "Выборг                       58250.660654"
      ]
     },
     "execution_count": 42,
     "metadata": {},
     "output_type": "execute_result"
    }
   ],
   "source": [
    "# Находим среднюю цену квадратного метра в этих населённых пунктах\n",
    "top_10_piter = (total_data_settlements.pivot_table(index='locality_name', values='price_per_square_meter')\n",
    "                                      .sort_values(by='price_per_square_meter', ascending=False)\n",
    "               )\n",
    "top_10_piter"
   ]
  },
  {
   "cell_type": "code",
   "execution_count": 43,
   "id": "e0905b6f",
   "metadata": {},
   "outputs": [
    {
     "data": {
      "image/png": "[encoded data removed]",
      "text/plain": [
       "<Figure size 864x360 with 1 Axes>"
      ]
     },
     "metadata": {},
     "output_type": "display_data"
    }
   ],
   "source": [
    "# Изучение стоимости квадратного метра в населённых пунктах\n",
    "top_10_piter.plot(kind='bar', grid=True, \n",
    "                  figsize=(12, 5), legend=False)\n",
    "plt.xlabel('Название населённого пункта')\n",
    "plt.ylabel('Цена за 1 кв. м, руб')\n",
    "plt.title('Стоимость квадратного метра в населённом пункте')\n",
    "plt.xticks(rotation=45);"
   ]
  },
  {
   "cell_type": "markdown",
   "id": "5fcc6a03",
   "metadata": {},
   "source": [
    "**Вывод**\n",
    "\n",
    "На вышепредставленной диаграмме представлены 10 населённых пунктов с наибольшим числом объявлений"
   ]
  },
  {
   "cell_type": "markdown",
   "id": "9b49c8e4",
   "metadata": {},
   "source": [
    "### 3.4. Изучение предложения квартир"
   ]
  },
  {
   "cell_type": "code",
   "execution_count": 44,
   "id": "f6ae4e3d",
   "metadata": {},
   "outputs": [],
   "source": [
    "# Делаем срез по квартирам из Санкт-Петербурга\n",
    "df_grouped_piter = df_filtered[df_filtered['locality_name'] == 'Санкт-Петербург']"
   ]
  },
  {
   "cell_type": "code",
   "execution_count": 45,
   "id": "042fe3ec",
   "metadata": {},
   "outputs": [],
   "source": [
    "# Создаём столбец с расстоянием от населённого пункта до центра и переводим расстояние из метров в километры\n",
    "df_grouped_piter['integer_distance'] = df_filtered['city_centers_nearest'] / 1000\n",
    "# Округляем значения столбца\n",
    "df_grouped_piter['integer_distance'] = df_grouped_piter['integer_distance'].round()"
   ]
  },
  {
   "cell_type": "code",
   "execution_count": 46,
   "id": "103878a8",
   "metadata": {},
   "outputs": [],
   "source": [
    "# Создаём столбец, который отражает стоимость 1 кв. метра для каждого километра\n",
    "df_grouped_piter['price_per_km'] = df_grouped_piter['price_per_square_meter'] / df_grouped_piter['integer_distance']"
   ]
  },
  {
   "cell_type": "code",
   "execution_count": 47,
   "id": "81589ec5",
   "metadata": {},
   "outputs": [
    {
     "data": {
      "text/html": [
       "<div>\n",
       "<style scoped>\n",
       "    .dataframe tbody tr th:only-of-type {\n",
       "        vertical-align: middle;\n",
       "    }\n",
       "\n",
       "    .dataframe tbody tr th {\n",
       "        vertical-align: top;\n",
       "    }\n",
       "\n",
       "    .dataframe thead th {\n",
       "        text-align: right;\n",
       "    }\n",
       "</style>\n",
       "<table border=\"1\" class=\"dataframe\">\n",
       "  <thead>\n",
       "    <tr style=\"text-align: right;\">\n",
       "      <th></th>\n",
       "      <th>integer_distance</th>\n",
       "      <th>price_per_square_meter</th>\n",
       "    </tr>\n",
       "  </thead>\n",
       "  <tbody>\n",
       "    <tr>\n",
       "      <th>0</th>\n",
       "      <td>0.0</td>\n",
       "      <td>112706.249699</td>\n",
       "    </tr>\n",
       "    <tr>\n",
       "      <th>1</th>\n",
       "      <td>1.0</td>\n",
       "      <td>132402.139129</td>\n",
       "    </tr>\n",
       "    <tr>\n",
       "      <th>2</th>\n",
       "      <td>2.0</td>\n",
       "      <td>124807.077864</td>\n",
       "    </tr>\n",
       "    <tr>\n",
       "      <th>3</th>\n",
       "      <td>3.0</td>\n",
       "      <td>114024.889842</td>\n",
       "    </tr>\n",
       "    <tr>\n",
       "      <th>4</th>\n",
       "      <td>4.0</td>\n",
       "      <td>122794.432580</td>\n",
       "    </tr>\n",
       "  </tbody>\n",
       "</table>\n",
       "</div>"
      ],
      "text/plain": [
       "   integer_distance  price_per_square_meter\n",
       "0               0.0           112706.249699\n",
       "1               1.0           132402.139129\n",
       "2               2.0           124807.077864\n",
       "3               3.0           114024.889842\n",
       "4               4.0           122794.432580"
      ]
     },
     "execution_count": 47,
     "metadata": {},
     "output_type": "execute_result"
    }
   ],
   "source": [
    "df_grouped_piter.groupby('integer_distance', as_index=False).agg({'price_per_square_meter': 'mean'}).head()"
   ]
  },
  {
   "cell_type": "code",
   "execution_count": 48,
   "id": "365acf1b",
   "metadata": {},
   "outputs": [
    {
     "data": {
      "image/png": "[encoded data removed]",
      "text/plain": [
       "<Figure size 864x360 with 1 Axes>"
      ]
     },
     "metadata": {},
     "output_type": "display_data"
    }
   ],
   "source": [
    "# Строим график, который отражает зависимость цены за 1 кв. метр от удалённости от центра\n",
    "(df_grouped_piter.pivot_table(index='integer_distance', values='last_price')\n",
    "                 .plot(figsize=(12, 5), grid=True, legend=False)\n",
    ")\n",
    "plt.xlabel('Расстояние от населённого пункта до центра, км')\n",
    "plt.ylabel('Цена, руб')\n",
    "plt.title('Зависимость цены квартиры от удалённости от центра');"
   ]
  },
  {
   "cell_type": "markdown",
   "id": "6d4d5048",
   "metadata": {},
   "source": [
    "**Вывод**\n",
    "\n",
    "График отчётливо показывает, что, чем дальше квартира находится от центра, тем меньше у неё стоит один квадратный метр. \n",
    "\n",
    "Также, анализируя график, можно заметить, что сильное измнение направления графика прослеживается примерно на 10 км: после этой отметки сильное снижение стоимости не заметно, дальше график идёт приблизительно по прямой, следовательно, можно считать, что ключевая отметка зоны преодолена. По моему мнению, это означает, что квартиры, которые находятся дальше 10 км, расположены не в центральной зоне города. "
   ]
  },
  {
   "cell_type": "markdown",
   "id": "811c7dfd",
   "metadata": {},
   "source": [
    "### 3.5. Изучение квартир в центре"
   ]
  },
  {
   "cell_type": "code",
   "execution_count": 49,
   "id": "3e6f4b26",
   "metadata": {},
   "outputs": [],
   "source": [
    "# Выделяем те квартиры, которые находятся приблизительно в центральной зоне\n",
    "apartments_in_the_centers = df_grouped_piter[df_grouped_piter['integer_distance'] <= 10]"
   ]
  },
  {
   "cell_type": "code",
   "execution_count": 50,
   "id": "1b815270",
   "metadata": {},
   "outputs": [
    {
     "data": {
      "image/png": "[encoded data removed]",
      "text/plain": [
       "<Figure size 864x360 with 1 Axes>"
      ]
     },
     "metadata": {},
     "output_type": "display_data"
    },
    {
     "data": {
      "image/png": "[encoded data removed]",
      "text/plain": [
       "<Figure size 864x360 with 1 Axes>"
      ]
     },
     "metadata": {},
     "output_type": "display_data"
    },
    {
     "data": {
      "image/png": "[encoded data removed]",
      "text/plain": [
       "<Figure size 864x360 with 1 Axes>"
      ]
     },
     "metadata": {},
     "output_type": "display_data"
    },
    {
     "data": {
      "image/png": "[encoded data removed]",
      "text/plain": [
       "<Figure size 864x360 with 1 Axes>"
      ]
     },
     "metadata": {},
     "output_type": "display_data"
    }
   ],
   "source": [
    "hist_histogram(apartments_in_the_centers)"
   ]
  },
  {
   "cell_type": "markdown",
   "id": "16ee8b5e",
   "metadata": {},
   "source": [
    "**Вывод**\n",
    "\n",
    "Что касается квартир, которые находятся в центре, то большиснтво из них имеют площадь примерно от 40-60 кв. метров. \n",
    "\n",
    "Если говорить про цену квадратного метра, то у наибольшего количества квартир этот показатель равен приблизительно 112 тясяч рублей. \n",
    "\n",
    "Комнаты у квартир в центре распределны с наибольшей частотой в диапазоне от 1 до 3. \n",
    "\n",
    "Говоря про высоту потолков исследуемых квартир, то большинство объектов имеют высоту примерно от 2.5 до 3 метров"
   ]
  },
  {
   "cell_type": "markdown",
   "id": "7446c137",
   "metadata": {},
   "source": [
    "**Вывод**\n",
    "\n",
    "Судя по матрице корреляции, для квартир, находящихся в центре, взаимосвязи между ценой и факторами, которые потенциально могли бы повлиять на стоимость квартиры, нет, либо она очень маленькая. "
   ]
  },
  {
   "cell_type": "code",
   "execution_count": 51,
   "id": "8851b814",
   "metadata": {},
   "outputs": [
    {
     "data": {
      "image/png": "[encoded data removed]",
      "text/plain": [
       "<Figure size 864x360 with 1 Axes>"
      ]
     },
     "metadata": {},
     "output_type": "display_data"
    }
   ],
   "source": [
    "# Изучение зависимости цены от этажности для квартир в центре\n",
    "bar_floor(apartments_in_the_centers)"
   ]
  },
  {
   "cell_type": "code",
   "execution_count": 52,
   "id": "9f8cb6b6",
   "metadata": {},
   "outputs": [
    {
     "data": {
      "image/png": "[encoded data removed]",
      "text/plain": [
       "<Figure size 864x360 with 1 Axes>"
      ]
     },
     "metadata": {},
     "output_type": "display_data"
    },
    {
     "data": {
      "image/png": "[encoded data removed]",
      "text/plain": [
       "<Figure size 864x360 with 1 Axes>"
      ]
     },
     "metadata": {},
     "output_type": "display_data"
    },
    {
     "data": {
      "image/png": "[encoded data removed]",
      "text/plain": [
       "<Figure size 864x360 with 1 Axes>"
      ]
     },
     "metadata": {},
     "output_type": "display_data"
    }
   ],
   "source": [
    "scatter_plot(apartments_in_the_centers)"
   ]
  },
  {
   "cell_type": "code",
   "execution_count": 53,
   "id": "13961519",
   "metadata": {},
   "outputs": [
    {
     "data": {
      "text/html": [
       "<div>\n",
       "<style scoped>\n",
       "    .dataframe tbody tr th:only-of-type {\n",
       "        vertical-align: middle;\n",
       "    }\n",
       "\n",
       "    .dataframe tbody tr th {\n",
       "        vertical-align: top;\n",
       "    }\n",
       "\n",
       "    .dataframe thead th {\n",
       "        text-align: right;\n",
       "    }\n",
       "</style>\n",
       "<table border=\"1\" class=\"dataframe\">\n",
       "  <thead>\n",
       "    <tr style=\"text-align: right;\">\n",
       "      <th></th>\n",
       "      <th>last_price</th>\n",
       "      <th>rooms</th>\n",
       "      <th>ceiling_height</th>\n",
       "      <th>total_area</th>\n",
       "    </tr>\n",
       "  </thead>\n",
       "  <tbody>\n",
       "    <tr>\n",
       "      <th>last_price</th>\n",
       "      <td>1.000000</td>\n",
       "      <td>0.537343</td>\n",
       "      <td>0.311644</td>\n",
       "      <td>0.779645</td>\n",
       "    </tr>\n",
       "    <tr>\n",
       "      <th>rooms</th>\n",
       "      <td>0.537343</td>\n",
       "      <td>1.000000</td>\n",
       "      <td>0.292030</td>\n",
       "      <td>0.821770</td>\n",
       "    </tr>\n",
       "    <tr>\n",
       "      <th>ceiling_height</th>\n",
       "      <td>0.311644</td>\n",
       "      <td>0.292030</td>\n",
       "      <td>1.000000</td>\n",
       "      <td>0.350070</td>\n",
       "    </tr>\n",
       "    <tr>\n",
       "      <th>total_area</th>\n",
       "      <td>0.779645</td>\n",
       "      <td>0.821770</td>\n",
       "      <td>0.350070</td>\n",
       "      <td>1.000000</td>\n",
       "    </tr>\n",
       "  </tbody>\n",
       "</table>\n",
       "</div>"
      ],
      "text/plain": [
       "                last_price     rooms  ceiling_height  total_area\n",
       "last_price        1.000000  0.537343        0.311644    0.779645\n",
       "rooms             0.537343  1.000000        0.292030    0.821770\n",
       "ceiling_height    0.311644  0.292030        1.000000    0.350070\n",
       "total_area        0.779645  0.821770        0.350070    1.000000"
      ]
     },
     "execution_count": 53,
     "metadata": {},
     "output_type": "execute_result"
    }
   ],
   "source": [
    "apartments_in_the_centers[['last_price', 'rooms', 'ceiling_height', 'total_area']].corr()"
   ]
  },
  {
   "cell_type": "markdown",
   "id": "62e2c876",
   "metadata": {},
   "source": [
    "**Вывод**\n",
    "\n",
    "Что касается зависимости цены от количества комнат, то она достаточно заметная: при увеличении числа комнат, увеличивается и стоимость квартиры. \n",
    "\n",
    "Если говорить про взаимосвязь между высотой потолков и ценой, то она умеренная, и как и предыдущая - прямая. Прослеживается связь, что при увеличении метража потолков, увеличивается и стоимость квартиры. \n",
    "\n",
    "Однако, если говорить про отдалённость от центра, то связь умеренная, обратная: при увеличении расстояния, снижается стоимость квартиры. "
   ]
  },
  {
   "cell_type": "code",
   "execution_count": 54,
   "id": "107eb92b",
   "metadata": {},
   "outputs": [
    {
     "data": {
      "image/png": "[encoded data removed]",
      "text/plain": [
       "<Figure size 864x360 with 1 Axes>"
      ]
     },
     "metadata": {},
     "output_type": "display_data"
    },
    {
     "data": {
      "image/png": "[encoded data removed]",
      "text/plain": [
       "<Figure size 864x360 with 1 Axes>"
      ]
     },
     "metadata": {},
     "output_type": "display_data"
    },
    {
     "data": {
      "image/png": "[encoded data removed]",
      "text/plain": [
       "<Figure size 864x360 with 1 Axes>"
      ]
     },
     "metadata": {},
     "output_type": "display_data"
    }
   ],
   "source": [
    "bar_plot(apartments_in_the_centers, 'price_per_square_meter')"
   ]
  },
  {
   "cell_type": "markdown",
   "id": "b4661754",
   "metadata": {},
   "source": [
    "**Вывод по квартирам в центре**\n",
    "\n",
    "Что касается зависимости цены за квадратный метр от года, то здесь можем заметить некую тенденцию роста: при увиличении года, растёт и цена за квадратный метр квартиры. \n",
    "\n",
    "Если анализировать зависимость между ценой за квадратный метр и месяцем, то здесь скорее прослеживается некая цикличность: цена с каждым месяцем возрастает до определённого момента, а потом снижается. Можно предположить, что это происходит системно. \n",
    "\n",
    "Если смотреть на график зависимости этой же цены от дня недели, то здесь скорее её нет: цена почти не менятся в зависимости от дня недели, поэтому можно утверждать, что день недели не влияет на цену. "
   ]
  },
  {
   "cell_type": "markdown",
   "id": "314ea2c9",
   "metadata": {},
   "source": [
    "**Вывод**\n",
    "\n",
    "Если сравнивать квартиры в центре с общим датасетом, то у них заметна разница в цене за квадратный метр по годам: у квартир, которые находятся в центре, достаточно явный подъём в цене из года в год, что не скажешь о квартирах из общего датасета, там виден спад приблизительно до 2016 - середины 2017 годов. \n",
    "\n",
    "Также, что касается зависимости от месяцев, то у квартир в центре, колебания прослеживаются сильнее: перепады видны отчётливее.\n",
    "\n",
    "А что касается дней недели, то ни там, ни там зависимость не видна. "
   ]
  },
  {
   "cell_type": "markdown",
   "id": "5368df16",
   "metadata": {},
   "source": [
    "## 4. Итоговый вывод"
   ]
  },
  {
   "cell_type": "markdown",
   "id": "163bb538",
   "metadata": {},
   "source": [
    "В рамках данного исследования была проанализирована недвижимость. Для достижения результата и поставленных целей, в рамках проекта были осуществлены следующие действия.\n",
    "\n",
    "В процессе исследования были выявлены следующие моменты:\n",
    "\n",
    "1. Зависимость между ценой на момент снятия с публикации и общей площадью явно прослеживается достаточно сильно: с увеличением площади, увеличивается и цена, следовательно, можно добавить, что зависимость прямая.\n",
    "2. Зависимость между ценой на момент снятия с публикации и отдалённостью от центра также прослеживается: с увеличением расстояния, снижается стоимость квартир, а также и количество таких квартир. Необходимо заметить, что зависимость обратная.\n",
    "3. Зависимость между ценой на момент снятия с публикации и числом комнат также прослеживается достаточно хорошо: с увеличением числа комнат, увеличивается и стоимость квартир, необходимо добавить. Замечу, что зависимость представлена прямая. \n",
    "4. Больше всего ценятся квартиры, которые находятся не на первом и не на последнем этажах. \n",
    "5. Было выявлено, что, начиная с 2016 года по 2019 цена за квадратный метр показывает явный рост и здесь можно точно заметить, что зависимость цены за квадратный метр от года, наблюдается досаточно хорошо. Если говорить про взаимосвязь цены от месяца и дня недели, то здесь нет чёткого представления, прослеживаются некие цикличные скачки, хоть и совсем не большие, то в большую, то в меньшую стороны. \n",
    "6. Наиболее часто встречаемая площадь изучаемых квартир находится в диапазоне примерно от 40 до 60. \n",
    "7. Большинство квартир, которые были изучены в датафрейме, стоят приблизительно 5 млн. рублей.\n",
    "8. Наибольшее количество комнат в исследуемых в квартирах находятся в диапазоне от 1 до 3. А также высота потолков в большинстве квартирах равна примерно 2.7 метров. \n",
    "9. Медианное время продажи квартир равно 94 дня, а также большинство квартир продаются приблизительно за 80 дней. \n",
    "10. Анализируя квартиры в центре и квартиры, находящиеся не в центре, то у них заметна разница в цене за квадратный метр по годам, а также видна корреляция по месяцам, однако выявить взаимосвязь между дням недели не удалось. "
   ]
  }
 ],
 "metadata": {
  "ExecuteTimeLog": [
   {
    "duration": 13,
    "start_time": "2022-05-20T21:19:29.948Z"
   },
   {
    "duration": 4,
    "start_time": "2022-05-20T22:12:54.231Z"
   },
   {
    "duration": 4,
    "start_time": "2022-05-20T22:12:59.069Z"
   },
   {
    "duration": 40,
    "start_time": "2022-05-20T22:13:05.077Z"
   },
   {
    "duration": 86,
    "start_time": "2022-05-20T22:13:08.990Z"
   },
   {
    "duration": 3,
    "start_time": "2022-05-20T22:13:53.465Z"
   },
   {
    "duration": 129,
    "start_time": "2022-05-20T22:13:53.473Z"
   },
   {
    "duration": 25,
    "start_time": "2022-05-20T22:13:53.604Z"
   },
   {
    "duration": 13,
    "start_time": "2022-05-20T22:13:53.631Z"
   },
   {
    "duration": 5,
    "start_time": "2022-05-20T22:13:53.646Z"
   },
   {
    "duration": 25,
    "start_time": "2022-05-20T22:13:53.652Z"
   },
   {
    "duration": 24,
    "start_time": "2022-05-20T22:13:53.679Z"
   },
   {
    "duration": 10,
    "start_time": "2022-05-20T22:13:53.704Z"
   },
   {
    "duration": 16,
    "start_time": "2022-05-20T22:13:53.716Z"
   },
   {
    "duration": 15,
    "start_time": "2022-05-20T22:13:53.734Z"
   },
   {
    "duration": 13,
    "start_time": "2022-05-20T22:13:53.751Z"
   },
   {
    "duration": 8,
    "start_time": "2022-05-20T22:13:53.765Z"
   },
   {
    "duration": 40,
    "start_time": "2022-05-20T22:13:53.774Z"
   },
   {
    "duration": 324,
    "start_time": "2022-05-20T22:13:53.816Z"
   },
   {
    "duration": 25,
    "start_time": "2022-05-20T22:13:54.142Z"
   },
   {
    "duration": 980,
    "start_time": "2022-05-20T22:13:54.168Z"
   },
   {
    "duration": 243,
    "start_time": "2022-05-20T22:13:55.149Z"
   },
   {
    "duration": 8,
    "start_time": "2022-05-20T22:13:55.394Z"
   },
   {
    "duration": 138,
    "start_time": "2022-05-20T22:13:55.404Z"
   },
   {
    "duration": 9,
    "start_time": "2022-05-20T22:13:55.544Z"
   },
   {
    "duration": 7,
    "start_time": "2022-05-20T22:13:55.554Z"
   },
   {
    "duration": 378,
    "start_time": "2022-05-20T22:13:55.563Z"
   },
   {
    "duration": 8,
    "start_time": "2022-05-20T22:13:55.943Z"
   },
   {
    "duration": 69,
    "start_time": "2022-05-20T22:13:55.953Z"
   },
   {
    "duration": 563,
    "start_time": "2022-05-20T22:13:56.024Z"
   },
   {
    "duration": 4,
    "start_time": "2022-05-20T22:13:56.589Z"
   },
   {
    "duration": 159,
    "start_time": "2022-05-20T22:13:56.595Z"
   },
   {
    "duration": 45,
    "start_time": "2022-05-20T22:13:56.757Z"
   },
   {
    "duration": 12,
    "start_time": "2022-05-20T22:13:56.805Z"
   },
   {
    "duration": 13,
    "start_time": "2022-05-20T22:13:56.819Z"
   },
   {
    "duration": 27,
    "start_time": "2022-05-20T22:13:56.834Z"
   },
   {
    "duration": 30,
    "start_time": "2022-05-20T22:13:56.862Z"
   },
   {
    "duration": 13,
    "start_time": "2022-05-20T22:13:56.894Z"
   },
   {
    "duration": 68,
    "start_time": "2022-05-20T22:13:56.908Z"
   },
   {
    "duration": 4,
    "start_time": "2022-05-20T22:13:56.978Z"
   },
   {
    "duration": 8,
    "start_time": "2022-05-20T22:13:59.043Z"
   },
   {
    "duration": 14,
    "start_time": "2022-05-20T22:14:27.897Z"
   },
   {
    "duration": 3,
    "start_time": "2022-05-20T22:34:03.943Z"
   },
   {
    "duration": 120,
    "start_time": "2022-05-20T22:34:03.948Z"
   },
   {
    "duration": 42,
    "start_time": "2022-05-20T22:34:04.070Z"
   },
   {
    "duration": 16,
    "start_time": "2022-05-20T22:34:04.114Z"
   },
   {
    "duration": 6,
    "start_time": "2022-05-20T22:34:04.132Z"
   },
   {
    "duration": 17,
    "start_time": "2022-05-20T22:34:04.140Z"
   },
   {
    "duration": 46,
    "start_time": "2022-05-20T22:34:04.159Z"
   },
   {
    "duration": 7,
    "start_time": "2022-05-20T22:34:04.206Z"
   },
   {
    "duration": 17,
    "start_time": "2022-05-20T22:34:04.215Z"
   },
   {
    "duration": 6,
    "start_time": "2022-05-20T22:34:04.234Z"
   },
   {
    "duration": 16,
    "start_time": "2022-05-20T22:34:04.243Z"
   },
   {
    "duration": 8,
    "start_time": "2022-05-20T22:34:04.261Z"
   },
   {
    "duration": 44,
    "start_time": "2022-05-20T22:34:04.270Z"
   },
   {
    "duration": 359,
    "start_time": "2022-05-20T22:34:04.316Z"
   },
   {
    "duration": 34,
    "start_time": "2022-05-20T22:34:04.676Z"
   },
   {
    "duration": 1057,
    "start_time": "2022-05-20T22:34:04.711Z"
   },
   {
    "duration": 278,
    "start_time": "2022-05-20T22:34:05.770Z"
   },
   {
    "duration": 7,
    "start_time": "2022-05-20T22:34:06.049Z"
   },
   {
    "duration": 147,
    "start_time": "2022-05-20T22:34:06.057Z"
   },
   {
    "duration": 9,
    "start_time": "2022-05-20T22:34:06.205Z"
   },
   {
    "duration": 7,
    "start_time": "2022-05-20T22:34:06.216Z"
   },
   {
    "duration": 284,
    "start_time": "2022-05-20T22:34:06.225Z"
   },
   {
    "duration": 7,
    "start_time": "2022-05-20T22:34:06.511Z"
   },
   {
    "duration": 54,
    "start_time": "2022-05-20T22:34:06.520Z"
   },
   {
    "duration": 611,
    "start_time": "2022-05-20T22:34:06.575Z"
   },
   {
    "duration": 4,
    "start_time": "2022-05-20T22:34:07.188Z"
   },
   {
    "duration": 174,
    "start_time": "2022-05-20T22:34:07.194Z"
   },
   {
    "duration": 37,
    "start_time": "2022-05-20T22:34:07.370Z"
   },
   {
    "duration": 10,
    "start_time": "2022-05-20T22:34:07.412Z"
   },
   {
    "duration": 5,
    "start_time": "2022-05-20T22:34:07.424Z"
   },
   {
    "duration": 17,
    "start_time": "2022-05-20T22:34:07.431Z"
   },
   {
    "duration": 16,
    "start_time": "2022-05-20T22:34:07.449Z"
   },
   {
    "duration": 6,
    "start_time": "2022-05-20T22:34:07.467Z"
   },
   {
    "duration": 65,
    "start_time": "2022-05-20T22:34:07.475Z"
   },
   {
    "duration": 4,
    "start_time": "2022-05-20T22:34:07.542Z"
   },
   {
    "duration": 304,
    "start_time": "2022-05-20T22:34:07.548Z"
   },
   {
    "duration": 5,
    "start_time": "2022-05-20T22:34:07.854Z"
   },
   {
    "duration": 12,
    "start_time": "2022-05-20T22:34:07.860Z"
   },
   {
    "duration": 1014,
    "start_time": "2022-05-20T22:34:07.874Z"
   },
   {
    "duration": 27,
    "start_time": "2022-05-20T22:34:08.890Z"
   },
   {
    "duration": 963,
    "start_time": "2022-05-21T05:49:02.758Z"
   },
   {
    "duration": 168,
    "start_time": "2022-05-21T05:49:03.726Z"
   },
   {
    "duration": 46,
    "start_time": "2022-05-21T05:49:03.897Z"
   },
   {
    "duration": 26,
    "start_time": "2022-05-21T05:49:03.945Z"
   },
   {
    "duration": 6,
    "start_time": "2022-05-21T05:49:03.974Z"
   },
   {
    "duration": 22,
    "start_time": "2022-05-21T05:49:03.983Z"
   },
   {
    "duration": 14,
    "start_time": "2022-05-21T05:49:04.008Z"
   },
   {
    "duration": 41,
    "start_time": "2022-05-21T05:49:04.024Z"
   },
   {
    "duration": 22,
    "start_time": "2022-05-21T05:49:04.067Z"
   },
   {
    "duration": 136,
    "start_time": "2022-05-21T05:49:04.091Z"
   },
   {
    "duration": 0,
    "start_time": "2022-05-21T05:49:04.230Z"
   },
   {
    "duration": 0,
    "start_time": "2022-05-21T05:49:04.232Z"
   },
   {
    "duration": 0,
    "start_time": "2022-05-21T05:49:04.233Z"
   },
   {
    "duration": 0,
    "start_time": "2022-05-21T05:49:04.234Z"
   },
   {
    "duration": 0,
    "start_time": "2022-05-21T05:49:04.235Z"
   },
   {
    "duration": 0,
    "start_time": "2022-05-21T05:49:04.236Z"
   },
   {
    "duration": 0,
    "start_time": "2022-05-21T05:49:04.238Z"
   },
   {
    "duration": 0,
    "start_time": "2022-05-21T05:49:04.239Z"
   },
   {
    "duration": 0,
    "start_time": "2022-05-21T05:49:04.241Z"
   },
   {
    "duration": 0,
    "start_time": "2022-05-21T05:49:04.242Z"
   },
   {
    "duration": 0,
    "start_time": "2022-05-21T05:49:04.264Z"
   },
   {
    "duration": 0,
    "start_time": "2022-05-21T05:49:04.266Z"
   },
   {
    "duration": 0,
    "start_time": "2022-05-21T05:49:04.267Z"
   },
   {
    "duration": 0,
    "start_time": "2022-05-21T05:49:04.269Z"
   },
   {
    "duration": 0,
    "start_time": "2022-05-21T05:49:04.270Z"
   },
   {
    "duration": 0,
    "start_time": "2022-05-21T05:49:04.271Z"
   },
   {
    "duration": 0,
    "start_time": "2022-05-21T05:49:04.273Z"
   },
   {
    "duration": 0,
    "start_time": "2022-05-21T05:49:04.274Z"
   },
   {
    "duration": 0,
    "start_time": "2022-05-21T05:49:04.275Z"
   },
   {
    "duration": 0,
    "start_time": "2022-05-21T05:49:04.276Z"
   },
   {
    "duration": 0,
    "start_time": "2022-05-21T05:49:04.277Z"
   },
   {
    "duration": 0,
    "start_time": "2022-05-21T05:49:04.278Z"
   },
   {
    "duration": 0,
    "start_time": "2022-05-21T05:49:04.280Z"
   },
   {
    "duration": 0,
    "start_time": "2022-05-21T05:49:04.281Z"
   },
   {
    "duration": 1,
    "start_time": "2022-05-21T05:49:04.282Z"
   },
   {
    "duration": 0,
    "start_time": "2022-05-21T05:49:04.284Z"
   },
   {
    "duration": 0,
    "start_time": "2022-05-21T05:49:04.286Z"
   },
   {
    "duration": 0,
    "start_time": "2022-05-21T05:49:04.287Z"
   },
   {
    "duration": 0,
    "start_time": "2022-05-21T05:49:04.288Z"
   },
   {
    "duration": 0,
    "start_time": "2022-05-21T05:49:04.289Z"
   },
   {
    "duration": 0,
    "start_time": "2022-05-21T05:49:04.291Z"
   },
   {
    "duration": 5,
    "start_time": "2022-05-21T05:50:25.415Z"
   },
   {
    "duration": 4,
    "start_time": "2022-05-21T05:50:55.408Z"
   },
   {
    "duration": 8,
    "start_time": "2022-05-21T05:51:38.894Z"
   },
   {
    "duration": 5,
    "start_time": "2022-05-21T06:04:04.878Z"
   },
   {
    "duration": 295,
    "start_time": "2022-05-21T06:14:44.700Z"
   },
   {
    "duration": 56,
    "start_time": "2022-05-21T06:14:50.209Z"
   },
   {
    "duration": 12,
    "start_time": "2022-05-21T06:15:19.481Z"
   },
   {
    "duration": 69,
    "start_time": "2022-05-21T06:17:00.570Z"
   },
   {
    "duration": 7,
    "start_time": "2022-05-21T06:17:56.508Z"
   },
   {
    "duration": 1271,
    "start_time": "2022-05-21T06:18:04.584Z"
   },
   {
    "duration": 88,
    "start_time": "2022-05-21T06:18:43.662Z"
   },
   {
    "duration": 10,
    "start_time": "2022-05-21T06:18:51.091Z"
   },
   {
    "duration": 53,
    "start_time": "2022-05-21T06:18:54.270Z"
   },
   {
    "duration": 58,
    "start_time": "2022-05-21T06:19:00.854Z"
   },
   {
    "duration": 1993,
    "start_time": "2022-05-21T06:19:11.253Z"
   },
   {
    "duration": 249,
    "start_time": "2022-05-21T06:19:13.250Z"
   },
   {
    "duration": 34,
    "start_time": "2022-05-21T06:19:13.502Z"
   },
   {
    "duration": 91,
    "start_time": "2022-05-21T06:19:13.539Z"
   },
   {
    "duration": 73,
    "start_time": "2022-05-21T06:19:13.632Z"
   },
   {
    "duration": 53,
    "start_time": "2022-05-21T06:19:13.708Z"
   },
   {
    "duration": 20,
    "start_time": "2022-05-21T06:19:13.763Z"
   },
   {
    "duration": 70,
    "start_time": "2022-05-21T06:19:13.786Z"
   },
   {
    "duration": 137,
    "start_time": "2022-05-21T06:19:13.858Z"
   },
   {
    "duration": 33,
    "start_time": "2022-05-21T06:19:13.999Z"
   },
   {
    "duration": 17,
    "start_time": "2022-05-21T06:19:14.035Z"
   },
   {
    "duration": 32,
    "start_time": "2022-05-21T06:19:14.055Z"
   },
   {
    "duration": 13,
    "start_time": "2022-05-21T06:19:14.090Z"
   },
   {
    "duration": 21,
    "start_time": "2022-05-21T06:19:14.105Z"
   },
   {
    "duration": 15,
    "start_time": "2022-05-21T06:19:14.129Z"
   },
   {
    "duration": 30,
    "start_time": "2022-05-21T06:19:14.147Z"
   },
   {
    "duration": 442,
    "start_time": "2022-05-21T06:19:14.179Z"
   },
   {
    "duration": 40,
    "start_time": "2022-05-21T06:19:14.624Z"
   },
   {
    "duration": 1244,
    "start_time": "2022-05-21T06:19:14.666Z"
   },
   {
    "duration": 71,
    "start_time": "2022-05-21T06:19:15.912Z"
   },
   {
    "duration": 53,
    "start_time": "2022-05-21T06:19:15.985Z"
   },
   {
    "duration": 306,
    "start_time": "2022-05-21T06:19:16.039Z"
   },
   {
    "duration": 20,
    "start_time": "2022-05-21T06:19:16.347Z"
   },
   {
    "duration": 149,
    "start_time": "2022-05-21T06:19:16.369Z"
   },
   {
    "duration": 10,
    "start_time": "2022-05-21T06:19:16.521Z"
   },
   {
    "duration": 12,
    "start_time": "2022-05-21T06:19:16.533Z"
   },
   {
    "duration": 303,
    "start_time": "2022-05-21T06:19:16.547Z"
   },
   {
    "duration": 11,
    "start_time": "2022-05-21T06:19:16.854Z"
   },
   {
    "duration": 55,
    "start_time": "2022-05-21T06:19:16.867Z"
   },
   {
    "duration": 622,
    "start_time": "2022-05-21T06:19:16.924Z"
   },
   {
    "duration": 4,
    "start_time": "2022-05-21T06:19:17.548Z"
   },
   {
    "duration": 174,
    "start_time": "2022-05-21T06:19:17.554Z"
   },
   {
    "duration": 47,
    "start_time": "2022-05-21T06:19:17.729Z"
   },
   {
    "duration": 12,
    "start_time": "2022-05-21T06:19:17.777Z"
   },
   {
    "duration": 26,
    "start_time": "2022-05-21T06:19:17.791Z"
   },
   {
    "duration": 27,
    "start_time": "2022-05-21T06:19:17.819Z"
   },
   {
    "duration": 36,
    "start_time": "2022-05-21T06:19:17.848Z"
   },
   {
    "duration": 19,
    "start_time": "2022-05-21T06:19:17.886Z"
   },
   {
    "duration": 54,
    "start_time": "2022-05-21T06:19:17.907Z"
   },
   {
    "duration": 5,
    "start_time": "2022-05-21T06:19:17.963Z"
   },
   {
    "duration": 198,
    "start_time": "2022-05-21T06:19:17.970Z"
   },
   {
    "duration": 6,
    "start_time": "2022-05-21T06:19:18.170Z"
   },
   {
    "duration": 17,
    "start_time": "2022-05-21T06:19:18.179Z"
   },
   {
    "duration": 1236,
    "start_time": "2022-05-21T06:19:18.198Z"
   },
   {
    "duration": 29,
    "start_time": "2022-05-21T06:19:19.436Z"
   },
   {
    "duration": 10,
    "start_time": "2022-05-21T06:19:54.520Z"
   },
   {
    "duration": 10,
    "start_time": "2022-05-21T06:19:57.791Z"
   },
   {
    "duration": 9,
    "start_time": "2022-05-21T06:26:29.105Z"
   },
   {
    "duration": 49,
    "start_time": "2022-05-21T06:26:34.803Z"
   },
   {
    "duration": 17,
    "start_time": "2022-05-21T06:27:05.013Z"
   },
   {
    "duration": 53,
    "start_time": "2022-05-21T06:28:22.495Z"
   },
   {
    "duration": 994,
    "start_time": "2022-05-22T09:04:41.917Z"
   },
   {
    "duration": 189,
    "start_time": "2022-05-22T09:04:42.913Z"
   },
   {
    "duration": 33,
    "start_time": "2022-05-22T09:04:43.104Z"
   },
   {
    "duration": 17,
    "start_time": "2022-05-22T09:04:43.139Z"
   },
   {
    "duration": 11,
    "start_time": "2022-05-22T09:04:43.157Z"
   },
   {
    "duration": 42,
    "start_time": "2022-05-22T09:04:43.174Z"
   },
   {
    "duration": 10,
    "start_time": "2022-05-22T09:04:43.217Z"
   },
   {
    "duration": 11,
    "start_time": "2022-05-22T09:04:43.228Z"
   },
   {
    "duration": 3,
    "start_time": "2022-05-22T09:04:43.240Z"
   },
   {
    "duration": 4,
    "start_time": "2022-05-22T09:04:43.246Z"
   },
   {
    "duration": 26,
    "start_time": "2022-05-22T09:04:43.251Z"
   },
   {
    "duration": 21,
    "start_time": "2022-05-22T09:04:43.284Z"
   },
   {
    "duration": 10,
    "start_time": "2022-05-22T09:04:43.307Z"
   },
   {
    "duration": 10,
    "start_time": "2022-05-22T09:04:43.319Z"
   },
   {
    "duration": 15,
    "start_time": "2022-05-22T09:04:43.331Z"
   },
   {
    "duration": 12,
    "start_time": "2022-05-22T09:04:43.348Z"
   },
   {
    "duration": 61,
    "start_time": "2022-05-22T09:04:43.362Z"
   },
   {
    "duration": 466,
    "start_time": "2022-05-22T09:04:43.424Z"
   },
   {
    "duration": 35,
    "start_time": "2022-05-22T09:04:43.892Z"
   },
   {
    "duration": 1178,
    "start_time": "2022-05-22T09:04:43.929Z"
   },
   {
    "duration": 20,
    "start_time": "2022-05-22T09:04:45.109Z"
   },
   {
    "duration": 6,
    "start_time": "2022-05-22T09:04:45.131Z"
   },
   {
    "duration": 42,
    "start_time": "2022-05-22T09:04:45.139Z"
   },
   {
    "duration": 25,
    "start_time": "2022-05-22T09:04:45.183Z"
   },
   {
    "duration": 339,
    "start_time": "2022-05-22T09:04:45.211Z"
   },
   {
    "duration": 23,
    "start_time": "2022-05-22T09:04:45.552Z"
   },
   {
    "duration": 161,
    "start_time": "2022-05-22T09:04:45.578Z"
   },
   {
    "duration": 12,
    "start_time": "2022-05-22T09:04:45.744Z"
   },
   {
    "duration": 10,
    "start_time": "2022-05-22T09:04:45.770Z"
   },
   {
    "duration": 67,
    "start_time": "2022-05-22T09:04:45.786Z"
   },
   {
    "duration": 634,
    "start_time": "2022-05-22T09:04:45.855Z"
   },
   {
    "duration": 18,
    "start_time": "2022-05-22T09:04:46.491Z"
   },
   {
    "duration": 4,
    "start_time": "2022-05-22T09:04:46.511Z"
   },
   {
    "duration": 218,
    "start_time": "2022-05-22T09:04:46.516Z"
   },
   {
    "duration": 20,
    "start_time": "2022-05-22T09:04:46.736Z"
   },
   {
    "duration": 11,
    "start_time": "2022-05-22T09:04:46.757Z"
   },
   {
    "duration": 36,
    "start_time": "2022-05-22T09:04:46.772Z"
   },
   {
    "duration": 14,
    "start_time": "2022-05-22T09:04:46.811Z"
   },
   {
    "duration": 11,
    "start_time": "2022-05-22T09:04:46.827Z"
   },
   {
    "duration": 208,
    "start_time": "2022-05-22T09:04:46.840Z"
   },
   {
    "duration": 18,
    "start_time": "2022-05-22T09:04:47.050Z"
   },
   {
    "duration": 13,
    "start_time": "2022-05-22T09:04:47.072Z"
   },
   {
    "duration": 25,
    "start_time": "2022-05-22T09:04:47.087Z"
   },
   {
    "duration": 17,
    "start_time": "2022-05-22T09:04:47.114Z"
   },
   {
    "duration": 187,
    "start_time": "2022-05-22T09:04:47.133Z"
   },
   {
    "duration": 5,
    "start_time": "2022-05-22T09:04:47.322Z"
   },
   {
    "duration": 5,
    "start_time": "2022-05-22T09:04:47.329Z"
   },
   {
    "duration": 1312,
    "start_time": "2022-05-22T09:04:47.336Z"
   },
   {
    "duration": 3,
    "start_time": "2022-05-22T09:04:48.650Z"
   },
   {
    "duration": 25,
    "start_time": "2022-05-22T09:04:48.664Z"
   },
   {
    "duration": 8,
    "start_time": "2022-05-22T09:09:17.812Z"
   },
   {
    "duration": 4,
    "start_time": "2022-05-22T09:13:26.861Z"
   },
   {
    "duration": 14,
    "start_time": "2022-05-22T09:17:53.222Z"
   },
   {
    "duration": 104,
    "start_time": "2022-05-22T09:18:07.873Z"
   },
   {
    "duration": 37,
    "start_time": "2022-05-22T09:39:01.754Z"
   },
   {
    "duration": 622,
    "start_time": "2022-05-22T09:52:27.017Z"
   },
   {
    "duration": 711,
    "start_time": "2022-05-22T09:52:36.111Z"
   },
   {
    "duration": 662,
    "start_time": "2022-05-22T09:53:01.383Z"
   },
   {
    "duration": 604,
    "start_time": "2022-05-22T09:54:44.776Z"
   },
   {
    "duration": 1498,
    "start_time": "2022-05-22T09:57:41.252Z"
   },
   {
    "duration": 651,
    "start_time": "2022-05-22T09:57:47.392Z"
   },
   {
    "duration": 589,
    "start_time": "2022-05-22T09:58:57.847Z"
   },
   {
    "duration": 667,
    "start_time": "2022-05-22T09:59:15.052Z"
   },
   {
    "duration": 758,
    "start_time": "2022-05-22T10:12:58.532Z"
   },
   {
    "duration": 333831,
    "start_time": "2022-05-22T10:12:59.298Z"
   },
   {
    "duration": 65,
    "start_time": "2022-05-22T12:32:01.560Z"
   },
   {
    "duration": 7,
    "start_time": "2022-05-22T12:32:15.403Z"
   },
   {
    "duration": 8,
    "start_time": "2022-05-22T12:32:19.926Z"
   },
   {
    "duration": 962,
    "start_time": "2022-05-22T12:32:37.406Z"
   },
   {
    "duration": 132,
    "start_time": "2022-05-22T12:32:38.371Z"
   },
   {
    "duration": 34,
    "start_time": "2022-05-22T12:32:38.505Z"
   },
   {
    "duration": 28,
    "start_time": "2022-05-22T12:32:38.542Z"
   },
   {
    "duration": 6,
    "start_time": "2022-05-22T12:32:38.572Z"
   },
   {
    "duration": 22,
    "start_time": "2022-05-22T12:32:38.580Z"
   },
   {
    "duration": 10,
    "start_time": "2022-05-22T12:32:38.604Z"
   },
   {
    "duration": 10,
    "start_time": "2022-05-22T12:32:38.616Z"
   },
   {
    "duration": 2,
    "start_time": "2022-05-22T12:32:38.629Z"
   },
   {
    "duration": 3,
    "start_time": "2022-05-22T12:32:38.665Z"
   },
   {
    "duration": 11,
    "start_time": "2022-05-22T12:32:38.670Z"
   },
   {
    "duration": 4,
    "start_time": "2022-05-22T12:32:38.683Z"
   },
   {
    "duration": 5,
    "start_time": "2022-05-22T12:32:38.689Z"
   },
   {
    "duration": 7,
    "start_time": "2022-05-22T12:32:38.695Z"
   },
   {
    "duration": 14,
    "start_time": "2022-05-22T12:32:38.704Z"
   },
   {
    "duration": 8,
    "start_time": "2022-05-22T12:32:38.720Z"
   },
   {
    "duration": 42,
    "start_time": "2022-05-22T12:32:38.730Z"
   },
   {
    "duration": 427,
    "start_time": "2022-05-22T12:32:38.774Z"
   },
   {
    "duration": 26,
    "start_time": "2022-05-22T12:32:39.203Z"
   },
   {
    "duration": 1055,
    "start_time": "2022-05-22T12:32:39.231Z"
   },
   {
    "duration": 20,
    "start_time": "2022-05-22T12:32:40.288Z"
   },
   {
    "duration": 7,
    "start_time": "2022-05-22T12:32:40.310Z"
   },
   {
    "duration": 9,
    "start_time": "2022-05-22T12:32:40.318Z"
   },
   {
    "duration": 5,
    "start_time": "2022-05-22T12:32:40.329Z"
   },
   {
    "duration": 307,
    "start_time": "2022-05-22T12:32:40.335Z"
   },
   {
    "duration": 8,
    "start_time": "2022-05-22T12:32:40.644Z"
   },
   {
    "duration": 143,
    "start_time": "2022-05-22T12:32:40.665Z"
   },
   {
    "duration": 10,
    "start_time": "2022-05-22T12:32:40.811Z"
   },
   {
    "duration": 2,
    "start_time": "2022-05-22T12:32:40.823Z"
   },
   {
    "duration": 71,
    "start_time": "2022-05-22T12:32:40.827Z"
   },
   {
    "duration": 575,
    "start_time": "2022-05-22T12:32:40.900Z"
   },
   {
    "duration": 13,
    "start_time": "2022-05-22T12:32:41.477Z"
   },
   {
    "duration": 4,
    "start_time": "2022-05-22T12:32:41.491Z"
   },
   {
    "duration": 160,
    "start_time": "2022-05-22T12:32:41.497Z"
   },
   {
    "duration": 19,
    "start_time": "2022-05-22T12:32:41.659Z"
   },
   {
    "duration": 2,
    "start_time": "2022-05-22T12:32:41.680Z"
   },
   {
    "duration": 11,
    "start_time": "2022-05-22T12:32:41.684Z"
   },
   {
    "duration": 16,
    "start_time": "2022-05-22T12:32:41.697Z"
   },
   {
    "duration": 10,
    "start_time": "2022-05-22T12:32:41.715Z"
   },
   {
    "duration": 222,
    "start_time": "2022-05-22T12:32:41.727Z"
   },
   {
    "duration": 16,
    "start_time": "2022-05-22T12:32:41.951Z"
   },
   {
    "duration": 6,
    "start_time": "2022-05-22T12:32:41.969Z"
   },
   {
    "duration": 6,
    "start_time": "2022-05-22T12:32:41.977Z"
   },
   {
    "duration": 14,
    "start_time": "2022-05-22T12:32:41.985Z"
   },
   {
    "duration": 187,
    "start_time": "2022-05-22T12:32:42.001Z"
   },
   {
    "duration": 6,
    "start_time": "2022-05-22T12:32:42.189Z"
   },
   {
    "duration": 6,
    "start_time": "2022-05-22T12:32:42.197Z"
   },
   {
    "duration": 891,
    "start_time": "2022-05-22T12:32:42.205Z"
   },
   {
    "duration": 1177,
    "start_time": "2022-05-22T12:32:43.098Z"
   },
   {
    "duration": 2,
    "start_time": "2022-05-22T12:32:44.277Z"
   },
   {
    "duration": 13,
    "start_time": "2022-05-22T12:32:44.281Z"
   },
   {
    "duration": 88,
    "start_time": "2022-05-23T07:53:01.086Z"
   },
   {
    "duration": 1452,
    "start_time": "2022-05-23T07:53:09.425Z"
   },
   {
    "duration": 385,
    "start_time": "2022-05-23T07:53:10.879Z"
   },
   {
    "duration": 50,
    "start_time": "2022-05-23T07:53:11.267Z"
   },
   {
    "duration": 25,
    "start_time": "2022-05-23T07:53:11.319Z"
   },
   {
    "duration": 8,
    "start_time": "2022-05-23T07:53:11.346Z"
   },
   {
    "duration": 25,
    "start_time": "2022-05-23T07:53:11.356Z"
   },
   {
    "duration": 29,
    "start_time": "2022-05-23T07:53:11.383Z"
   },
   {
    "duration": 16,
    "start_time": "2022-05-23T07:53:11.415Z"
   },
   {
    "duration": 23,
    "start_time": "2022-05-23T07:53:11.433Z"
   },
   {
    "duration": 36,
    "start_time": "2022-05-23T07:53:11.459Z"
   },
   {
    "duration": 15,
    "start_time": "2022-05-23T07:53:11.497Z"
   },
   {
    "duration": 38,
    "start_time": "2022-05-23T07:53:11.514Z"
   },
   {
    "duration": 7,
    "start_time": "2022-05-23T07:53:11.554Z"
   },
   {
    "duration": 10,
    "start_time": "2022-05-23T07:53:11.564Z"
   },
   {
    "duration": 12,
    "start_time": "2022-05-23T07:53:11.575Z"
   },
   {
    "duration": 7,
    "start_time": "2022-05-23T07:53:11.589Z"
   },
   {
    "duration": 32,
    "start_time": "2022-05-23T07:53:11.598Z"
   },
   {
    "duration": 448,
    "start_time": "2022-05-23T07:53:11.632Z"
   },
   {
    "duration": 43,
    "start_time": "2022-05-23T07:53:12.082Z"
   },
   {
    "duration": 1004,
    "start_time": "2022-05-23T07:53:12.126Z"
   },
   {
    "duration": 19,
    "start_time": "2022-05-23T07:53:13.131Z"
   },
   {
    "duration": 6,
    "start_time": "2022-05-23T07:53:13.152Z"
   },
   {
    "duration": 7,
    "start_time": "2022-05-23T07:53:13.160Z"
   },
   {
    "duration": 4,
    "start_time": "2022-05-23T07:53:13.169Z"
   },
   {
    "duration": 282,
    "start_time": "2022-05-23T07:53:13.202Z"
   },
   {
    "duration": 18,
    "start_time": "2022-05-23T07:53:13.486Z"
   },
   {
    "duration": 247,
    "start_time": "2022-05-23T07:53:13.507Z"
   },
   {
    "duration": 9,
    "start_time": "2022-05-23T07:53:13.756Z"
   },
   {
    "duration": 45,
    "start_time": "2022-05-23T07:53:13.766Z"
   },
   {
    "duration": 568,
    "start_time": "2022-05-23T07:53:13.813Z"
   },
   {
    "duration": 3862,
    "start_time": "2022-05-23T07:53:14.383Z"
   },
   {
    "duration": 13,
    "start_time": "2022-05-23T07:53:18.247Z"
   },
   {
    "duration": 4,
    "start_time": "2022-05-23T07:53:18.262Z"
   },
   {
    "duration": 163,
    "start_time": "2022-05-23T07:53:18.267Z"
   },
   {
    "duration": 17,
    "start_time": "2022-05-23T07:53:18.432Z"
   },
   {
    "duration": 16,
    "start_time": "2022-05-23T07:53:18.452Z"
   },
   {
    "duration": 439,
    "start_time": "2022-05-23T07:53:18.469Z"
   },
   {
    "duration": 14,
    "start_time": "2022-05-23T07:53:18.911Z"
   },
   {
    "duration": 29,
    "start_time": "2022-05-23T07:53:18.926Z"
   },
   {
    "duration": 16,
    "start_time": "2022-05-23T07:53:18.957Z"
   },
   {
    "duration": 199,
    "start_time": "2022-05-23T07:53:18.976Z"
   },
   {
    "duration": 9,
    "start_time": "2022-05-23T07:53:19.177Z"
   },
   {
    "duration": 21,
    "start_time": "2022-05-23T07:53:19.187Z"
   },
   {
    "duration": 17,
    "start_time": "2022-05-23T07:53:19.211Z"
   },
   {
    "duration": 16,
    "start_time": "2022-05-23T07:53:19.230Z"
   },
   {
    "duration": 169,
    "start_time": "2022-05-23T07:53:19.248Z"
   },
   {
    "duration": 6,
    "start_time": "2022-05-23T07:53:19.418Z"
   },
   {
    "duration": 11,
    "start_time": "2022-05-23T07:53:19.425Z"
   },
   {
    "duration": 1283,
    "start_time": "2022-05-23T07:53:19.437Z"
   },
   {
    "duration": 10,
    "start_time": "2022-05-23T07:53:20.721Z"
   },
   {
    "duration": 12,
    "start_time": "2022-05-23T07:53:20.733Z"
   },
   {
    "duration": 482,
    "start_time": "2022-05-23T07:53:20.747Z"
   },
   {
    "duration": 1502,
    "start_time": "2022-05-24T14:57:36.847Z"
   },
   {
    "duration": 779,
    "start_time": "2022-05-24T14:57:38.352Z"
   },
   {
    "duration": 49,
    "start_time": "2022-05-24T14:57:39.134Z"
   },
   {
    "duration": 23,
    "start_time": "2022-05-24T14:57:39.186Z"
   },
   {
    "duration": 35,
    "start_time": "2022-05-24T14:57:39.211Z"
   },
   {
    "duration": 33,
    "start_time": "2022-05-24T14:57:39.248Z"
   },
   {
    "duration": 27,
    "start_time": "2022-05-24T14:57:39.289Z"
   },
   {
    "duration": 21,
    "start_time": "2022-05-24T14:57:39.319Z"
   },
   {
    "duration": 4,
    "start_time": "2022-05-24T14:57:39.342Z"
   },
   {
    "duration": 18,
    "start_time": "2022-05-24T14:57:39.348Z"
   },
   {
    "duration": 7,
    "start_time": "2022-05-24T14:57:39.368Z"
   },
   {
    "duration": 34,
    "start_time": "2022-05-24T14:57:39.377Z"
   },
   {
    "duration": 10,
    "start_time": "2022-05-24T14:57:39.413Z"
   },
   {
    "duration": 14,
    "start_time": "2022-05-24T14:57:39.425Z"
   },
   {
    "duration": 19,
    "start_time": "2022-05-24T14:57:39.442Z"
   },
   {
    "duration": 14,
    "start_time": "2022-05-24T14:57:39.463Z"
   },
   {
    "duration": 30,
    "start_time": "2022-05-24T14:57:39.480Z"
   },
   {
    "duration": 491,
    "start_time": "2022-05-24T14:57:39.512Z"
   },
   {
    "duration": 36,
    "start_time": "2022-05-24T14:57:40.004Z"
   },
   {
    "duration": 1104,
    "start_time": "2022-05-24T14:57:40.042Z"
   },
   {
    "duration": 29,
    "start_time": "2022-05-24T14:57:41.147Z"
   },
   {
    "duration": 12,
    "start_time": "2022-05-24T14:57:41.179Z"
   },
   {
    "duration": 8,
    "start_time": "2022-05-24T14:57:41.194Z"
   },
   {
    "duration": 7,
    "start_time": "2022-05-24T14:57:41.204Z"
   },
   {
    "duration": 311,
    "start_time": "2022-05-24T14:57:41.212Z"
   },
   {
    "duration": 12,
    "start_time": "2022-05-24T14:57:41.525Z"
   },
   {
    "duration": 257,
    "start_time": "2022-05-24T14:57:41.539Z"
   },
   {
    "duration": 11,
    "start_time": "2022-05-24T14:57:41.801Z"
   },
   {
    "duration": 82,
    "start_time": "2022-05-24T14:57:41.814Z"
   },
   {
    "duration": 610,
    "start_time": "2022-05-24T14:57:41.898Z"
   },
   {
    "duration": 3797,
    "start_time": "2022-05-24T14:57:42.510Z"
   },
   {
    "duration": 20,
    "start_time": "2022-05-24T14:57:46.310Z"
   },
   {
    "duration": 6,
    "start_time": "2022-05-24T14:57:46.332Z"
   },
   {
    "duration": 163,
    "start_time": "2022-05-24T14:57:46.340Z"
   },
   {
    "duration": 15,
    "start_time": "2022-05-24T14:57:46.505Z"
   },
   {
    "duration": 6,
    "start_time": "2022-05-24T14:57:46.522Z"
   },
   {
    "duration": 524,
    "start_time": "2022-05-24T14:57:46.530Z"
   },
   {
    "duration": 16,
    "start_time": "2022-05-24T14:57:47.056Z"
   },
   {
    "duration": 26,
    "start_time": "2022-05-24T14:57:47.074Z"
   },
   {
    "duration": 22,
    "start_time": "2022-05-24T14:57:47.102Z"
   },
   {
    "duration": 213,
    "start_time": "2022-05-24T14:57:47.126Z"
   },
   {
    "duration": 23,
    "start_time": "2022-05-24T14:57:47.342Z"
   },
   {
    "duration": 8,
    "start_time": "2022-05-24T14:57:47.367Z"
   },
   {
    "duration": 11,
    "start_time": "2022-05-24T14:57:47.376Z"
   },
   {
    "duration": 22,
    "start_time": "2022-05-24T14:57:47.391Z"
   },
   {
    "duration": 226,
    "start_time": "2022-05-24T14:57:47.415Z"
   },
   {
    "duration": 5,
    "start_time": "2022-05-24T14:57:47.643Z"
   },
   {
    "duration": 1243,
    "start_time": "2022-05-24T14:57:47.650Z"
   },
   {
    "duration": 2,
    "start_time": "2022-05-24T14:57:48.895Z"
   },
   {
    "duration": 58,
    "start_time": "2022-05-24T14:57:48.899Z"
   },
   {
    "duration": 602,
    "start_time": "2022-05-24T14:57:48.959Z"
   },
   {
    "duration": 1278,
    "start_time": "2022-05-24T18:33:07.706Z"
   },
   {
    "duration": 308,
    "start_time": "2022-05-24T18:33:08.987Z"
   },
   {
    "duration": 27,
    "start_time": "2022-05-24T18:33:09.296Z"
   },
   {
    "duration": 15,
    "start_time": "2022-05-24T18:33:09.326Z"
   },
   {
    "duration": 5,
    "start_time": "2022-05-24T18:33:09.342Z"
   },
   {
    "duration": 15,
    "start_time": "2022-05-24T18:33:09.348Z"
   },
   {
    "duration": 7,
    "start_time": "2022-05-24T18:33:09.365Z"
   },
   {
    "duration": 8,
    "start_time": "2022-05-24T18:33:09.374Z"
   },
   {
    "duration": 4,
    "start_time": "2022-05-24T18:33:09.383Z"
   },
   {
    "duration": 44,
    "start_time": "2022-05-24T18:33:09.390Z"
   },
   {
    "duration": 5,
    "start_time": "2022-05-24T18:33:09.435Z"
   },
   {
    "duration": 10,
    "start_time": "2022-05-24T18:33:09.441Z"
   },
   {
    "duration": 9,
    "start_time": "2022-05-24T18:33:09.452Z"
   },
   {
    "duration": 11,
    "start_time": "2022-05-24T18:33:09.462Z"
   },
   {
    "duration": 10,
    "start_time": "2022-05-24T18:33:09.475Z"
   },
   {
    "duration": 7,
    "start_time": "2022-05-24T18:33:09.486Z"
   },
   {
    "duration": 34,
    "start_time": "2022-05-24T18:33:09.494Z"
   },
   {
    "duration": 374,
    "start_time": "2022-05-24T18:33:09.529Z"
   },
   {
    "duration": 28,
    "start_time": "2022-05-24T18:33:09.905Z"
   },
   {
    "duration": 871,
    "start_time": "2022-05-24T18:33:09.935Z"
   },
   {
    "duration": 27,
    "start_time": "2022-05-24T18:33:10.807Z"
   },
   {
    "duration": 5,
    "start_time": "2022-05-24T18:33:10.836Z"
   },
   {
    "duration": 6,
    "start_time": "2022-05-24T18:33:10.843Z"
   },
   {
    "duration": 4,
    "start_time": "2022-05-24T18:33:10.850Z"
   },
   {
    "duration": 256,
    "start_time": "2022-05-24T18:33:10.856Z"
   },
   {
    "duration": 14,
    "start_time": "2022-05-24T18:33:11.114Z"
   },
   {
    "duration": 250,
    "start_time": "2022-05-24T18:33:11.129Z"
   },
   {
    "duration": 10,
    "start_time": "2022-05-24T18:33:11.383Z"
   },
   {
    "duration": 44,
    "start_time": "2022-05-24T18:33:11.395Z"
   },
   {
    "duration": 335,
    "start_time": "2022-05-24T18:33:11.441Z"
   },
   {
    "duration": 244,
    "start_time": "2022-05-24T18:33:11.778Z"
   },
   {
    "duration": 12,
    "start_time": "2022-05-24T18:33:12.027Z"
   },
   {
    "duration": 4,
    "start_time": "2022-05-24T18:33:12.040Z"
   },
   {
    "duration": 144,
    "start_time": "2022-05-24T18:33:12.045Z"
   },
   {
    "duration": 14,
    "start_time": "2022-05-24T18:33:12.191Z"
   },
   {
    "duration": 3,
    "start_time": "2022-05-24T18:33:12.206Z"
   },
   {
    "duration": 358,
    "start_time": "2022-05-24T18:33:12.211Z"
   },
   {
    "duration": 346,
    "start_time": "2022-05-24T18:33:12.571Z"
   },
   {
    "duration": 12,
    "start_time": "2022-05-24T18:33:12.919Z"
   },
   {
    "duration": 13,
    "start_time": "2022-05-24T18:33:12.932Z"
   },
   {
    "duration": 10,
    "start_time": "2022-05-24T18:33:12.946Z"
   },
   {
    "duration": 173,
    "start_time": "2022-05-24T18:33:12.958Z"
   },
   {
    "duration": 8,
    "start_time": "2022-05-24T18:33:13.133Z"
   },
   {
    "duration": 8,
    "start_time": "2022-05-24T18:33:13.143Z"
   },
   {
    "duration": 5,
    "start_time": "2022-05-24T18:33:13.153Z"
   },
   {
    "duration": 16,
    "start_time": "2022-05-24T18:33:13.159Z"
   },
   {
    "duration": 168,
    "start_time": "2022-05-24T18:33:13.177Z"
   },
   {
    "duration": 5,
    "start_time": "2022-05-24T18:33:13.347Z"
   },
   {
    "duration": 1035,
    "start_time": "2022-05-24T18:33:13.354Z"
   },
   {
    "duration": 3,
    "start_time": "2022-05-24T18:33:14.390Z"
   },
   {
    "duration": 17,
    "start_time": "2022-05-24T18:33:14.395Z"
   },
   {
    "duration": 388,
    "start_time": "2022-05-24T18:33:14.414Z"
   },
   {
    "duration": 1349,
    "start_time": "2022-05-25T12:01:45.716Z"
   },
   {
    "duration": 303,
    "start_time": "2022-05-25T12:01:47.067Z"
   },
   {
    "duration": 30,
    "start_time": "2022-05-25T12:01:47.372Z"
   },
   {
    "duration": 14,
    "start_time": "2022-05-25T12:01:47.404Z"
   },
   {
    "duration": 9,
    "start_time": "2022-05-25T12:01:47.419Z"
   },
   {
    "duration": 15,
    "start_time": "2022-05-25T12:01:47.429Z"
   },
   {
    "duration": 9,
    "start_time": "2022-05-25T12:01:47.445Z"
   },
   {
    "duration": 9,
    "start_time": "2022-05-25T12:01:47.455Z"
   },
   {
    "duration": 5,
    "start_time": "2022-05-25T12:01:47.465Z"
   },
   {
    "duration": 15,
    "start_time": "2022-05-25T12:01:47.473Z"
   },
   {
    "duration": 5,
    "start_time": "2022-05-25T12:01:47.489Z"
   },
   {
    "duration": 34,
    "start_time": "2022-05-25T12:01:47.495Z"
   },
   {
    "duration": 9,
    "start_time": "2022-05-25T12:01:47.531Z"
   },
   {
    "duration": 10,
    "start_time": "2022-05-25T12:01:47.541Z"
   },
   {
    "duration": 9,
    "start_time": "2022-05-25T12:01:47.552Z"
   },
   {
    "duration": 8,
    "start_time": "2022-05-25T12:01:47.563Z"
   },
   {
    "duration": 21,
    "start_time": "2022-05-25T12:01:47.572Z"
   },
   {
    "duration": 388,
    "start_time": "2022-05-25T12:01:47.595Z"
   },
   {
    "duration": 25,
    "start_time": "2022-05-25T12:01:47.985Z"
   },
   {
    "duration": 892,
    "start_time": "2022-05-25T12:01:48.012Z"
   },
   {
    "duration": 24,
    "start_time": "2022-05-25T12:01:48.906Z"
   },
   {
    "duration": 7,
    "start_time": "2022-05-25T12:01:48.931Z"
   },
   {
    "duration": 17,
    "start_time": "2022-05-25T12:01:48.939Z"
   },
   {
    "duration": 8,
    "start_time": "2022-05-25T12:01:48.957Z"
   },
   {
    "duration": 285,
    "start_time": "2022-05-25T12:01:48.967Z"
   },
   {
    "duration": 9,
    "start_time": "2022-05-25T12:01:49.254Z"
   },
   {
    "duration": 222,
    "start_time": "2022-05-25T12:01:49.265Z"
   },
   {
    "duration": 9,
    "start_time": "2022-05-25T12:01:49.491Z"
   },
   {
    "duration": 45,
    "start_time": "2022-05-25T12:01:49.501Z"
   },
   {
    "duration": 365,
    "start_time": "2022-05-25T12:01:49.547Z"
   },
   {
    "duration": 290,
    "start_time": "2022-05-25T12:01:49.913Z"
   },
   {
    "duration": 22,
    "start_time": "2022-05-25T12:01:50.205Z"
   },
   {
    "duration": 4,
    "start_time": "2022-05-25T12:01:50.229Z"
   },
   {
    "duration": 133,
    "start_time": "2022-05-25T12:01:50.235Z"
   },
   {
    "duration": 16,
    "start_time": "2022-05-25T12:01:50.370Z"
   },
   {
    "duration": 2,
    "start_time": "2022-05-25T12:01:50.388Z"
   },
   {
    "duration": 362,
    "start_time": "2022-05-25T12:01:50.392Z"
   },
   {
    "duration": 362,
    "start_time": "2022-05-25T12:01:50.755Z"
   },
   {
    "duration": 11,
    "start_time": "2022-05-25T12:01:51.118Z"
   },
   {
    "duration": 13,
    "start_time": "2022-05-25T12:01:51.131Z"
   },
   {
    "duration": 14,
    "start_time": "2022-05-25T12:01:51.145Z"
   },
   {
    "duration": 195,
    "start_time": "2022-05-25T12:01:51.160Z"
   },
   {
    "duration": 8,
    "start_time": "2022-05-25T12:01:51.357Z"
   },
   {
    "duration": 11,
    "start_time": "2022-05-25T12:01:51.367Z"
   },
   {
    "duration": 14,
    "start_time": "2022-05-25T12:01:51.380Z"
   },
   {
    "duration": 24,
    "start_time": "2022-05-25T12:01:51.396Z"
   },
   {
    "duration": 152,
    "start_time": "2022-05-25T12:01:51.422Z"
   },
   {
    "duration": 6,
    "start_time": "2022-05-25T12:01:51.576Z"
   },
   {
    "duration": 1022,
    "start_time": "2022-05-25T12:01:51.583Z"
   },
   {
    "duration": 2,
    "start_time": "2022-05-25T12:01:52.607Z"
   },
   {
    "duration": 19,
    "start_time": "2022-05-25T12:01:52.611Z"
   },
   {
    "duration": 388,
    "start_time": "2022-05-25T12:01:52.631Z"
   }
  ],
  "kernelspec": {
   "display_name": "Python 3 (ipykernel)",
   "language": "python",
   "name": "python3"
  },
  "language_info": {
   "codemirror_mode": {
    "name": "ipython",
    "version": 3
   },
   "file_extension": ".py",
   "mimetype": "text/x-python",
   "name": "python",
   "nbconvert_exporter": "python",
   "pygments_lexer": "ipython3",
   "version": "3.9.12"
  },
  "toc": {
   "base_numbering": 1,
   "nav_menu": {},
   "number_sections": true,
   "sideBar": true,
   "skip_h1_title": true,
   "title_cell": "Table of Contents",
   "title_sidebar": "Contents",
   "toc_cell": false,
   "toc_position": {},
   "toc_section_display": true,
   "toc_window_display": false
  }
 },
 "nbformat": 4,
 "nbformat_minor": 5
}
