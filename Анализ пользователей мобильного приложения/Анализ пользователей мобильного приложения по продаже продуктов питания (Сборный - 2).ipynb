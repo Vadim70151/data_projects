{
 "cells": [
  {
   "cell_type": "markdown",
   "id": "5cf7a448",
   "metadata": {},
   "source": [
    "# Анализ пользователей мобильного приложения по продаже продуктов питания"
   ]
  },
  {
   "cell_type": "markdown",
   "id": "85ea227c",
   "metadata": {},
   "source": [
    "## Описание проекта\n",
    "    \n",
    "Дизайнеры захотели поменять шрифты во всём приложении, а менеджеры испугались, что пользователям будет непривычно, поэтому договорились принять решение по рузультатам A/A/B - теста. Для этого пользователей разбили на 3 группы: две контрольные со старыми шрифтами и одну экспериментальную - с новыми. "
   ]
  },
  {
   "cell_type": "markdown",
   "id": "50a6129e",
   "metadata": {},
   "source": [
    "**Цель исследования:** разобраться в поведении пользователей, которые покупают продукты питания через мобильное приложение одного из стартапов. Необходимо изучить воронку продаж и узнать, как пользователи доходят до покупки, сколько пользователей совершают покупки, а сколько застревают на предыдущих шагах и на каких именно. \n",
    "Также, необходимо исследовать результаты A/A/B - эксперимента и принять решение о том, какой шрифт лучше. \n",
    "\n",
    "**Ход исследования** - данные о действиях пользователей будут получены из файла. О качестве данных заранее ничего неизвестно, поэтому перед тем, как приступить к основной части проекта, понадобится получить первые впечатления о данных, после чего проверить их на качество и наличие в них различных ошибок, пропусков и аномалий, если что-то подобное присутствует, на этапе предобработки необходимо будет исправить самые критичные ошибки и привести датафрейм к нормальному, рабочему состоянию. \n",
    "\n",
    "Стоит заметить, что создание двух групп А вместо одной имеет определённые преимущества: если две контрольные группы окажутся равны, можно быть уверенным в точности проведённого тестирования. Если же между значениями А и А будут существенные различия, это поможет обнаружить факторы, которые привели к искажению результатов. Сравнение контрольных групп также помогает понять, сколько времени и данных потребуется для дальнейших тестов. \n",
    "\n",
    "Таким образом, исследование пройдёт в четыре этапа:\n",
    " 1. Обзор данных.\n",
    " 2. Предобработка данных.\n",
    " 3. Исследовательский анализ данных.\n",
    " 4. Проведение A/A-теста\n",
    " 5. Проведение A/B-теста\n",
    " 6. Итоговые выводы по работе"
   ]
  },
  {
   "cell_type": "markdown",
   "id": "22af9f09",
   "metadata": {},
   "source": [
    "## 1. Обзор данных\n",
    "\n",
    "На данном этапе будет сформирована первая картина о данных, с которыми предстоит работать. "
   ]
  },
  {
   "cell_type": "code",
   "execution_count": 1,
   "id": "cb0c7f39",
   "metadata": {},
   "outputs": [],
   "source": [
    "import pandas as pd\n",
    "import matplotlib.pyplot as plt\n",
    "from scipy import stats as st\n",
    "import numpy as np\n",
    "import math as mth\n",
    "import statistics as s\n",
    "import warnings\n",
    "warnings.simplefilter(action='ignore', category=FutureWarning)\n",
    "plt.style.use('seaborn-dark') "
   ]
  },
  {
   "cell_type": "code",
   "execution_count": 2,
   "id": "26766ec3",
   "metadata": {
    "scrolled": false
   },
   "outputs": [],
   "source": [
    "try:\n",
    "    df = pd.read_csv('Данные сборного проекта - 2 \"logs_exp.csv\"', sep = '\\t')\n",
    "except:\n",
    "    df = pd.read_csv('/datasets/logs_exp.csv', sep = '\\t')"
   ]
  },
  {
   "cell_type": "code",
   "execution_count": 3,
   "id": "3df10035",
   "metadata": {},
   "outputs": [
    {
     "data": {
      "text/html": [
       "<div>\n",
       "<style scoped>\n",
       "    .dataframe tbody tr th:only-of-type {\n",
       "        vertical-align: middle;\n",
       "    }\n",
       "\n",
       "    .dataframe tbody tr th {\n",
       "        vertical-align: top;\n",
       "    }\n",
       "\n",
       "    .dataframe thead th {\n",
       "        text-align: right;\n",
       "    }\n",
       "</style>\n",
       "<table border=\"1\" class=\"dataframe\">\n",
       "  <thead>\n",
       "    <tr style=\"text-align: right;\">\n",
       "      <th></th>\n",
       "      <th>EventName</th>\n",
       "      <th>DeviceIDHash</th>\n",
       "      <th>EventTimestamp</th>\n",
       "      <th>ExpId</th>\n",
       "    </tr>\n",
       "  </thead>\n",
       "  <tbody>\n",
       "    <tr>\n",
       "      <th>0</th>\n",
       "      <td>MainScreenAppear</td>\n",
       "      <td>4575588528974610257</td>\n",
       "      <td>1564029816</td>\n",
       "      <td>246</td>\n",
       "    </tr>\n",
       "    <tr>\n",
       "      <th>1</th>\n",
       "      <td>MainScreenAppear</td>\n",
       "      <td>7416695313311560658</td>\n",
       "      <td>1564053102</td>\n",
       "      <td>246</td>\n",
       "    </tr>\n",
       "    <tr>\n",
       "      <th>2</th>\n",
       "      <td>PaymentScreenSuccessful</td>\n",
       "      <td>3518123091307005509</td>\n",
       "      <td>1564054127</td>\n",
       "      <td>248</td>\n",
       "    </tr>\n",
       "    <tr>\n",
       "      <th>3</th>\n",
       "      <td>CartScreenAppear</td>\n",
       "      <td>3518123091307005509</td>\n",
       "      <td>1564054127</td>\n",
       "      <td>248</td>\n",
       "    </tr>\n",
       "    <tr>\n",
       "      <th>4</th>\n",
       "      <td>PaymentScreenSuccessful</td>\n",
       "      <td>6217807653094995999</td>\n",
       "      <td>1564055322</td>\n",
       "      <td>248</td>\n",
       "    </tr>\n",
       "  </tbody>\n",
       "</table>\n",
       "</div>"
      ],
      "text/plain": [
       "                 EventName         DeviceIDHash  EventTimestamp  ExpId\n",
       "0         MainScreenAppear  4575588528974610257      1564029816    246\n",
       "1         MainScreenAppear  7416695313311560658      1564053102    246\n",
       "2  PaymentScreenSuccessful  3518123091307005509      1564054127    248\n",
       "3         CartScreenAppear  3518123091307005509      1564054127    248\n",
       "4  PaymentScreenSuccessful  6217807653094995999      1564055322    248"
      ]
     },
     "execution_count": 3,
     "metadata": {},
     "output_type": "execute_result"
    }
   ],
   "source": [
    "df.head()"
   ]
  },
  {
   "cell_type": "code",
   "execution_count": 4,
   "id": "b35fbab7",
   "metadata": {},
   "outputs": [
    {
     "name": "stdout",
     "output_type": "stream",
     "text": [
      "<class 'pandas.core.frame.DataFrame'>\n",
      "RangeIndex: 244126 entries, 0 to 244125\n",
      "Data columns (total 4 columns):\n",
      " #   Column          Non-Null Count   Dtype \n",
      "---  ------          --------------   ----- \n",
      " 0   EventName       244126 non-null  object\n",
      " 1   DeviceIDHash    244126 non-null  int64 \n",
      " 2   EventTimestamp  244126 non-null  int64 \n",
      " 3   ExpId           244126 non-null  int64 \n",
      "dtypes: int64(3), object(1)\n",
      "memory usage: 7.5+ MB\n"
     ]
    }
   ],
   "source": [
    "# Получение общей информации о таблице\n",
    "df.info()"
   ]
  },
  {
   "cell_type": "markdown",
   "id": "86c9f8c4",
   "metadata": {},
   "source": [
    "Согласно документации к данным:\n",
    "* `EventName` — название события;\n",
    "* `DeviceIDHash` — уникальный идентификатор пользователя; \n",
    "* `EventTimestamp` — время события;\n",
    "* `ExpId` — номер эксперимента: 246 и 247 - контрольные группы, а 248 - экспериментальная"
   ]
  },
  {
   "cell_type": "markdown",
   "id": "9e1d7781",
   "metadata": {},
   "source": [
    "**Вывод по 1-ому разделу**\n",
    "\n",
    "После получения общей информации, в таблице были выявлены следующие замечания:\n",
    "1. Названия столбцов написаны не с помощью змеиного регистра\n",
    "2. В столбце `EventTimestamp` находится дата, однако тип данных там - целое число\n",
    "3. Пропущенный значений в таблице не наблюдается"
   ]
  },
  {
   "cell_type": "markdown",
   "id": "b1d11cb8",
   "metadata": {},
   "source": [
    "## 2. Предобработка данных\n",
    "\n",
    "На данном этапе будут устранены выявленные проблемы в данных с целью корректной работы с ними на протяжение всего проекта. "
   ]
  },
  {
   "cell_type": "code",
   "execution_count": 5,
   "id": "0d3db12b",
   "metadata": {},
   "outputs": [],
   "source": [
    "# Приводим название столбцов к змеиному регистру\n",
    "df = df.rename(\n",
    "    columns = \n",
    "    {'EventName': 'event_name', 'DeviceIDHash': 'device_id_hash', 'EventTimestamp': 'event_time', 'ExpId': 'exp_id'}\n",
    "               )"
   ]
  },
  {
   "cell_type": "code",
   "execution_count": 6,
   "id": "4562b750",
   "metadata": {},
   "outputs": [],
   "source": [
    "# Приводим столбец с датой к нужному типу\n",
    "df['event_time'] = df['event_time'].astype('datetime64[s]')"
   ]
  },
  {
   "cell_type": "code",
   "execution_count": 7,
   "id": "28d9635d",
   "metadata": {},
   "outputs": [],
   "source": [
    "# Проверяем датафрейм на наличие явных дубликатов\n",
    "cnt_dupl = df.duplicated().sum()"
   ]
  },
  {
   "cell_type": "code",
   "execution_count": 8,
   "id": "5340ea11",
   "metadata": {},
   "outputs": [
    {
     "name": "stdout",
     "output_type": "stream",
     "text": [
      "Полные дубликаты в абсолютном значении составляют 413 штук, а в относительном - 0.17% от первоначального датафрейма\n"
     ]
    }
   ],
   "source": [
    "# Проверяем, какой процент составляют дубликаты от общего количества данных\n",
    "print(f'Полные дубликаты в абсолютном значении составляют {cnt_dupl} штук, а в относительном - {cnt_dupl / len(df):.2%} от первоначального датафрейма')"
   ]
  },
  {
   "cell_type": "code",
   "execution_count": 9,
   "id": "6a73bccb",
   "metadata": {},
   "outputs": [],
   "source": [
    "# Удаляем явные дубликаты\n",
    "df = df.drop_duplicates()"
   ]
  },
  {
   "cell_type": "code",
   "execution_count": 10,
   "id": "39f17a04",
   "metadata": {},
   "outputs": [
    {
     "data": {
      "text/plain": [
       "array(['MainScreenAppear', 'PaymentScreenSuccessful', 'CartScreenAppear',\n",
       "       'OffersScreenAppear', 'Tutorial'], dtype=object)"
      ]
     },
     "execution_count": 10,
     "metadata": {},
     "output_type": "execute_result"
    }
   ],
   "source": [
    "# Проверяем столбец event_name на наличие неявных дубликатов\n",
    "df['event_name'].unique()"
   ]
  },
  {
   "cell_type": "code",
   "execution_count": 11,
   "id": "196b067e",
   "metadata": {},
   "outputs": [
    {
     "data": {
      "text/plain": [
       "array([246, 248, 247])"
      ]
     },
     "execution_count": 11,
     "metadata": {},
     "output_type": "execute_result"
    }
   ],
   "source": [
    "# Проверяем столбец exp_id на наличие неявных дубликатов\n",
    "df['exp_id'].unique()"
   ]
  },
  {
   "cell_type": "code",
   "execution_count": 12,
   "id": "bef4dfe4",
   "metadata": {},
   "outputs": [
    {
     "data": {
      "text/html": [
       "<div>\n",
       "<style scoped>\n",
       "    .dataframe tbody tr th:only-of-type {\n",
       "        vertical-align: middle;\n",
       "    }\n",
       "\n",
       "    .dataframe tbody tr th {\n",
       "        vertical-align: top;\n",
       "    }\n",
       "\n",
       "    .dataframe thead th {\n",
       "        text-align: right;\n",
       "    }\n",
       "</style>\n",
       "<table border=\"1\" class=\"dataframe\">\n",
       "  <thead>\n",
       "    <tr style=\"text-align: right;\">\n",
       "      <th></th>\n",
       "      <th>event_name</th>\n",
       "      <th>device_id_hash</th>\n",
       "      <th>event_time</th>\n",
       "      <th>exp_id</th>\n",
       "    </tr>\n",
       "  </thead>\n",
       "  <tbody>\n",
       "    <tr>\n",
       "      <th>0</th>\n",
       "      <td>MainScreenAppear</td>\n",
       "      <td>4575588528974610257</td>\n",
       "      <td>2019-07-25 04:43:36</td>\n",
       "      <td>246</td>\n",
       "    </tr>\n",
       "    <tr>\n",
       "      <th>1</th>\n",
       "      <td>MainScreenAppear</td>\n",
       "      <td>7416695313311560658</td>\n",
       "      <td>2019-07-25 11:11:42</td>\n",
       "      <td>246</td>\n",
       "    </tr>\n",
       "    <tr>\n",
       "      <th>2</th>\n",
       "      <td>PaymentScreenSuccessful</td>\n",
       "      <td>3518123091307005509</td>\n",
       "      <td>2019-07-25 11:28:47</td>\n",
       "      <td>248</td>\n",
       "    </tr>\n",
       "    <tr>\n",
       "      <th>3</th>\n",
       "      <td>CartScreenAppear</td>\n",
       "      <td>3518123091307005509</td>\n",
       "      <td>2019-07-25 11:28:47</td>\n",
       "      <td>248</td>\n",
       "    </tr>\n",
       "    <tr>\n",
       "      <th>4</th>\n",
       "      <td>PaymentScreenSuccessful</td>\n",
       "      <td>6217807653094995999</td>\n",
       "      <td>2019-07-25 11:48:42</td>\n",
       "      <td>248</td>\n",
       "    </tr>\n",
       "  </tbody>\n",
       "</table>\n",
       "</div>"
      ],
      "text/plain": [
       "                event_name       device_id_hash          event_time  exp_id\n",
       "0         MainScreenAppear  4575588528974610257 2019-07-25 04:43:36     246\n",
       "1         MainScreenAppear  7416695313311560658 2019-07-25 11:11:42     246\n",
       "2  PaymentScreenSuccessful  3518123091307005509 2019-07-25 11:28:47     248\n",
       "3         CartScreenAppear  3518123091307005509 2019-07-25 11:28:47     248\n",
       "4  PaymentScreenSuccessful  6217807653094995999 2019-07-25 11:48:42     248"
      ]
     },
     "execution_count": 12,
     "metadata": {},
     "output_type": "execute_result"
    }
   ],
   "source": [
    "df.head()"
   ]
  },
  {
   "cell_type": "markdown",
   "id": "1325a785",
   "metadata": {},
   "source": [
    "**Вывод по 2-ому разделу**\n",
    "\n",
    "Во 2 разделе данные были приведены в удобный и верный для работы формат. Также, в логе были выявлены полные дубликаты, которые составили 0.17% от первоначального датасета, что крайне мало, поэтому было решено их удалить (было удалено 413 явного дубликата). После проделанной предобработки данных можно приступать к основной части проекта."
   ]
  },
  {
   "cell_type": "markdown",
   "id": "debb86e7",
   "metadata": {},
   "source": [
    "## 3. Исследовательский анализ данных"
   ]
  },
  {
   "cell_type": "code",
   "execution_count": 13,
   "id": "7c9696e9",
   "metadata": {},
   "outputs": [],
   "source": [
    "# Добавляем столбец с датой\n",
    "df['date'] = df['event_time'].dt.date"
   ]
  },
  {
   "cell_type": "code",
   "execution_count": 14,
   "id": "6b5c0897",
   "metadata": {},
   "outputs": [
    {
     "name": "stdout",
     "output_type": "stream",
     "text": [
      "Количество событий в логе: 243713\n"
     ]
    }
   ],
   "source": [
    "# Находим количество событий в логе\n",
    "cnt_events = df.shape[0]\n",
    "print(f'Количество событий в логе: {cnt_events}')"
   ]
  },
  {
   "cell_type": "code",
   "execution_count": 15,
   "id": "c1e39371",
   "metadata": {},
   "outputs": [
    {
     "name": "stdout",
     "output_type": "stream",
     "text": [
      "Уникальное количество пользователей в логе: 7551\n"
     ]
    }
   ],
   "source": [
    "# Находим уникальное количество пользователей в логе\n",
    "unique_users = df['device_id_hash'].nunique()\n",
    "print(f'Уникальное количество пользователей в логе: {unique_users}')"
   ]
  },
  {
   "cell_type": "code",
   "execution_count": 16,
   "id": "f0a169ca",
   "metadata": {},
   "outputs": [
    {
     "data": {
      "text/html": [
       "<div>\n",
       "<style scoped>\n",
       "    .dataframe tbody tr th:only-of-type {\n",
       "        vertical-align: middle;\n",
       "    }\n",
       "\n",
       "    .dataframe tbody tr th {\n",
       "        vertical-align: top;\n",
       "    }\n",
       "\n",
       "    .dataframe thead th {\n",
       "        text-align: right;\n",
       "    }\n",
       "</style>\n",
       "<table border=\"1\" class=\"dataframe\">\n",
       "  <thead>\n",
       "    <tr style=\"text-align: right;\">\n",
       "      <th></th>\n",
       "      <th>event_name</th>\n",
       "      <th>cnt_events</th>\n",
       "      <th>avg_events_per_users</th>\n",
       "    </tr>\n",
       "  </thead>\n",
       "  <tbody>\n",
       "    <tr>\n",
       "      <th>5</th>\n",
       "      <td>All</td>\n",
       "      <td>243713</td>\n",
       "      <td>32.275593</td>\n",
       "    </tr>\n",
       "    <tr>\n",
       "      <th>1</th>\n",
       "      <td>MainScreenAppear</td>\n",
       "      <td>119101</td>\n",
       "      <td>15.772878</td>\n",
       "    </tr>\n",
       "    <tr>\n",
       "      <th>2</th>\n",
       "      <td>OffersScreenAppear</td>\n",
       "      <td>46808</td>\n",
       "      <td>6.198914</td>\n",
       "    </tr>\n",
       "    <tr>\n",
       "      <th>0</th>\n",
       "      <td>CartScreenAppear</td>\n",
       "      <td>42668</td>\n",
       "      <td>5.650642</td>\n",
       "    </tr>\n",
       "    <tr>\n",
       "      <th>3</th>\n",
       "      <td>PaymentScreenSuccessful</td>\n",
       "      <td>34118</td>\n",
       "      <td>4.518342</td>\n",
       "    </tr>\n",
       "    <tr>\n",
       "      <th>4</th>\n",
       "      <td>Tutorial</td>\n",
       "      <td>1018</td>\n",
       "      <td>0.134817</td>\n",
       "    </tr>\n",
       "  </tbody>\n",
       "</table>\n",
       "</div>"
      ],
      "text/plain": [
       "                event_name  cnt_events  avg_events_per_users\n",
       "5                      All      243713             32.275593\n",
       "1         MainScreenAppear      119101             15.772878\n",
       "2       OffersScreenAppear       46808              6.198914\n",
       "0         CartScreenAppear       42668              5.650642\n",
       "3  PaymentScreenSuccessful       34118              4.518342\n",
       "4                 Tutorial        1018              0.134817"
      ]
     },
     "execution_count": 16,
     "metadata": {},
     "output_type": "execute_result"
    }
   ],
   "source": [
    "# Находим среднее количество событий, приходящихся на пользователя\n",
    "cnt_events = df.pivot_table(index='event_name', values='device_id_hash', aggfunc='count', margins=True)\n",
    "cnt_events.columns = ['cnt_events']\n",
    "cnt_events['avg_events_per_users'] = cnt_events['cnt_events'] / unique_users\n",
    "cnt_events = cnt_events.reset_index()\n",
    "cnt_events.sort_values(by='cnt_events', ascending=False)"
   ]
  },
  {
   "cell_type": "code",
   "execution_count": 17,
   "id": "d47eba33",
   "metadata": {},
   "outputs": [
    {
     "name": "stdout",
     "output_type": "stream",
     "text": [
      "Медиана по количеству событий на пользователя равна 20.0\n",
      "Средний показатель количества событий на пользователя равен 32.27559263673685\n",
      "Мода количества событий на пользователя равна 0    5\n",
      "dtype: int64\n"
     ]
    }
   ],
   "source": [
    "stats_df = df.groupby(['device_id_hash'])[['event_name']].count()\n",
    "stats_df.columns = ['cnt_events']\n",
    "stats_df = stats_df.reset_index()\n",
    "#stats_df = stats_df.groupby('device_id_hash')[['cnt_events']].agg({'cnt_events':['count', 'median', 'mean', pd.Series.mode]})\n",
    "print(f'Медиана по количеству событий на пользователя равна {stats_df[\"cnt_events\"].median()}')\n",
    "print(f'Средний показатель количества событий на пользователя равен {stats_df[\"cnt_events\"].mean()}')\n",
    "print(f'Мода количества событий на пользователя равна {stats_df[\"cnt_events\"].mode()}')"
   ]
  },
  {
   "cell_type": "code",
   "execution_count": 18,
   "id": "0224cd8d",
   "metadata": {},
   "outputs": [
    {
     "name": "stdout",
     "output_type": "stream",
     "text": [
      "Минимальная дата события: 2019-07-25\n",
      "Максимальная дата события: 2019-08-07\n"
     ]
    }
   ],
   "source": [
    "min_date = df['date'].min()\n",
    "max_date = df['date'].max()\n",
    "print(f'Минимальная дата события: {min_date}')\n",
    "print(f'Максимальная дата события: {max_date}')"
   ]
  },
  {
   "cell_type": "markdown",
   "id": "72d5c2bc",
   "metadata": {},
   "source": [
    "Период для анализа, которым я располагаю, начинаются с 25 июля 2019 года и заканчиваются 7 августом того же года. "
   ]
  },
  {
   "cell_type": "code",
   "execution_count": 19,
   "id": "d6cedfb7",
   "metadata": {},
   "outputs": [
    {
     "data": {
      "image/png": "[encoded data removed]",
      "text/plain": [
       "<Figure size 864x360 with 1 Axes>"
      ]
     },
     "metadata": {},
     "output_type": "display_data"
    }
   ],
   "source": [
    "df['event_time'].hist(bins=40, figsize=(12, 5))\n",
    "plt.xticks(rotation=45)\n",
    "plt.title('Распределение событий в разное время рассматриваемого периода')\n",
    "plt.ylabel('Количество событий, шт.')\n",
    "plt.xlabel('Дата');"
   ]
  },
  {
   "cell_type": "code",
   "execution_count": 20,
   "id": "33717b04",
   "metadata": {},
   "outputs": [
    {
     "data": {
      "image/png": "[encoded data removed]",
      "text/plain": [
       "<Figure size 864x360 with 1 Axes>"
      ]
     },
     "metadata": {},
     "output_type": "display_data"
    }
   ],
   "source": [
    "# Рассматриваем данные за 31 июля - 1 августа более подробно\n",
    "detailed_df = df[(df['event_time'] >= '2019-07-31') & (df['event_time'] <= '2019-08-02')]\n",
    "detailed_df['event_time'].hist(bins=40, figsize=(12, 5))\n",
    "plt.xticks(rotation=45)\n",
    "plt.title('Распределение событий c 31 июля по 1 августа')\n",
    "plt.ylabel('Количество событий, шт.')\n",
    "plt.xlabel('Дата');"
   ]
  },
  {
   "cell_type": "markdown",
   "id": "ab969833",
   "metadata": {},
   "source": [
    "**Вывод**\n",
    "\n",
    "На данной гистограмме можем заметить, что в какие-то моменты количество событий сильно проседает, а в какие-то - их и вовсе почти нет, поэтому можно сделать вывод о том, что передо мной не одинаково полные данные за весь рассматриваемый период. Следовательно, необходимо оставить в датафрейме только тот период, который необходим и полезен для анализа. Судя по гистограмме, начальной точкой отсчёта целесообразно считать 1 августа 2019 года, так как именно в этот день начинается всплеск событий, что говорит о наполнении лога данными, тем самым останется именно тот промежуток, в котором данные будут полными и более новыми.\n",
    "\n",
    "Исходя из более детализированной гистограммы, стоит также предположить, что тест был запущен 1 августа в 00 часов по Москве, но так как при импорте данных не были утчены часовые пояса (да и в задании этого нет), то видно, что тест был начат в 21 час 31 июля по Лондонскому времени, так как примерно на этом промежутке времени начинается реальная пользовательская активность и уже совершённые пользователями действия, события записывается в лог."
   ]
  },
  {
   "cell_type": "code",
   "execution_count": 21,
   "id": "be229d7b",
   "metadata": {},
   "outputs": [],
   "source": [
    "# Отсекаем более старые данные\n",
    "df_actual = df[df['event_time'] >= '2019-08-01']"
   ]
  },
  {
   "cell_type": "code",
   "execution_count": 22,
   "id": "76b93af7",
   "metadata": {},
   "outputs": [
    {
     "data": {
      "image/png": "[encoded data removed]",
      "text/plain": [
       "<Figure size 720x360 with 1 Axes>"
      ]
     },
     "metadata": {},
     "output_type": "display_data"
    }
   ],
   "source": [
    "# Визуализация распределения после очистки от старых данных\n",
    "df_actual['event_time'].hist(bins=40, figsize=(10,5))\n",
    "plt.xticks(rotation=45)\n",
    "plt.title('Распределение событий за актуальный промежуток времени')\n",
    "plt.ylabel('Количество событий, шт.')\n",
    "plt.xlabel('Дата');"
   ]
  },
  {
   "cell_type": "markdown",
   "id": "701ec18d",
   "metadata": {},
   "source": [
    "Ранее, из датафрейма были удалены более старые данные, поэтому новый и актуальный период анализа получаем в рамках восьми дней: с 1 августа 2019 года по 8 августа того же года.\n",
    "\n",
    "Анализируя гистограмму по более новым данным, видим некие скачки, которые, на мой взгляд, достаточно логичны: примерно к середине каждого дня люди активизируются и показывают максимальную активность в приложении, а уже ближе к ночи - их активность затихает и в этот промежуток времени видна минимальная активность. Также можем заметить, что в каждый из дней представлено нормальное распределение событий."
   ]
  },
  {
   "cell_type": "code",
   "execution_count": 23,
   "id": "54914807",
   "metadata": {},
   "outputs": [
    {
     "data": {
      "text/plain": [
       "2826"
      ]
     },
     "execution_count": 23,
     "metadata": {},
     "output_type": "execute_result"
    }
   ],
   "source": [
    "# Определяем количество старых данных, которые пришлось срезать\n",
    "df_not_actual = df[df['event_time'] < '2019-08-01']\n",
    "len(df_not_actual)"
   ]
  },
  {
   "cell_type": "code",
   "execution_count": 24,
   "id": "61c88ee9",
   "metadata": {},
   "outputs": [
    {
     "name": "stdout",
     "output_type": "stream",
     "text": [
      "В абсолютном значении количество неактуальных данных равно 2826\n",
      "Доля старых данных по отношению к более новым составляет 1.16%\n"
     ]
    }
   ],
   "source": [
    "# Считаем, какой процент неактуальных данных у нас был в изначальном датафрейме\n",
    "not_actual_data = len(df_not_actual) / len(df)\n",
    "print(f'В абсолютном значении количество неактуальных данных равно {len(df_not_actual)}')\n",
    "print(f'Доля старых данных по отношению к более новым составляет {not_actual_data:.2%}')"
   ]
  },
  {
   "cell_type": "markdown",
   "id": "a745f12d",
   "metadata": {},
   "source": [
    "Количество неактуальных данных составляет 2826 записей, а если говорить об относительном показателе, то их доля составляет 1.2% от всего датасета, это достаточно маленький показатель, следовательно, удаление такого количество никак не исказит и не повляет на итоговый результат."
   ]
  },
  {
   "cell_type": "code",
   "execution_count": 25,
   "id": "9952ced2",
   "metadata": {
    "scrolled": true
   },
   "outputs": [
    {
     "name": "stdout",
     "output_type": "stream",
     "text": [
      "В итоге было принято удалить 3239 записей, что составляет 1.33% от всех данных\n",
      "После всех преобразований датафрейма, в моём распоряжении имеется 240887 записей о пользователях\n"
     ]
    }
   ],
   "source": [
    "print(f'В итоге было принято удалить {len(df_not_actual) + cnt_dupl} записей, что составляет {(len(df_not_actual) + cnt_dupl) / len(df):.2%} от всех данных')\n",
    "print(f'После всех преобразований датафрейма, в моём распоряжении имеется {len(df_actual)} записей о пользователях')"
   ]
  },
  {
   "cell_type": "code",
   "execution_count": 26,
   "id": "eb6e68e8",
   "metadata": {},
   "outputs": [
    {
     "name": "stdout",
     "output_type": "stream",
     "text": [
      "Количество удалённых пользователей в абсолютном выражении равно 17\n",
      "Доля пользователей, которую удалили, по отношению к изначальному количеству, равна 0.23%\n",
      "После удаления пользователей, попавших в неактуальный промежуток, для анализа осталось 7534 пользователя\n"
     ]
    }
   ],
   "source": [
    "# Считаем, какую долю пользователей удалили\n",
    "initial_amount_persons = df['device_id_hash'].nunique()\n",
    "actual_persons = df_actual['device_id_hash'].nunique()\n",
    "print(f'Количество удалённых пользователей в абсолютном выражении равно {initial_amount_persons - actual_persons}')\n",
    "print(f'Доля пользователей, которую удалили, по отношению к изначальному количеству, равна {1 - actual_persons / initial_amount_persons:.2%}')\n",
    "print(f'После удаления пользователей, попавших в неактуальный промежуток, для анализа осталось {df_actual[\"device_id_hash\"].nunique()} пользователя')"
   ]
  },
  {
   "cell_type": "markdown",
   "id": "20982991",
   "metadata": {},
   "source": [
    "**Промежуточный вывод**\n",
    "\n",
    "После некоторых преобразований, можно сделать следующие выводы:\n",
    "1. Всего было принято удалить 3239 записей, из них 413 полных дубликатов и 2826 неактуальных данных, что составляет 1.33% от первоначального датасета. Удаление подобного количества записей никак не отразится на итоговом результате.\n",
    "2. В связи с выявленным неактуальным промежутком времени, вместе со всеми событиями за этот период, были удалены и сами пользователи, которые попали в этот отрезок: в абсолютном выражении это число составило 17 человек, а в относительном (по отношению к изначальному количеству) - 0.23%.\n",
    "3. После того, как были проведены все преобразования первоначальной таблицы, в моём распоряжении осталось 240887 записей для проведения анализа. "
   ]
  },
  {
   "cell_type": "code",
   "execution_count": 27,
   "id": "133d4712",
   "metadata": {},
   "outputs": [
    {
     "data": {
      "text/html": [
       "<div>\n",
       "<style scoped>\n",
       "    .dataframe tbody tr th:only-of-type {\n",
       "        vertical-align: middle;\n",
       "    }\n",
       "\n",
       "    .dataframe tbody tr th {\n",
       "        vertical-align: top;\n",
       "    }\n",
       "\n",
       "    .dataframe thead th {\n",
       "        text-align: right;\n",
       "    }\n",
       "</style>\n",
       "<table border=\"1\" class=\"dataframe\">\n",
       "  <thead>\n",
       "    <tr style=\"text-align: right;\">\n",
       "      <th></th>\n",
       "      <th>exp_id</th>\n",
       "      <th>count_users</th>\n",
       "    </tr>\n",
       "  </thead>\n",
       "  <tbody>\n",
       "    <tr>\n",
       "      <th>0</th>\n",
       "      <td>246</td>\n",
       "      <td>2484</td>\n",
       "    </tr>\n",
       "    <tr>\n",
       "      <th>1</th>\n",
       "      <td>247</td>\n",
       "      <td>2513</td>\n",
       "    </tr>\n",
       "    <tr>\n",
       "      <th>2</th>\n",
       "      <td>248</td>\n",
       "      <td>2537</td>\n",
       "    </tr>\n",
       "  </tbody>\n",
       "</table>\n",
       "</div>"
      ],
      "text/plain": [
       "   exp_id  count_users\n",
       "0     246         2484\n",
       "1     247         2513\n",
       "2     248         2537"
      ]
     },
     "execution_count": 27,
     "metadata": {},
     "output_type": "execute_result"
    }
   ],
   "source": [
    "# Проверяем наличие пользователей во всех трёх экспериментальных группах\n",
    "group_users = df_actual.groupby('exp_id')[['device_id_hash']].nunique()\n",
    "group_users.columns = ['count_users']\n",
    "group_users = group_users.reset_index()\n",
    "group_users"
   ]
  },
  {
   "cell_type": "markdown",
   "id": "93c5f61d",
   "metadata": {},
   "source": [
    "**Вывод**\n",
    "\n",
    "Изучая полученную таблицу, замечу, что у нас есть пользователи из всех трёх экспериментальных групп. Более того, количество пользователей в каждой группе примерно одинаково, что говорит о готовности каждого набора данных к анализу"
   ]
  },
  {
   "cell_type": "code",
   "execution_count": 28,
   "id": "de6e875c",
   "metadata": {},
   "outputs": [
    {
     "data": {
      "text/html": [
       "<div>\n",
       "<style scoped>\n",
       "    .dataframe tbody tr th:only-of-type {\n",
       "        vertical-align: middle;\n",
       "    }\n",
       "\n",
       "    .dataframe tbody tr th {\n",
       "        vertical-align: top;\n",
       "    }\n",
       "\n",
       "    .dataframe thead th {\n",
       "        text-align: right;\n",
       "    }\n",
       "</style>\n",
       "<table border=\"1\" class=\"dataframe\">\n",
       "  <thead>\n",
       "    <tr style=\"text-align: right;\">\n",
       "      <th></th>\n",
       "      <th>event_name</th>\n",
       "      <th>count</th>\n",
       "    </tr>\n",
       "  </thead>\n",
       "  <tbody>\n",
       "    <tr>\n",
       "      <th>0</th>\n",
       "      <td>MainScreenAppear</td>\n",
       "      <td>117328</td>\n",
       "    </tr>\n",
       "    <tr>\n",
       "      <th>1</th>\n",
       "      <td>OffersScreenAppear</td>\n",
       "      <td>46333</td>\n",
       "    </tr>\n",
       "    <tr>\n",
       "      <th>2</th>\n",
       "      <td>CartScreenAppear</td>\n",
       "      <td>42303</td>\n",
       "    </tr>\n",
       "    <tr>\n",
       "      <th>3</th>\n",
       "      <td>PaymentScreenSuccessful</td>\n",
       "      <td>33918</td>\n",
       "    </tr>\n",
       "    <tr>\n",
       "      <th>4</th>\n",
       "      <td>Tutorial</td>\n",
       "      <td>1005</td>\n",
       "    </tr>\n",
       "  </tbody>\n",
       "</table>\n",
       "</div>"
      ],
      "text/plain": [
       "                event_name   count\n",
       "0         MainScreenAppear  117328\n",
       "1       OffersScreenAppear   46333\n",
       "2         CartScreenAppear   42303\n",
       "3  PaymentScreenSuccessful   33918\n",
       "4                 Tutorial    1005"
      ]
     },
     "execution_count": 28,
     "metadata": {},
     "output_type": "execute_result"
    }
   ],
   "source": [
    "# Находим частоту каждого события в логе\n",
    "cnt_events = df_actual.groupby('event_name').agg({'event_name': 'count'})                \n",
    "cnt_events.columns = ['count']\n",
    "cnt_events.sort_values(by = 'count', ascending = False).reset_index()"
   ]
  },
  {
   "cell_type": "code",
   "execution_count": 29,
   "id": "819a39ad",
   "metadata": {},
   "outputs": [
    {
     "data": {
      "text/html": [
       "<div>\n",
       "<style scoped>\n",
       "    .dataframe tbody tr th:only-of-type {\n",
       "        vertical-align: middle;\n",
       "    }\n",
       "\n",
       "    .dataframe tbody tr th {\n",
       "        vertical-align: top;\n",
       "    }\n",
       "\n",
       "    .dataframe thead th {\n",
       "        text-align: right;\n",
       "    }\n",
       "</style>\n",
       "<table border=\"1\" class=\"dataframe\">\n",
       "  <thead>\n",
       "    <tr style=\"text-align: right;\">\n",
       "      <th></th>\n",
       "      <th>event_name</th>\n",
       "      <th>count_users</th>\n",
       "      <th>first</th>\n",
       "    </tr>\n",
       "  </thead>\n",
       "  <tbody>\n",
       "    <tr>\n",
       "      <th>5</th>\n",
       "      <td>All</td>\n",
       "      <td>7534</td>\n",
       "      <td>1.000000</td>\n",
       "    </tr>\n",
       "    <tr>\n",
       "      <th>1</th>\n",
       "      <td>MainScreenAppear</td>\n",
       "      <td>7419</td>\n",
       "      <td>0.984736</td>\n",
       "    </tr>\n",
       "    <tr>\n",
       "      <th>2</th>\n",
       "      <td>OffersScreenAppear</td>\n",
       "      <td>4593</td>\n",
       "      <td>0.609636</td>\n",
       "    </tr>\n",
       "    <tr>\n",
       "      <th>0</th>\n",
       "      <td>CartScreenAppear</td>\n",
       "      <td>3734</td>\n",
       "      <td>0.495620</td>\n",
       "    </tr>\n",
       "    <tr>\n",
       "      <th>3</th>\n",
       "      <td>PaymentScreenSuccessful</td>\n",
       "      <td>3539</td>\n",
       "      <td>0.469737</td>\n",
       "    </tr>\n",
       "    <tr>\n",
       "      <th>4</th>\n",
       "      <td>Tutorial</td>\n",
       "      <td>840</td>\n",
       "      <td>0.111495</td>\n",
       "    </tr>\n",
       "  </tbody>\n",
       "</table>\n",
       "</div>"
      ],
      "text/plain": [
       "                event_name  count_users     first\n",
       "5                      All         7534  1.000000\n",
       "1         MainScreenAppear         7419  0.984736\n",
       "2       OffersScreenAppear         4593  0.609636\n",
       "0         CartScreenAppear         3734  0.495620\n",
       "3  PaymentScreenSuccessful         3539  0.469737\n",
       "4                 Tutorial          840  0.111495"
      ]
     },
     "execution_count": 29,
     "metadata": {},
     "output_type": "execute_result"
    }
   ],
   "source": [
    "event_users = (df_actual\n",
    "                 .pivot_table(index='event_name', values='device_id_hash', aggfunc='nunique', margins=True)\n",
    "                )\n",
    "event_users.columns = ['count_users']\n",
    "event_users = event_users.reset_index()\n",
    "event_users = event_users.sort_values(by='count_users', ascending=False)\n",
    "event_users['first'] = event_users['count_users'] / event_users['count_users'].values[0]\n",
    "event_users"
   ]
  },
  {
   "cell_type": "markdown",
   "id": "ca9a058c",
   "metadata": {},
   "source": [
    "Так как в документации проекта нет пояснения к тому, что означает название каждого события, прийдётся делать предположение самому, исходя из названия самого события. \n",
    "\n",
    "**Описание этапов воронки:**\n",
    "1. `MainScreenAppear` — вход в приложение, тем самым пользователь попадает на главный экран\n",
    "2. `OffersScreenAppear` — пользователь увидел предложение какого-то продукта \n",
    "3. `CartScreenAppear` — пользователь добавил продукт в корзину\n",
    "4. `PaymentScreenSuccessful` — пользователь совершил покупку продукта\n",
    "5. `Tutorial` — инструкция по использованию приложения"
   ]
  },
  {
   "cell_type": "markdown",
   "id": "688b04b8",
   "metadata": {},
   "source": [
    "Исходя из описанных этапов воронки, можно предположить, что прохождение некого обучения (чтение инструкции) необязательно для пользователя, данное действие можно осуществить в любой момент, когда человеку нужна инструкция по использхованию приложения, поэтому этот шаг учитывать в воронке нецелессобразно. "
   ]
  },
  {
   "cell_type": "code",
   "execution_count": 30,
   "id": "4ae1ba8e",
   "metadata": {},
   "outputs": [
    {
     "data": {
      "text/html": [
       "<div>\n",
       "<style scoped>\n",
       "    .dataframe tbody tr th:only-of-type {\n",
       "        vertical-align: middle;\n",
       "    }\n",
       "\n",
       "    .dataframe tbody tr th {\n",
       "        vertical-align: top;\n",
       "    }\n",
       "\n",
       "    .dataframe thead th {\n",
       "        text-align: right;\n",
       "    }\n",
       "</style>\n",
       "<table border=\"1\" class=\"dataframe\">\n",
       "  <thead>\n",
       "    <tr style=\"text-align: right;\">\n",
       "      <th></th>\n",
       "      <th>event_name</th>\n",
       "      <th>count_users</th>\n",
       "      <th>first</th>\n",
       "      <th>transition_conversion, %</th>\n",
       "    </tr>\n",
       "  </thead>\n",
       "  <tbody>\n",
       "    <tr>\n",
       "      <th>5</th>\n",
       "      <td>All</td>\n",
       "      <td>7534</td>\n",
       "      <td>1.000000</td>\n",
       "      <td>NaN</td>\n",
       "    </tr>\n",
       "    <tr>\n",
       "      <th>1</th>\n",
       "      <td>MainScreenAppear</td>\n",
       "      <td>7419</td>\n",
       "      <td>0.984736</td>\n",
       "      <td>98.47</td>\n",
       "    </tr>\n",
       "    <tr>\n",
       "      <th>2</th>\n",
       "      <td>OffersScreenAppear</td>\n",
       "      <td>4593</td>\n",
       "      <td>0.609636</td>\n",
       "      <td>61.91</td>\n",
       "    </tr>\n",
       "    <tr>\n",
       "      <th>0</th>\n",
       "      <td>CartScreenAppear</td>\n",
       "      <td>3734</td>\n",
       "      <td>0.495620</td>\n",
       "      <td>81.30</td>\n",
       "    </tr>\n",
       "    <tr>\n",
       "      <th>3</th>\n",
       "      <td>PaymentScreenSuccessful</td>\n",
       "      <td>3539</td>\n",
       "      <td>0.469737</td>\n",
       "      <td>94.78</td>\n",
       "    </tr>\n",
       "  </tbody>\n",
       "</table>\n",
       "</div>"
      ],
      "text/plain": [
       "                event_name  count_users     first  transition_conversion, %\n",
       "5                      All         7534  1.000000                       NaN\n",
       "1         MainScreenAppear         7419  0.984736                     98.47\n",
       "2       OffersScreenAppear         4593  0.609636                     61.91\n",
       "0         CartScreenAppear         3734  0.495620                     81.30\n",
       "3  PaymentScreenSuccessful         3539  0.469737                     94.78"
      ]
     },
     "execution_count": 30,
     "metadata": {},
     "output_type": "execute_result"
    }
   ],
   "source": [
    "# Расчёт долей воронки\n",
    "event_users = event_users[event_users['event_name'] != 'Tutorial']\n",
    "event_users = event_users.sort_values(by='count_users', ascending=False)\n",
    "event_users['transition_conversion, %'] = (\n",
    "    round(event_users['count_users'] / event_users['count_users'].shift() * 100, 2)\n",
    "                                           )\n",
    "event_users[['count_users', 'transition_conversion, %']]\n",
    "event_users"
   ]
  },
  {
   "cell_type": "markdown",
   "id": "54241581",
   "metadata": {},
   "source": [
    "**Вывод**\n",
    "\n",
    "Анализируя полученную воронку, можно заметить, что больше всего пользователей теряем на переходе с первого этапа на второй, то есть после того как пользователь вошёл в приложение, многие люди не видят продукт и, соответственно, не взаимодействуют с ним, тем самым отваливаются уже на первом этапе воронки."
   ]
  },
  {
   "cell_type": "code",
   "execution_count": 31,
   "id": "ef8ff9f1",
   "metadata": {},
   "outputs": [
    {
     "name": "stdout",
     "output_type": "stream",
     "text": [
      "Процент пользователей, который доходит от первого события до оплаты равен 47.70%\n"
     ]
    }
   ],
   "source": [
    "# Находим долю пользователей, которые доходят от первого события до оплаты\n",
    "share_payers = (\n",
    "    event_users.loc[event_users['event_name'] == 'PaymentScreenSuccessful', 'count_users'].values[0] / \n",
    "    event_users.loc[event_users['event_name'] == 'MainScreenAppear', 'count_users'].values[0]\n",
    ")\n",
    "print(f'Процент пользователей, который доходит от первого события до оплаты равен {share_payers:.2%}')"
   ]
  },
  {
   "cell_type": "markdown",
   "id": "b604ff80",
   "metadata": {},
   "source": [
    "Доля людей, которые прошли все этапы воронки и приобрели продукт в приложении, достаточно высокая: почти 50% пришедших в приложение, совершают покупку. Достаточно неплохо, когда примерно каждый второй человек генерируется в покупателя. "
   ]
  },
  {
   "cell_type": "code",
   "execution_count": 32,
   "id": "b58a0d5c",
   "metadata": {
    "scrolled": true
   },
   "outputs": [
    {
     "data": {
      "text/html": [
       "<div>\n",
       "<style scoped>\n",
       "    .dataframe tbody tr th:only-of-type {\n",
       "        vertical-align: middle;\n",
       "    }\n",
       "\n",
       "    .dataframe tbody tr th {\n",
       "        vertical-align: top;\n",
       "    }\n",
       "\n",
       "    .dataframe thead th {\n",
       "        text-align: right;\n",
       "    }\n",
       "</style>\n",
       "<table border=\"1\" class=\"dataframe\">\n",
       "  <thead>\n",
       "    <tr style=\"text-align: right;\">\n",
       "      <th></th>\n",
       "      <th>exp_id</th>\n",
       "      <th>count_users</th>\n",
       "    </tr>\n",
       "  </thead>\n",
       "  <tbody>\n",
       "    <tr>\n",
       "      <th>0</th>\n",
       "      <td>246</td>\n",
       "      <td>2484</td>\n",
       "    </tr>\n",
       "    <tr>\n",
       "      <th>1</th>\n",
       "      <td>247</td>\n",
       "      <td>2513</td>\n",
       "    </tr>\n",
       "    <tr>\n",
       "      <th>2</th>\n",
       "      <td>248</td>\n",
       "      <td>2537</td>\n",
       "    </tr>\n",
       "    <tr>\n",
       "      <th>3</th>\n",
       "      <td>249</td>\n",
       "      <td>4997</td>\n",
       "    </tr>\n",
       "  </tbody>\n",
       "</table>\n",
       "</div>"
      ],
      "text/plain": [
       "   exp_id  count_users\n",
       "0     246         2484\n",
       "1     247         2513\n",
       "2     248         2537\n",
       "3     249         4997"
      ]
     },
     "execution_count": 32,
     "metadata": {},
     "output_type": "execute_result"
    }
   ],
   "source": [
    "# Выводим количество пользователей (размер групп) в каждой экспериментальной группе вне зависимости от совершённого действия\n",
    "# Добавляем новую группу (249), которая содержит в себе общее количество пользователей из двух контрольных групп (из 246 и 247)\n",
    "group_users.loc[len(group_users.index)] = [249, \n",
    "                                          group_users['count_users'].values[0] + group_users['count_users'].values[1]] \n",
    "group_users"
   ]
  },
  {
   "cell_type": "markdown",
   "id": "3fd51e66",
   "metadata": {},
   "source": [
    "**Вывод**\n",
    "\n",
    "В итоге, получаем следующий размер групп: в 246 и 247 группах (контрольных) 2484 и 2513 пользователей соответственно; в 248 группе (экспериментальной) - 2537 пользователей; в 249 группе (объединённой) - 4997 пользователей. "
   ]
  },
  {
   "cell_type": "code",
   "execution_count": 33,
   "id": "d9fe5515",
   "metadata": {},
   "outputs": [
    {
     "data": {
      "text/html": [
       "<div>\n",
       "<style scoped>\n",
       "    .dataframe tbody tr th:only-of-type {\n",
       "        vertical-align: middle;\n",
       "    }\n",
       "\n",
       "    .dataframe tbody tr th {\n",
       "        vertical-align: top;\n",
       "    }\n",
       "\n",
       "    .dataframe thead th {\n",
       "        text-align: right;\n",
       "    }\n",
       "</style>\n",
       "<table border=\"1\" class=\"dataframe\">\n",
       "  <thead>\n",
       "    <tr style=\"text-align: right;\">\n",
       "      <th></th>\n",
       "      <th>funnel_stage</th>\n",
       "      <th>246</th>\n",
       "      <th>247</th>\n",
       "      <th>248</th>\n",
       "      <th>249</th>\n",
       "      <th>total_at_stage</th>\n",
       "      <th>share_246</th>\n",
       "      <th>share_247</th>\n",
       "      <th>share_248</th>\n",
       "    </tr>\n",
       "  </thead>\n",
       "  <tbody>\n",
       "    <tr>\n",
       "      <th>1</th>\n",
       "      <td>MainScreenAppear</td>\n",
       "      <td>2450</td>\n",
       "      <td>2476</td>\n",
       "      <td>2493</td>\n",
       "      <td>4926</td>\n",
       "      <td>7419</td>\n",
       "      <td>0.986312</td>\n",
       "      <td>0.985277</td>\n",
       "      <td>0.982657</td>\n",
       "    </tr>\n",
       "    <tr>\n",
       "      <th>2</th>\n",
       "      <td>OffersScreenAppear</td>\n",
       "      <td>1542</td>\n",
       "      <td>1520</td>\n",
       "      <td>1531</td>\n",
       "      <td>3062</td>\n",
       "      <td>4593</td>\n",
       "      <td>0.629388</td>\n",
       "      <td>0.613893</td>\n",
       "      <td>0.614120</td>\n",
       "    </tr>\n",
       "    <tr>\n",
       "      <th>3</th>\n",
       "      <td>CartScreenAppear</td>\n",
       "      <td>1266</td>\n",
       "      <td>1238</td>\n",
       "      <td>1230</td>\n",
       "      <td>2504</td>\n",
       "      <td>3734</td>\n",
       "      <td>0.821012</td>\n",
       "      <td>0.814474</td>\n",
       "      <td>0.803396</td>\n",
       "    </tr>\n",
       "    <tr>\n",
       "      <th>4</th>\n",
       "      <td>PaymentScreenSuccessful</td>\n",
       "      <td>1200</td>\n",
       "      <td>1158</td>\n",
       "      <td>1181</td>\n",
       "      <td>2358</td>\n",
       "      <td>3539</td>\n",
       "      <td>0.947867</td>\n",
       "      <td>0.935380</td>\n",
       "      <td>0.960163</td>\n",
       "    </tr>\n",
       "  </tbody>\n",
       "</table>\n",
       "</div>"
      ],
      "text/plain": [
       "              funnel_stage   246   247   248   249  total_at_stage  share_246  \\\n",
       "1         MainScreenAppear  2450  2476  2493  4926            7419   0.986312   \n",
       "2       OffersScreenAppear  1542  1520  1531  3062            4593   0.629388   \n",
       "3         CartScreenAppear  1266  1238  1230  2504            3734   0.821012   \n",
       "4  PaymentScreenSuccessful  1200  1158  1181  2358            3539   0.947867   \n",
       "\n",
       "   share_247  share_248  \n",
       "1   0.985277   0.982657  \n",
       "2   0.613893   0.614120  \n",
       "3   0.814474   0.803396  \n",
       "4   0.935380   0.960163  "
      ]
     },
     "execution_count": 33,
     "metadata": {},
     "output_type": "execute_result"
    }
   ],
   "source": [
    "# Создаём сводную таблицу по всем группам\n",
    "pivot_group = (\n",
    "    df_actual\n",
    "    .pivot_table(index='event_name', columns='exp_id', values='device_id_hash', aggfunc='nunique', margins=True)\n",
    "              )\n",
    "pivot_group = pivot_group.reset_index()\n",
    "pivot_group.columns = ['funnel_stage', 'cnt_246', 'cnt_247', 'cnt_248', 'total_at_stage']\n",
    "pivot_group = pivot_group[pivot_group['funnel_stage'] != 'Tutorial']\n",
    "pivot_group.loc[pivot_group['funnel_stage'] == 'All', 'funnel_stage'] = 'Total_users'\n",
    "pivot_group = pivot_group.sort_values(by='total_at_stage', ascending=False)\n",
    "# Считаем долю пользователей, которые переходили от этапа к этапу \n",
    "pivot_group['share_246'] = pivot_group.cnt_246 / pivot_group.cnt_246.shift()                      \n",
    "pivot_group['share_247'] = pivot_group.cnt_247 / pivot_group.cnt_247.shift()                       \n",
    "pivot_group['share_248'] = pivot_group.cnt_248 / pivot_group.cnt_248.shift()                        \n",
    "pivot_group = pivot_group.reset_index(drop=True)\n",
    "pivot_group = pivot_group.rename(columns = {'cnt_246':246, 'cnt_247':247, 'cnt_248':248})\n",
    "pivot_group = pivot_group[pivot_group['funnel_stage'] != 'Total_users']\n",
    "pivot_group.insert(4, 249, pivot_group[246] + pivot_group[247])\n",
    "pivot_group"
   ]
  },
  {
   "cell_type": "markdown",
   "id": "2f6c7496",
   "metadata": {},
   "source": [
    "**Вывод**\n",
    "\n",
    "Самое популярное событие во всех группах, которое совершили пользователи, - `MainScreenAppear` - вход в приложение, что логично, потому что не войдя в само приложение, не получится попасть на какой-либо другой этап. "
   ]
  },
  {
   "cell_type": "markdown",
   "id": "5e6cbc29",
   "metadata": {},
   "source": [
    "### Дополнительная проверка"
   ]
  },
  {
   "cell_type": "markdown",
   "id": "f03b31bb",
   "metadata": {},
   "source": [
    "Анализируя сводную таблицу `pivot_group`, видим, что была получена разница в долях пользователей от общего кол-ва двух контрольных групп, поэтому проведём дополнительную проверку и узнаем, правда ли эта разница статистически не значима, предполагая, что по дизайну теста эти доли должны быть равны. Для этого сравним вероятности попадания пользователей в соответствующие группы (доли от общего кол-ва и есть вероятности)."
   ]
  },
  {
   "cell_type": "markdown",
   "id": "ecbd284a",
   "metadata": {},
   "source": [
    "Сформируем нулевую (H₀) и альтернативную (H₁) гипотезы:\n",
    "- H₀: доля пользователей, попавших в одну контрольную группу, равна доле пользователям, попавших в другую \n",
    "- H₁: доля пользователей, попавших в одну контрольную группу, не равна доле пользователям, попавших в другую \n",
    "\n",
    "Будет проверяться гипотеза о равенстве долей двух контрольных групп."
   ]
  },
  {
   "cell_type": "code",
   "execution_count": 34,
   "id": "eedbbf3f",
   "metadata": {},
   "outputs": [],
   "source": [
    "# Функция для расчёта z-теста\n",
    "def z_test(value_1, value_2, value_3, value_4):\n",
    "    alpha = .05 # критический уровень статистической значимости\n",
    "\n",
    "    successes = np.array([value_1, value_2])\n",
    "    trials = np.array([value_3, value_4])\n",
    "\n",
    "    # пропорция успехов в первой группе:\n",
    "    p1 = successes[0]/trials[0]\n",
    "    # пропорция успехов во второй группе:\n",
    "    p2 = successes[1]/trials[1]\n",
    "\n",
    "    # пропорция успехов в комбинированном датасете:\n",
    "    p_combined = (successes[0] + successes[1]) / (trials[0] + trials[1])\n",
    "\n",
    "    # разница пропорций в датасетах\n",
    "    difference = p1 - p2\n",
    "\n",
    "    # считаем статистику в ст.отклонениях стандартного нормального распределения\n",
    "    z_value = difference / mth.sqrt(p_combined * (1 - p_combined) * (1/trials[0] + 1/trials[1]))\n",
    "    # задаем стандартное нормальное распределение (среднее 0, ст.отклонение 1)\n",
    "    distr = st.norm(0, 1) \n",
    "\n",
    "    p_value = (1 - distr.cdf(abs(z_value))) * 2\n",
    "        \n",
    "    print('p-value:', p_value)\n",
    "\n",
    "    if p_value < alpha:\n",
    "        print('Отвергаем нулевую гипотезу: между долями есть значимая разница')\n",
    "    else:\n",
    "        print('Не получилось отвергнуть нулевую гипотезу, нет оснований считать доли разными') "
   ]
  },
  {
   "cell_type": "code",
   "execution_count": 35,
   "id": "2d6ba076",
   "metadata": {},
   "outputs": [],
   "source": [
    "# Функция для оптимизации расчёта z-теста\n",
    "def check_all_events(pivot_group, group_users, gr_1, gr_2):\n",
    "    print(f'Проверка гипотез для {gr_1} и {gr_2} групп')\n",
    "    print('--------------------------------')\n",
    "    for event in pivot_group.funnel_stage.unique():\n",
    "        print(f'Проверка равенства долей для этапа {event}')\n",
    "        s1 = pivot_group[pivot_group['funnel_stage'] == event][gr_1].values[0]\n",
    "        t1 = group_users[group_users['exp_id'] == gr_1]['count_users'].values[0]\n",
    "        s2 = pivot_group[pivot_group['funnel_stage'] == event][gr_2].values[0]\n",
    "        t2 = group_users[group_users['exp_id'] == gr_2]['count_users'].values[0]\n",
    "        z_test(s1, s2, t1, t2)\n",
    "        if event != 'PaymentScreenSuccessful':\n",
    "            print('')\n",
    "    print('--------------------------------')"
   ]
  },
  {
   "cell_type": "code",
   "execution_count": 36,
   "id": "ea951bb5",
   "metadata": {},
   "outputs": [
    {
     "name": "stdout",
     "output_type": "stream",
     "text": [
      "p-value: 0.5617972322745155\n",
      "Не получилось отвергнуть нулевую гипотезу, нет оснований считать доли разными\n"
     ]
    }
   ],
   "source": [
    "# Проверяем, находят ли статистические критерии разницу между выборками 246 и 247\n",
    "z_test(group_users['count_users'].values[0], \n",
    "       group_users['count_users'].values[1], \n",
    "       group_users['count_users'].values[1] + group_users['count_users'].values[0], \n",
    "       group_users['count_users'].values[1] + group_users['count_users'].values[0])"
   ]
  },
  {
   "cell_type": "markdown",
   "id": "1942eab5",
   "metadata": {},
   "source": [
    "**Вывод по дополнительной проверке**\n",
    "\n",
    "Z-тест показал, что между группами 246 и 247 нет статистически значимой разницы, следовательно, принимаем нулевую гипотезу. \n",
    "\n",
    "Можем утверждать, что доля пользователей, попавших в одну контрольную группу статистически не отличается от доли пользователей, попавших в другую при критическом уровне статистической значимости 5%."
   ]
  },
  {
   "cell_type": "markdown",
   "id": "29c3bfb4",
   "metadata": {},
   "source": [
    "## 4. A/A-тест\n",
    "\n",
    "При помощи двух контрольных групп - 246 и 247, которые нужны для A/A-эксперимента, проверим корректность всех механизмов и расчётов."
   ]
  },
  {
   "cell_type": "markdown",
   "id": "d7835512",
   "metadata": {},
   "source": [
    "Сформируем нулевую (H₀) и альтернативную (H₁) гипотезы:\n",
    "\n",
    "- H₀: доли пользователей по переходу на каждое событие одной контрольной группы не отличаются от долей пользователей по переходу на аналогичное событие другой контрольной группы \n",
    "- H₁: доли пользователей по переходу на каждое событие одной контрольной группы отличаются от долей пользователей по переходу на аналогичное событие другой контрольной группы\n",
    "\n",
    "Будет проверяться гипотеза о равенстве долей двух контрольных групп. "
   ]
  },
  {
   "cell_type": "code",
   "execution_count": 37,
   "id": "86deee69",
   "metadata": {},
   "outputs": [
    {
     "name": "stdout",
     "output_type": "stream",
     "text": [
      "Проверка гипотез для 246 и 247 групп\n",
      "--------------------------------\n",
      "Проверка равенства долей для этапа MainScreenAppear\n",
      "p-value: 0.7570597232046099\n",
      "Не получилось отвергнуть нулевую гипотезу, нет оснований считать доли разными\n",
      "\n",
      "Проверка равенства долей для этапа OffersScreenAppear\n",
      "p-value: 0.2480954578522181\n",
      "Не получилось отвергнуть нулевую гипотезу, нет оснований считать доли разными\n",
      "\n",
      "Проверка равенства долей для этапа CartScreenAppear\n",
      "p-value: 0.22883372237997213\n",
      "Не получилось отвергнуть нулевую гипотезу, нет оснований считать доли разными\n",
      "\n",
      "Проверка равенства долей для этапа PaymentScreenSuccessful\n",
      "p-value: 0.11456679313141849\n",
      "Не получилось отвергнуть нулевую гипотезу, нет оснований считать доли разными\n",
      "--------------------------------\n"
     ]
    }
   ],
   "source": [
    "# Проверяем, будут ли доли пользователей по переходу на каждый этап двух контрольных групп иметь статистическую разницу\n",
    "check_all_events(pivot_group, group_users, 246, 247)"
   ]
  },
  {
   "cell_type": "markdown",
   "id": "ff3f115c",
   "metadata": {},
   "source": [
    "**Вывод по гипотезе**\n",
    "\n",
    "На основании z-теста, принимаем нулевую гипотезу. \n",
    "\n",
    "Можем утверждать, что доли пользователей по переходу на каждое событие одной контрольной группы статистически не отличаются от долей пользователей по переходу на аналогичные события другой контрольной группы при критическом уровне статистической значимости 5%."
   ]
  },
  {
   "cell_type": "markdown",
   "id": "be1b3843",
   "metadata": {},
   "source": [
    "**Вывод по A/A-эксперименту**\n",
    "\n",
    "Так как доли пользователей по переходу на каждое событие одной контрольной группы статистически не отличаются от долей пользователей по переходу на аналогичное событие другой контрольной группы, в дальнейшем, благодаря успешности проведённого A/A-теста, можем больше доверять A/B-тестированию."
   ]
  },
  {
   "cell_type": "markdown",
   "id": "6d0b8f4e",
   "metadata": {},
   "source": [
    "## 5. A/B-тест"
   ]
  },
  {
   "cell_type": "markdown",
   "id": "b970fb51",
   "metadata": {},
   "source": [
    "Сформируем нулевую (H₀) и альтернативную (H₁) гипотезы:\n",
    "\n",
    "- H₀: доли пользователей по переходу на каждое событие контрольной группы не отличаются от долей пользователей по переходу на аналогичное событие экспериментальной группы\n",
    "- H₁: доли пользователей по переходу на каждое событие контрольной группы отличаются от долей пользователей по переходу на аналогичное событие экспериментальной группы\n",
    "\n",
    "Будет также проверяться гипотеза о равенстве долей, только сравниваться уже будет контрольная группа с экспериментальной."
   ]
  },
  {
   "cell_type": "code",
   "execution_count": 38,
   "id": "07c45b4a",
   "metadata": {},
   "outputs": [
    {
     "name": "stdout",
     "output_type": "stream",
     "text": [
      "Проверка гипотез для 246 и 248 групп\n",
      "--------------------------------\n",
      "Проверка равенства долей для этапа MainScreenAppear\n",
      "p-value: 0.2949721933554552\n",
      "Не получилось отвергнуть нулевую гипотезу, нет оснований считать доли разными\n",
      "\n",
      "Проверка равенства долей для этапа OffersScreenAppear\n",
      "p-value: 0.20836205402738917\n",
      "Не получилось отвергнуть нулевую гипотезу, нет оснований считать доли разными\n",
      "\n",
      "Проверка равенства долей для этапа CartScreenAppear\n",
      "p-value: 0.07842923237520116\n",
      "Не получилось отвергнуть нулевую гипотезу, нет оснований считать доли разными\n",
      "\n",
      "Проверка равенства долей для этапа PaymentScreenSuccessful\n",
      "p-value: 0.2122553275697796\n",
      "Не получилось отвергнуть нулевую гипотезу, нет оснований считать доли разными\n",
      "--------------------------------\n"
     ]
    }
   ],
   "source": [
    "# Сравниваем доли пользователей по переходу на каждый этап контрольной группы (246) и группы с изменённым шрифтом (248)\n",
    "check_all_events(pivot_group, group_users, 246, 248)"
   ]
  },
  {
   "cell_type": "code",
   "execution_count": 39,
   "id": "a64bc4bd",
   "metadata": {},
   "outputs": [
    {
     "name": "stdout",
     "output_type": "stream",
     "text": [
      "Проверка гипотез для 247 и 248 групп\n",
      "--------------------------------\n",
      "Проверка равенства долей для этапа MainScreenAppear\n",
      "p-value: 0.4587053616621515\n",
      "Не получилось отвергнуть нулевую гипотезу, нет оснований считать доли разными\n",
      "\n",
      "Проверка равенства долей для этапа OffersScreenAppear\n",
      "p-value: 0.9197817830592261\n",
      "Не получилось отвергнуть нулевую гипотезу, нет оснований считать доли разными\n",
      "\n",
      "Проверка равенства долей для этапа CartScreenAppear\n",
      "p-value: 0.5786197879539783\n",
      "Не получилось отвергнуть нулевую гипотезу, нет оснований считать доли разными\n",
      "\n",
      "Проверка равенства долей для этапа PaymentScreenSuccessful\n",
      "p-value: 0.7373415053803964\n",
      "Не получилось отвергнуть нулевую гипотезу, нет оснований считать доли разными\n",
      "--------------------------------\n"
     ]
    }
   ],
   "source": [
    "# Сравниваем доли пользователей по переходу на каждый этап контрольной группы (247) и группы с изменённым шрифтом (248) \n",
    "check_all_events(pivot_group, group_users, 247, 248)"
   ]
  },
  {
   "cell_type": "code",
   "execution_count": 40,
   "id": "ccfb5a3a",
   "metadata": {},
   "outputs": [
    {
     "name": "stdout",
     "output_type": "stream",
     "text": [
      "Проверка гипотез для 248 и 249 групп\n",
      "--------------------------------\n",
      "Проверка равенства долей для этапа MainScreenAppear\n",
      "p-value: 0.29424526837179577\n",
      "Не получилось отвергнуть нулевую гипотезу, нет оснований считать доли разными\n",
      "\n",
      "Проверка равенства долей для этапа OffersScreenAppear\n",
      "p-value: 0.43425549655188256\n",
      "Не получилось отвергнуть нулевую гипотезу, нет оснований считать доли разными\n",
      "\n",
      "Проверка равенства долей для этапа CartScreenAppear\n",
      "p-value: 0.18175875284404386\n",
      "Не получилось отвергнуть нулевую гипотезу, нет оснований считать доли разными\n",
      "\n",
      "Проверка равенства долей для этапа PaymentScreenSuccessful\n",
      "p-value: 0.6004294282308704\n",
      "Не получилось отвергнуть нулевую гипотезу, нет оснований считать доли разными\n",
      "--------------------------------\n"
     ]
    }
   ],
   "source": [
    "# Сравниваем доли пользователей по переходу на каждый этап экспериментальной группы (248) и объединённой (249)\n",
    "check_all_events(pivot_group, group_users, 248, 249)"
   ]
  },
  {
   "cell_type": "markdown",
   "id": "363f6808",
   "metadata": {},
   "source": [
    "**Вывод по A/B-эксперименту**\n",
    "\n",
    "На основании статистического теста, принимаем нулевую гипотезу (стоит также заметить, что z-тест показал отсутствие значимого различия не только между контрольными и экспериментальной группами, но и между объединённой и экспериментальной). \n",
    "\n",
    "Можно утверждать, что доли пользователей по переходу на каждое событие контрольной группы, а также объединённой, статистически не отличаются от долей пользователей по переходу на аналогичное событие экспериментальной группы при критическом уровне статистической значимости 5%."
   ]
  },
  {
   "cell_type": "markdown",
   "id": "700681b0",
   "metadata": {},
   "source": [
    "**Дополнение**\n",
    "\n",
    "Стоит заметить, что мы проводим тестирование нескольких гипотез на одном наборе данных, из-за этого у нас растёт вероятность совершить ошибку первого рода. Чтобы избежать этого, обычно используют различные методы поправки на множественную проверку гипотез: один из них - метод Бонферрони (поправка Бонферрони), который заключается в том, что уровень значимости корректируется на количество проверяемых гипотез.\n",
    "\n",
    "При проверке статистических гипотез, я выбрал уровень значимости, равный 5%. Всего было сделано 16 проверок, следовательно, корректировать наш уровень значимости необходимо на 16 и наша альфа будет ровняться 0.05/16=0.003. "
   ]
  },
  {
   "cell_type": "markdown",
   "id": "30ecfb26",
   "metadata": {},
   "source": [
    "## 6. Итоговый вывод"
   ]
  },
  {
   "cell_type": "markdown",
   "id": "acf561f9",
   "metadata": {},
   "source": [
    "В рамках данного проекта, было изучено поведение пользователей, которые покупают продукты питания через мобильное приложение одного из стартапов. \n",
    "\n",
    "В процессе изучения поведения пользователей, были выявлены следующие моменты:\n",
    "- Изучена воронка продаж, в которой было выявлено 4 обязательных этапа (1 - вход в приложение, 2 - пользователь увидел предложение какого-либо продукта, 3 - добавление продукта в корзину, 4 - покупка продукта), которые идут друг за другом, и один необязательный (инструкция по использованию приложения), на который можно попасть вне зависимости того, на каком этапе находится пользователь в данный момент, поэтому данный этап воронки не учитывался в расчётах.\n",
    "- Процент пользователей, которые конвертируются в покупателей, равен 47.7%, то есть почти половина пришедших пользователей проходят все этапы воронки полностью (в среднем, почти каждый второй пользователь приложения становится покупателем) - досаточно хороший показатель.\n",
    "- Было выявлено, что из всех пользователей, которые есть в логе, на первый этап попали 98.47% от общего числа (возможно был какой-то баг приложения, что почти 1.5% пользователей даже и не вошли в приложение, но это не критично). С первого этапа на второй перешли лишь 61.91%, что достаточно критично, так как почти 40% пользователей теряется на 1 этапе (возможно, был какой-то баг в баннере, что, когда пользователь видел предложение, он не мог по нему перейти). Со второго на третий этап перешли 81.3%, здесь ситуация лучше, чем на предыдущем шаге, однако также следует обратить внимание, так как почти 20% пользователей отсеиваются (возможно, стоит больше уделить внимания оформлению предложения продукта (его визуала), чтобы тем самым увеличить вероятность добавления продукта в корзину). И уже с третьего на четвёртый этап переходят 94.78% пользователей, что достаточно хорошо (около 95% пользователей, которые добавили продукт в корзину, покупают его)\n",
    "- Что касается шрифта, то в рамках A/A/B-теста не было выявлено статистически значимых различий между новым и старым шрифтами, следовательно, в приложении можно менять шрифт на новый, так как на поведение пользователей это не влияет. Но анализируя воронку продаж, дизайнеры принесут больше пользы, если займутся визуальным оформлением баннера предложения о продукте, чтобы пользователи с большей вероятностью добавляли продукт в корзину. А также, стоит проинвестировать больше денег в маркетинг, чтобы предложение о продукте видело гораздо больше целевых пользователей и на первом этапе не отсеивалось около 40% потенциальных покупателей.   "
   ]
  }
 ],
 "metadata": {
  "ExecuteTimeLog": [
   {
    "duration": 1265,
    "start_time": "2022-11-20T15:57:36.742Z"
   },
   {
    "duration": 719,
    "start_time": "2022-11-20T15:57:38.009Z"
   },
   {
    "duration": 13,
    "start_time": "2022-11-20T15:57:38.732Z"
   },
   {
    "duration": 21,
    "start_time": "2022-11-20T15:57:38.746Z"
   },
   {
    "duration": 9,
    "start_time": "2022-11-20T15:57:38.769Z"
   },
   {
    "duration": 27,
    "start_time": "2022-11-20T15:57:38.780Z"
   },
   {
    "duration": 77,
    "start_time": "2022-11-20T15:57:38.809Z"
   },
   {
    "duration": 63,
    "start_time": "2022-11-20T15:57:38.888Z"
   },
   {
    "duration": 33,
    "start_time": "2022-11-20T15:57:38.954Z"
   },
   {
    "duration": 5,
    "start_time": "2022-11-20T15:57:38.988Z"
   },
   {
    "duration": 10,
    "start_time": "2022-11-20T15:57:38.994Z"
   },
   {
    "duration": 86,
    "start_time": "2022-11-20T15:57:39.005Z"
   },
   {
    "duration": 4,
    "start_time": "2022-11-20T15:57:39.092Z"
   },
   {
    "duration": 12,
    "start_time": "2022-11-20T15:57:39.097Z"
   },
   {
    "duration": 38,
    "start_time": "2022-11-20T15:57:39.110Z"
   },
   {
    "duration": 44,
    "start_time": "2022-11-20T15:57:39.149Z"
   },
   {
    "duration": 343,
    "start_time": "2022-11-20T15:57:39.194Z"
   },
   {
    "duration": 23,
    "start_time": "2022-11-20T15:57:39.539Z"
   },
   {
    "duration": 246,
    "start_time": "2022-11-20T15:57:39.563Z"
   },
   {
    "duration": 5,
    "start_time": "2022-11-20T15:57:39.811Z"
   },
   {
    "duration": 6,
    "start_time": "2022-11-20T15:57:39.818Z"
   },
   {
    "duration": 55,
    "start_time": "2022-11-20T15:57:39.825Z"
   },
   {
    "duration": 36,
    "start_time": "2022-11-20T15:57:39.881Z"
   },
   {
    "duration": 72,
    "start_time": "2022-11-20T15:57:39.918Z"
   },
   {
    "duration": 11,
    "start_time": "2022-11-20T15:57:39.992Z"
   },
   {
    "duration": 7,
    "start_time": "2022-11-20T15:57:40.005Z"
   },
   {
    "duration": 10,
    "start_time": "2022-11-20T15:57:40.016Z"
   },
   {
    "duration": 13,
    "start_time": "2022-11-20T15:57:40.028Z"
   },
   {
    "duration": 15,
    "start_time": "2022-11-20T15:57:40.042Z"
   },
   {
    "duration": 216,
    "start_time": "2022-11-20T15:57:40.058Z"
   },
   {
    "duration": 10,
    "start_time": "2022-11-20T15:57:40.278Z"
   },
   {
    "duration": 13,
    "start_time": "2022-11-20T15:57:40.289Z"
   },
   {
    "duration": 14,
    "start_time": "2022-11-20T15:57:40.304Z"
   },
   {
    "duration": 14,
    "start_time": "2022-11-20T15:57:40.320Z"
   },
   {
    "duration": 11,
    "start_time": "2022-11-20T16:10:45.357Z"
   },
   {
    "duration": 5,
    "start_time": "2022-11-20T16:11:02.205Z"
   },
   {
    "duration": 4,
    "start_time": "2022-11-20T16:11:07.184Z"
   },
   {
    "duration": 5,
    "start_time": "2022-11-20T16:11:11.453Z"
   },
   {
    "duration": 5,
    "start_time": "2022-11-20T16:11:14.113Z"
   },
   {
    "duration": 4,
    "start_time": "2022-11-20T16:11:18.018Z"
   },
   {
    "duration": 12,
    "start_time": "2022-11-20T16:11:31.424Z"
   },
   {
    "duration": 11,
    "start_time": "2022-11-20T16:11:50.549Z"
   },
   {
    "duration": 6,
    "start_time": "2022-11-20T16:12:00.657Z"
   },
   {
    "duration": 6,
    "start_time": "2022-11-20T16:12:09.414Z"
   },
   {
    "duration": 1084,
    "start_time": "2022-11-26T10:59:16.632Z"
   },
   {
    "duration": 190,
    "start_time": "2022-11-26T10:59:17.718Z"
   },
   {
    "duration": 10,
    "start_time": "2022-11-26T10:59:17.909Z"
   },
   {
    "duration": 30,
    "start_time": "2022-11-26T10:59:17.921Z"
   },
   {
    "duration": 7,
    "start_time": "2022-11-26T10:59:17.954Z"
   },
   {
    "duration": 31,
    "start_time": "2022-11-26T10:59:17.963Z"
   },
   {
    "duration": 79,
    "start_time": "2022-11-26T10:59:17.996Z"
   },
   {
    "duration": 3,
    "start_time": "2022-11-26T10:59:18.078Z"
   },
   {
    "duration": 82,
    "start_time": "2022-11-26T10:59:18.083Z"
   },
   {
    "duration": 30,
    "start_time": "2022-11-26T10:59:18.167Z"
   },
   {
    "duration": 8,
    "start_time": "2022-11-26T10:59:18.199Z"
   },
   {
    "duration": 32,
    "start_time": "2022-11-26T10:59:18.209Z"
   },
   {
    "duration": 94,
    "start_time": "2022-11-26T10:59:18.243Z"
   },
   {
    "duration": 4,
    "start_time": "2022-11-26T10:59:18.340Z"
   },
   {
    "duration": 16,
    "start_time": "2022-11-26T10:59:18.345Z"
   },
   {
    "duration": 74,
    "start_time": "2022-11-26T10:59:18.362Z"
   },
   {
    "duration": 58,
    "start_time": "2022-11-26T10:59:18.438Z"
   },
   {
    "duration": 44,
    "start_time": "2022-11-26T10:59:18.497Z"
   },
   {
    "duration": 358,
    "start_time": "2022-11-26T10:59:18.542Z"
   },
   {
    "duration": 238,
    "start_time": "2022-11-26T10:59:18.902Z"
   },
   {
    "duration": 12,
    "start_time": "2022-11-26T10:59:19.144Z"
   },
   {
    "duration": 274,
    "start_time": "2022-11-26T10:59:19.157Z"
   },
   {
    "duration": 6,
    "start_time": "2022-11-26T10:59:19.435Z"
   },
   {
    "duration": 5,
    "start_time": "2022-11-26T10:59:19.443Z"
   },
   {
    "duration": 12,
    "start_time": "2022-11-26T10:59:19.449Z"
   },
   {
    "duration": 45,
    "start_time": "2022-11-26T10:59:19.462Z"
   },
   {
    "duration": 54,
    "start_time": "2022-11-26T10:59:19.509Z"
   },
   {
    "duration": 106,
    "start_time": "2022-11-26T10:59:19.565Z"
   },
   {
    "duration": 5,
    "start_time": "2022-11-26T10:59:19.673Z"
   },
   {
    "duration": 17,
    "start_time": "2022-11-26T10:59:19.680Z"
   },
   {
    "duration": 8,
    "start_time": "2022-11-26T10:59:19.699Z"
   },
   {
    "duration": 29,
    "start_time": "2022-11-26T10:59:19.709Z"
   },
   {
    "duration": 217,
    "start_time": "2022-11-26T10:59:19.740Z"
   },
   {
    "duration": 5,
    "start_time": "2022-11-26T10:59:19.959Z"
   },
   {
    "duration": 19,
    "start_time": "2022-11-26T10:59:19.965Z"
   },
   {
    "duration": 17,
    "start_time": "2022-11-26T10:59:19.986Z"
   },
   {
    "duration": 43,
    "start_time": "2022-11-26T10:59:20.005Z"
   },
   {
    "duration": 19,
    "start_time": "2022-11-26T10:59:20.050Z"
   },
   {
    "duration": 19,
    "start_time": "2022-11-26T10:59:20.070Z"
   },
   {
    "duration": 47,
    "start_time": "2022-11-26T10:59:20.091Z"
   },
   {
    "duration": 13,
    "start_time": "2022-11-26T10:59:43.649Z"
   },
   {
    "duration": 12,
    "start_time": "2022-11-26T10:59:45.845Z"
   },
   {
    "duration": 1047,
    "start_time": "2022-11-26T11:03:01.098Z"
   },
   {
    "duration": 180,
    "start_time": "2022-11-26T11:03:02.147Z"
   },
   {
    "duration": 15,
    "start_time": "2022-11-26T11:03:02.328Z"
   },
   {
    "duration": 20,
    "start_time": "2022-11-26T11:03:02.345Z"
   },
   {
    "duration": 6,
    "start_time": "2022-11-26T11:03:02.366Z"
   },
   {
    "duration": 31,
    "start_time": "2022-11-26T11:03:02.374Z"
   },
   {
    "duration": 91,
    "start_time": "2022-11-26T11:03:02.407Z"
   },
   {
    "duration": 6,
    "start_time": "2022-11-26T11:03:02.502Z"
   },
   {
    "duration": 94,
    "start_time": "2022-11-26T11:03:02.510Z"
   },
   {
    "duration": 29,
    "start_time": "2022-11-26T11:03:02.611Z"
   },
   {
    "duration": 12,
    "start_time": "2022-11-26T11:03:02.642Z"
   },
   {
    "duration": 11,
    "start_time": "2022-11-26T11:03:02.655Z"
   },
   {
    "duration": 96,
    "start_time": "2022-11-26T11:03:02.667Z"
   },
   {
    "duration": 3,
    "start_time": "2022-11-26T11:03:02.764Z"
   },
   {
    "duration": 9,
    "start_time": "2022-11-26T11:03:02.769Z"
   },
   {
    "duration": 82,
    "start_time": "2022-11-26T11:03:02.780Z"
   },
   {
    "duration": 55,
    "start_time": "2022-11-26T11:03:02.863Z"
   },
   {
    "duration": 40,
    "start_time": "2022-11-26T11:03:02.920Z"
   },
   {
    "duration": 310,
    "start_time": "2022-11-26T11:03:02.962Z"
   },
   {
    "duration": 209,
    "start_time": "2022-11-26T11:03:03.274Z"
   },
   {
    "duration": 10,
    "start_time": "2022-11-26T11:03:03.484Z"
   },
   {
    "duration": 224,
    "start_time": "2022-11-26T11:03:03.496Z"
   },
   {
    "duration": 14,
    "start_time": "2022-11-26T11:03:03.722Z"
   },
   {
    "duration": 38,
    "start_time": "2022-11-26T11:03:03.737Z"
   },
   {
    "duration": 14,
    "start_time": "2022-11-26T11:03:03.777Z"
   },
   {
    "duration": 56,
    "start_time": "2022-11-26T11:03:03.792Z"
   },
   {
    "duration": 32,
    "start_time": "2022-11-26T11:03:03.850Z"
   },
   {
    "duration": 94,
    "start_time": "2022-11-26T11:03:03.885Z"
   },
   {
    "duration": 5,
    "start_time": "2022-11-26T11:03:03.981Z"
   },
   {
    "duration": 27,
    "start_time": "2022-11-26T11:03:03.987Z"
   },
   {
    "duration": 22,
    "start_time": "2022-11-26T11:03:04.015Z"
   },
   {
    "duration": 23,
    "start_time": "2022-11-26T11:03:04.039Z"
   },
   {
    "duration": 36,
    "start_time": "2022-11-26T11:03:04.063Z"
   },
   {
    "duration": 248,
    "start_time": "2022-11-26T11:03:04.100Z"
   },
   {
    "duration": 7,
    "start_time": "2022-11-26T11:03:04.350Z"
   },
   {
    "duration": 30,
    "start_time": "2022-11-26T11:03:04.359Z"
   },
   {
    "duration": 18,
    "start_time": "2022-11-26T11:03:04.390Z"
   },
   {
    "duration": 24,
    "start_time": "2022-11-26T11:03:04.410Z"
   },
   {
    "duration": 18,
    "start_time": "2022-11-26T11:03:04.436Z"
   },
   {
    "duration": 43,
    "start_time": "2022-11-26T11:03:04.456Z"
   },
   {
    "duration": 30,
    "start_time": "2022-11-26T11:03:04.500Z"
   },
   {
    "duration": 1035,
    "start_time": "2022-11-26T11:04:04.987Z"
   },
   {
    "duration": 184,
    "start_time": "2022-11-26T11:04:06.024Z"
   },
   {
    "duration": 12,
    "start_time": "2022-11-26T11:04:06.210Z"
   },
   {
    "duration": 29,
    "start_time": "2022-11-26T11:04:06.224Z"
   },
   {
    "duration": 22,
    "start_time": "2022-11-26T11:04:06.255Z"
   },
   {
    "duration": 46,
    "start_time": "2022-11-26T11:04:06.279Z"
   },
   {
    "duration": 59,
    "start_time": "2022-11-26T11:04:06.326Z"
   },
   {
    "duration": 4,
    "start_time": "2022-11-26T11:04:06.387Z"
   },
   {
    "duration": 83,
    "start_time": "2022-11-26T11:04:06.393Z"
   },
   {
    "duration": 17,
    "start_time": "2022-11-26T11:04:06.479Z"
   },
   {
    "duration": 17,
    "start_time": "2022-11-26T11:04:06.497Z"
   },
   {
    "duration": 20,
    "start_time": "2022-11-26T11:04:06.515Z"
   },
   {
    "duration": 110,
    "start_time": "2022-11-26T11:04:06.537Z"
   },
   {
    "duration": 3,
    "start_time": "2022-11-26T11:04:06.649Z"
   },
   {
    "duration": 46,
    "start_time": "2022-11-26T11:04:06.654Z"
   },
   {
    "duration": 104,
    "start_time": "2022-11-26T11:04:06.702Z"
   },
   {
    "duration": 56,
    "start_time": "2022-11-26T11:04:06.807Z"
   },
   {
    "duration": 27,
    "start_time": "2022-11-26T11:04:06.865Z"
   },
   {
    "duration": 330,
    "start_time": "2022-11-26T11:04:06.894Z"
   },
   {
    "duration": 228,
    "start_time": "2022-11-26T11:04:07.226Z"
   },
   {
    "duration": 9,
    "start_time": "2022-11-26T11:04:07.456Z"
   },
   {
    "duration": 221,
    "start_time": "2022-11-26T11:04:07.467Z"
   },
   {
    "duration": 6,
    "start_time": "2022-11-26T11:04:07.689Z"
   },
   {
    "duration": 5,
    "start_time": "2022-11-26T11:04:07.696Z"
   },
   {
    "duration": 7,
    "start_time": "2022-11-26T11:04:07.703Z"
   },
   {
    "duration": 65,
    "start_time": "2022-11-26T11:04:07.712Z"
   },
   {
    "duration": 30,
    "start_time": "2022-11-26T11:04:07.778Z"
   },
   {
    "duration": 94,
    "start_time": "2022-11-26T11:04:07.811Z"
   },
   {
    "duration": 4,
    "start_time": "2022-11-26T11:04:07.907Z"
   },
   {
    "duration": 23,
    "start_time": "2022-11-26T11:04:07.913Z"
   },
   {
    "duration": 5,
    "start_time": "2022-11-26T11:04:07.938Z"
   },
   {
    "duration": 7,
    "start_time": "2022-11-26T11:04:07.944Z"
   },
   {
    "duration": 17,
    "start_time": "2022-11-26T11:04:07.952Z"
   },
   {
    "duration": 212,
    "start_time": "2022-11-26T11:04:07.971Z"
   },
   {
    "duration": 7,
    "start_time": "2022-11-26T11:04:08.185Z"
   },
   {
    "duration": 11,
    "start_time": "2022-11-26T11:04:08.194Z"
   },
   {
    "duration": 12,
    "start_time": "2022-11-26T11:04:08.207Z"
   },
   {
    "duration": 28,
    "start_time": "2022-11-26T11:04:08.220Z"
   },
   {
    "duration": 17,
    "start_time": "2022-11-26T11:04:08.249Z"
   },
   {
    "duration": 18,
    "start_time": "2022-11-26T11:04:08.267Z"
   },
   {
    "duration": 52,
    "start_time": "2022-11-26T11:04:08.287Z"
   },
   {
    "duration": 5,
    "start_time": "2022-11-26T11:11:28.486Z"
   },
   {
    "duration": 5,
    "start_time": "2022-11-26T11:11:28.955Z"
   },
   {
    "duration": 6,
    "start_time": "2022-11-26T11:11:29.300Z"
   }
  ],
  "kernelspec": {
   "display_name": "Python 3 (ipykernel)",
   "language": "python",
   "name": "python3"
  },
  "language_info": {
   "codemirror_mode": {
    "name": "ipython",
    "version": 3
   },
   "file_extension": ".py",
   "mimetype": "text/x-python",
   "name": "python",
   "nbconvert_exporter": "python",
   "pygments_lexer": "ipython3",
   "version": "3.9.12"
  },
  "toc": {
   "base_numbering": 1,
   "nav_menu": {},
   "number_sections": true,
   "sideBar": true,
   "skip_h1_title": true,
   "title_cell": "Table of Contents",
   "title_sidebar": "Contents",
   "toc_cell": false,
   "toc_position": {},
   "toc_section_display": true,
   "toc_window_display": false
  }
 },
 "nbformat": 4,
 "nbformat_minor": 5
}
