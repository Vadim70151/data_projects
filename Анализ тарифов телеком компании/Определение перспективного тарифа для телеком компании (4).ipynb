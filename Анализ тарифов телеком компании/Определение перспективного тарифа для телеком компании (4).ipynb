{
 "cells": [
  {
   "cell_type": "markdown",
   "id": "160d38d6",
   "metadata": {},
   "source": [
    "# Определение перспективного тарифа для телеком компании"
   ]
  },
  {
   "cell_type": "markdown",
   "id": "48a10d16",
   "metadata": {},
   "source": [
    "## Описание проекта\n",
    "\n",
    "Исследование компании «Мегалайн» — федерального оператора сотовой связи. Клиентам предлагают два тарифных плана: «Смарт» и «Ультра». Чтобы скорректировать рекламный бюджет, коммерческий департамент хочет понять, какой тариф приносит больше денег.\n",
    "\n",
    "В моём распоряжении данные 500 пользователей «Мегалайна»: кто они, откуда, каким тарифом пользуются, сколько звонков и сообщений каждый отправил за 2018-й год.\n",
    "\n",
    "### Описание тарифов\n",
    "\n",
    "**Тариф «Смарт»**\n",
    "1. Ежемесячная плата: 550 рублей\n",
    "2. Включено 500 минут разговора, 50 сообщений и 15 Гб интернет-трафика\n",
    "3. Стоимость услуг сверх тарифного пакета:\n",
    "   - Минута разговора — 3 рубля. Количество использованных минут и мегабайтов «Мегалайн» всегда округляет вверх. Если пользователь проговорил всего 1 секунду, в тарифе засчитывается целая минута.\n",
    "   - Сообщение — 3 рубля.\n",
    "   - 1 Гб интернет-трафика — 200 рублей.\n",
    "\n",
    "**Тариф «Ультра»**\n",
    "1. Ежемесячная плата: 1950 рублей\n",
    "2. Включено 3000 минут разговора, 1000 сообщений и 30 Гб интернет-трафика\n",
    "3. Стоимость услуг сверх тарифного пакета:\n",
    "   - Минута разговора — 1 рубль;\n",
    "   - Сообщение — 1 рубль;\n",
    "   - 1 Гб интернет-трафика: 150 рублей."
   ]
  },
  {
   "cell_type": "markdown",
   "id": "5b713404",
   "metadata": {},
   "source": [
    "**Цель исследования** - сделать предварительный анализ тарифов на небольшой выборке клиентов. На основе данных за 2018 год по 500-ам пользователям «Мегалайна» необходимо проанализировать поведение клиентов и сделать вывод — какой тариф лучше.\n",
    "\n",
    "**Ход исследования** - данные по пользователям разных тарифов будут получены из архива компании. О качестве данных заранее ничего неизвестно, поэтому перед тем, как приступить к основной части проекта, понадобится получить первые впечатления о данных, после чего проверить их на качество и наличие в них различных ошибок, пропусков и аномалий, если что-то подобное присутствует, на этапе предобработки необходимо будет исправить самые критичные ошибки и привести датафрейм к нормальному, рабочему состоянию. \n",
    " \n",
    "Таким образом, исследование пройдёт в четыре этапа:\n",
    " 1. Обзор данных.\n",
    " 2. Предобработка данных.\n",
    " 3. Основная часть.\n",
    " 4. Проверка гипотез. \n",
    " 5. Итоговый вывод"
   ]
  },
  {
   "cell_type": "markdown",
   "id": "33062e66",
   "metadata": {},
   "source": [
    "## 1. Обзор данных"
   ]
  },
  {
   "cell_type": "code",
   "execution_count": 1,
   "id": "05583691",
   "metadata": {},
   "outputs": [],
   "source": [
    "# Подключение библиотек\n",
    "import pandas as pd\n",
    "import matplotlib.pyplot as plt\n",
    "import numpy as np\n",
    "from scipy import stats as st\n",
    "plt.style.use('seaborn')"
   ]
  },
  {
   "cell_type": "code",
   "execution_count": 2,
   "id": "74e9b400",
   "metadata": {},
   "outputs": [],
   "source": [
    "# Чтение файла на локальном юпитере\n",
    "try:\n",
    "    df_calls = pd.read_csv('Данные проекта 4 \"calls.csv\"')\n",
    "    df_internet = pd.read_csv('Данные проекта 4 \"internet.csv\"')\n",
    "    df_messages = pd.read_csv('Данные проекта 4 \"messages.csv\"')\n",
    "    df_tariffs = pd.read_csv('Данные проекта 4 \"tariffs.csv\"')\n",
    "    df_users = pd.read_csv('Данные проекта 4 \"users.csv\"')\n",
    "# Чтение файла на юпитере тренажёра \n",
    "except:\n",
    "    df_calls = pd.read_csv('/datasets/calls.csv')\n",
    "    df_internet = pd.read_csv('/datasets/internet.csv')\n",
    "    df_messages = pd.read_csv('/datasets/messages.csv')\n",
    "    df_tariffs = pd.read_csv('/datasets/tariffs.csv')\n",
    "    df_users = pd.read_csv('/datasets/users.csv')"
   ]
  },
  {
   "cell_type": "code",
   "execution_count": 3,
   "id": "663f1c4b",
   "metadata": {},
   "outputs": [
    {
     "data": {
      "text/html": [
       "<div>\n",
       "<style scoped>\n",
       "    .dataframe tbody tr th:only-of-type {\n",
       "        vertical-align: middle;\n",
       "    }\n",
       "\n",
       "    .dataframe tbody tr th {\n",
       "        vertical-align: top;\n",
       "    }\n",
       "\n",
       "    .dataframe thead th {\n",
       "        text-align: right;\n",
       "    }\n",
       "</style>\n",
       "<table border=\"1\" class=\"dataframe\">\n",
       "  <thead>\n",
       "    <tr style=\"text-align: right;\">\n",
       "      <th></th>\n",
       "      <th>id</th>\n",
       "      <th>call_date</th>\n",
       "      <th>duration</th>\n",
       "      <th>user_id</th>\n",
       "    </tr>\n",
       "  </thead>\n",
       "  <tbody>\n",
       "    <tr>\n",
       "      <th>0</th>\n",
       "      <td>1000_0</td>\n",
       "      <td>2018-07-25</td>\n",
       "      <td>0.00</td>\n",
       "      <td>1000</td>\n",
       "    </tr>\n",
       "    <tr>\n",
       "      <th>1</th>\n",
       "      <td>1000_1</td>\n",
       "      <td>2018-08-17</td>\n",
       "      <td>0.00</td>\n",
       "      <td>1000</td>\n",
       "    </tr>\n",
       "    <tr>\n",
       "      <th>2</th>\n",
       "      <td>1000_2</td>\n",
       "      <td>2018-06-11</td>\n",
       "      <td>2.85</td>\n",
       "      <td>1000</td>\n",
       "    </tr>\n",
       "    <tr>\n",
       "      <th>3</th>\n",
       "      <td>1000_3</td>\n",
       "      <td>2018-09-21</td>\n",
       "      <td>13.80</td>\n",
       "      <td>1000</td>\n",
       "    </tr>\n",
       "    <tr>\n",
       "      <th>4</th>\n",
       "      <td>1000_4</td>\n",
       "      <td>2018-12-15</td>\n",
       "      <td>5.18</td>\n",
       "      <td>1000</td>\n",
       "    </tr>\n",
       "  </tbody>\n",
       "</table>\n",
       "</div>"
      ],
      "text/plain": [
       "       id   call_date  duration  user_id\n",
       "0  1000_0  2018-07-25      0.00     1000\n",
       "1  1000_1  2018-08-17      0.00     1000\n",
       "2  1000_2  2018-06-11      2.85     1000\n",
       "3  1000_3  2018-09-21     13.80     1000\n",
       "4  1000_4  2018-12-15      5.18     1000"
      ]
     },
     "execution_count": 3,
     "metadata": {},
     "output_type": "execute_result"
    }
   ],
   "source": [
    "df_calls.head()"
   ]
  },
  {
   "cell_type": "code",
   "execution_count": 4,
   "id": "52c380c8",
   "metadata": {
    "scrolled": true
   },
   "outputs": [
    {
     "name": "stdout",
     "output_type": "stream",
     "text": [
      "<class 'pandas.core.frame.DataFrame'>\n",
      "RangeIndex: 202607 entries, 0 to 202606\n",
      "Data columns (total 4 columns):\n",
      " #   Column     Non-Null Count   Dtype  \n",
      "---  ------     --------------   -----  \n",
      " 0   id         202607 non-null  object \n",
      " 1   call_date  202607 non-null  object \n",
      " 2   duration   202607 non-null  float64\n",
      " 3   user_id    202607 non-null  int64  \n",
      "dtypes: float64(1), int64(1), object(2)\n",
      "memory usage: 6.2+ MB\n"
     ]
    }
   ],
   "source": [
    "df_calls.info()"
   ]
  },
  {
   "cell_type": "code",
   "execution_count": 5,
   "id": "7ac712c8",
   "metadata": {},
   "outputs": [
    {
     "data": {
      "text/plain": [
       "0.00     39613\n",
       "5.50       142\n",
       "4.49       142\n",
       "6.15       141\n",
       "6.38       141\n",
       "         ...  \n",
       "26.32        1\n",
       "24.51        1\n",
       "27.24        1\n",
       "29.89        1\n",
       "27.43        1\n",
       "Name: duration, Length: 2871, dtype: int64"
      ]
     },
     "execution_count": 5,
     "metadata": {},
     "output_type": "execute_result"
    }
   ],
   "source": [
    "df_calls['duration'].value_counts()"
   ]
  },
  {
   "cell_type": "markdown",
   "id": "80d70837",
   "metadata": {},
   "source": [
    "**Вывод по таблице `df_calls`**\n",
    "\n",
    "1. В столбце `call_date` - дата звонка, предстален тип данных `object`. Так как в этом столбце дата, то тип необходимо будет исправить на `datetime64`.\n",
    "2. В столбце `duration` большинство звонков длились 0 секунд. Я считаю, что это не ошибка, а пропущенные вызовы, поэтому удалять эти значения не нужно. "
   ]
  },
  {
   "cell_type": "code",
   "execution_count": 6,
   "id": "a6ae7cf5",
   "metadata": {},
   "outputs": [
    {
     "data": {
      "text/html": [
       "<div>\n",
       "<style scoped>\n",
       "    .dataframe tbody tr th:only-of-type {\n",
       "        vertical-align: middle;\n",
       "    }\n",
       "\n",
       "    .dataframe tbody tr th {\n",
       "        vertical-align: top;\n",
       "    }\n",
       "\n",
       "    .dataframe thead th {\n",
       "        text-align: right;\n",
       "    }\n",
       "</style>\n",
       "<table border=\"1\" class=\"dataframe\">\n",
       "  <thead>\n",
       "    <tr style=\"text-align: right;\">\n",
       "      <th></th>\n",
       "      <th>Unnamed: 0</th>\n",
       "      <th>id</th>\n",
       "      <th>mb_used</th>\n",
       "      <th>session_date</th>\n",
       "      <th>user_id</th>\n",
       "    </tr>\n",
       "  </thead>\n",
       "  <tbody>\n",
       "    <tr>\n",
       "      <th>0</th>\n",
       "      <td>0</td>\n",
       "      <td>1000_0</td>\n",
       "      <td>112.95</td>\n",
       "      <td>2018-11-25</td>\n",
       "      <td>1000</td>\n",
       "    </tr>\n",
       "    <tr>\n",
       "      <th>1</th>\n",
       "      <td>1</td>\n",
       "      <td>1000_1</td>\n",
       "      <td>1052.81</td>\n",
       "      <td>2018-09-07</td>\n",
       "      <td>1000</td>\n",
       "    </tr>\n",
       "    <tr>\n",
       "      <th>2</th>\n",
       "      <td>2</td>\n",
       "      <td>1000_2</td>\n",
       "      <td>1197.26</td>\n",
       "      <td>2018-06-25</td>\n",
       "      <td>1000</td>\n",
       "    </tr>\n",
       "    <tr>\n",
       "      <th>3</th>\n",
       "      <td>3</td>\n",
       "      <td>1000_3</td>\n",
       "      <td>550.27</td>\n",
       "      <td>2018-08-22</td>\n",
       "      <td>1000</td>\n",
       "    </tr>\n",
       "    <tr>\n",
       "      <th>4</th>\n",
       "      <td>4</td>\n",
       "      <td>1000_4</td>\n",
       "      <td>302.56</td>\n",
       "      <td>2018-09-24</td>\n",
       "      <td>1000</td>\n",
       "    </tr>\n",
       "  </tbody>\n",
       "</table>\n",
       "</div>"
      ],
      "text/plain": [
       "   Unnamed: 0      id  mb_used session_date  user_id\n",
       "0           0  1000_0   112.95   2018-11-25     1000\n",
       "1           1  1000_1  1052.81   2018-09-07     1000\n",
       "2           2  1000_2  1197.26   2018-06-25     1000\n",
       "3           3  1000_3   550.27   2018-08-22     1000\n",
       "4           4  1000_4   302.56   2018-09-24     1000"
      ]
     },
     "execution_count": 6,
     "metadata": {},
     "output_type": "execute_result"
    }
   ],
   "source": [
    "df_internet.head()"
   ]
  },
  {
   "cell_type": "code",
   "execution_count": 7,
   "id": "07b3fb84",
   "metadata": {},
   "outputs": [
    {
     "name": "stdout",
     "output_type": "stream",
     "text": [
      "<class 'pandas.core.frame.DataFrame'>\n",
      "RangeIndex: 149396 entries, 0 to 149395\n",
      "Data columns (total 5 columns):\n",
      " #   Column        Non-Null Count   Dtype  \n",
      "---  ------        --------------   -----  \n",
      " 0   Unnamed: 0    149396 non-null  int64  \n",
      " 1   id            149396 non-null  object \n",
      " 2   mb_used       149396 non-null  float64\n",
      " 3   session_date  149396 non-null  object \n",
      " 4   user_id       149396 non-null  int64  \n",
      "dtypes: float64(1), int64(2), object(2)\n",
      "memory usage: 5.7+ MB\n"
     ]
    }
   ],
   "source": [
    "df_internet.info()"
   ]
  },
  {
   "cell_type": "markdown",
   "id": "bc9cf10d",
   "metadata": {},
   "source": [
    "**Вывод по таблице `df_internet`**\n",
    "\n",
    "В столбце `session_date` - дата интернет-сессии, предстален тип данных `object`. Так как в этом столбце тоже дата, то тип необходимо будет исправить на `datetime64`. Также, обнаружен лишний столбец - `Unnamed: 0`, который в последующем необходимо будет удалить. "
   ]
  },
  {
   "cell_type": "code",
   "execution_count": 8,
   "id": "8e84d8b2",
   "metadata": {},
   "outputs": [
    {
     "data": {
      "text/html": [
       "<div>\n",
       "<style scoped>\n",
       "    .dataframe tbody tr th:only-of-type {\n",
       "        vertical-align: middle;\n",
       "    }\n",
       "\n",
       "    .dataframe tbody tr th {\n",
       "        vertical-align: top;\n",
       "    }\n",
       "\n",
       "    .dataframe thead th {\n",
       "        text-align: right;\n",
       "    }\n",
       "</style>\n",
       "<table border=\"1\" class=\"dataframe\">\n",
       "  <thead>\n",
       "    <tr style=\"text-align: right;\">\n",
       "      <th></th>\n",
       "      <th>id</th>\n",
       "      <th>message_date</th>\n",
       "      <th>user_id</th>\n",
       "    </tr>\n",
       "  </thead>\n",
       "  <tbody>\n",
       "    <tr>\n",
       "      <th>0</th>\n",
       "      <td>1000_0</td>\n",
       "      <td>2018-06-27</td>\n",
       "      <td>1000</td>\n",
       "    </tr>\n",
       "    <tr>\n",
       "      <th>1</th>\n",
       "      <td>1000_1</td>\n",
       "      <td>2018-10-08</td>\n",
       "      <td>1000</td>\n",
       "    </tr>\n",
       "    <tr>\n",
       "      <th>2</th>\n",
       "      <td>1000_2</td>\n",
       "      <td>2018-08-04</td>\n",
       "      <td>1000</td>\n",
       "    </tr>\n",
       "    <tr>\n",
       "      <th>3</th>\n",
       "      <td>1000_3</td>\n",
       "      <td>2018-06-16</td>\n",
       "      <td>1000</td>\n",
       "    </tr>\n",
       "    <tr>\n",
       "      <th>4</th>\n",
       "      <td>1000_4</td>\n",
       "      <td>2018-12-05</td>\n",
       "      <td>1000</td>\n",
       "    </tr>\n",
       "  </tbody>\n",
       "</table>\n",
       "</div>"
      ],
      "text/plain": [
       "       id message_date  user_id\n",
       "0  1000_0   2018-06-27     1000\n",
       "1  1000_1   2018-10-08     1000\n",
       "2  1000_2   2018-08-04     1000\n",
       "3  1000_3   2018-06-16     1000\n",
       "4  1000_4   2018-12-05     1000"
      ]
     },
     "execution_count": 8,
     "metadata": {},
     "output_type": "execute_result"
    }
   ],
   "source": [
    "df_messages.head()"
   ]
  },
  {
   "cell_type": "code",
   "execution_count": 9,
   "id": "83bdfcb1",
   "metadata": {},
   "outputs": [
    {
     "name": "stdout",
     "output_type": "stream",
     "text": [
      "<class 'pandas.core.frame.DataFrame'>\n",
      "RangeIndex: 123036 entries, 0 to 123035\n",
      "Data columns (total 3 columns):\n",
      " #   Column        Non-Null Count   Dtype \n",
      "---  ------        --------------   ----- \n",
      " 0   id            123036 non-null  object\n",
      " 1   message_date  123036 non-null  object\n",
      " 2   user_id       123036 non-null  int64 \n",
      "dtypes: int64(1), object(2)\n",
      "memory usage: 2.8+ MB\n"
     ]
    }
   ],
   "source": [
    "df_messages.info() "
   ]
  },
  {
   "cell_type": "markdown",
   "id": "5cc32c1d",
   "metadata": {},
   "source": [
    "**Вывод по таблице `df_messages`**\n",
    "\n",
    "В столбце `message_date` - дата сообщения, предстален тип данных `object`. Так как в этом столбце опять же дата, то тип необходимо будет исправить на `datetime64`."
   ]
  },
  {
   "cell_type": "code",
   "execution_count": 10,
   "id": "ccd6e828",
   "metadata": {},
   "outputs": [
    {
     "data": {
      "text/html": [
       "<div>\n",
       "<style scoped>\n",
       "    .dataframe tbody tr th:only-of-type {\n",
       "        vertical-align: middle;\n",
       "    }\n",
       "\n",
       "    .dataframe tbody tr th {\n",
       "        vertical-align: top;\n",
       "    }\n",
       "\n",
       "    .dataframe thead th {\n",
       "        text-align: right;\n",
       "    }\n",
       "</style>\n",
       "<table border=\"1\" class=\"dataframe\">\n",
       "  <thead>\n",
       "    <tr style=\"text-align: right;\">\n",
       "      <th></th>\n",
       "      <th>messages_included</th>\n",
       "      <th>mb_per_month_included</th>\n",
       "      <th>minutes_included</th>\n",
       "      <th>rub_monthly_fee</th>\n",
       "      <th>rub_per_gb</th>\n",
       "      <th>rub_per_message</th>\n",
       "      <th>rub_per_minute</th>\n",
       "      <th>tariff_name</th>\n",
       "    </tr>\n",
       "  </thead>\n",
       "  <tbody>\n",
       "    <tr>\n",
       "      <th>0</th>\n",
       "      <td>50</td>\n",
       "      <td>15360</td>\n",
       "      <td>500</td>\n",
       "      <td>550</td>\n",
       "      <td>200</td>\n",
       "      <td>3</td>\n",
       "      <td>3</td>\n",
       "      <td>smart</td>\n",
       "    </tr>\n",
       "    <tr>\n",
       "      <th>1</th>\n",
       "      <td>1000</td>\n",
       "      <td>30720</td>\n",
       "      <td>3000</td>\n",
       "      <td>1950</td>\n",
       "      <td>150</td>\n",
       "      <td>1</td>\n",
       "      <td>1</td>\n",
       "      <td>ultra</td>\n",
       "    </tr>\n",
       "  </tbody>\n",
       "</table>\n",
       "</div>"
      ],
      "text/plain": [
       "   messages_included  mb_per_month_included  minutes_included  \\\n",
       "0                 50                  15360               500   \n",
       "1               1000                  30720              3000   \n",
       "\n",
       "   rub_monthly_fee  rub_per_gb  rub_per_message  rub_per_minute tariff_name  \n",
       "0              550         200                3               3       smart  \n",
       "1             1950         150                1               1       ultra  "
      ]
     },
     "execution_count": 10,
     "metadata": {},
     "output_type": "execute_result"
    }
   ],
   "source": [
    "# Информация о тарифах\n",
    "df_tariffs"
   ]
  },
  {
   "cell_type": "code",
   "execution_count": 11,
   "id": "0c93dbe1",
   "metadata": {},
   "outputs": [
    {
     "name": "stdout",
     "output_type": "stream",
     "text": [
      "<class 'pandas.core.frame.DataFrame'>\n",
      "RangeIndex: 2 entries, 0 to 1\n",
      "Data columns (total 8 columns):\n",
      " #   Column                 Non-Null Count  Dtype \n",
      "---  ------                 --------------  ----- \n",
      " 0   messages_included      2 non-null      int64 \n",
      " 1   mb_per_month_included  2 non-null      int64 \n",
      " 2   minutes_included       2 non-null      int64 \n",
      " 3   rub_monthly_fee        2 non-null      int64 \n",
      " 4   rub_per_gb             2 non-null      int64 \n",
      " 5   rub_per_message        2 non-null      int64 \n",
      " 6   rub_per_minute         2 non-null      int64 \n",
      " 7   tariff_name            2 non-null      object\n",
      "dtypes: int64(7), object(1)\n",
      "memory usage: 256.0+ bytes\n"
     ]
    }
   ],
   "source": [
    "df_tariffs.info()"
   ]
  },
  {
   "cell_type": "markdown",
   "id": "e1fbfdb1",
   "metadata": {},
   "source": [
    "**Вывод по таблице `df_tariffs`**\n",
    "\n",
    "В данной таблице ошибок в данных не выявлено"
   ]
  },
  {
   "cell_type": "code",
   "execution_count": 12,
   "id": "8843901c",
   "metadata": {},
   "outputs": [
    {
     "data": {
      "text/html": [
       "<div>\n",
       "<style scoped>\n",
       "    .dataframe tbody tr th:only-of-type {\n",
       "        vertical-align: middle;\n",
       "    }\n",
       "\n",
       "    .dataframe tbody tr th {\n",
       "        vertical-align: top;\n",
       "    }\n",
       "\n",
       "    .dataframe thead th {\n",
       "        text-align: right;\n",
       "    }\n",
       "</style>\n",
       "<table border=\"1\" class=\"dataframe\">\n",
       "  <thead>\n",
       "    <tr style=\"text-align: right;\">\n",
       "      <th></th>\n",
       "      <th>user_id</th>\n",
       "      <th>age</th>\n",
       "      <th>churn_date</th>\n",
       "      <th>city</th>\n",
       "      <th>first_name</th>\n",
       "      <th>last_name</th>\n",
       "      <th>reg_date</th>\n",
       "      <th>tariff</th>\n",
       "    </tr>\n",
       "  </thead>\n",
       "  <tbody>\n",
       "    <tr>\n",
       "      <th>0</th>\n",
       "      <td>1000</td>\n",
       "      <td>52</td>\n",
       "      <td>NaN</td>\n",
       "      <td>Краснодар</td>\n",
       "      <td>Рафаил</td>\n",
       "      <td>Верещагин</td>\n",
       "      <td>2018-05-25</td>\n",
       "      <td>ultra</td>\n",
       "    </tr>\n",
       "    <tr>\n",
       "      <th>1</th>\n",
       "      <td>1001</td>\n",
       "      <td>41</td>\n",
       "      <td>NaN</td>\n",
       "      <td>Москва</td>\n",
       "      <td>Иван</td>\n",
       "      <td>Ежов</td>\n",
       "      <td>2018-11-01</td>\n",
       "      <td>smart</td>\n",
       "    </tr>\n",
       "    <tr>\n",
       "      <th>2</th>\n",
       "      <td>1002</td>\n",
       "      <td>59</td>\n",
       "      <td>NaN</td>\n",
       "      <td>Стерлитамак</td>\n",
       "      <td>Евгений</td>\n",
       "      <td>Абрамович</td>\n",
       "      <td>2018-06-17</td>\n",
       "      <td>smart</td>\n",
       "    </tr>\n",
       "    <tr>\n",
       "      <th>3</th>\n",
       "      <td>1003</td>\n",
       "      <td>23</td>\n",
       "      <td>NaN</td>\n",
       "      <td>Москва</td>\n",
       "      <td>Белла</td>\n",
       "      <td>Белякова</td>\n",
       "      <td>2018-08-17</td>\n",
       "      <td>ultra</td>\n",
       "    </tr>\n",
       "    <tr>\n",
       "      <th>4</th>\n",
       "      <td>1004</td>\n",
       "      <td>68</td>\n",
       "      <td>NaN</td>\n",
       "      <td>Новокузнецк</td>\n",
       "      <td>Татьяна</td>\n",
       "      <td>Авдеенко</td>\n",
       "      <td>2018-05-14</td>\n",
       "      <td>ultra</td>\n",
       "    </tr>\n",
       "  </tbody>\n",
       "</table>\n",
       "</div>"
      ],
      "text/plain": [
       "   user_id  age churn_date         city first_name  last_name    reg_date  \\\n",
       "0     1000   52        NaN    Краснодар     Рафаил  Верещагин  2018-05-25   \n",
       "1     1001   41        NaN       Москва       Иван       Ежов  2018-11-01   \n",
       "2     1002   59        NaN  Стерлитамак    Евгений  Абрамович  2018-06-17   \n",
       "3     1003   23        NaN       Москва      Белла   Белякова  2018-08-17   \n",
       "4     1004   68        NaN  Новокузнецк    Татьяна   Авдеенко  2018-05-14   \n",
       "\n",
       "  tariff  \n",
       "0  ultra  \n",
       "1  smart  \n",
       "2  smart  \n",
       "3  ultra  \n",
       "4  ultra  "
      ]
     },
     "execution_count": 12,
     "metadata": {},
     "output_type": "execute_result"
    }
   ],
   "source": [
    "# Информация о пользователях\n",
    "df_users.head()"
   ]
  },
  {
   "cell_type": "code",
   "execution_count": 13,
   "id": "61d8b581",
   "metadata": {},
   "outputs": [
    {
     "name": "stdout",
     "output_type": "stream",
     "text": [
      "<class 'pandas.core.frame.DataFrame'>\n",
      "RangeIndex: 500 entries, 0 to 499\n",
      "Data columns (total 8 columns):\n",
      " #   Column      Non-Null Count  Dtype \n",
      "---  ------      --------------  ----- \n",
      " 0   user_id     500 non-null    int64 \n",
      " 1   age         500 non-null    int64 \n",
      " 2   churn_date  38 non-null     object\n",
      " 3   city        500 non-null    object\n",
      " 4   first_name  500 non-null    object\n",
      " 5   last_name   500 non-null    object\n",
      " 6   reg_date    500 non-null    object\n",
      " 7   tariff      500 non-null    object\n",
      "dtypes: int64(2), object(6)\n",
      "memory usage: 31.4+ KB\n"
     ]
    }
   ],
   "source": [
    "df_users.info() "
   ]
  },
  {
   "cell_type": "markdown",
   "id": "e5c84348",
   "metadata": {},
   "source": [
    "**Вывод по таблице `df_users`**\n",
    "\n",
    "Изучая первое впечатление о данных, можно увидеть несколько ошибок в данных:\n",
    "1. Существенное количество пропусков в столбце `churn_date` - дата прекращения пользования тарифом, их необходимо будет проанализировать. \n",
    "2. В том же столбце - `churn_date`, а также в столбце `reg_date` - дата подключения тарифа, тип данных `object`. Тип данных в этих столбцах также необходимо будет исправить на `datetime64`."
   ]
  },
  {
   "cell_type": "markdown",
   "id": "a66c2699",
   "metadata": {},
   "source": [
    "Согласно документации к данным:\n",
    "\n",
    "Таблица `users` — информация о пользователях:\n",
    "* `user_id` — уникальный идентификатор пользователя;\n",
    "* `first_name` — имя пользователя; \n",
    "* `last_name` — фамилия пользователя;\n",
    "* `age` — возраст пользователя (годы);\n",
    "* `reg_date` — дата подключения тарифа (день, месяц, год);\n",
    "* `churn_date` — дата прекращения пользования тарифом (если значение пропущено, значит, тариф ещё действовал на момент выгрузки данных);\n",
    "* `city` — город проживания пользователя;\n",
    "* `tarif` — название тарифного плана\n",
    "\n",
    "Таблица `calls` — информация о звонках:\n",
    "* `id` — уникальный номер звонка;\n",
    "* `call_date` — дата звонка; \n",
    "* `duration` — длительность звонка в минутах;\n",
    "* `user_id` — идентификатор пользователя, сделавшего звонок;\n",
    "\n",
    "Таблица `messages` — информация о сообщениях:\n",
    "* `id` — уникальный номер звонка;\n",
    "* `message_date` — дата сообщения; \n",
    "* `user_id` — идентификатор пользователя, отправившего сообщение;\n",
    "\n",
    "Таблица `internet` — информация об интернет-сессиях:\n",
    "* `id` — уникальный номер сессии;\n",
    "* `mb_used` — объём потраченного за сессию интернет-трафика (в мегабайтах); \n",
    "* `session_date` — дата интернет-сессии;\n",
    "* `user_id` — идентификатор пользователя;\n",
    "\n",
    "Таблица `tariffs` — информация о тарифах:\n",
    "* `tariff_name` — название тарифа;\n",
    "* `rub_monthly_fee` — ежемесячная абонентская плата в рублях; \n",
    "* `minutes_included` — количество минут разговора в месяц, включённых в абонентскую плату;\n",
    "* `messages_included` — количество сообщений в месяц, включённых в абонентскую плату;\n",
    "* `mb_per_month_included` — объём интернет-трафика, включённого в абонентскую плату (в мегабайтах);\n",
    "* `rub_per_minute` — стоимость минуты разговора сверх тарифного пакета (например, если в тарифе 100 минут разговора в месяц, то со 101 минуты будет взиматься плата);\n",
    "* `rub_per_message` — стоимость отправки сообщения сверх тарифного пакета;\n",
    "* `rub_per_gb` — стоимость дополнительного гигабайта интернет-трафика сверх тарифного пакета (1 гигабайт = 1024 мегабайта);"
   ]
  },
  {
   "cell_type": "markdown",
   "id": "0c219990",
   "metadata": {},
   "source": [
    "**Вывод по 1-ому разделу**\n",
    "\n",
    "1. Изучив первое впечатление о данных, замечу, что подавляющее большинство ошибок прослеживается в том, что столбцы имеют неправильный тип данных, который в дальнейшем приведёт к ошибке, поэтому в следующем разделе необходимо будет этот момент исправить. \n",
    "2. Что касается пропусков, то их совсем немного, если говорить относительно всех таблиц. Они прослеживаются только в таблице `df_users` в столбце `churn_date`, поэтому их появление следует изучить.\n",
    "3. В таблице `df_internet` выявлен лишний столбец `Unnamed: 0`: он дублирует индексы, следовательно, его надо будет удалить, чтобы в дальнейшей работе не мешался. "
   ]
  },
  {
   "cell_type": "markdown",
   "id": "dcb30bef",
   "metadata": {},
   "source": [
    "## 2. Предобработка данных\n",
    "\n",
    "На данном этапе будут устранены выявленные проблемы в данных, а также будут обработаны значения в столбцах с целью дальнейшего удобства работы с ними. "
   ]
  },
  {
   "cell_type": "code",
   "execution_count": 14,
   "id": "3a462fdd",
   "metadata": {},
   "outputs": [
    {
     "data": {
      "text/plain": [
       "user_id         0\n",
       "age             0\n",
       "churn_date    462\n",
       "city            0\n",
       "first_name      0\n",
       "last_name       0\n",
       "reg_date        0\n",
       "tariff          0\n",
       "dtype: int64"
      ]
     },
     "execution_count": 14,
     "metadata": {},
     "output_type": "execute_result"
    }
   ],
   "source": [
    "# Изучение пропусков в таблице df_users\n",
    "df_users.isna().sum()"
   ]
  },
  {
   "cell_type": "markdown",
   "id": "f19f7c22",
   "metadata": {},
   "source": [
    "**Вывод по таблице `df_users`**\n",
    "\n",
    "Можно предположить, что пропуски связаны с тем, что на момент выгрузки данных, тариф ещё действовал, поэтому пропущенные значения оставим как есть. Стоит также заметить, что таких пропусков много, относительно данной таблицы. "
   ]
  },
  {
   "cell_type": "code",
   "execution_count": 15,
   "id": "24131bb0",
   "metadata": {},
   "outputs": [],
   "source": [
    "# Обработка типа данных в столбце call_date\n",
    "df_calls['call_date'] = pd.to_datetime(df_calls['call_date'])\n",
    "# Обработка типа данных в столбце session_date\n",
    "df_internet['session_date'] = pd.to_datetime(df_internet['session_date'])\n",
    "# Обработка типа данных в столбце message_date\n",
    "df_messages['message_date'] = pd.to_datetime(df_messages['message_date'])\n",
    "# Обработка типа данных в столбце churn_date\n",
    "df_users['churn_date'] = pd.to_datetime(df_users['churn_date'])\n",
    "# Обработка типа данных в столбце reg_date\n",
    "df_users['reg_date'] = pd.to_datetime(df_users['reg_date'])"
   ]
  },
  {
   "cell_type": "code",
   "execution_count": 16,
   "id": "1880dcc5",
   "metadata": {},
   "outputs": [
    {
     "name": "stdout",
     "output_type": "stream",
     "text": [
      "<class 'pandas.core.frame.DataFrame'>\n",
      "RangeIndex: 149396 entries, 0 to 149395\n",
      "Data columns (total 5 columns):\n",
      " #   Column        Non-Null Count   Dtype         \n",
      "---  ------        --------------   -----         \n",
      " 0   Unnamed: 0    149396 non-null  int64         \n",
      " 1   id            149396 non-null  object        \n",
      " 2   mb_used       149396 non-null  float64       \n",
      " 3   session_date  149396 non-null  datetime64[ns]\n",
      " 4   user_id       149396 non-null  int64         \n",
      "dtypes: datetime64[ns](1), float64(1), int64(2), object(1)\n",
      "memory usage: 5.7+ MB\n"
     ]
    }
   ],
   "source": [
    "# Проверяем как отработал метод по змене типа данных на одной таблице\n",
    "df_internet.info()"
   ]
  },
  {
   "cell_type": "code",
   "execution_count": 17,
   "id": "b06ec6c4",
   "metadata": {},
   "outputs": [
    {
     "data": {
      "text/html": [
       "<div>\n",
       "<style scoped>\n",
       "    .dataframe tbody tr th:only-of-type {\n",
       "        vertical-align: middle;\n",
       "    }\n",
       "\n",
       "    .dataframe tbody tr th {\n",
       "        vertical-align: top;\n",
       "    }\n",
       "\n",
       "    .dataframe thead th {\n",
       "        text-align: right;\n",
       "    }\n",
       "</style>\n",
       "<table border=\"1\" class=\"dataframe\">\n",
       "  <thead>\n",
       "    <tr style=\"text-align: right;\">\n",
       "      <th></th>\n",
       "      <th>id</th>\n",
       "      <th>call_date</th>\n",
       "      <th>duration</th>\n",
       "      <th>user_id</th>\n",
       "    </tr>\n",
       "  </thead>\n",
       "  <tbody>\n",
       "    <tr>\n",
       "      <th>0</th>\n",
       "      <td>1000_0</td>\n",
       "      <td>2018-07-25</td>\n",
       "      <td>0.0</td>\n",
       "      <td>1000</td>\n",
       "    </tr>\n",
       "    <tr>\n",
       "      <th>1</th>\n",
       "      <td>1000_1</td>\n",
       "      <td>2018-08-17</td>\n",
       "      <td>0.0</td>\n",
       "      <td>1000</td>\n",
       "    </tr>\n",
       "    <tr>\n",
       "      <th>2</th>\n",
       "      <td>1000_2</td>\n",
       "      <td>2018-06-11</td>\n",
       "      <td>3.0</td>\n",
       "      <td>1000</td>\n",
       "    </tr>\n",
       "    <tr>\n",
       "      <th>3</th>\n",
       "      <td>1000_3</td>\n",
       "      <td>2018-09-21</td>\n",
       "      <td>14.0</td>\n",
       "      <td>1000</td>\n",
       "    </tr>\n",
       "    <tr>\n",
       "      <th>4</th>\n",
       "      <td>1000_4</td>\n",
       "      <td>2018-12-15</td>\n",
       "      <td>6.0</td>\n",
       "      <td>1000</td>\n",
       "    </tr>\n",
       "  </tbody>\n",
       "</table>\n",
       "</div>"
      ],
      "text/plain": [
       "       id  call_date  duration  user_id\n",
       "0  1000_0 2018-07-25       0.0     1000\n",
       "1  1000_1 2018-08-17       0.0     1000\n",
       "2  1000_2 2018-06-11       3.0     1000\n",
       "3  1000_3 2018-09-21      14.0     1000\n",
       "4  1000_4 2018-12-15       6.0     1000"
      ]
     },
     "execution_count": 17,
     "metadata": {},
     "output_type": "execute_result"
    }
   ],
   "source": [
    "# Округление значений в столбце duration\n",
    "df_calls['duration'] = np.ceil(df_calls['duration'])\n",
    "# df_calls['duration'] = df_calls['duration'].apply(np.ceil)\n",
    "df_calls.head()"
   ]
  },
  {
   "cell_type": "code",
   "execution_count": 18,
   "id": "f800d536",
   "metadata": {},
   "outputs": [
    {
     "data": {
      "text/html": [
       "<div>\n",
       "<style scoped>\n",
       "    .dataframe tbody tr th:only-of-type {\n",
       "        vertical-align: middle;\n",
       "    }\n",
       "\n",
       "    .dataframe tbody tr th {\n",
       "        vertical-align: top;\n",
       "    }\n",
       "\n",
       "    .dataframe thead th {\n",
       "        text-align: right;\n",
       "    }\n",
       "</style>\n",
       "<table border=\"1\" class=\"dataframe\">\n",
       "  <thead>\n",
       "    <tr style=\"text-align: right;\">\n",
       "      <th></th>\n",
       "      <th>id</th>\n",
       "      <th>gb_used</th>\n",
       "      <th>session_date</th>\n",
       "      <th>user_id</th>\n",
       "    </tr>\n",
       "  </thead>\n",
       "  <tbody>\n",
       "    <tr>\n",
       "      <th>0</th>\n",
       "      <td>1000_0</td>\n",
       "      <td>0.110303</td>\n",
       "      <td>2018-11-25</td>\n",
       "      <td>1000</td>\n",
       "    </tr>\n",
       "    <tr>\n",
       "      <th>1</th>\n",
       "      <td>1000_1</td>\n",
       "      <td>1.028135</td>\n",
       "      <td>2018-09-07</td>\n",
       "      <td>1000</td>\n",
       "    </tr>\n",
       "    <tr>\n",
       "      <th>2</th>\n",
       "      <td>1000_2</td>\n",
       "      <td>1.169199</td>\n",
       "      <td>2018-06-25</td>\n",
       "      <td>1000</td>\n",
       "    </tr>\n",
       "    <tr>\n",
       "      <th>3</th>\n",
       "      <td>1000_3</td>\n",
       "      <td>0.537373</td>\n",
       "      <td>2018-08-22</td>\n",
       "      <td>1000</td>\n",
       "    </tr>\n",
       "    <tr>\n",
       "      <th>4</th>\n",
       "      <td>1000_4</td>\n",
       "      <td>0.295469</td>\n",
       "      <td>2018-09-24</td>\n",
       "      <td>1000</td>\n",
       "    </tr>\n",
       "  </tbody>\n",
       "</table>\n",
       "</div>"
      ],
      "text/plain": [
       "       id   gb_used session_date  user_id\n",
       "0  1000_0  0.110303   2018-11-25     1000\n",
       "1  1000_1  1.028135   2018-09-07     1000\n",
       "2  1000_2  1.169199   2018-06-25     1000\n",
       "3  1000_3  0.537373   2018-08-22     1000\n",
       "4  1000_4  0.295469   2018-09-24     1000"
      ]
     },
     "execution_count": 18,
     "metadata": {},
     "output_type": "execute_result"
    }
   ],
   "source": [
    "# Переводим мегабайты в гигабайты\n",
    "df_internet['mb_used'] = df_internet['mb_used'] / 1024\n",
    "# Изменяем название столбца\n",
    "df_internet = df_internet.rename(columns={'mb_used': 'gb_used'})\n",
    "# Удаляем ненужный столбец Unnamed: 0\n",
    "df_internet.pop('Unnamed: 0')\n",
    "df_internet.head()"
   ]
  },
  {
   "cell_type": "code",
   "execution_count": 19,
   "id": "9809faab",
   "metadata": {},
   "outputs": [],
   "source": [
    "# Изменяем название столбца в таблице df_tariffs\n",
    "df_tariffs = df_tariffs.rename(columns={'tariff_name': 'tariff'})"
   ]
  },
  {
   "cell_type": "code",
   "execution_count": 20,
   "id": "d20db04f",
   "metadata": {},
   "outputs": [],
   "source": [
    "# Создаём во всех таблицах новый столбец с месяцем для удобства дальнейшего исследования\n",
    "df_calls['month'] = df_calls['call_date'].dt.month\n",
    "df_internet['month'] = df_internet['session_date'].dt.month\n",
    "df_messages['month'] = df_messages['message_date'].dt.month\n",
    "df_users['month'] = df_users['reg_date'].dt.month"
   ]
  },
  {
   "cell_type": "code",
   "execution_count": 21,
   "id": "35643c97",
   "metadata": {},
   "outputs": [],
   "source": [
    "# Группируем данные в каждой таблице\n",
    "pivot_calls = df_calls.pivot_table(index=['user_id', 'month'], values='duration', aggfunc=['sum', 'count'])\n",
    "pivot_internet = df_internet.pivot_table(index=['user_id', 'month'], values='gb_used', aggfunc='sum')\n",
    "# Округление значений в столбце gb_used до целого\n",
    "df_internet['gb_used'] = df_internet['gb_used'].apply(np.ceil)\n",
    "pivot_messages = df_messages.pivot_table(index=['user_id', 'month'], values='id', aggfunc='count')"
   ]
  },
  {
   "cell_type": "code",
   "execution_count": 22,
   "id": "1afaddc2",
   "metadata": {},
   "outputs": [],
   "source": [
    "# Переименование названия столбцов\n",
    "pivot_calls.columns = ['sum_calls', 'count_calls']\n",
    "pivot_internet.columns = ['sum_gb_used']\n",
    "pivot_messages.columns = ['count_messages']"
   ]
  },
  {
   "cell_type": "markdown",
   "id": "5c78d85f",
   "metadata": {},
   "source": [
    "**Вывод по 2-ому разделу**\n",
    "\n",
    "1. В процессе предобработки данных в нескольких столбцах были исправлены типы данных для того, чтобы с этими столбцами можно было дальше корректно работать.\n",
    "2. Были приведены аргументы в пользу того, чтобы оставить пропуски, которые были найдены в таблице.\n",
    "3. Были округлены значения в столбце `duration`, а также в столбце `mb_used` были переведены мегабайты в гигабайты и полученные значения в столбце также были округлены до целого верхнего числа для точности представления данных. \n",
    "4. Для удобства восприятия данных были изменены некоторые названия столбцов.\n",
    "5. В трёх таблицах был создан столбец с месяцами для дальнейшей работы с ними\n",
    "6. Был выявлен и удалён лишний столбец `Unnamed: 0` в таблице `df_internet`\n",
    "7. Были сгруппированы данные по каждой таблице для удобства дальнейшей работы с ними"
   ]
  },
  {
   "cell_type": "markdown",
   "id": "7ce13ba0",
   "metadata": {},
   "source": [
    "## 3. Основная часть"
   ]
  },
  {
   "cell_type": "markdown",
   "id": "37543959",
   "metadata": {},
   "source": [
    "### 3.1. Соединение таблиц"
   ]
  },
  {
   "cell_type": "code",
   "execution_count": 23,
   "id": "203b16ff",
   "metadata": {},
   "outputs": [
    {
     "data": {
      "text/html": [
       "<div>\n",
       "<style scoped>\n",
       "    .dataframe tbody tr th:only-of-type {\n",
       "        vertical-align: middle;\n",
       "    }\n",
       "\n",
       "    .dataframe tbody tr th {\n",
       "        vertical-align: top;\n",
       "    }\n",
       "\n",
       "    .dataframe thead th {\n",
       "        text-align: right;\n",
       "    }\n",
       "</style>\n",
       "<table border=\"1\" class=\"dataframe\">\n",
       "  <thead>\n",
       "    <tr style=\"text-align: right;\">\n",
       "      <th></th>\n",
       "      <th></th>\n",
       "      <th>sum_calls</th>\n",
       "      <th>count_calls</th>\n",
       "      <th>sum_gb_used</th>\n",
       "    </tr>\n",
       "    <tr>\n",
       "      <th>user_id</th>\n",
       "      <th>month</th>\n",
       "      <th></th>\n",
       "      <th></th>\n",
       "      <th></th>\n",
       "    </tr>\n",
       "  </thead>\n",
       "  <tbody>\n",
       "    <tr>\n",
       "      <th rowspan=\"5\" valign=\"top\">1000</th>\n",
       "      <th>5</th>\n",
       "      <td>159.0</td>\n",
       "      <td>22.0</td>\n",
       "      <td>2.200674</td>\n",
       "    </tr>\n",
       "    <tr>\n",
       "      <th>6</th>\n",
       "      <td>172.0</td>\n",
       "      <td>43.0</td>\n",
       "      <td>22.689229</td>\n",
       "    </tr>\n",
       "    <tr>\n",
       "      <th>7</th>\n",
       "      <td>340.0</td>\n",
       "      <td>47.0</td>\n",
       "      <td>13.675430</td>\n",
       "    </tr>\n",
       "    <tr>\n",
       "      <th>8</th>\n",
       "      <td>408.0</td>\n",
       "      <td>52.0</td>\n",
       "      <td>13.726494</td>\n",
       "    </tr>\n",
       "    <tr>\n",
       "      <th>9</th>\n",
       "      <td>466.0</td>\n",
       "      <td>58.0</td>\n",
       "      <td>14.227451</td>\n",
       "    </tr>\n",
       "  </tbody>\n",
       "</table>\n",
       "</div>"
      ],
      "text/plain": [
       "               sum_calls  count_calls  sum_gb_used\n",
       "user_id month                                     \n",
       "1000    5          159.0         22.0     2.200674\n",
       "        6          172.0         43.0    22.689229\n",
       "        7          340.0         47.0    13.675430\n",
       "        8          408.0         52.0    13.726494\n",
       "        9          466.0         58.0    14.227451"
      ]
     },
     "execution_count": 23,
     "metadata": {},
     "output_type": "execute_result"
    }
   ],
   "source": [
    "# Объединяем таблицу с информацией о звонках с таблицей с информацией об интернете по общим столбцам\n",
    "pivot_1 = pivot_calls.merge(pivot_internet, on=['user_id', 'month'], how='outer')\n",
    "pivot_1.head()"
   ]
  },
  {
   "cell_type": "code",
   "execution_count": 24,
   "id": "7a946b3b",
   "metadata": {},
   "outputs": [
    {
     "data": {
      "text/html": [
       "<div>\n",
       "<style scoped>\n",
       "    .dataframe tbody tr th:only-of-type {\n",
       "        vertical-align: middle;\n",
       "    }\n",
       "\n",
       "    .dataframe tbody tr th {\n",
       "        vertical-align: top;\n",
       "    }\n",
       "\n",
       "    .dataframe thead th {\n",
       "        text-align: right;\n",
       "    }\n",
       "</style>\n",
       "<table border=\"1\" class=\"dataframe\">\n",
       "  <thead>\n",
       "    <tr style=\"text-align: right;\">\n",
       "      <th></th>\n",
       "      <th></th>\n",
       "      <th>sum_calls</th>\n",
       "      <th>count_calls</th>\n",
       "      <th>sum_gb_used</th>\n",
       "      <th>count_messages</th>\n",
       "    </tr>\n",
       "    <tr>\n",
       "      <th>user_id</th>\n",
       "      <th>month</th>\n",
       "      <th></th>\n",
       "      <th></th>\n",
       "      <th></th>\n",
       "      <th></th>\n",
       "    </tr>\n",
       "  </thead>\n",
       "  <tbody>\n",
       "    <tr>\n",
       "      <th rowspan=\"5\" valign=\"top\">1000</th>\n",
       "      <th>5</th>\n",
       "      <td>159.0</td>\n",
       "      <td>22.0</td>\n",
       "      <td>2.200674</td>\n",
       "      <td>22.0</td>\n",
       "    </tr>\n",
       "    <tr>\n",
       "      <th>6</th>\n",
       "      <td>172.0</td>\n",
       "      <td>43.0</td>\n",
       "      <td>22.689229</td>\n",
       "      <td>60.0</td>\n",
       "    </tr>\n",
       "    <tr>\n",
       "      <th>7</th>\n",
       "      <td>340.0</td>\n",
       "      <td>47.0</td>\n",
       "      <td>13.675430</td>\n",
       "      <td>75.0</td>\n",
       "    </tr>\n",
       "    <tr>\n",
       "      <th>8</th>\n",
       "      <td>408.0</td>\n",
       "      <td>52.0</td>\n",
       "      <td>13.726494</td>\n",
       "      <td>81.0</td>\n",
       "    </tr>\n",
       "    <tr>\n",
       "      <th>9</th>\n",
       "      <td>466.0</td>\n",
       "      <td>58.0</td>\n",
       "      <td>14.227451</td>\n",
       "      <td>57.0</td>\n",
       "    </tr>\n",
       "  </tbody>\n",
       "</table>\n",
       "</div>"
      ],
      "text/plain": [
       "               sum_calls  count_calls  sum_gb_used  count_messages\n",
       "user_id month                                                     \n",
       "1000    5          159.0         22.0     2.200674            22.0\n",
       "        6          172.0         43.0    22.689229            60.0\n",
       "        7          340.0         47.0    13.675430            75.0\n",
       "        8          408.0         52.0    13.726494            81.0\n",
       "        9          466.0         58.0    14.227451            57.0"
      ]
     },
     "execution_count": 24,
     "metadata": {},
     "output_type": "execute_result"
    }
   ],
   "source": [
    "# Объединяем предыдущую таблицу с таблицей с информацией о сообщениях по общим столбцам\n",
    "pivot_2 = pivot_1.merge(pivot_messages, on=['user_id', 'month'], how='outer')\n",
    "pivot_2.head()"
   ]
  },
  {
   "cell_type": "code",
   "execution_count": 25,
   "id": "1ebdc156",
   "metadata": {},
   "outputs": [
    {
     "data": {
      "text/html": [
       "<div>\n",
       "<style scoped>\n",
       "    .dataframe tbody tr th:only-of-type {\n",
       "        vertical-align: middle;\n",
       "    }\n",
       "\n",
       "    .dataframe tbody tr th {\n",
       "        vertical-align: top;\n",
       "    }\n",
       "\n",
       "    .dataframe thead th {\n",
       "        text-align: right;\n",
       "    }\n",
       "</style>\n",
       "<table border=\"1\" class=\"dataframe\">\n",
       "  <thead>\n",
       "    <tr style=\"text-align: right;\">\n",
       "      <th></th>\n",
       "      <th>user_id</th>\n",
       "      <th>sum_calls</th>\n",
       "      <th>count_calls</th>\n",
       "      <th>sum_gb_used</th>\n",
       "      <th>count_messages</th>\n",
       "      <th>age</th>\n",
       "      <th>churn_date</th>\n",
       "      <th>city</th>\n",
       "      <th>first_name</th>\n",
       "      <th>last_name</th>\n",
       "      <th>reg_date</th>\n",
       "      <th>tariff</th>\n",
       "      <th>month</th>\n",
       "    </tr>\n",
       "  </thead>\n",
       "  <tbody>\n",
       "    <tr>\n",
       "      <th>0</th>\n",
       "      <td>1000</td>\n",
       "      <td>159.0</td>\n",
       "      <td>22.0</td>\n",
       "      <td>2.200674</td>\n",
       "      <td>22.0</td>\n",
       "      <td>52</td>\n",
       "      <td>NaT</td>\n",
       "      <td>Краснодар</td>\n",
       "      <td>Рафаил</td>\n",
       "      <td>Верещагин</td>\n",
       "      <td>2018-05-25</td>\n",
       "      <td>ultra</td>\n",
       "      <td>5</td>\n",
       "    </tr>\n",
       "    <tr>\n",
       "      <th>1</th>\n",
       "      <td>1000</td>\n",
       "      <td>172.0</td>\n",
       "      <td>43.0</td>\n",
       "      <td>22.689229</td>\n",
       "      <td>60.0</td>\n",
       "      <td>52</td>\n",
       "      <td>NaT</td>\n",
       "      <td>Краснодар</td>\n",
       "      <td>Рафаил</td>\n",
       "      <td>Верещагин</td>\n",
       "      <td>2018-05-25</td>\n",
       "      <td>ultra</td>\n",
       "      <td>5</td>\n",
       "    </tr>\n",
       "    <tr>\n",
       "      <th>2</th>\n",
       "      <td>1000</td>\n",
       "      <td>340.0</td>\n",
       "      <td>47.0</td>\n",
       "      <td>13.675430</td>\n",
       "      <td>75.0</td>\n",
       "      <td>52</td>\n",
       "      <td>NaT</td>\n",
       "      <td>Краснодар</td>\n",
       "      <td>Рафаил</td>\n",
       "      <td>Верещагин</td>\n",
       "      <td>2018-05-25</td>\n",
       "      <td>ultra</td>\n",
       "      <td>5</td>\n",
       "    </tr>\n",
       "    <tr>\n",
       "      <th>3</th>\n",
       "      <td>1000</td>\n",
       "      <td>408.0</td>\n",
       "      <td>52.0</td>\n",
       "      <td>13.726494</td>\n",
       "      <td>81.0</td>\n",
       "      <td>52</td>\n",
       "      <td>NaT</td>\n",
       "      <td>Краснодар</td>\n",
       "      <td>Рафаил</td>\n",
       "      <td>Верещагин</td>\n",
       "      <td>2018-05-25</td>\n",
       "      <td>ultra</td>\n",
       "      <td>5</td>\n",
       "    </tr>\n",
       "    <tr>\n",
       "      <th>4</th>\n",
       "      <td>1000</td>\n",
       "      <td>466.0</td>\n",
       "      <td>58.0</td>\n",
       "      <td>14.227451</td>\n",
       "      <td>57.0</td>\n",
       "      <td>52</td>\n",
       "      <td>NaT</td>\n",
       "      <td>Краснодар</td>\n",
       "      <td>Рафаил</td>\n",
       "      <td>Верещагин</td>\n",
       "      <td>2018-05-25</td>\n",
       "      <td>ultra</td>\n",
       "      <td>5</td>\n",
       "    </tr>\n",
       "  </tbody>\n",
       "</table>\n",
       "</div>"
      ],
      "text/plain": [
       "   user_id  sum_calls  count_calls  sum_gb_used  count_messages  age  \\\n",
       "0     1000      159.0         22.0     2.200674            22.0   52   \n",
       "1     1000      172.0         43.0    22.689229            60.0   52   \n",
       "2     1000      340.0         47.0    13.675430            75.0   52   \n",
       "3     1000      408.0         52.0    13.726494            81.0   52   \n",
       "4     1000      466.0         58.0    14.227451            57.0   52   \n",
       "\n",
       "  churn_date       city first_name  last_name   reg_date tariff  month  \n",
       "0        NaT  Краснодар     Рафаил  Верещагин 2018-05-25  ultra      5  \n",
       "1        NaT  Краснодар     Рафаил  Верещагин 2018-05-25  ultra      5  \n",
       "2        NaT  Краснодар     Рафаил  Верещагин 2018-05-25  ultra      5  \n",
       "3        NaT  Краснодар     Рафаил  Верещагин 2018-05-25  ultra      5  \n",
       "4        NaT  Краснодар     Рафаил  Верещагин 2018-05-25  ultra      5  "
      ]
     },
     "execution_count": 25,
     "metadata": {},
     "output_type": "execute_result"
    }
   ],
   "source": [
    "# Объединяем предыдущую таблицу со всей информацией: о звонках, сообщениях и интернете с таблицей с информацией о пользователях\n",
    "pivot_3 = pivot_2.merge(df_users, on='user_id', how='outer')\n",
    "pivot_3.head()"
   ]
  },
  {
   "cell_type": "code",
   "execution_count": 26,
   "id": "e9c36c97",
   "metadata": {},
   "outputs": [],
   "source": [
    "# К общей таблице присоединяем таблицу с информацией о тарифах\n",
    "total_pivot = pivot_3.merge(df_tariffs, on='tariff', how='outer')"
   ]
  },
  {
   "cell_type": "code",
   "execution_count": 27,
   "id": "e3ed7422",
   "metadata": {},
   "outputs": [
    {
     "data": {
      "text/html": [
       "<div>\n",
       "<style scoped>\n",
       "    .dataframe tbody tr th:only-of-type {\n",
       "        vertical-align: middle;\n",
       "    }\n",
       "\n",
       "    .dataframe tbody tr th {\n",
       "        vertical-align: top;\n",
       "    }\n",
       "\n",
       "    .dataframe thead th {\n",
       "        text-align: right;\n",
       "    }\n",
       "</style>\n",
       "<table border=\"1\" class=\"dataframe\">\n",
       "  <thead>\n",
       "    <tr style=\"text-align: right;\">\n",
       "      <th></th>\n",
       "      <th>user_id</th>\n",
       "      <th>sum_calls</th>\n",
       "      <th>count_calls</th>\n",
       "      <th>sum_gb_used</th>\n",
       "      <th>count_messages</th>\n",
       "      <th>age</th>\n",
       "      <th>churn_date</th>\n",
       "      <th>city</th>\n",
       "      <th>first_name</th>\n",
       "      <th>last_name</th>\n",
       "      <th>reg_date</th>\n",
       "      <th>tariff</th>\n",
       "      <th>month</th>\n",
       "      <th>messages_included</th>\n",
       "      <th>gb_per_month_included</th>\n",
       "      <th>minutes_included</th>\n",
       "      <th>rub_monthly_fee</th>\n",
       "      <th>rub_per_gb</th>\n",
       "      <th>rub_per_message</th>\n",
       "      <th>rub_per_minute</th>\n",
       "    </tr>\n",
       "  </thead>\n",
       "  <tbody>\n",
       "    <tr>\n",
       "      <th>0</th>\n",
       "      <td>1000</td>\n",
       "      <td>159.0</td>\n",
       "      <td>22.0</td>\n",
       "      <td>2.200674</td>\n",
       "      <td>22.0</td>\n",
       "      <td>52</td>\n",
       "      <td>NaT</td>\n",
       "      <td>Краснодар</td>\n",
       "      <td>Рафаил</td>\n",
       "      <td>Верещагин</td>\n",
       "      <td>2018-05-25</td>\n",
       "      <td>ultra</td>\n",
       "      <td>5</td>\n",
       "      <td>1000</td>\n",
       "      <td>30.0</td>\n",
       "      <td>3000</td>\n",
       "      <td>1950</td>\n",
       "      <td>150</td>\n",
       "      <td>1</td>\n",
       "      <td>1</td>\n",
       "    </tr>\n",
       "    <tr>\n",
       "      <th>1</th>\n",
       "      <td>1000</td>\n",
       "      <td>172.0</td>\n",
       "      <td>43.0</td>\n",
       "      <td>22.689229</td>\n",
       "      <td>60.0</td>\n",
       "      <td>52</td>\n",
       "      <td>NaT</td>\n",
       "      <td>Краснодар</td>\n",
       "      <td>Рафаил</td>\n",
       "      <td>Верещагин</td>\n",
       "      <td>2018-05-25</td>\n",
       "      <td>ultra</td>\n",
       "      <td>5</td>\n",
       "      <td>1000</td>\n",
       "      <td>30.0</td>\n",
       "      <td>3000</td>\n",
       "      <td>1950</td>\n",
       "      <td>150</td>\n",
       "      <td>1</td>\n",
       "      <td>1</td>\n",
       "    </tr>\n",
       "    <tr>\n",
       "      <th>2</th>\n",
       "      <td>1000</td>\n",
       "      <td>340.0</td>\n",
       "      <td>47.0</td>\n",
       "      <td>13.675430</td>\n",
       "      <td>75.0</td>\n",
       "      <td>52</td>\n",
       "      <td>NaT</td>\n",
       "      <td>Краснодар</td>\n",
       "      <td>Рафаил</td>\n",
       "      <td>Верещагин</td>\n",
       "      <td>2018-05-25</td>\n",
       "      <td>ultra</td>\n",
       "      <td>5</td>\n",
       "      <td>1000</td>\n",
       "      <td>30.0</td>\n",
       "      <td>3000</td>\n",
       "      <td>1950</td>\n",
       "      <td>150</td>\n",
       "      <td>1</td>\n",
       "      <td>1</td>\n",
       "    </tr>\n",
       "    <tr>\n",
       "      <th>3</th>\n",
       "      <td>1000</td>\n",
       "      <td>408.0</td>\n",
       "      <td>52.0</td>\n",
       "      <td>13.726494</td>\n",
       "      <td>81.0</td>\n",
       "      <td>52</td>\n",
       "      <td>NaT</td>\n",
       "      <td>Краснодар</td>\n",
       "      <td>Рафаил</td>\n",
       "      <td>Верещагин</td>\n",
       "      <td>2018-05-25</td>\n",
       "      <td>ultra</td>\n",
       "      <td>5</td>\n",
       "      <td>1000</td>\n",
       "      <td>30.0</td>\n",
       "      <td>3000</td>\n",
       "      <td>1950</td>\n",
       "      <td>150</td>\n",
       "      <td>1</td>\n",
       "      <td>1</td>\n",
       "    </tr>\n",
       "    <tr>\n",
       "      <th>4</th>\n",
       "      <td>1000</td>\n",
       "      <td>466.0</td>\n",
       "      <td>58.0</td>\n",
       "      <td>14.227451</td>\n",
       "      <td>57.0</td>\n",
       "      <td>52</td>\n",
       "      <td>NaT</td>\n",
       "      <td>Краснодар</td>\n",
       "      <td>Рафаил</td>\n",
       "      <td>Верещагин</td>\n",
       "      <td>2018-05-25</td>\n",
       "      <td>ultra</td>\n",
       "      <td>5</td>\n",
       "      <td>1000</td>\n",
       "      <td>30.0</td>\n",
       "      <td>3000</td>\n",
       "      <td>1950</td>\n",
       "      <td>150</td>\n",
       "      <td>1</td>\n",
       "      <td>1</td>\n",
       "    </tr>\n",
       "  </tbody>\n",
       "</table>\n",
       "</div>"
      ],
      "text/plain": [
       "   user_id  sum_calls  count_calls  sum_gb_used  count_messages  age  \\\n",
       "0     1000      159.0         22.0     2.200674            22.0   52   \n",
       "1     1000      172.0         43.0    22.689229            60.0   52   \n",
       "2     1000      340.0         47.0    13.675430            75.0   52   \n",
       "3     1000      408.0         52.0    13.726494            81.0   52   \n",
       "4     1000      466.0         58.0    14.227451            57.0   52   \n",
       "\n",
       "  churn_date       city first_name  last_name   reg_date tariff  month  \\\n",
       "0        NaT  Краснодар     Рафаил  Верещагин 2018-05-25  ultra      5   \n",
       "1        NaT  Краснодар     Рафаил  Верещагин 2018-05-25  ultra      5   \n",
       "2        NaT  Краснодар     Рафаил  Верещагин 2018-05-25  ultra      5   \n",
       "3        NaT  Краснодар     Рафаил  Верещагин 2018-05-25  ultra      5   \n",
       "4        NaT  Краснодар     Рафаил  Верещагин 2018-05-25  ultra      5   \n",
       "\n",
       "   messages_included  gb_per_month_included  minutes_included  \\\n",
       "0               1000                   30.0              3000   \n",
       "1               1000                   30.0              3000   \n",
       "2               1000                   30.0              3000   \n",
       "3               1000                   30.0              3000   \n",
       "4               1000                   30.0              3000   \n",
       "\n",
       "   rub_monthly_fee  rub_per_gb  rub_per_message  rub_per_minute  \n",
       "0             1950         150                1               1  \n",
       "1             1950         150                1               1  \n",
       "2             1950         150                1               1  \n",
       "3             1950         150                1               1  \n",
       "4             1950         150                1               1  "
      ]
     },
     "execution_count": 27,
     "metadata": {},
     "output_type": "execute_result"
    }
   ],
   "source": [
    "# Для корректного предоставления информации переведём мегабайты в гигабайты в столбце mb_per_month_included\n",
    "total_pivot['mb_per_month_included'] = total_pivot['mb_per_month_included'] / 1024\n",
    "# Округляем значения в столбце mb_per_month_included до целого числа\n",
    "total_pivot['mb_per_month_included'] = total_pivot['mb_per_month_included'].apply(np.ceil)\n",
    "# Изменяем название столбца\n",
    "total_pivot = total_pivot.rename(columns={'mb_per_month_included': 'gb_per_month_included'})\n",
    "total_pivot.head()"
   ]
  },
  {
   "cell_type": "code",
   "execution_count": 28,
   "id": "7cef7c5a",
   "metadata": {},
   "outputs": [
    {
     "name": "stdout",
     "output_type": "stream",
     "text": [
      "<class 'pandas.core.frame.DataFrame'>\n",
      "Int64Index: 3216 entries, 0 to 3215\n",
      "Data columns (total 20 columns):\n",
      " #   Column                 Non-Null Count  Dtype         \n",
      "---  ------                 --------------  -----         \n",
      " 0   user_id                3216 non-null   int64         \n",
      " 1   sum_calls              3174 non-null   float64       \n",
      " 2   count_calls            3174 non-null   float64       \n",
      " 3   sum_gb_used            3203 non-null   float64       \n",
      " 4   count_messages         2717 non-null   float64       \n",
      " 5   age                    3216 non-null   int64         \n",
      " 6   churn_date             189 non-null    datetime64[ns]\n",
      " 7   city                   3216 non-null   object        \n",
      " 8   first_name             3216 non-null   object        \n",
      " 9   last_name              3216 non-null   object        \n",
      " 10  reg_date               3216 non-null   datetime64[ns]\n",
      " 11  tariff                 3216 non-null   object        \n",
      " 12  month                  3216 non-null   int64         \n",
      " 13  messages_included      3216 non-null   int64         \n",
      " 14  gb_per_month_included  3216 non-null   float64       \n",
      " 15  minutes_included       3216 non-null   int64         \n",
      " 16  rub_monthly_fee        3216 non-null   int64         \n",
      " 17  rub_per_gb             3216 non-null   int64         \n",
      " 18  rub_per_message        3216 non-null   int64         \n",
      " 19  rub_per_minute         3216 non-null   int64         \n",
      "dtypes: datetime64[ns](2), float64(5), int64(9), object(4)\n",
      "memory usage: 527.6+ KB\n"
     ]
    }
   ],
   "source": [
    "# Получение общей информации об итоговой таблице\n",
    "total_pivot.info()"
   ]
  },
  {
   "cell_type": "markdown",
   "id": "ebbb317f",
   "metadata": {},
   "source": [
    "**Вывод по таблице `total_pivot`**\n",
    "\n",
    "Данная таблица явялется итоговой после всех объединений"
   ]
  },
  {
   "cell_type": "markdown",
   "id": "7d0d6d1c",
   "metadata": {},
   "source": [
    "### 3.2. Нахождение выручки по пользователям"
   ]
  },
  {
   "cell_type": "code",
   "execution_count": 29,
   "id": "d2e5e986",
   "metadata": {},
   "outputs": [],
   "source": [
    "# Нахождение помесячной выручки с каждого пользователя\n",
    "def user_revenue (revenue):\n",
    "    tariff = revenue['tariff']\n",
    "    \n",
    "    over_min = revenue['sum_calls'] - revenue['minutes_included']\n",
    "    over_gb = revenue['sum_gb_used'] - revenue['gb_per_month_included']\n",
    "    over_sms = revenue['count_messages'] - revenue['messages_included'] \n",
    "    \n",
    "    if over_min < 0:\n",
    "        rub_min = 0 \n",
    "    else:\n",
    "        rub_min = over_min * revenue['rub_per_minute']\n",
    "        \n",
    "    if over_gb < 0:\n",
    "        rub_gb = 0 \n",
    "    else:\n",
    "        rub_gb = over_gb * revenue['rub_per_gb'] \n",
    "         \n",
    "    if over_sms < 0:\n",
    "        rub_sms = 0 \n",
    "    else:\n",
    "        rub_sms = over_sms * revenue['rub_per_message']\n",
    "        \n",
    "    earnings = rub_min + rub_gb + rub_sms + revenue['rub_monthly_fee']\n",
    "    return earnings"
   ]
  },
  {
   "cell_type": "code",
   "execution_count": 30,
   "id": "8a7f1646",
   "metadata": {},
   "outputs": [
    {
     "data": {
      "text/html": [
       "<div>\n",
       "<style scoped>\n",
       "    .dataframe tbody tr th:only-of-type {\n",
       "        vertical-align: middle;\n",
       "    }\n",
       "\n",
       "    .dataframe tbody tr th {\n",
       "        vertical-align: top;\n",
       "    }\n",
       "\n",
       "    .dataframe thead th {\n",
       "        text-align: right;\n",
       "    }\n",
       "</style>\n",
       "<table border=\"1\" class=\"dataframe\">\n",
       "  <thead>\n",
       "    <tr style=\"text-align: right;\">\n",
       "      <th></th>\n",
       "      <th>user_id</th>\n",
       "      <th>sum_calls</th>\n",
       "      <th>count_calls</th>\n",
       "      <th>sum_gb_used</th>\n",
       "      <th>count_messages</th>\n",
       "      <th>age</th>\n",
       "      <th>churn_date</th>\n",
       "      <th>city</th>\n",
       "      <th>first_name</th>\n",
       "      <th>last_name</th>\n",
       "      <th>...</th>\n",
       "      <th>tariff</th>\n",
       "      <th>month</th>\n",
       "      <th>messages_included</th>\n",
       "      <th>gb_per_month_included</th>\n",
       "      <th>minutes_included</th>\n",
       "      <th>rub_monthly_fee</th>\n",
       "      <th>rub_per_gb</th>\n",
       "      <th>rub_per_message</th>\n",
       "      <th>rub_per_minute</th>\n",
       "      <th>revenue</th>\n",
       "    </tr>\n",
       "  </thead>\n",
       "  <tbody>\n",
       "    <tr>\n",
       "      <th>0</th>\n",
       "      <td>1000</td>\n",
       "      <td>159.0</td>\n",
       "      <td>22.0</td>\n",
       "      <td>2.200674</td>\n",
       "      <td>22.0</td>\n",
       "      <td>52</td>\n",
       "      <td>NaT</td>\n",
       "      <td>Краснодар</td>\n",
       "      <td>Рафаил</td>\n",
       "      <td>Верещагин</td>\n",
       "      <td>...</td>\n",
       "      <td>ultra</td>\n",
       "      <td>5</td>\n",
       "      <td>1000</td>\n",
       "      <td>30.0</td>\n",
       "      <td>3000</td>\n",
       "      <td>1950</td>\n",
       "      <td>150</td>\n",
       "      <td>1</td>\n",
       "      <td>1</td>\n",
       "      <td>1950.0</td>\n",
       "    </tr>\n",
       "    <tr>\n",
       "      <th>1</th>\n",
       "      <td>1000</td>\n",
       "      <td>172.0</td>\n",
       "      <td>43.0</td>\n",
       "      <td>22.689229</td>\n",
       "      <td>60.0</td>\n",
       "      <td>52</td>\n",
       "      <td>NaT</td>\n",
       "      <td>Краснодар</td>\n",
       "      <td>Рафаил</td>\n",
       "      <td>Верещагин</td>\n",
       "      <td>...</td>\n",
       "      <td>ultra</td>\n",
       "      <td>5</td>\n",
       "      <td>1000</td>\n",
       "      <td>30.0</td>\n",
       "      <td>3000</td>\n",
       "      <td>1950</td>\n",
       "      <td>150</td>\n",
       "      <td>1</td>\n",
       "      <td>1</td>\n",
       "      <td>1950.0</td>\n",
       "    </tr>\n",
       "    <tr>\n",
       "      <th>2</th>\n",
       "      <td>1000</td>\n",
       "      <td>340.0</td>\n",
       "      <td>47.0</td>\n",
       "      <td>13.675430</td>\n",
       "      <td>75.0</td>\n",
       "      <td>52</td>\n",
       "      <td>NaT</td>\n",
       "      <td>Краснодар</td>\n",
       "      <td>Рафаил</td>\n",
       "      <td>Верещагин</td>\n",
       "      <td>...</td>\n",
       "      <td>ultra</td>\n",
       "      <td>5</td>\n",
       "      <td>1000</td>\n",
       "      <td>30.0</td>\n",
       "      <td>3000</td>\n",
       "      <td>1950</td>\n",
       "      <td>150</td>\n",
       "      <td>1</td>\n",
       "      <td>1</td>\n",
       "      <td>1950.0</td>\n",
       "    </tr>\n",
       "    <tr>\n",
       "      <th>3</th>\n",
       "      <td>1000</td>\n",
       "      <td>408.0</td>\n",
       "      <td>52.0</td>\n",
       "      <td>13.726494</td>\n",
       "      <td>81.0</td>\n",
       "      <td>52</td>\n",
       "      <td>NaT</td>\n",
       "      <td>Краснодар</td>\n",
       "      <td>Рафаил</td>\n",
       "      <td>Верещагин</td>\n",
       "      <td>...</td>\n",
       "      <td>ultra</td>\n",
       "      <td>5</td>\n",
       "      <td>1000</td>\n",
       "      <td>30.0</td>\n",
       "      <td>3000</td>\n",
       "      <td>1950</td>\n",
       "      <td>150</td>\n",
       "      <td>1</td>\n",
       "      <td>1</td>\n",
       "      <td>1950.0</td>\n",
       "    </tr>\n",
       "    <tr>\n",
       "      <th>4</th>\n",
       "      <td>1000</td>\n",
       "      <td>466.0</td>\n",
       "      <td>58.0</td>\n",
       "      <td>14.227451</td>\n",
       "      <td>57.0</td>\n",
       "      <td>52</td>\n",
       "      <td>NaT</td>\n",
       "      <td>Краснодар</td>\n",
       "      <td>Рафаил</td>\n",
       "      <td>Верещагин</td>\n",
       "      <td>...</td>\n",
       "      <td>ultra</td>\n",
       "      <td>5</td>\n",
       "      <td>1000</td>\n",
       "      <td>30.0</td>\n",
       "      <td>3000</td>\n",
       "      <td>1950</td>\n",
       "      <td>150</td>\n",
       "      <td>1</td>\n",
       "      <td>1</td>\n",
       "      <td>1950.0</td>\n",
       "    </tr>\n",
       "  </tbody>\n",
       "</table>\n",
       "<p>5 rows × 21 columns</p>\n",
       "</div>"
      ],
      "text/plain": [
       "   user_id  sum_calls  count_calls  sum_gb_used  count_messages  age  \\\n",
       "0     1000      159.0         22.0     2.200674            22.0   52   \n",
       "1     1000      172.0         43.0    22.689229            60.0   52   \n",
       "2     1000      340.0         47.0    13.675430            75.0   52   \n",
       "3     1000      408.0         52.0    13.726494            81.0   52   \n",
       "4     1000      466.0         58.0    14.227451            57.0   52   \n",
       "\n",
       "  churn_date       city first_name  last_name  ... tariff month  \\\n",
       "0        NaT  Краснодар     Рафаил  Верещагин  ...  ultra     5   \n",
       "1        NaT  Краснодар     Рафаил  Верещагин  ...  ultra     5   \n",
       "2        NaT  Краснодар     Рафаил  Верещагин  ...  ultra     5   \n",
       "3        NaT  Краснодар     Рафаил  Верещагин  ...  ultra     5   \n",
       "4        NaT  Краснодар     Рафаил  Верещагин  ...  ultra     5   \n",
       "\n",
       "   messages_included  gb_per_month_included  minutes_included  \\\n",
       "0               1000                   30.0              3000   \n",
       "1               1000                   30.0              3000   \n",
       "2               1000                   30.0              3000   \n",
       "3               1000                   30.0              3000   \n",
       "4               1000                   30.0              3000   \n",
       "\n",
       "   rub_monthly_fee  rub_per_gb  rub_per_message  rub_per_minute  revenue  \n",
       "0             1950         150                1               1   1950.0  \n",
       "1             1950         150                1               1   1950.0  \n",
       "2             1950         150                1               1   1950.0  \n",
       "3             1950         150                1               1   1950.0  \n",
       "4             1950         150                1               1   1950.0  \n",
       "\n",
       "[5 rows x 21 columns]"
      ]
     },
     "execution_count": 30,
     "metadata": {},
     "output_type": "execute_result"
    }
   ],
   "source": [
    "# Создаём столбец с выручкой по пользователям и проверяем работоспособность функции\n",
    "total_pivot['revenue'] = total_pivot.apply(user_revenue, axis=1)\n",
    "total_pivot.head()"
   ]
  },
  {
   "cell_type": "markdown",
   "id": "a8c688d7",
   "metadata": {},
   "source": [
    "**Вывод**\n",
    "\n",
    "После того, как данные обработали: исправили различные ошибки, соединили все таблицы воедино, была получена выручка по пользователю для дальнейшего анализа."
   ]
  },
  {
   "cell_type": "markdown",
   "id": "42623f3b",
   "metadata": {},
   "source": [
    "### 3.3. Изучение поведения пользователей"
   ]
  },
  {
   "cell_type": "code",
   "execution_count": 31,
   "id": "645a7e5c",
   "metadata": {},
   "outputs": [],
   "source": [
    "# Функция по построению барплота для изучения поведения пользователей\n",
    "def plotting_bar(tariff_1, tariff_2):\n",
    "# Собираем словарь с названиями\n",
    "    parametrs = ['sum_calls', 'count_messages', 'sum_gb_used']\n",
    "    labels = [\n",
    "    ['Длительность звонков, мин', f'Суммарная длительность разговоров за каждый месяц по тарифам {tariff_1} и {tariff_2}'],\n",
    "    ['Количество сообщений, шт', f'Суммарное количество сообщений за каждый месяц по тарифам {tariff_1} и {tariff_2}'],\n",
    "    ['Количество гигабайт', f'Суммарный объём интернет-трафика за каждый месяц по тарифам {tariff_1} и {tariff_2}']\n",
    "             ] # список списков, в каждом вложенном списке первое значение - ось У, второе - заголовок\n",
    "    labels_dict = dict(zip(parametrs, labels))\n",
    "    # Далее выбирается срез таблицы по параметру\n",
    "    df_tariff_1 = total_pivot[total_pivot['tariff'] == tariff_1]\n",
    "    df_tariff_2 = total_pivot[total_pivot['tariff'] == tariff_2]\n",
    "    # Начинается цикл по списку параметров ['sum_calls', 'count_messages', 'sum_gb_used']\n",
    "    for f in parametrs:\n",
    "        # plt.figure(figsize=(12, 5))\n",
    "        plt.subplots(figsize=(15, 5))\n",
    "        df_tariff_1.groupby('month')[f].sum().plot(kind='bar', colormap = 'Set3', \n",
    "                                                   label=tariff_1, grid=True,\n",
    "                                                   position = 0, width=0.2)\n",
    "        df_tariff_2.groupby('month')[f].sum().plot(kind='bar', colormap = 'tab20c', grid=True,\n",
    "                                                   label=tariff_2, \n",
    "                                                   position = 1, width=0.2)\n",
    "        plt.xticks(rotation=360)\n",
    "        plt.xlabel('Номер месяца')\n",
    "        plt.legend()\n",
    "        # В словаре по названию из переменной f находим значение для оси Y\n",
    "        plt.ylabel(labels_dict[f][0])\n",
    "        # В словаре по названию из переменной f находим значение для заголовка\n",
    "        plt.title(labels_dict[f][1])"
   ]
  },
  {
   "cell_type": "code",
   "execution_count": 32,
   "id": "7881fbfc",
   "metadata": {},
   "outputs": [
    {
     "data": {
      "image/png": "[encoded data removed]",
      "text/plain": [
       "<Figure size 1080x360 with 1 Axes>"
      ]
     },
     "metadata": {},
     "output_type": "display_data"
    },
    {
     "data": {
      "image/png": "[encoded data removed]",
      "text/plain": [
       "<Figure size 1080x360 with 1 Axes>"
      ]
     },
     "metadata": {},
     "output_type": "display_data"
    },
    {
     "data": {
      "image/png": "[encoded data removed]",
      "text/plain": [
       "<Figure size 1080x360 with 1 Axes>"
      ]
     },
     "metadata": {},
     "output_type": "display_data"
    }
   ],
   "source": [
    "plotting_bar('smart', 'ultra')"
   ]
  },
  {
   "cell_type": "markdown",
   "id": "1c7b88fe",
   "metadata": {},
   "source": [
    "**Вывод по поведению пользователей**\n",
    "\n",
    "1. Изучая длительность разговоров двух тарифов, можно заметить, что по тарифу Смарт пользователи больше всего разговаривают в 1 и 4 месяцах. А также наблюдается тенденция к спаду: чем дальше от 1 месяца, тем длительность разговоров меньше. Что касается тарифа Ультра, то здесь картина немного другая: большинство пользователей больше всего разговаривают в первые четыре месяца. Однако тенденция снижения длительности разговора с увеличением месяца также прослеживается. \n",
    "2. Говоря про количество отправленных сообщений по тарифу Смарт, то здесь картина идентична длительности разговоров: в первом и четвёртом месяцах отправлено наибольшее количество сообщений, а также тенденция на снижение отправленных сообщений к 12 месяцу тоже прослеживается. Если говорить про сообщения по тарифу Ультра, то здесь пользователи переписываются гораздо чаще и охотнее: больше всего пользователи отправляют сообщения в 1-2, 4-6, 8 месяцах. К концу года по данному тарифу люди также переписываются совсем не охотно. \n",
    "3. Изучая объём использованного интернет-трафика по тарифу Смарт, то здесь картина такая же, как и в прошлые разы: больше всего интернета тратится в 1 и 4 месяцах, а также видно, что к концу года прослеживается постепенное снижение использования интернета. Если говорить про тариф Ультра, то здесь можно увидеть, что первые 6 месяцев люди используют интернет намного чаще, чем последующие полгода: начиная с 7 месяца, наблюдается уже резкий спад по использованию интернета."
   ]
  },
  {
   "cell_type": "markdown",
   "id": "0e1c42fa",
   "metadata": {},
   "source": [
    "### 3.4. Изучение распределения пользователей"
   ]
  },
  {
   "cell_type": "code",
   "execution_count": 33,
   "id": "f755cde9",
   "metadata": {},
   "outputs": [],
   "source": [
    "# Функция по построению графиков для изучения распределения пользователей\n",
    "def plotting_hist(tariff_1, tariff_2):\n",
    "# Собираем словарь с названиями\n",
    "    parametrs = ['sum_calls', 'count_messages', 'sum_gb_used']\n",
    "    labels = [\n",
    "    ['Длительность звонков, мин', f'Распределение длительности разговоров по тарифам {tariff_1} и {tariff_2}'],\n",
    "    ['Количество сообщений, шт', f'Распределение количества сообщений по тарифам {tariff_1} и {tariff_2}'],\n",
    "    ['Количество гигабайт', f'Распределение объёма интернет-трафика по тарифам {tariff_1} и {tariff_2}']\n",
    "             ] # список списков, в каждом вложенном списке первое значение - ось У, второе - заголовок\n",
    "    labels_dict = dict(zip(parametrs, labels))\n",
    "    # Далее выбирается срез таблицы по параметру\n",
    "    df_tariff_1 = total_pivot[total_pivot['tariff'] == tariff_1]\n",
    "    df_tariff_2 = total_pivot[total_pivot['tariff'] == tariff_2]\n",
    "    # Начинается цикл по списку параметров ['sum_calls', 'count_messages', 'sum_gb_used']\n",
    "    for f in parametrs:\n",
    "        plt.subplots(figsize=(15, 5))\n",
    "        df_tariff_1[f].plot(kind='hist', colormap = 'Set3', \n",
    "                            label=tariff_1, grid=True, bins=50)\n",
    "        df_tariff_2[f].plot(kind='hist', colormap = 'tab20c', grid=True,\n",
    "                            label=tariff_2, bins=50)\n",
    "        plt.legend()\n",
    "        plt.xlabel(labels_dict[f][0])\n",
    "        # В словаре по названию из переменной f находим значение для оси Y\n",
    "        plt.ylabel('Количество пользователей, чел.')\n",
    "        # В словаре по названию из переменной f находим значение для заголовка\n",
    "        plt.title(labels_dict[f][1])"
   ]
  },
  {
   "cell_type": "code",
   "execution_count": 34,
   "id": "42f6b3c6",
   "metadata": {},
   "outputs": [
    {
     "data": {
      "image/png": "[encoded data removed]",
      "text/plain": [
       "<Figure size 1080x360 with 1 Axes>"
      ]
     },
     "metadata": {},
     "output_type": "display_data"
    },
    {
     "data": {
      "image/png": "[encoded data removed]",
      "text/plain": [
       "<Figure size 1080x360 with 1 Axes>"
      ]
     },
     "metadata": {},
     "output_type": "display_data"
    },
    {
     "data": {
      "image/png": "[encoded data removed]",
      "text/plain": [
       "<Figure size 1080x360 with 1 Axes>"
      ]
     },
     "metadata": {},
     "output_type": "display_data"
    }
   ],
   "source": [
    "plotting_hist('smart', 'ultra')"
   ]
  },
  {
   "cell_type": "markdown",
   "id": "951ccce4",
   "metadata": {},
   "source": [
    "**Вывод по распределениям**\n",
    "\n",
    "1. Если говорить про распределение длительности разговоров по тарифу Смарт, то здесь можно заметить, что больше всего пользователями тратится около 500 минут. По тарифу Ультра картина немного другая: распределение по длительности шире, основной купол больше, чем у предыдущего тарифа и наибольшее количество потраченных минут равно примерно 550. Однако и там, и там распределение нормальное. \n",
    "2. Говоря про количество сообщений, то у обоих тарифов прослеживается биномиальное распределение. Только у тарифа Смарт наибольшее количество сообщений находится в диапазоне примерно от 0 до 30. А у тарифа Ультра - от 0 до 20, то есть практически не общаются по смс. \n",
    "3. Изучая распределение потраченного интернет-трафика, то по тарифу Смарт наибольшее количество использованного интернета равно примерно 17. Что касается потраченного интернета по тарифу Ультра, то здесь распределение намного шире, основной купол также больше и наибольшее количество потраченного трафика находится в диапазоне примерно от 15 до 23. "
   ]
  },
  {
   "cell_type": "markdown",
   "id": "0e7c0471",
   "metadata": {},
   "source": [
    "### 3.5. Описательная статистика тарифов"
   ]
  },
  {
   "cell_type": "code",
   "execution_count": 35,
   "id": "ab68bee0",
   "metadata": {},
   "outputs": [
    {
     "data": {
      "text/html": [
       "<div>\n",
       "<style scoped>\n",
       "    .dataframe tbody tr th:only-of-type {\n",
       "        vertical-align: middle;\n",
       "    }\n",
       "\n",
       "    .dataframe tbody tr th {\n",
       "        vertical-align: top;\n",
       "    }\n",
       "\n",
       "    .dataframe thead th {\n",
       "        text-align: right;\n",
       "    }\n",
       "</style>\n",
       "<table border=\"1\" class=\"dataframe\">\n",
       "  <thead>\n",
       "    <tr style=\"text-align: right;\">\n",
       "      <th></th>\n",
       "      <th>count_messages</th>\n",
       "      <th>sum_calls</th>\n",
       "      <th>sum_gb_used</th>\n",
       "    </tr>\n",
       "    <tr>\n",
       "      <th>tariff</th>\n",
       "      <th></th>\n",
       "      <th></th>\n",
       "      <th></th>\n",
       "    </tr>\n",
       "  </thead>\n",
       "  <tbody>\n",
       "    <tr>\n",
       "      <th>smart</th>\n",
       "      <td>38.716441</td>\n",
       "      <td>419.062978</td>\n",
       "      <td>15.835607</td>\n",
       "    </tr>\n",
       "    <tr>\n",
       "      <th>ultra</th>\n",
       "      <td>61.161006</td>\n",
       "      <td>545.451104</td>\n",
       "      <td>19.207505</td>\n",
       "    </tr>\n",
       "  </tbody>\n",
       "</table>\n",
       "</div>"
      ],
      "text/plain": [
       "        count_messages   sum_calls  sum_gb_used\n",
       "tariff                                         \n",
       "smart        38.716441  419.062978    15.835607\n",
       "ultra        61.161006  545.451104    19.207505"
      ]
     },
     "execution_count": 35,
     "metadata": {},
     "output_type": "execute_result"
    }
   ],
   "source": [
    "# Рассчёт среднего значения для каждого тарифа\n",
    "total_pivot.pivot_table(index='tariff', values=['sum_calls', 'count_messages', 'sum_gb_used'])"
   ]
  },
  {
   "cell_type": "markdown",
   "id": "d48e0060",
   "metadata": {},
   "source": [
    "**Вывод**\n",
    "\n",
    "Изучая показатели использования сообщений, потраченных минут разговора и интернета, видно, что в среднем по тарифу Смарт эти показатели ниже, чем по тарифу Ультра, то есть вторым тарифом пользуются чаще. "
   ]
  },
  {
   "cell_type": "code",
   "execution_count": 36,
   "id": "549c52a3",
   "metadata": {},
   "outputs": [],
   "source": [
    "# Функция для нахождения описательной статистики определённого тарифа\n",
    "def descriptive_statistics(parametr):\n",
    "    tariff_table = total_pivot[total_pivot['tariff'] == parametr]\n",
    "    table_var = ['sum_calls', 'count_messages', 'sum_gb_used']\n",
    "    print(f'Описательная статистика тарифа {parametr}:')\n",
    "    print('--------------------------------')\n",
    "    for value in table_var:\n",
    "        # Нахождение дисперсии и стандартного отклонения \n",
    "        print(f'Дисперсия {value} равна {np.var(tariff_table[value])}')\n",
    "        print(f'Стандартное отклонение {value} равно {np.std(tariff_table[value])}')\n",
    "        if value != 'sum_gb_used':\n",
    "            print('')"
   ]
  },
  {
   "cell_type": "code",
   "execution_count": 37,
   "id": "6b3fcf0e",
   "metadata": {},
   "outputs": [
    {
     "name": "stdout",
     "output_type": "stream",
     "text": [
      "Описательная статистика тарифа smart:\n",
      "--------------------------------\n",
      "Дисперсия sum_calls равна 35828.06530953033\n",
      "Стандартное отклонение sum_calls равно 189.2830296395594\n",
      "\n",
      "Дисперсия count_messages равна 717.220843110227\n",
      "Стандартное отклонение count_messages равно 26.780979129042816\n",
      "\n",
      "Дисперсия sum_gb_used равна 32.75349598018425\n",
      "Стандартное отклонение sum_gb_used равно 5.723067008185755\n"
     ]
    }
   ],
   "source": [
    "descriptive_statistics('smart')"
   ]
  },
  {
   "cell_type": "code",
   "execution_count": 38,
   "id": "774d3bd9",
   "metadata": {},
   "outputs": [
    {
     "name": "stdout",
     "output_type": "stream",
     "text": [
      "Описательная статистика тарифа ultra:\n",
      "--------------------------------\n",
      "Дисперсия sum_calls равна 94104.36117385984\n",
      "Стандартное отклонение sum_calls равно 306.76434143143143\n",
      "\n",
      "Дисперсия count_messages равна 2107.0055235156838\n",
      "Стандартное отклонение count_messages равно 45.90212983637779\n",
      "\n",
      "Дисперсия sum_gb_used равна 94.1875931958547\n",
      "Стандартное отклонение sum_gb_used равно 9.705029273312611\n"
     ]
    }
   ],
   "source": [
    "descriptive_statistics('ultra')"
   ]
  },
  {
   "cell_type": "markdown",
   "id": "f08f2f94",
   "metadata": {},
   "source": [
    "**Вывод**\n",
    "\n",
    "Что касается разброса данных, то:\n",
    "1. По тарифу \"Смарт\" ст. отклонение длительности разговора меньше, чем по тарифу \"Ультра\", следовательно, можем говорить о том, что в данном случае набор данных у тарифа \"Смарт\" немного надёжнее.\n",
    "2. По тарифу \"Смарт\" ст. отклонение количества сообщений меньше, чем по тарифу \"Ультра\", следовательно, можем говорить о том, что в данном случае набор данных у тарифа \"Смарт\" немного надёжнее.\n",
    "3. По тарифу \"Смарт\" ст. отклонение объёма интернет-трафика примерно равно тарифу \"Ультра\", следовательно, можем говорить о том, что в данном случае надёжность обоих наборов данных приблизительно равна."
   ]
  },
  {
   "cell_type": "markdown",
   "id": "d5d61b30",
   "metadata": {},
   "source": [
    "## 4. Проверка гипотез"
   ]
  },
  {
   "cell_type": "markdown",
   "id": "7e8cfe1d",
   "metadata": {},
   "source": [
    "#### Гипотеза 1.\n",
    "\n",
    "Сформируем нулевую (H₀) и альтернативную (H₁) гипотезы:\n",
    "- H₀: средняя выручка пользователей тарифа «Ультра» равна средней выручке пользователей тарифа «Смарт»\n",
    "- H₁: средняя выручка пользователей тарифа «Ультра» не равна средней выручке пользователей тарифа «Смарт»\n",
    "\n",
    "Будет проверяться гипотеза о равенстве средних двух генеральных совокупностей. Так как в данном случае нам неважно в какую сторону будет измнение, наша альтернативная гипотеза будет двусторонней, потому что есть возможное отклонение и в большую, и в меньшую стороны."
   ]
  },
  {
   "cell_type": "code",
   "execution_count": 39,
   "id": "f0b4db47",
   "metadata": {},
   "outputs": [
    {
     "name": "stdout",
     "output_type": "stream",
     "text": [
      "p-значение: 2.781039527681862e-144\n",
      "Отвергаем нулевую гипотезу\n"
     ]
    }
   ],
   "source": [
    "# Рассматриваем пользоватлей, которые используют тариф \"Смарт\"\n",
    "smart_tariff_table = total_pivot[total_pivot['tariff'] == 'smart']\n",
    "# Рассматриваем пользоватлей, которые используют тариф \"Ультра\"\n",
    "ultra_tariff_table = total_pivot[total_pivot['tariff'] == 'ultra']\n",
    "# Игнорируем NaN-ы\n",
    "smart_tariff_table = smart_tariff_table[smart_tariff_table['revenue'].notna()]\n",
    "ultra_tariff_table = ultra_tariff_table[ultra_tariff_table['revenue'].notna()]\n",
    "\n",
    "# Используем статистический метод для проверки гипотезы\n",
    "alpha = .05 # критический уровень статистической значимости\n",
    "\n",
    "results = st.ttest_ind(smart_tariff_table['revenue'], ultra_tariff_table['revenue'])\n",
    "print('p-значение:', results.pvalue)\n",
    "if results.pvalue < alpha:\n",
    "    print(\"Отвергаем нулевую гипотезу\")\n",
    "else:\n",
    "    print(\"Не получилось отвергнуть нулевую гипотезу\")"
   ]
  },
  {
   "cell_type": "markdown",
   "id": "0687e8f3",
   "metadata": {},
   "source": [
    "**Вывод по гипотезе 1**\n",
    "\n",
    "Средняя выручка пользователей тарифа «Ультра» имеет статзначимые различия со средней выручкой пользователей тарифа «Смарт» при критическом уровне стат значимости в 5%, следовательно, принимаем H₁."
   ]
  },
  {
   "cell_type": "markdown",
   "id": "fee8b4bd",
   "metadata": {},
   "source": [
    "#### Гипотеза 2.\n",
    "\n",
    "Сформируем нулевую (H₀) и альтернативную (H₁) гипотезы:\n",
    "- H₀: средняя выручка пользователей из Москвы равна средней выручки пользователей из других регионов\n",
    "- H₁: средняя выручка пользователей из Москвы не равна средней выручки пользователей из других регионов\n",
    "\n",
    "Будет также проверяться гипотеза о равенстве средних двух генеральных совокупностей. Как и в первой альтернативной гипотезе, нам неважно, в какую сторону будет измнение, следовательно, гипотеза H₁ двусторонняя, потому что есть возможное отклонение и в большую, и в меньшую стороны."
   ]
  },
  {
   "cell_type": "code",
   "execution_count": 40,
   "id": "5eec3c7b",
   "metadata": {},
   "outputs": [
    {
     "name": "stdout",
     "output_type": "stream",
     "text": [
      "p-значение: 0.07716894414825232\n",
      "Не получилось отвергнуть нулевую гипотезу\n"
     ]
    }
   ],
   "source": [
    "# Создаём датафрейм с пользователями из Москвы\n",
    "msc_tariff_table = total_pivot[total_pivot['city'] == 'Москва']\n",
    "# Создаём датафрейм с пользователями из любого города, кроме Москвы\n",
    "other_cities_tariff_table = total_pivot[total_pivot['city'] != 'Москва']\n",
    "# Игнорируем NaN-ы\n",
    "msc_tariff_table = msc_tariff_table[msc_tariff_table['revenue'].notna()]\n",
    "other_cities_tariff_table = other_cities_tariff_table[other_cities_tariff_table['revenue'].notna()]\n",
    "\n",
    "# Используем статистический метод для проверки гипотезы\n",
    "alpha = .05 # критический уровень статистической значимости\n",
    "\n",
    "results = st.ttest_ind(msc_tariff_table['revenue'], other_cities_tariff_table['revenue'])\n",
    "print('p-значение:', results.pvalue)\n",
    "if results.pvalue < alpha:\n",
    "    print(\"Отвергаем нулевую гипотезу\")\n",
    "else:\n",
    "    print(\"Не получилось отвергнуть нулевую гипотезу\")"
   ]
  },
  {
   "cell_type": "markdown",
   "id": "724a45d0",
   "metadata": {},
   "source": [
    "**Вывод по гипотезе 2**\n",
    "\n",
    "Средняя выручка пользователей из Москвы не имеет статистически значимых различий со средней выручкой пользователей из других регионов на критическом уровне статистической значимости в 5%, следовательно, принимаем H₀."
   ]
  },
  {
   "cell_type": "markdown",
   "id": "f422f1c4",
   "metadata": {},
   "source": [
    "## 5. Итоговый вывод"
   ]
  },
  {
   "cell_type": "markdown",
   "id": "6a8fdf4f",
   "metadata": {},
   "source": [
    "1. `Поведение пользователей`\n",
    "\n",
    "   - Анализируя `длительность разговоров пользователей по месяцам` можно заметить, что по тарифу Смарт пользователи больше всего разговаривают в 1 и 4 месяцах. А также наблюдается тенденция к спаду: чем дальше от 1-ого месяца, тем меньше пользователи общаются по телефону. Что касается тарифа Ультра, то здесь картина немного другая: большинство пользователей разговаривают в первые четыре месяца. Однако тенденция снижения длительности разговора с увеличением месяца также прослеживается. \n",
    "\n",
    "   - Изучая `общее количество отправленных сообщений по месяцам`, видим, что по тарифу `Смарт`, картина идентична длительности разговоров: в первом и четвёртом месяцах отправлено наибольшее количество сообщений, а также тенденция на снижение отправленных сообщений к 12 месяцу тоже прослеживается. Если говорить про `количество отправленных сообщений` по тарифу `Ультра`, то здесь пользователи переписываются гораздо чаще и охотнее: больше всего пользователи отправляют сообщения в 1-2, 4-6, 8 месяцах. К концу года люди также переписываются совсем не охотно. \n",
    "\n",
    "   - Рассматривая `объём использованного интернет-трафика` по тарифу `Смарт`, видим, что картина такая же, как и для предыдущих рассматриваемых параметров: больше всего интернета тратится в 1 и 4 месяцах, а также видно, что к концу года прослеживается постепенное снижение использования интернета. Если говорить про тариф `Ультра`, то здесь можно увидеть, что первые 6 месяцев люди используют интернет намного чаще, чем последующие полгода: начиная с 7 месяца, наблюдается уже резкий спад по использованию интернета.\n",
    "\n",
    "   \n",
    "2. `Распределение пользователей`\n",
    "\n",
    "   - Анализируя распределение `длительности разговоров`  по тарифу `Смарт` можно заметить, что больше всего пользователями тратится около 500 минут. По тарифу Ультра картина немного другая: распределение по длительности шире, основной купол больше, чем у предыдущего тарифа и наибольшее количество потраченных минут равно примерно 550. Однако и там, и там распределение нормальное.\n",
    "   - Говоря про распределение `количества сообщений`, то у обоих тарифов прослеживается биномиальное распределение. Только у тарифа `Смарт` наибольшее количество сообщений находится в диапазоне примерно от 0 до 30. А у тарифа `Ультра` - от 0 до 20, то есть можно сделать вывод о том, что пользователи практически не общаются по смс. \n",
    "   - Изучая распределение `потраченного интернет-трафика`, можно увидеть, что по тарифу `Смарт` наибольшее количество использованного интернета равно примерно 17. Что касается `потраченного интернета` по тарифу `Ультра`, то здесь распределение намного шире, основной купол также больше и наибольшее количество потраченного трафика находится в диапазоне примерно от 15 до 23.\n",
    "   \n",
    "   \n",
    "3. `Описательная статистика тарифов`\n",
    "\n",
    "Изучая показатели использования сообщений, потраченных минут разговора и интернет-трафика, в среднем, по тарифу `Смарт` эти показатели ниже, чем по тарифу Ультра, следовательно, вторым тарифом пользуются чаще.\n",
    "\n",
    "4. `Проверка гипотез`\n",
    "\n",
    "    - Средняя выручка пользователей тарифа «Ультра» имеет статзначимые различия со средней выручкой пользователей тарифа «Смарт» при критическом уровне стат значимости в 5%, следовательно, принимаем H₁.\n",
    "    - Средняя выручка пользователей из Москвы не имеет статистически значимых различий со средней выручкой пользователей из других регионов на критическом уровне статистической значимости в 5%, следовательно, принимаем H₀.\n",
    "    \n",
    "На основании ранее проведённого анализа и выше представленных выводов, можно предположить, что тариф `Ультра` лучше тарифа `Смарт`, так как пользователи им пользуются чаще: больше отправляют сообщений и разговаривают по телефону, а также в большем объёме используют интрнет-трафик."
   ]
  }
 ],
 "metadata": {
  "ExecuteTimeLog": [
   {
    "duration": 10,
    "start_time": "2022-05-28T08:14:16.853Z"
   },
   {
    "duration": 11,
    "start_time": "2022-05-28T08:14:19.065Z"
   },
   {
    "duration": 14,
    "start_time": "2022-05-28T08:14:19.301Z"
   },
   {
    "duration": 11,
    "start_time": "2022-05-28T08:14:19.505Z"
   },
   {
    "duration": 25,
    "start_time": "2022-05-28T08:14:19.697Z"
   },
   {
    "duration": 19,
    "start_time": "2022-05-28T08:14:20.506Z"
   },
   {
    "duration": 19,
    "start_time": "2022-05-28T08:14:43.538Z"
   },
   {
    "duration": 13,
    "start_time": "2022-05-28T08:14:49.653Z"
   },
   {
    "duration": 8,
    "start_time": "2022-05-28T08:14:50.813Z"
   },
   {
    "duration": 26,
    "start_time": "2022-05-28T08:14:51.237Z"
   },
   {
    "duration": 3,
    "start_time": "2022-05-28T08:16:12.986Z"
   },
   {
    "duration": 522,
    "start_time": "2022-05-28T08:16:12.995Z"
   },
   {
    "duration": 9,
    "start_time": "2022-05-28T08:16:13.519Z"
   },
   {
    "duration": 23,
    "start_time": "2022-05-28T08:16:13.530Z"
   },
   {
    "duration": 12,
    "start_time": "2022-05-28T08:16:13.555Z"
   },
   {
    "duration": 17,
    "start_time": "2022-05-28T08:16:13.570Z"
   },
   {
    "duration": 22,
    "start_time": "2022-05-28T08:16:13.589Z"
   },
   {
    "duration": 7,
    "start_time": "2022-05-28T08:16:13.612Z"
   },
   {
    "duration": 40,
    "start_time": "2022-05-28T08:16:13.620Z"
   },
   {
    "duration": 11,
    "start_time": "2022-05-28T08:16:13.661Z"
   },
   {
    "duration": 19,
    "start_time": "2022-05-28T08:16:13.674Z"
   },
   {
    "duration": 14,
    "start_time": "2022-05-28T08:16:13.695Z"
   },
   {
    "duration": 18,
    "start_time": "2022-05-28T08:16:13.711Z"
   },
   {
    "duration": 10,
    "start_time": "2022-05-28T08:16:13.731Z"
   },
   {
    "duration": 84,
    "start_time": "2022-05-28T08:16:13.745Z"
   },
   {
    "duration": 16,
    "start_time": "2022-05-28T08:16:13.831Z"
   },
   {
    "duration": 27,
    "start_time": "2022-05-28T08:16:13.860Z"
   },
   {
    "duration": 15,
    "start_time": "2022-05-28T08:16:13.889Z"
   },
   {
    "duration": 3,
    "start_time": "2022-05-28T08:16:13.905Z"
   },
   {
    "duration": 71,
    "start_time": "2022-05-28T08:16:13.909Z"
   },
   {
    "duration": 112,
    "start_time": "2022-05-28T08:16:13.982Z"
   },
   {
    "duration": 3,
    "start_time": "2022-05-28T08:16:14.096Z"
   },
   {
    "duration": 11,
    "start_time": "2022-05-28T08:16:14.101Z"
   },
   {
    "duration": 8,
    "start_time": "2022-05-28T08:16:14.114Z"
   },
   {
    "duration": 10,
    "start_time": "2022-05-28T08:16:14.123Z"
   },
   {
    "duration": 31,
    "start_time": "2022-05-28T08:16:14.134Z"
   },
   {
    "duration": 35,
    "start_time": "2022-05-28T08:16:14.167Z"
   },
   {
    "duration": 14,
    "start_time": "2022-05-28T08:16:24.030Z"
   },
   {
    "duration": 23,
    "start_time": "2022-05-28T08:16:36.177Z"
   },
   {
    "duration": 16,
    "start_time": "2022-05-28T08:18:05.826Z"
   },
   {
    "duration": 15,
    "start_time": "2022-05-28T08:18:11.202Z"
   },
   {
    "duration": 27,
    "start_time": "2022-05-28T08:18:15.937Z"
   },
   {
    "duration": 19,
    "start_time": "2022-05-28T08:18:38.531Z"
   },
   {
    "duration": 10,
    "start_time": "2022-05-28T08:20:10.138Z"
   },
   {
    "duration": 33,
    "start_time": "2022-05-28T08:20:12.614Z"
   },
   {
    "duration": 31,
    "start_time": "2022-05-28T08:20:30.247Z"
   },
   {
    "duration": 9,
    "start_time": "2022-05-28T08:20:33.050Z"
   },
   {
    "duration": 27,
    "start_time": "2022-05-28T08:20:33.490Z"
   },
   {
    "duration": 12,
    "start_time": "2022-05-28T08:20:34.135Z"
   },
   {
    "duration": 3,
    "start_time": "2022-05-28T08:21:41.222Z"
   },
   {
    "duration": 491,
    "start_time": "2022-05-28T08:21:41.229Z"
   },
   {
    "duration": 9,
    "start_time": "2022-05-28T08:21:41.722Z"
   },
   {
    "duration": 38,
    "start_time": "2022-05-28T08:21:41.732Z"
   },
   {
    "duration": 19,
    "start_time": "2022-05-28T08:21:41.773Z"
   },
   {
    "duration": 12,
    "start_time": "2022-05-28T08:21:41.794Z"
   },
   {
    "duration": 22,
    "start_time": "2022-05-28T08:21:41.808Z"
   },
   {
    "duration": 7,
    "start_time": "2022-05-28T08:21:41.832Z"
   },
   {
    "duration": 29,
    "start_time": "2022-05-28T08:21:41.860Z"
   },
   {
    "duration": 10,
    "start_time": "2022-05-28T08:21:41.891Z"
   },
   {
    "duration": 15,
    "start_time": "2022-05-28T08:21:41.903Z"
   },
   {
    "duration": 14,
    "start_time": "2022-05-28T08:21:41.919Z"
   },
   {
    "duration": 16,
    "start_time": "2022-05-28T08:21:41.958Z"
   },
   {
    "duration": 16,
    "start_time": "2022-05-28T08:21:41.977Z"
   },
   {
    "duration": 100,
    "start_time": "2022-05-28T08:21:41.996Z"
   },
   {
    "duration": 23,
    "start_time": "2022-05-28T08:21:42.098Z"
   },
   {
    "duration": 13,
    "start_time": "2022-05-28T08:21:42.123Z"
   },
   {
    "duration": 44,
    "start_time": "2022-05-28T08:21:42.158Z"
   },
   {
    "duration": 6,
    "start_time": "2022-05-28T08:21:42.203Z"
   },
   {
    "duration": 60,
    "start_time": "2022-05-28T08:21:42.211Z"
   },
   {
    "duration": 121,
    "start_time": "2022-05-28T08:21:42.273Z"
   },
   {
    "duration": 4,
    "start_time": "2022-05-28T08:21:42.397Z"
   },
   {
    "duration": 15,
    "start_time": "2022-05-28T08:21:42.402Z"
   },
   {
    "duration": 11,
    "start_time": "2022-05-28T08:21:42.419Z"
   },
   {
    "duration": 33,
    "start_time": "2022-05-28T08:21:42.432Z"
   },
   {
    "duration": 26,
    "start_time": "2022-05-28T08:21:42.468Z"
   },
   {
    "duration": 10,
    "start_time": "2022-05-28T08:21:42.496Z"
   },
   {
    "duration": 51,
    "start_time": "2022-05-28T08:21:42.508Z"
   },
   {
    "duration": 15,
    "start_time": "2022-05-28T08:21:42.562Z"
   },
   {
    "duration": 3,
    "start_time": "2022-05-28T08:39:14.304Z"
   },
   {
    "duration": 429,
    "start_time": "2022-05-28T08:39:14.312Z"
   },
   {
    "duration": 8,
    "start_time": "2022-05-28T08:39:14.743Z"
   },
   {
    "duration": 30,
    "start_time": "2022-05-28T08:39:14.752Z"
   },
   {
    "duration": 9,
    "start_time": "2022-05-28T08:39:14.784Z"
   },
   {
    "duration": 9,
    "start_time": "2022-05-28T08:39:14.794Z"
   },
   {
    "duration": 31,
    "start_time": "2022-05-28T08:39:14.804Z"
   },
   {
    "duration": 23,
    "start_time": "2022-05-28T08:39:14.837Z"
   },
   {
    "duration": 18,
    "start_time": "2022-05-28T08:39:14.863Z"
   },
   {
    "duration": 7,
    "start_time": "2022-05-28T08:39:14.883Z"
   },
   {
    "duration": 10,
    "start_time": "2022-05-28T08:39:14.894Z"
   },
   {
    "duration": 11,
    "start_time": "2022-05-28T08:39:14.905Z"
   },
   {
    "duration": 44,
    "start_time": "2022-05-28T08:39:14.918Z"
   },
   {
    "duration": 12,
    "start_time": "2022-05-28T08:39:14.964Z"
   },
   {
    "duration": 81,
    "start_time": "2022-05-28T08:39:14.978Z"
   },
   {
    "duration": 20,
    "start_time": "2022-05-28T08:39:15.061Z"
   },
   {
    "duration": 10,
    "start_time": "2022-05-28T08:39:15.083Z"
   },
   {
    "duration": 15,
    "start_time": "2022-05-28T08:39:15.095Z"
   },
   {
    "duration": 3,
    "start_time": "2022-05-28T08:39:15.112Z"
   },
   {
    "duration": 81,
    "start_time": "2022-05-28T08:39:15.116Z"
   },
   {
    "duration": 98,
    "start_time": "2022-05-28T08:39:15.199Z"
   },
   {
    "duration": 3,
    "start_time": "2022-05-28T08:39:15.299Z"
   },
   {
    "duration": 14,
    "start_time": "2022-05-28T08:39:15.303Z"
   },
   {
    "duration": 11,
    "start_time": "2022-05-28T08:39:15.318Z"
   },
   {
    "duration": 13,
    "start_time": "2022-05-28T08:39:15.331Z"
   },
   {
    "duration": 32,
    "start_time": "2022-05-28T08:39:15.345Z"
   },
   {
    "duration": 7,
    "start_time": "2022-05-28T08:39:15.379Z"
   },
   {
    "duration": 40,
    "start_time": "2022-05-28T08:39:15.387Z"
   },
   {
    "duration": 26,
    "start_time": "2022-05-28T08:39:15.430Z"
   },
   {
    "duration": 17,
    "start_time": "2022-05-28T08:39:15.458Z"
   },
   {
    "duration": 138,
    "start_time": "2022-05-28T08:39:15.477Z"
   },
   {
    "duration": 899,
    "start_time": "2022-05-28T08:39:15.616Z"
   },
   {
    "duration": 457,
    "start_time": "2022-05-28T08:39:16.517Z"
   },
   {
    "duration": 579,
    "start_time": "2022-05-28T08:39:16.976Z"
   },
   {
    "duration": 509,
    "start_time": "2022-05-28T08:39:17.559Z"
   },
   {
    "duration": 14,
    "start_time": "2022-05-28T08:39:18.070Z"
   },
   {
    "duration": 13,
    "start_time": "2022-05-28T08:39:18.086Z"
   },
   {
    "duration": 14,
    "start_time": "2022-05-28T08:39:18.101Z"
   },
   {
    "duration": 3,
    "start_time": "2022-05-28T08:39:18.159Z"
   },
   {
    "duration": 33,
    "start_time": "2022-05-28T08:39:26.935Z"
   },
   {
    "duration": 6,
    "start_time": "2022-05-28T08:40:14.291Z"
   },
   {
    "duration": 33,
    "start_time": "2022-05-28T08:40:15.175Z"
   },
   {
    "duration": 6,
    "start_time": "2022-05-28T08:43:30.435Z"
   },
   {
    "duration": 36,
    "start_time": "2022-05-28T08:43:31.219Z"
   },
   {
    "duration": 15,
    "start_time": "2022-05-28T08:44:09.055Z"
   },
   {
    "duration": 5,
    "start_time": "2022-05-28T08:44:50.435Z"
   },
   {
    "duration": 6,
    "start_time": "2022-05-28T08:44:52.707Z"
   },
   {
    "duration": 3,
    "start_time": "2022-05-28T08:45:04.823Z"
   },
   {
    "duration": 36,
    "start_time": "2022-05-28T08:45:06.419Z"
   },
   {
    "duration": 505,
    "start_time": "2022-05-28T08:45:46.243Z"
   },
   {
    "duration": 36,
    "start_time": "2022-05-28T08:45:46.887Z"
   },
   {
    "duration": 6,
    "start_time": "2022-05-28T08:45:57.440Z"
   },
   {
    "duration": 39,
    "start_time": "2022-05-28T08:45:58.107Z"
   },
   {
    "duration": 4,
    "start_time": "2022-05-28T08:46:36.347Z"
   },
   {
    "duration": 12,
    "start_time": "2022-05-28T08:46:41.623Z"
   },
   {
    "duration": 9,
    "start_time": "2022-05-28T08:48:27.316Z"
   },
   {
    "duration": 35,
    "start_time": "2022-05-28T08:48:28.735Z"
   },
   {
    "duration": 10,
    "start_time": "2022-05-28T08:48:29.567Z"
   },
   {
    "duration": 8,
    "start_time": "2022-05-28T08:48:46.959Z"
   },
   {
    "duration": 32,
    "start_time": "2022-05-28T08:48:47.451Z"
   },
   {
    "duration": 8,
    "start_time": "2022-05-28T08:48:48.255Z"
   },
   {
    "duration": 11,
    "start_time": "2022-05-28T08:49:08.731Z"
   },
   {
    "duration": 3,
    "start_time": "2022-05-29T11:18:32.422Z"
   },
   {
    "duration": 488,
    "start_time": "2022-05-29T11:18:32.429Z"
   },
   {
    "duration": 9,
    "start_time": "2022-05-29T11:18:32.919Z"
   },
   {
    "duration": 30,
    "start_time": "2022-05-29T11:18:32.930Z"
   },
   {
    "duration": 14,
    "start_time": "2022-05-29T11:18:32.963Z"
   },
   {
    "duration": 8,
    "start_time": "2022-05-29T11:18:32.979Z"
   },
   {
    "duration": 54,
    "start_time": "2022-05-29T11:18:32.989Z"
   },
   {
    "duration": 9,
    "start_time": "2022-05-29T11:18:33.045Z"
   },
   {
    "duration": 36,
    "start_time": "2022-05-29T11:18:33.055Z"
   },
   {
    "duration": 7,
    "start_time": "2022-05-29T11:18:33.093Z"
   },
   {
    "duration": 44,
    "start_time": "2022-05-29T11:18:33.103Z"
   },
   {
    "duration": 16,
    "start_time": "2022-05-29T11:18:33.149Z"
   },
   {
    "duration": 14,
    "start_time": "2022-05-29T11:18:33.167Z"
   },
   {
    "duration": 9,
    "start_time": "2022-05-29T11:18:33.183Z"
   },
   {
    "duration": 99,
    "start_time": "2022-05-29T11:18:33.194Z"
   },
   {
    "duration": 16,
    "start_time": "2022-05-29T11:18:33.294Z"
   },
   {
    "duration": 21,
    "start_time": "2022-05-29T11:18:33.312Z"
   },
   {
    "duration": 6,
    "start_time": "2022-05-29T11:18:36.821Z"
   },
   {
    "duration": 299,
    "start_time": "2022-05-29T11:47:16.624Z"
   },
   {
    "duration": 25,
    "start_time": "2022-05-29T11:48:00.915Z"
   },
   {
    "duration": 27,
    "start_time": "2022-05-29T11:48:59.742Z"
   },
   {
    "duration": 37,
    "start_time": "2022-05-29T11:49:16.583Z"
   },
   {
    "duration": 34,
    "start_time": "2022-05-29T11:49:44.584Z"
   },
   {
    "duration": 37,
    "start_time": "2022-05-29T11:49:58.986Z"
   },
   {
    "duration": 48,
    "start_time": "2022-05-29T11:50:12.065Z"
   },
   {
    "duration": 236,
    "start_time": "2022-05-29T11:50:16.772Z"
   },
   {
    "duration": 30,
    "start_time": "2022-05-29T11:51:26.027Z"
   },
   {
    "duration": 212,
    "start_time": "2022-05-29T11:53:03.408Z"
   },
   {
    "duration": 297,
    "start_time": "2022-05-29T11:53:12.879Z"
   },
   {
    "duration": 277,
    "start_time": "2022-05-29T11:53:31.509Z"
   },
   {
    "duration": 191,
    "start_time": "2022-05-29T11:54:19.817Z"
   },
   {
    "duration": 1688,
    "start_time": "2022-05-29T11:57:01.861Z"
   },
   {
    "duration": 169,
    "start_time": "2022-05-29T11:57:24.318Z"
   },
   {
    "duration": 135,
    "start_time": "2022-05-29T11:57:31.689Z"
   },
   {
    "duration": 286,
    "start_time": "2022-05-29T11:57:40.863Z"
   },
   {
    "duration": 177,
    "start_time": "2022-05-29T11:57:47.763Z"
   },
   {
    "duration": 446,
    "start_time": "2022-05-29T11:57:59.479Z"
   },
   {
    "duration": 266,
    "start_time": "2022-05-29T11:58:15.232Z"
   },
   {
    "duration": 270,
    "start_time": "2022-05-29T11:59:19.956Z"
   }
  ],
  "kernelspec": {
   "display_name": "Python 3 (ipykernel)",
   "language": "python",
   "name": "python3"
  },
  "language_info": {
   "codemirror_mode": {
    "name": "ipython",
    "version": 3
   },
   "file_extension": ".py",
   "mimetype": "text/x-python",
   "name": "python",
   "nbconvert_exporter": "python",
   "pygments_lexer": "ipython3",
   "version": "3.9.12"
  },
  "toc": {
   "base_numbering": 1,
   "nav_menu": {},
   "number_sections": true,
   "sideBar": true,
   "skip_h1_title": true,
   "title_cell": "Table of Contents",
   "title_sidebar": "Contents",
   "toc_cell": false,
   "toc_position": {},
   "toc_section_display": true,
   "toc_window_display": true
  }
 },
 "nbformat": 4,
 "nbformat_minor": 5
}
